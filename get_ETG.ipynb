{
 "cells": [
  {
   "cell_type": "code",
   "execution_count": 1,
   "metadata": {},
   "outputs": [
    {
     "name": "stdout",
     "output_type": "stream",
     "text": [
      "starting point750\n",
      "0\n",
      "1\n",
      "2\n",
      "3\n",
      "Failed\n",
      "4\n",
      "5\n",
      "Failed\n",
      "6\n",
      "Failed\n",
      "7\n",
      "Failed\n",
      "8\n",
      "Failed\n",
      "9\n",
      "Failed\n",
      "10\n",
      "Failed\n",
      "11\n",
      "Failed\n",
      "12\n",
      "Failed\n",
      "13\n",
      "Failed\n",
      "14\n",
      "Failed\n",
      "15\n",
      "Failed\n",
      "16\n",
      "Failed\n",
      "17\n",
      "Failed\n",
      "18\n",
      "Failed\n",
      "19\n",
      "Failed\n",
      "failed: 16\n"
     ]
    }
   ],
   "source": [
    "import pandas as pd\n",
    "import subprocess\n",
    "import os\n",
    "DWNLD_PATH = \"/home/roberttoyonaga/notebooks/roberttoyonaga/CMUDeepLensNRC/HSTLens/full/full_\"\n",
    "\n",
    "\n",
    "batch_size = 20\n",
    "start_point = int(input(\"starting point\"))\n",
    "CSV_PATH=\"test_csv\" #shouldn't have to change\n",
    "\n",
    "\n",
    "im_info = pd.read_csv(CSV_PATH)\n",
    "\n",
    "def dwnld(entry): \n",
    "    subprocess.check_output([\"wget\", \"-O\",DWNLD_PATH+str(entry)+ \".fits\" ,\n",
    "                             \"http://www.cadc-ccda.hia-iha.nrc-cnrc.gc.ca/data/pub/MAST/HST/product/\"+\n",
    "                             im_info['obj_name'][entry]+\"_drz.fits\"]) \n",
    "    \n",
    "'''download image cutouts based on the file names'''\n",
    "fails=0\n",
    "for i in range(batch_size):\n",
    "    print(i)\n",
    "    try: \n",
    "        dwnld(i+int(start_point))\n",
    "    except:\n",
    "        fails+=1\n",
    "        print(\"Failed\")\n",
    "        \n",
    "    try:\n",
    "        os.system('sextractor /home/roberttoyonaga/notebooks/roberttoyonaga/CMUDeepLensNRC/HSTLens/full/full_'+ str(i+start_point)+'.fits -c default1.se -CATALOG_NAME /home/roberttoyonaga/notebooks/roberttoyonaga/CMUDeepLensNRC/HSTLens/cat/image_'+str(i+start_point)+'.cat ')\n",
    "    except:\n",
    "        print('sextractor failed')\n",
    "        continue\n",
    "        \n",
    "\n",
    "        \n",
    "print(\"failed: \"+str(fails))\n",
    "\n"
   ]
  },
  {
   "cell_type": "code",
   "execution_count": 10,
   "metadata": {},
   "outputs": [
    {
     "ename": "IOError",
     "evalue": "[Errno 2] No such file or directory: '/home/roberttoyonaga/notebooks/roberttoyonaga/CMUDeepLensNRC/HSTLens/cat/image_756.cat'",
     "output_type": "error",
     "traceback": [
      "\u001b[0;31m\u001b[0m",
      "\u001b[0;31mIOError\u001b[0mTraceback (most recent call last)",
      "\u001b[0;32m<ipython-input-10-a64e1a048948>\u001b[0m in \u001b[0;36m<module>\u001b[0;34m()\u001b[0m\n\u001b[1;32m      9\u001b[0m \u001b[0myl\u001b[0m \u001b[0;34m=\u001b[0m\u001b[0;34m[\u001b[0m\u001b[0;34m]\u001b[0m\u001b[0;34m\u001b[0m\u001b[0m\n\u001b[1;32m     10\u001b[0m \u001b[0;34m\u001b[0m\u001b[0m\n\u001b[0;32m---> 11\u001b[0;31m \u001b[0mf\u001b[0m \u001b[0;34m=\u001b[0m \u001b[0mopen\u001b[0m\u001b[0;34m(\u001b[0m\u001b[0mSE_PATH\u001b[0m\u001b[0;34m,\u001b[0m\u001b[0;34m'r'\u001b[0m\u001b[0;34m)\u001b[0m\u001b[0;34m\u001b[0m\u001b[0m\n\u001b[0m\u001b[1;32m     12\u001b[0m \u001b[0;32mwhile\u001b[0m \u001b[0;34m(\u001b[0m\u001b[0mTrue\u001b[0m\u001b[0;34m)\u001b[0m\u001b[0;34m:\u001b[0m\u001b[0;34m\u001b[0m\u001b[0m\n\u001b[1;32m     13\u001b[0m     \u001b[0;32mtry\u001b[0m\u001b[0;34m:\u001b[0m\u001b[0;34m\u001b[0m\u001b[0m\n",
      "\u001b[0;31mIOError\u001b[0m: [Errno 2] No such file or directory: '/home/roberttoyonaga/notebooks/roberttoyonaga/CMUDeepLensNRC/HSTLens/cat/image_756.cat'"
     ]
    }
   ],
   "source": [
    "sp=756\n",
    "\n",
    "\n",
    "SE_PATH = \"/home/roberttoyonaga/notebooks/roberttoyonaga/CMUDeepLensNRC/HSTLens/cat/image_\"+str(sp)+\".cat\"\n",
    "DWNLD_PATH = \"/home/roberttoyonaga/notebooks/roberttoyonaga/CMUDeepLensNRC/HSTLens/full/full_\"\n",
    "\n",
    "count=0\n",
    "xl = []\n",
    "yl =[]\n",
    "\n",
    "f = open(SE_PATH,'r')\n",
    "while (True):\n",
    "    try:\n",
    "        text = f.readline()\n",
    "        if count>15:                     #change according to SE parameters\n",
    "            words = text.split()\n",
    "            xl.append(words[0])\n",
    "            yl.append(words[1])\n",
    "    except:\n",
    "        break #breakout once the end is reached\n",
    "    count+=1\n",
    "import numpy as np\n",
    "from astropy.nddata.utils import Cutout2D\n",
    "from astropy.io import fits\n",
    "from sklearn.preprocessing import minmax_scale\n",
    "\n",
    "\n",
    "data, hdr = fits.getdata(DWNLD_PATH +str(sp)+ \".fits\", 0, header=True) #load image into memory only once  (18s vs. 0.28s)\n",
    "\n",
    "ims = np.zeros((len(xl),1, 100, 100))\n",
    "\n",
    "for cutout in range(len(xl)):    \n",
    "        centered_cut = Cutout2D(data,(float(xl[cutout]), float(yl[cutout])), (100, 100)).data # +random.randint(-15,15)\n",
    "\n",
    "        centered_cut = np.nan_to_num(centered_cut)\n",
    "\n",
    "#         if centered_cut.all() ==0:    #check for all Nan images \n",
    "#             bad_images.append(cutout)\n",
    "#             continue\n",
    "\n",
    "        if centered_cut.shape != (100, 100):    #check for cut off images\n",
    "            result = np.zeros((100,100))\n",
    "            result[:centered_cut.shape[0],:centered_cut.shape[1]] = centered_cut\n",
    "            centered_cut = result\n",
    "            \n",
    " #images should be 100x100\n",
    "        ims[cutout][0] = centered_cut"
   ]
  },
  {
   "cell_type": "code",
   "execution_count": 16,
   "metadata": {},
   "outputs": [
    {
     "data": {
      "text/plain": [
       "0.42550178344865824"
      ]
     },
     "execution_count": 16,
     "metadata": {},
     "output_type": "execute_result"
    }
   ],
   "source": [
    "# a= np.load('etg/etg_neg_norm_aug_dec10.npy')\n",
    "a.max()"
   ]
  },
  {
   "cell_type": "code",
   "execution_count": 8,
   "metadata": {},
   "outputs": [
    {
     "data": {
      "image/png": "[encoded data removed]",
      "text/plain": [
       "<Figure size 432x288 with 1 Axes>"
      ]
     },
     "metadata": {
      "needs_background": "light"
     },
     "output_type": "display_data"
    },
    {
     "name": "stdout",
     "output_type": "stream",
     "text": [
      "20|| logscale =18, log black=19, exit=20 , 210.1342926025390620\n"
     ]
    }
   ],
   "source": [
    "## inspection\n",
    "from astropy.visualization import (ZScaleInterval, ImageNormalize)\n",
    "from IPython import display\n",
    "import os \n",
    "import matplotlib.pyplot as plt\n",
    "import numpy as np\n",
    "from astropy.io import fits\n",
    "sp =0\n",
    "PATH = \"/home/roberttoyonaga/notebooks/roberttoyonaga/CMUDeepLensNRC/HSTLens/etg/etg_raw_dec10/\"#/good_quality/\"#HSTLens_detections/\"\n",
    "for i in range(len(ims)):\n",
    "    try:  \n",
    "        exit=False\n",
    "        display.clear_output(wait=True)\n",
    "        plt.imshow(ims[i+sp][0]) \n",
    "        plt.pause(0.20)\n",
    "  \n",
    "        while(1):\n",
    "\n",
    "            ans = int(input(str(i)+\"|| logscale =18, log black=19, exit=20 , \"+str(ims[i][0].max())))\n",
    "            \n",
    "            if ans ==1:\n",
    "                fits.writeto(PATH+\"etg_\"+str(sp)+\"_\" +str(i+sp)+'.fits',ims[i+sp][0], header=None, overwrite =True)\n",
    "                break\n",
    "            if ans==2:\n",
    "                norm = ImageNormalize(ims[i+sp][0], interval = ZScaleInterval())\n",
    "                plt.imshow(ims[i+sp][0],norm=norm)\n",
    "                plt.pause(0.1)                \n",
    "            if ans ==18:\n",
    "                plt.imshow(np.log10(ims[i+sp][0]+1)) \n",
    "                plt.pause(0.1)\n",
    "            if ans ==19:\n",
    "                plt.imshow(np.log10(ims[i+sp][0]+1),cmap='gray') \n",
    "                plt.pause(0.1)\n",
    "            if ans ==20:\n",
    "                exit=True\n",
    "                break\n",
    "                \n",
    "        if exit==True:\n",
    "            break\n",
    "    except:\n",
    "        print(\"skipped due to non-existent image, or conversion error\")\n",
    "\n",
    "#     if exit==True:\n",
    "#         break"
   ]
  },
  {
   "cell_type": "markdown",
   "metadata": {},
   "source": [
    "## # \n",
    "\n",
    "\n",
    "\n",
    "\n",
    "\n",
    "\n",
    "\n",
    "\n",
    "\n",
    "\n",
    "\n",
    "\n",
    "\n",
    "\n",
    "# 20\n",
    "## \n",
    "\n",
    "\n",
    "\n",
    "\n",
    "\n",
    "\n",
    "\n",
    "\n",
    "\n",
    "\n",
    "\n",
    "2\n",
    "\n",
    "\n",
    "\n",
    "## \n",
    "## ## \n",
    "20"
   ]
  },
  {
   "cell_type": "code",
   "execution_count": null,
   "metadata": {},
   "outputs": [],
   "source": []
  }
 ],
 "metadata": {
  "kernelspec": {
   "display_name": "Python 2",
   "language": "python",
   "name": "python2"
  },
  "language_info": {
   "codemirror_mode": {
    "name": "ipython",
    "version": 2
   },
   "file_extension": ".py",
   "mimetype": "text/x-python",
   "name": "python",
   "nbconvert_exporter": "python",
   "pygments_lexer": "ipython2",
   "version": "2.7.15"
  }
 },
 "nbformat": 4,
 "nbformat_minor": 2
}
