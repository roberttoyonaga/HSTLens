{
 "cells": [
  {
   "cell_type": "code",
   "execution_count": 2,
   "metadata": {},
   "outputs": [],
   "source": [
    "\n",
    "import os\n",
    "from astropy.io import fits\n",
    "import numpy as np\n",
    "from sklearn.preprocessing import minmax_scale\n",
    "\n",
    "POS_PATH = \"/home/roberttoyonaga/notebooks/roberttoyonaga/CMUDeepLensNRC/HSTLens/sent_01/tr_p/\"\n",
    "NEG_PATH = \"/home/roberttoyonaga/notebooks/roberttoyonaga/CMUDeepLensNRC/HSTLens/sent_01/tr_n/\"\n",
    "\n",
    "set_size =100  #includes both pos and neg samples\n",
    "\n",
    "pos = np.ones((set_size, 1, 100, 100))\n",
    "neg = np.ones((set_size, 1, 100, 100))\n",
    "\n",
    "#real = get_ims(REAL_PATH)\n",
    "\n",
    "#load the positives into odd numered indices\n",
    "count =0\n",
    "for filename in os.listdir(POS_PATH):\n",
    "    if filename.endswith(\".fits\") and count<set_size: \n",
    "        pic = fits.open(POS_PATH+filename)[0].data\n",
    "    \n",
    "#         #normalize\n",
    "#         tmp_image = pic.reshape(-1,)\n",
    "#         tmp_image = np.log10(tmp_image+1)\n",
    "#         tmp_image = minmax_scale(tmp_image, feature_range = (0,1))\n",
    "#         pic = tmp_image.reshape(pic.shape[0],pic.shape[1])  \n",
    "        \n",
    "        pos[count] = pic\n",
    "        count+=1\n",
    "count =0        \n",
    "for filename in os.listdir(NEG_PATH):\n",
    "    if filename.endswith(\".fits\") and count<set_size: \n",
    "        pic = fits.open(NEG_PATH+filename)[0].data\n",
    "    \n",
    "#         #normalize\n",
    "#         tmp_image = pic.reshape(-1,)\n",
    "#         tmp_image = np.log10(tmp_image+1)\n",
    "#         tmp_image = minmax_scale(tmp_image, feature_range = (0,1))\n",
    "#         pic = tmp_image.reshape(pic.shape[0],pic.shape[1])  \n",
    "        \n",
    "        neg[count] = pic\n",
    "        count+=1\n",
    "        \n",
    "\n",
    "\n",
    "          "
   ]
  },
  {
   "cell_type": "code",
   "execution_count": null,
   "metadata": {},
   "outputs": [],
   "source": [
    "import time\n",
    "from keras.preprocessing.image import ImageDataGenerator, array_to_img, img_to_array, load_img\n",
    "import numpy as np\n",
    "import matplotlib.pyplot as plt\n",
    "from astropy.io import fits\n",
    "import scipy.misc\n",
    "import glob\n",
    "from sklearn.model_selection import train_test_split\n",
    "import random\n",
    "import os \n",
    "import pandas as pd\n",
    "from pandas import DataFrame as DF\n",
    "from sklearn import preprocessing\n",
    "from keras.models import load_model\n",
    "import sys\n",
    "from astropy.nddata.utils import Cutout2D \n",
    "from sklearn.preprocessing import minmax_scale\n",
    "import numpy as np\n",
    "import time\n",
    "\n",
    "from keras.preprocessing.image import ImageDataGenerator\n",
    "import scipy.ndimage\n",
    "\n",
    "\n",
    "from astropy.convolution import convolve, Gaussian2DKernel\n",
    "def augment(x,y):\n",
    "\n",
    "    #print (\"performing cleaning and augmentation\")\n",
    "\n",
    "    start= time.time()\n",
    "\n",
    "    y_new=y\n",
    "\n",
    "    datagen = ImageDataGenerator()\n",
    "    transform_dict0 = {'flip_horizontal':True, 'flip_vertical':False, 'theta': 90.0, 'zx':0.9, 'zy':0.9}\n",
    "    transform_dict1 = {'flip_horizontal':True, 'flip_vertical':False, 'theta': 90.0}\n",
    "    transform_dict2 = {'flip_horizontal':False, 'flip_vertical':True}\n",
    "    transform_dict3 = {'flip_horizontal':True, 'flip_vertical':True}\n",
    "    transform_dict4 = {'flip_horizontal':False, 'flip_vertical':True,'theta': 90.0}\n",
    "    transform_dict5 = {'flip_horizontal':False, 'flip_vertical':False,'theta': 90.0}\n",
    "    transform_dict6 = {'flip_horizontal':False, 'flip_vertical':False}\n",
    "    transform_dict9 = {'flip_horizontal':False, 'flip_vertical':True,'theta': 90.0, 'zx':0.9, 'zy':0.9}\n",
    "    transform_dict10 = {'flip_horizontal':False, 'flip_vertical':True, 'zx':0.9, 'zy':0.9}\n",
    "    transform_dict11 = {'flip_horizontal':True, 'flip_vertical':True,'theta': 90.0, 'zx':0.9, 'zy':0.9}\n",
    "\n",
    "    transform_list= [transform_dict1, transform_dict2, transform_dict9]\n",
    "\n",
    "    y_new = np.zeros((len(transform_list)*y.shape[0],1))\n",
    "\n",
    "\n",
    "    #reshape so colour channel is last (samples, width, height, colours)\n",
    "\n",
    "    \n",
    "    x_r = np.zeros((x.shape[0],x.shape[2],x.shape[2],x.shape[1]))\n",
    "\n",
    "\n",
    "    for image in range(x.shape[0]):\n",
    "        for color in range(x.shape[1]):\n",
    "            x_r[image,:,:,color] = x[image,color,:,:]\n",
    " \n",
    "    #apply transforms and add them to the dataset \n",
    "    \n",
    "    x_aug = np.zeros((len(transform_list)*x_r.shape[0], x_r.shape[1], x_r.shape[2], x_r.shape[3]))\n",
    "    #print(x_aug.shape)\n",
    "    for image in range(x_r.shape[0]): \n",
    "        for transform in range(len(transform_list)):\n",
    "            x_aug[image + x_r.shape[0]*transform] = datagen.apply_transform(x_r[image], transform_list[transform])\n",
    "            y_new[image + x_r.shape[0]*transform] = y[image]\n",
    "\n",
    "    \n",
    "    #reshape so colour channel is axis=1 (samples,colours, width, height)\n",
    "    \n",
    "    x_aug_cf = np.zeros((x_aug.shape[0],x_aug.shape[3],x_aug.shape[2],x_aug.shape[2]))\n",
    "    \n",
    "    for image in range(x_aug.shape[0]):\n",
    "        for color in range(x_aug.shape[3]):\n",
    "            x_aug_cf[image,color,:,:] = x_aug[image,:,:,color]\n",
    "    #print(x_aug_cf.shape)\n",
    "    \n",
    "\n",
    "    return x_aug_cf, y_new\n",
    "\n"
   ]
  },
  {
   "cell_type": "code",
   "execution_count": 41,
   "metadata": {},
   "outputs": [
    {
     "name": "stdout",
     "output_type": "stream",
     "text": [
      "The autoreload extension is already loaded. To reload it, use:\n",
      "  %reload_ext autoreload\n",
      "Populating the interactive namespace from numpy and matplotlib\n"
     ]
    },
    {
     "name": "stderr",
     "output_type": "stream",
     "text": [
      "/project/6016730/mlhaa/lib/python3.6/site-packages/IPython/core/magics/pylab.py:160: UserWarning: pylab import has clobbered these variables: ['shuffle']\n",
      "`%matplotlib` prevents importing * from pylab and numpy\n",
      "  \"\\n`%matplotlib` prevents importing * from pylab and numpy\"\n"
     ]
    }
   ],
   "source": [
    "%load_ext autoreload\n",
    "%autoreload 2\n",
    "%pylab inline\n",
    "%aimport -numpy\n",
    "%aimport -os\n",
    "%aimport -minmax_scale\n",
    "%aimport -tensorflow\n",
    "#%aimport -keras"
   ]
  },
  {
   "cell_type": "code",
   "execution_count": 68,
   "metadata": {},
   "outputs": [],
   "source": [
    "from HSTLens_resnet10_CC import deeplens_classifier\n",
    "from HSTLens_base_classifier_resnet10_CC import BaseKerasClassifier\n",
    "from HSTLens_blocks_resnet10_CC import pre_activated_resnet_block"
   ]
  },
  {
   "cell_type": "code",
   "execution_count": 2,
   "metadata": {
    "collapsed": true
   },
   "outputs": [],
   "source": [
    "import os\n",
    "from astropy.io import fits\n",
    "import numpy as np\n",
    "from sklearn.preprocessing import minmax_scale\n",
    "\n",
    "NEG_PATH = \"/home/toyonaga/scratch/skysubtracted5600/neg/\" \n",
    "#POS_PATH = \"/home/roberttoyonaga/notebooks/roberttoyonaga/CMUDeepLensNRC/HSTLens/non-neg-set/merged/\"\n",
    "POS_PATH = \"/home/toyonaga/scratch/skysubtracted5600/pos/\"\n",
    "set_size =5600*2  #includes both pos and neg samples\n",
    "\n",
    "ims = np.ones((set_size, 1, 100, 100))\n",
    "y = np.ones((set_size,1))\n",
    "\n",
    "#load the negatives into even numbered indices (including 0)\n",
    "count =0\n",
    "for filename in os.listdir(NEG_PATH):\n",
    "    if filename.endswith(\".fits\") and count<set_size/2: \n",
    "        pic = fits.open(NEG_PATH+filename)[0].data\n",
    "        \n",
    "#         pic[pic< (3*np.median(pic) - 2*np.average(pic)) +1.5*np.std(pic)] = 0\n",
    "#         tmp_image = pic.reshape(-1,)\n",
    "#         tmp_image = np.log10(tmp_image+1)\n",
    "#         tmp_image = minmax_scale(tmp_image, feature_range = (0,1))\n",
    "#         pic = tmp_image.reshape(pic.shape[0],pic.shape[1])\n",
    "        \n",
    "        ims[count*2] = pic\n",
    "        y[count*2] = np.array([0])\n",
    "        count+=1\n",
    "    \n",
    "    \n",
    "#load the positives into odd numered indices\n",
    "count =0\n",
    "for filename in os.listdir(POS_PATH):\n",
    "    if filename.endswith(\".fits\") and count<set_size/2: \n",
    "        pic = fits.open(POS_PATH+filename)[0].data\n",
    "        \n",
    "#         pic[pic< (3*np.median(pic) - 2*np.average(pic)) +1.5*np.std(pic)] = 0\n",
    "#         tmp_image = pic.reshape(-1,)\n",
    "#         tmp_image = np.log10(tmp_image+1)\n",
    "#         tmp_image = minmax_scale(tmp_image, feature_range = (0,1))\n",
    "#         pic = tmp_image.reshape(pic.shape[0],pic.shape[1])\n",
    "        \n",
    "        ims[count*2+1] = pic\n",
    "        y[count*2+1] = np.array([1])\n",
    "        count+=1\n",
    "        \n",
    "\n",
    "          "
   ]
  },
  {
   "cell_type": "code",
   "execution_count": 44,
   "metadata": {},
   "outputs": [
    {
     "name": "stdout",
     "output_type": "stream",
     "text": [
      "[0.]\n"
     ]
    },
    {
     "data": {
      "text/plain": [
       "<matplotlib.image.AxesImage at 0x2b8cd1863908>"
      ]
     },
     "execution_count": 44,
     "metadata": {},
     "output_type": "execute_result"
    },
    {
     "data": {
      "image/png": "[encoded data removed]",
      "text/plain": [
       "<Figure size 432x288 with 1 Axes>"
      ]
     },
     "metadata": {
      "needs_background": "light"
     },
     "output_type": "display_data"
    }
   ],
   "source": [
    "import matplotlib.pyplot as plt\n",
    "\n",
    "i =16664\n",
    "\n",
    "\n",
    "\n",
    "\n",
    "\n",
    "print(y_real[i])\n",
    "plt.imshow(ims_real[i][0])\n",
    "#ims[i][0].mean(), ims[i+1][0].mean()\n"
   ]
  },
  {
   "cell_type": "code",
   "execution_count": 3,
   "metadata": {},
   "outputs": [],
   "source": [
    "import matplotlib.pyplot as plt\n",
    "import random\n",
    "#first shuffle the large set of simulated data and the real data because we are not using all of it\n",
    "s1 = np.arange(ims.shape[0])\n",
    "np.random.shuffle(s1)\n",
    "ims_shuf = ims[s1]\n",
    "y_shuf = y[s1]\n",
    "\n",
    "\n",
    "#combine part of the shuffled simulated and real data\n",
    "x_combined = np.concatenate((ims_shuf[:10000], ims_real)) #leave out 500 real+neg for the testing\n",
    "y_combined = np.concatenate((y_shuf[:10000], y_real))\n",
    "\n",
    "#shuffle the combined array\n",
    "s3 = np.arange(x_combined.shape[0])\n",
    "np.random.shuffle(s3)\n",
    "\n",
    "x_combined_shuf =x_combined[s3]\n",
    "y_combined_shuf = y_combined[s3]"
   ]
  },
  {
   "cell_type": "code",
   "execution_count": 47,
   "metadata": {
    "scrolled": true
   },
   "outputs": [
    {
     "name": "stdout",
     "output_type": "stream",
     "text": [
      "building resnet10_CC\n",
      "(?, 1, 100, 100)\n",
      "pre- resnet block entered!\n",
      "resnet13_CC \n",
      "kernel= 7\n",
      "shorcut (?, 64, 50, 50) net (?, 64, 50, 50)\n",
      "pre- resnet block entered!\n",
      "resnet13_CC \n",
      "kernel= 5\n",
      "shorcut (?, 32, 25, 25) net (?, 32, 25, 25)\n",
      "pre- resnet block entered!\n",
      "resnet13_CC \n",
      "kernel= 3\n",
      "shorcut (?, 16, 12, 12) net (?, 16, 12, 12)\n",
      "...Fitting model ...\n",
      "Train on 32000 samples, validate on 8000 samples\n",
      "Epoch 1/10\n",
      "step decay entered. Learning rate: 0.001\n",
      "32000/32000 [==============================] - 106s 3ms/step - loss: 0.4908 - acc: 0.7472 - val_loss: 0.3051 - val_acc: 0.8660\n",
      "Epoch 2/10\n",
      "step decay entered. Learning rate: 0.001\n",
      "32000/32000 [==============================] - 104s 3ms/step - loss: 0.3099 - acc: 0.8691 - val_loss: 0.3396 - val_acc: 0.8514\n",
      "Epoch 3/10\n",
      "step decay entered. Learning rate: 0.001\n",
      "32000/32000 [==============================] - 104s 3ms/step - loss: 0.2126 - acc: 0.9160 - val_loss: 0.2298 - val_acc: 0.9006\n",
      "Epoch 4/10\n",
      "step decay entered. Learning rate: 0.001\n",
      "32000/32000 [==============================] - 104s 3ms/step - loss: 0.1643 - acc: 0.9342 - val_loss: 0.1613 - val_acc: 0.9394\n",
      "Epoch 5/10\n",
      "step decay entered. Learning rate: 0.001\n",
      "32000/32000 [==============================] - 104s 3ms/step - loss: 0.1575 - acc: 0.9390 - val_loss: 0.1451 - val_acc: 0.9417\n",
      "Epoch 6/10\n",
      "step decay entered. Learning rate: 0.001\n",
      "32000/32000 [==============================] - 104s 3ms/step - loss: 0.1136 - acc: 0.9559 - val_loss: 0.1420 - val_acc: 0.9404\n",
      "Epoch 7/10\n",
      "step decay entered. Learning rate: 0.001\n",
      "32000/32000 [==============================] - 104s 3ms/step - loss: 0.0980 - acc: 0.9617 - val_loss: 0.1500 - val_acc: 0.9463\n",
      "Epoch 8/10\n",
      "step decay entered. Learning rate: 0.001\n",
      "32000/32000 [==============================] - 104s 3ms/step - loss: 0.0997 - acc: 0.9621 - val_loss: 0.1426 - val_acc: 0.9447\n",
      "Epoch 9/10\n",
      "step decay entered. Learning rate: 0.001\n",
      "32000/32000 [==============================] - 104s 3ms/step - loss: 0.0914 - acc: 0.9674 - val_loss: 0.1468 - val_acc: 0.9470\n",
      "Epoch 10/10\n",
      "step decay entered. Learning rate: 0.001\n",
      "32000/32000 [==============================] - 104s 3ms/step - loss: 0.0875 - acc: 0.9673 - val_loss: 0.1494 - val_acc: 0.9505\n"
     ]
    }
   ],
   "source": [
    "import tensorflow\n",
    "import keras\n",
    "from keras.layers import Activation\n",
    "from keras.layers import Conv2D, ELU\n",
    "from HSTLens_resnet13_CC import deeplens_classifier\n",
    "# from HSTLens_base_classifier_resnet6_CC_l2 import BaseKerasClassifier\n",
    "# from HSTLens_blocks_resnet15_CC import pre_activated_resnet_block\n",
    "from keras.layers.normalization import BatchNormalization\n",
    "my_model = deeplens_classifier(n_epochs=10)\n",
    "my_model._build(ims_real,y_real) \n",
    "\n",
    "my_model._fit(ims_real,y_real)\n",
    "\n",
    "#my_model.model.save(\"real_lenses_weights\") # issue with json serializing\n",
    "my_model.model.save_weights(\"combined_nonsubtracted_weights_resnet13_CC_hossen1\")\n",
    "#my_model.model.load_weights(\"test real lens weights\")\n"
   ]
  },
  {
   "cell_type": "code",
   "execution_count": 7,
   "metadata": {},
   "outputs": [
    {
     "data": {
      "text/plain": [
       "[0.745, 0.76, 0.75, 0.82, 0.86, 0.855, 0.825, 0.875, 0.875, 0.9]"
      ]
     },
     "execution_count": 7,
     "metadata": {},
     "output_type": "execute_result"
    }
   ],
   "source": [
    "(my_model.batch_history.epoch_losses) "
   ]
  },
  {
   "cell_type": "code",
   "execution_count": 51,
   "metadata": {
    "collapsed": true
   },
   "outputs": [
    {
     "ename": "KeyboardInterrupt",
     "evalue": "",
     "output_type": "error",
     "traceback": [
      "\u001b[0;31m---------------------------------------------------------------------------\u001b[0m",
      "\u001b[0;31mKeyboardInterrupt\u001b[0m                         Traceback (most recent call last)",
      "\u001b[0;32m<ipython-input-51-da875104dc4f>\u001b[0m in \u001b[0;36m<module>\u001b[0;34m()\u001b[0m\n\u001b[1;32m      3\u001b[0m \u001b[0;31m# x_combined_roc = np.concatenate((ims_shuf[10000:], ims_real_test))\u001b[0m\u001b[0;34m\u001b[0m\u001b[0;34m\u001b[0m\u001b[0m\n\u001b[1;32m      4\u001b[0m \u001b[0;31m# y_combined_roc = np.concatenate((y_shuf[10000:], y_real_test))\u001b[0m\u001b[0;34m\u001b[0m\u001b[0;34m\u001b[0m\u001b[0m\n\u001b[0;32m----> 5\u001b[0;31m \u001b[0mfpr\u001b[0m\u001b[0;34m,\u001b[0m \u001b[0mtpr\u001b[0m\u001b[0;34m,\u001b[0m \u001b[0mt\u001b[0m\u001b[0;34m=\u001b[0m\u001b[0mmy_model\u001b[0m\u001b[0;34m.\u001b[0m\u001b[0meval_ROC\u001b[0m\u001b[0;34m(\u001b[0m\u001b[0mims_real\u001b[0m\u001b[0;34m,\u001b[0m\u001b[0my_real\u001b[0m\u001b[0;34m)\u001b[0m\u001b[0;34m\u001b[0m\u001b[0m\n\u001b[0m\u001b[1;32m      6\u001b[0m \u001b[0mprint\u001b[0m\u001b[0;34m(\u001b[0m\u001b[0;34m\"auc \"\u001b[0m\u001b[0;34m+\u001b[0m\u001b[0mstr\u001b[0m\u001b[0;34m(\u001b[0m \u001b[0mmetrics\u001b[0m\u001b[0;34m.\u001b[0m\u001b[0mauc\u001b[0m\u001b[0;34m(\u001b[0m\u001b[0mfpr\u001b[0m\u001b[0;34m,\u001b[0m \u001b[0mtpr\u001b[0m\u001b[0;34m)\u001b[0m\u001b[0;34m)\u001b[0m\u001b[0;34m)\u001b[0m\u001b[0;34m\u001b[0m\u001b[0m\n\u001b[1;32m      7\u001b[0m \u001b[0;34m\u001b[0m\u001b[0m\n",
      "\u001b[0;32m/project/6016730/toyonaga/HSTLens/resnet13/HSTLens_base_classifier_resnet13_CC.py\u001b[0m in \u001b[0;36meval_ROC\u001b[0;34m(self, X, y)\u001b[0m\n\u001b[1;32m    230\u001b[0m             \u001b[0mself\u001b[0m\u001b[0;34m.\u001b[0m\u001b[0m_fit\u001b[0m\u001b[0;34m(\u001b[0m\u001b[0mX\u001b[0m\u001b[0;34m,\u001b[0m \u001b[0my\u001b[0m\u001b[0;34m)\u001b[0m\u001b[0;34m\u001b[0m\u001b[0m\n\u001b[1;32m    231\u001b[0m \u001b[0;34m\u001b[0m\u001b[0m\n\u001b[0;32m--> 232\u001b[0;31m         \u001b[0my_pred_keras\u001b[0m \u001b[0;34m=\u001b[0m \u001b[0mself\u001b[0m\u001b[0;34m.\u001b[0m\u001b[0mmodel\u001b[0m\u001b[0;34m.\u001b[0m\u001b[0mpredict\u001b[0m\u001b[0;34m(\u001b[0m\u001b[0mX\u001b[0m\u001b[0;34m)\u001b[0m\u001b[0;34m.\u001b[0m\u001b[0mravel\u001b[0m\u001b[0;34m(\u001b[0m\u001b[0;34m)\u001b[0m\u001b[0;34m\u001b[0m\u001b[0m\n\u001b[0m\u001b[1;32m    233\u001b[0m         \u001b[0mfpr\u001b[0m\u001b[0;34m,\u001b[0m \u001b[0mtpr\u001b[0m\u001b[0;34m,\u001b[0m \u001b[0mt\u001b[0m \u001b[0;34m=\u001b[0m \u001b[0mroc_curve\u001b[0m\u001b[0;34m(\u001b[0m\u001b[0my\u001b[0m\u001b[0;34m,\u001b[0m \u001b[0my_pred_keras\u001b[0m\u001b[0;34m)\u001b[0m\u001b[0;34m\u001b[0m\u001b[0m\n\u001b[1;32m    234\u001b[0m \u001b[0;34m\u001b[0m\u001b[0m\n",
      "\u001b[0;32m/project/6016730/mlhaa/lib/python3.6/site-packages/keras/engine/training.py\u001b[0m in \u001b[0;36mpredict\u001b[0;34m(self, x, batch_size, verbose, steps)\u001b[0m\n\u001b[1;32m   1165\u001b[0m                                             \u001b[0mbatch_size\u001b[0m\u001b[0;34m=\u001b[0m\u001b[0mbatch_size\u001b[0m\u001b[0;34m,\u001b[0m\u001b[0;34m\u001b[0m\u001b[0m\n\u001b[1;32m   1166\u001b[0m                                             \u001b[0mverbose\u001b[0m\u001b[0;34m=\u001b[0m\u001b[0mverbose\u001b[0m\u001b[0;34m,\u001b[0m\u001b[0;34m\u001b[0m\u001b[0m\n\u001b[0;32m-> 1167\u001b[0;31m                                             steps=steps)\n\u001b[0m\u001b[1;32m   1168\u001b[0m \u001b[0;34m\u001b[0m\u001b[0m\n\u001b[1;32m   1169\u001b[0m     def train_on_batch(self, x, y,\n",
      "\u001b[0;32m/project/6016730/mlhaa/lib/python3.6/site-packages/keras/engine/training_arrays.py\u001b[0m in \u001b[0;36mpredict_loop\u001b[0;34m(model, f, ins, batch_size, verbose, steps)\u001b[0m\n\u001b[1;32m    292\u001b[0m                 \u001b[0mins_batch\u001b[0m\u001b[0;34m[\u001b[0m\u001b[0mi\u001b[0m\u001b[0;34m]\u001b[0m \u001b[0;34m=\u001b[0m \u001b[0mins_batch\u001b[0m\u001b[0;34m[\u001b[0m\u001b[0mi\u001b[0m\u001b[0;34m]\u001b[0m\u001b[0;34m.\u001b[0m\u001b[0mtoarray\u001b[0m\u001b[0;34m(\u001b[0m\u001b[0;34m)\u001b[0m\u001b[0;34m\u001b[0m\u001b[0m\n\u001b[1;32m    293\u001b[0m \u001b[0;34m\u001b[0m\u001b[0m\n\u001b[0;32m--> 294\u001b[0;31m             \u001b[0mbatch_outs\u001b[0m \u001b[0;34m=\u001b[0m \u001b[0mf\u001b[0m\u001b[0;34m(\u001b[0m\u001b[0mins_batch\u001b[0m\u001b[0;34m)\u001b[0m\u001b[0;34m\u001b[0m\u001b[0m\n\u001b[0m\u001b[1;32m    295\u001b[0m             \u001b[0mbatch_outs\u001b[0m \u001b[0;34m=\u001b[0m \u001b[0mto_list\u001b[0m\u001b[0;34m(\u001b[0m\u001b[0mbatch_outs\u001b[0m\u001b[0;34m)\u001b[0m\u001b[0;34m\u001b[0m\u001b[0m\n\u001b[1;32m    296\u001b[0m             \u001b[0;32mif\u001b[0m \u001b[0mbatch_index\u001b[0m \u001b[0;34m==\u001b[0m \u001b[0;36m0\u001b[0m\u001b[0;34m:\u001b[0m\u001b[0;34m\u001b[0m\u001b[0m\n",
      "\u001b[0;32m/project/6016730/mlhaa/lib/python3.6/site-packages/keras/backend/tensorflow_backend.py\u001b[0m in \u001b[0;36m__call__\u001b[0;34m(self, inputs)\u001b[0m\n\u001b[1;32m   2664\u001b[0m                 \u001b[0;32mreturn\u001b[0m \u001b[0mself\u001b[0m\u001b[0;34m.\u001b[0m\u001b[0m_legacy_call\u001b[0m\u001b[0;34m(\u001b[0m\u001b[0minputs\u001b[0m\u001b[0;34m)\u001b[0m\u001b[0;34m\u001b[0m\u001b[0m\n\u001b[1;32m   2665\u001b[0m \u001b[0;34m\u001b[0m\u001b[0m\n\u001b[0;32m-> 2666\u001b[0;31m             \u001b[0;32mreturn\u001b[0m \u001b[0mself\u001b[0m\u001b[0;34m.\u001b[0m\u001b[0m_call\u001b[0m\u001b[0;34m(\u001b[0m\u001b[0minputs\u001b[0m\u001b[0;34m)\u001b[0m\u001b[0;34m\u001b[0m\u001b[0m\n\u001b[0m\u001b[1;32m   2667\u001b[0m         \u001b[0;32melse\u001b[0m\u001b[0;34m:\u001b[0m\u001b[0;34m\u001b[0m\u001b[0m\n\u001b[1;32m   2668\u001b[0m             \u001b[0;32mif\u001b[0m \u001b[0mpy_any\u001b[0m\u001b[0;34m(\u001b[0m\u001b[0mis_tensor\u001b[0m\u001b[0;34m(\u001b[0m\u001b[0mx\u001b[0m\u001b[0;34m)\u001b[0m \u001b[0;32mfor\u001b[0m \u001b[0mx\u001b[0m \u001b[0;32min\u001b[0m \u001b[0minputs\u001b[0m\u001b[0;34m)\u001b[0m\u001b[0;34m:\u001b[0m\u001b[0;34m\u001b[0m\u001b[0m\n",
      "\u001b[0;32m/project/6016730/mlhaa/lib/python3.6/site-packages/keras/backend/tensorflow_backend.py\u001b[0m in \u001b[0;36m_call\u001b[0;34m(self, inputs)\u001b[0m\n\u001b[1;32m   2634\u001b[0m                                 \u001b[0msymbol_vals\u001b[0m\u001b[0;34m,\u001b[0m\u001b[0;34m\u001b[0m\u001b[0m\n\u001b[1;32m   2635\u001b[0m                                 session)\n\u001b[0;32m-> 2636\u001b[0;31m         \u001b[0mfetched\u001b[0m \u001b[0;34m=\u001b[0m \u001b[0mself\u001b[0m\u001b[0;34m.\u001b[0m\u001b[0m_callable_fn\u001b[0m\u001b[0;34m(\u001b[0m\u001b[0;34m*\u001b[0m\u001b[0marray_vals\u001b[0m\u001b[0;34m)\u001b[0m\u001b[0;34m\u001b[0m\u001b[0m\n\u001b[0m\u001b[1;32m   2637\u001b[0m         \u001b[0;32mreturn\u001b[0m \u001b[0mfetched\u001b[0m\u001b[0;34m[\u001b[0m\u001b[0;34m:\u001b[0m\u001b[0mlen\u001b[0m\u001b[0;34m(\u001b[0m\u001b[0mself\u001b[0m\u001b[0;34m.\u001b[0m\u001b[0moutputs\u001b[0m\u001b[0;34m)\u001b[0m\u001b[0;34m]\u001b[0m\u001b[0;34m\u001b[0m\u001b[0m\n\u001b[1;32m   2638\u001b[0m \u001b[0;34m\u001b[0m\u001b[0m\n",
      "\u001b[0;32m/project/6016730/mlhaa/lib/python3.6/site-packages/tensorflow/python/client/session.py\u001b[0m in \u001b[0;36m__call__\u001b[0;34m(self, *args)\u001b[0m\n\u001b[1;32m   1449\u001b[0m         \u001b[0;32mif\u001b[0m \u001b[0mself\u001b[0m\u001b[0;34m.\u001b[0m\u001b[0m_session\u001b[0m\u001b[0;34m.\u001b[0m\u001b[0m_created_with_new_api\u001b[0m\u001b[0;34m:\u001b[0m\u001b[0;34m\u001b[0m\u001b[0m\n\u001b[1;32m   1450\u001b[0m           return tf_session.TF_SessionRunCallable(\n\u001b[0;32m-> 1451\u001b[0;31m               self._session._session, self._handle, args, status, None)\n\u001b[0m\u001b[1;32m   1452\u001b[0m         \u001b[0;32melse\u001b[0m\u001b[0;34m:\u001b[0m\u001b[0;34m\u001b[0m\u001b[0m\n\u001b[1;32m   1453\u001b[0m           return tf_session.TF_DeprecatedSessionRunCallable(\n",
      "\u001b[0;31mKeyboardInterrupt\u001b[0m: "
     ]
    }
   ],
   "source": [
    "import matplotlib.pyplot as plt\n",
    "import sklearn.metrics as metrics\n",
    "# x_combined_roc = np.concatenate((ims_shuf[10000:], ims_real_test))\n",
    "# y_combined_roc = np.concatenate((y_shuf[10000:], y_real_test))\n",
    "fpr, tpr, t=my_model.eval_ROC(ims_real,y_real)\n",
    "print(\"auc \"+str( metrics.auc(fpr, tpr)))\n",
    "\n",
    "plt.title('non  sky subtracted -separated reals_resnet15_CC_2')\n",
    "plt.plot(fpr,tpr)\n",
    "plt.xlabel('FPR'); \n",
    "plt.ylabel('TPR')\n",
    "plt.xlim(0,0.4); \n",
    "plt.ylim(0,1)\n",
    "plt.grid('on')"
   ]
  },
  {
   "cell_type": "code",
   "execution_count": 84,
   "metadata": {},
   "outputs": [
    {
     "name": "stderr",
     "output_type": "stream",
     "text": [
      "/project/6016730/mlhaa/lib/python3.6/site-packages/matplotlib/cbook/deprecation.py:107: MatplotlibDeprecationWarning: Passing one of 'on', 'true', 'off', 'false' as a boolean is deprecated; use an actual boolean (True/False) instead.\n",
      "  warnings.warn(message, mplDeprecation, stacklevel=1)\n"
     ]
    },
    {
     "data": {
      "text/plain": [
       "<matplotlib.legend.Legend at 0x2b2c7bfd1668>"
      ]
     },
     "execution_count": 84,
     "metadata": {},
     "output_type": "execute_result"
    },
    {
     "data": {
      "image/png": "[encoded data removed]",
      "text/plain": [
       "<Figure size 432x288 with 1 Axes>"
      ]
     },
     "metadata": {
      "needs_background": "light"
     },
     "output_type": "display_data"
    }
   ],
   "source": [
    "#my_model.model.history is a callback obj my_model.model.history is a dict\n",
    "train_loss = my_model.model.history.history['loss'] \n",
    "val_loss = my_model.model.history.history['val_loss']\n",
    "xc = range(20)\n",
    "\n",
    "plt.figure()\n",
    "plt.title('non-skysubtracted loss curves -separated reals_resnet6_CC_2_l2_003')\n",
    "plt.xlabel('epochs');\n",
    "plt.ylabel('loss')\n",
    "plt.plot(xc, train_loss,'r-',label=\"train loss\")\n",
    "plt.plot(xc, val_loss, 'b-',label=\"validation loss\")\n",
    "plt.grid('on')\n",
    "plt.legend()"
   ]
  },
  {
   "cell_type": "code",
   "execution_count": 671,
   "metadata": {},
   "outputs": [
    {
     "ename": "NameError",
     "evalue": "name 'x' is not defined",
     "output_type": "error",
     "traceback": [
      "\u001b[0;31m\u001b[0m",
      "\u001b[0;31mNameError\u001b[0mTraceback (most recent call last)",
      "\u001b[0;32m<ipython-input-671-9544e4702b51>\u001b[0m in \u001b[0;36m<module>\u001b[0;34m()\u001b[0m\n\u001b[1;32m      1\u001b[0m \u001b[0mstart\u001b[0m \u001b[0;34m=\u001b[0m \u001b[0mtime\u001b[0m\u001b[0;34m.\u001b[0m\u001b[0mtime\u001b[0m\u001b[0;34m(\u001b[0m\u001b[0;34m)\u001b[0m\u001b[0;34m\u001b[0m\u001b[0m\n\u001b[0;32m----> 2\u001b[0;31m \u001b[0mpredictions\u001b[0m\u001b[0;34m=\u001b[0m \u001b[0mmy_model\u001b[0m\u001b[0;34m.\u001b[0m\u001b[0m_predict\u001b[0m\u001b[0;34m(\u001b[0m\u001b[0mx\u001b[0m\u001b[0;34m[\u001b[0m\u001b[0;34m:\u001b[0m\u001b[0;36m1000\u001b[0m\u001b[0;34m]\u001b[0m\u001b[0;34m,\u001b[0m\u001b[0my\u001b[0m\u001b[0;34m[\u001b[0m\u001b[0;34m:\u001b[0m\u001b[0;36m1000\u001b[0m\u001b[0;34m]\u001b[0m\u001b[0;34m)\u001b[0m\u001b[0;34m\u001b[0m\u001b[0m\n\u001b[0m\u001b[1;32m      3\u001b[0m \u001b[0mduration\u001b[0m \u001b[0;34m=\u001b[0m \u001b[0mtime\u001b[0m\u001b[0;34m.\u001b[0m\u001b[0mtime\u001b[0m\u001b[0;34m(\u001b[0m\u001b[0;34m)\u001b[0m\u001b[0;34m-\u001b[0m\u001b[0mstart\u001b[0m\u001b[0;34m\u001b[0m\u001b[0m\n\u001b[1;32m      4\u001b[0m \u001b[0;32mprint\u001b[0m\u001b[0;34m(\u001b[0m\u001b[0mduration\u001b[0m\u001b[0;34m)\u001b[0m\u001b[0;34m\u001b[0m\u001b[0m\n\u001b[1;32m      5\u001b[0m \u001b[0;34m\u001b[0m\u001b[0m\n",
      "\u001b[0;31mNameError\u001b[0m: name 'x' is not defined"
     ]
    }
   ],
   "source": [
    "start = time.time()\n",
    "predictions= my_model._predict(x[:1000],y[:1000])\n",
    "duration = time.time()-start\n",
    "print(duration)\n",
    "\n",
    "''' \n",
    "12.427s for 100 predictions\n",
    "1.28s for 10 predicitons\n",
    "97.0560390949 for 1000 predictions \n",
    "'''"
   ]
  },
  {
   "cell_type": "code",
   "execution_count": 81,
   "metadata": {},
   "outputs": [
    {
     "name": "stderr",
     "output_type": "stream",
     "text": [
      "/project/6016730/mlhaa/lib/python3.6/site-packages/matplotlib/cbook/deprecation.py:107: MatplotlibDeprecationWarning: Passing one of 'on', 'true', 'off', 'false' as a boolean is deprecated; use an actual boolean (True/False) instead.\n",
      "  warnings.warn(message, mplDeprecation, stacklevel=1)\n"
     ]
    },
    {
     "data": {
      "text/plain": [
       "<matplotlib.legend.Legend at 0x2b2c7a868be0>"
      ]
     },
     "execution_count": 81,
     "metadata": {},
     "output_type": "execute_result"
    },
    {
     "data": {
      "image/png": "[encoded data removed]",
      "text/plain": [
       "<Figure size 432x288 with 1 Axes>"
      ]
     },
     "metadata": {
      "needs_background": "light"
     },
     "output_type": "display_data"
    }
   ],
   "source": [
    "acc = my_model.model.history.history['acc'] \n",
    "val_acc = my_model.model.history.history['val_acc'] \n",
    "xc =range(20)\n",
    "plt.figure()\n",
    "plt.title('non-skysubtraction -separated reals_resnet6_CC_2_l2_003')\n",
    "plt.xlabel('epochs')\n",
    "plt.ylabel('acc')\n",
    "plt.plot(xc, acc,'r-',label=\"acc\")\n",
    "plt.plot(xc, val_acc,'b-',label=\" valid acc\")\n",
    "plt.grid('on')\n",
    "plt.legend()"
   ]
  },
  {
   "cell_type": "code",
   "execution_count": 674,
   "metadata": {},
   "outputs": [
    {
     "data": {
      "text/plain": [
       "(420, 1, 100, 100)"
      ]
     },
     "execution_count": 674,
     "metadata": {},
     "output_type": "execute_result"
    }
   ],
   "source": [
    "x_test = np.load('pos_real_nonskysubtracted_x1.npy')\n",
    "y_test = np.load('pos_real_nonskysubtracted_y1.npy')\n",
    "x_test.shape"
   ]
  },
  {
   "cell_type": "code",
   "execution_count": 15,
   "metadata": {},
   "outputs": [
    {
     "name": "stdout",
     "output_type": "stream",
     "text": [
      "(1200, 1, 100, 100)\n",
      "[1.]\n"
     ]
    },
    {
     "data": {
      "image/png": "[encoded data removed]",
      "text/plain": [
       "<Figure size 432x288 with 1 Axes>"
      ]
     },
     "metadata": {
      "needs_background": "light"
     },
     "output_type": "display_data"
    }
   ],
   "source": [
    "i = 1183\n",
    "\n",
    "print( ims_real_test.shape)\n",
    "plt.imshow(ims_real_test[i][0])\n",
    "print(y_real_test[i])"
   ]
  },
  {
   "cell_type": "code",
   "execution_count": 48,
   "metadata": {},
   "outputs": [
    {
     "ename": "KeyboardInterrupt",
     "evalue": "",
     "output_type": "error",
     "traceback": [
      "\u001b[0;31m---------------------------------------------------------------------------\u001b[0m",
      "\u001b[0;31mKeyboardInterrupt\u001b[0m                         Traceback (most recent call last)",
      "\u001b[0;32m<ipython-input-48-233492299a05>\u001b[0m in \u001b[0;36m<module>\u001b[0;34m()\u001b[0m\n\u001b[1;32m     38\u001b[0m \u001b[0;32mfor\u001b[0m \u001b[0mfilename\u001b[0m \u001b[0;32min\u001b[0m \u001b[0mpos_list\u001b[0m\u001b[0;34m:\u001b[0m\u001b[0;34m\u001b[0m\u001b[0m\n\u001b[1;32m     39\u001b[0m     \u001b[0;32mif\u001b[0m \u001b[0mfilename\u001b[0m\u001b[0;34m.\u001b[0m\u001b[0mendswith\u001b[0m\u001b[0;34m(\u001b[0m\u001b[0;34m\".fits\"\u001b[0m\u001b[0;34m)\u001b[0m \u001b[0;32mand\u001b[0m \u001b[0mcount\u001b[0m\u001b[0;34m<\u001b[0m\u001b[0mset_size\u001b[0m\u001b[0;34m/\u001b[0m\u001b[0;36m2\u001b[0m\u001b[0;34m:\u001b[0m\u001b[0;34m\u001b[0m\u001b[0m\n\u001b[0;32m---> 40\u001b[0;31m         \u001b[0mpic\u001b[0m \u001b[0;34m=\u001b[0m \u001b[0mfits\u001b[0m\u001b[0;34m.\u001b[0m\u001b[0mopen\u001b[0m\u001b[0;34m(\u001b[0m\u001b[0mPOS_PATH\u001b[0m\u001b[0;34m+\u001b[0m\u001b[0mfilename\u001b[0m\u001b[0;34m)\u001b[0m\u001b[0;34m[\u001b[0m\u001b[0;36m0\u001b[0m\u001b[0;34m]\u001b[0m\u001b[0;34m.\u001b[0m\u001b[0mdata\u001b[0m\u001b[0;34m\u001b[0m\u001b[0m\n\u001b[0m\u001b[1;32m     41\u001b[0m \u001b[0;34m\u001b[0m\u001b[0m\n\u001b[1;32m     42\u001b[0m \u001b[0;31m#         pic[pic< (3*np.median(pic) - 2*np.average(pic)) +1.5*np.std(pic)] = 0\u001b[0m\u001b[0;34m\u001b[0m\u001b[0;34m\u001b[0m\u001b[0m\n",
      "\u001b[0;32m/project/6016730/mlhaa/lib/python3.6/site-packages/astropy/io/fits/hdu/hdulist.py\u001b[0m in \u001b[0;36mfitsopen\u001b[0;34m(name, mode, memmap, save_backup, cache, lazy_load_hdus, **kwargs)\u001b[0m\n\u001b[1;32m    149\u001b[0m \u001b[0;34m\u001b[0m\u001b[0m\n\u001b[1;32m    150\u001b[0m     return HDUList.fromfile(name, mode, memmap, save_backup, cache,\n\u001b[0;32m--> 151\u001b[0;31m                             lazy_load_hdus, **kwargs)\n\u001b[0m\u001b[1;32m    152\u001b[0m \u001b[0;34m\u001b[0m\u001b[0m\n\u001b[1;32m    153\u001b[0m \u001b[0;34m\u001b[0m\u001b[0m\n",
      "\u001b[0;32m/project/6016730/mlhaa/lib/python3.6/site-packages/astropy/io/fits/hdu/hdulist.py\u001b[0m in \u001b[0;36mfromfile\u001b[0;34m(cls, fileobj, mode, memmap, save_backup, cache, lazy_load_hdus, **kwargs)\u001b[0m\n\u001b[1;32m    385\u001b[0m         return cls._readfrom(fileobj=fileobj, mode=mode, memmap=memmap,\n\u001b[1;32m    386\u001b[0m                              \u001b[0msave_backup\u001b[0m\u001b[0;34m=\u001b[0m\u001b[0msave_backup\u001b[0m\u001b[0;34m,\u001b[0m \u001b[0mcache\u001b[0m\u001b[0;34m=\u001b[0m\u001b[0mcache\u001b[0m\u001b[0;34m,\u001b[0m\u001b[0;34m\u001b[0m\u001b[0m\n\u001b[0;32m--> 387\u001b[0;31m                              lazy_load_hdus=lazy_load_hdus, **kwargs)\n\u001b[0m\u001b[1;32m    388\u001b[0m \u001b[0;34m\u001b[0m\u001b[0m\n\u001b[1;32m    389\u001b[0m     \u001b[0;34m@\u001b[0m\u001b[0mclassmethod\u001b[0m\u001b[0;34m\u001b[0m\u001b[0m\n",
      "\u001b[0;32m/project/6016730/mlhaa/lib/python3.6/site-packages/astropy/io/fits/hdu/hdulist.py\u001b[0m in \u001b[0;36m_readfrom\u001b[0;34m(cls, fileobj, data, mode, memmap, save_backup, cache, lazy_load_hdus, **kwargs)\u001b[0m\n\u001b[1;32m    972\u001b[0m             \u001b[0;32mif\u001b[0m \u001b[0;32mnot\u001b[0m \u001b[0misinstance\u001b[0m\u001b[0;34m(\u001b[0m\u001b[0mfileobj\u001b[0m\u001b[0;34m,\u001b[0m \u001b[0m_File\u001b[0m\u001b[0;34m)\u001b[0m\u001b[0;34m:\u001b[0m\u001b[0;34m\u001b[0m\u001b[0m\n\u001b[1;32m    973\u001b[0m                 \u001b[0;31m# instantiate a FITS file object (ffo)\u001b[0m\u001b[0;34m\u001b[0m\u001b[0;34m\u001b[0m\u001b[0m\n\u001b[0;32m--> 974\u001b[0;31m                 \u001b[0mfileobj\u001b[0m \u001b[0;34m=\u001b[0m \u001b[0m_File\u001b[0m\u001b[0;34m(\u001b[0m\u001b[0mfileobj\u001b[0m\u001b[0;34m,\u001b[0m \u001b[0mmode\u001b[0m\u001b[0;34m=\u001b[0m\u001b[0mmode\u001b[0m\u001b[0;34m,\u001b[0m \u001b[0mmemmap\u001b[0m\u001b[0;34m=\u001b[0m\u001b[0mmemmap\u001b[0m\u001b[0;34m,\u001b[0m \u001b[0mcache\u001b[0m\u001b[0;34m=\u001b[0m\u001b[0mcache\u001b[0m\u001b[0;34m)\u001b[0m\u001b[0;34m\u001b[0m\u001b[0m\n\u001b[0m\u001b[1;32m    975\u001b[0m             \u001b[0;31m# The Astropy mode is determined by the _File initializer if the\u001b[0m\u001b[0;34m\u001b[0m\u001b[0;34m\u001b[0m\u001b[0m\n\u001b[1;32m    976\u001b[0m             \u001b[0;31m# supplied mode was None\u001b[0m\u001b[0;34m\u001b[0m\u001b[0;34m\u001b[0m\u001b[0m\n",
      "\u001b[0;32m/project/6016730/mlhaa/lib/python3.6/site-packages/astropy/utils/decorators.py\u001b[0m in \u001b[0;36mwrapper\u001b[0;34m(*args, **kwargs)\u001b[0m\n\u001b[1;32m    486\u001b[0m                         \u001b[0;31m# one with the name of the new argument to the function\u001b[0m\u001b[0;34m\u001b[0m\u001b[0;34m\u001b[0m\u001b[0m\n\u001b[1;32m    487\u001b[0m                         \u001b[0mkwargs\u001b[0m\u001b[0;34m[\u001b[0m\u001b[0mnew_name\u001b[0m\u001b[0;34m[\u001b[0m\u001b[0mi\u001b[0m\u001b[0;34m]\u001b[0m\u001b[0;34m]\u001b[0m \u001b[0;34m=\u001b[0m \u001b[0mvalue\u001b[0m\u001b[0;34m\u001b[0m\u001b[0m\n\u001b[0;32m--> 488\u001b[0;31m             \u001b[0;32mreturn\u001b[0m \u001b[0mfunction\u001b[0m\u001b[0;34m(\u001b[0m\u001b[0;34m*\u001b[0m\u001b[0margs\u001b[0m\u001b[0;34m,\u001b[0m \u001b[0;34m**\u001b[0m\u001b[0mkwargs\u001b[0m\u001b[0;34m)\u001b[0m\u001b[0;34m\u001b[0m\u001b[0m\n\u001b[0m\u001b[1;32m    489\u001b[0m \u001b[0;34m\u001b[0m\u001b[0m\n\u001b[1;32m    490\u001b[0m         \u001b[0;32mreturn\u001b[0m \u001b[0mwrapper\u001b[0m\u001b[0;34m\u001b[0m\u001b[0m\n",
      "\u001b[0;32m/project/6016730/mlhaa/lib/python3.6/site-packages/astropy/io/fits/file.py\u001b[0m in \u001b[0;36m__init__\u001b[0;34m(self, fileobj, mode, memmap, overwrite, cache)\u001b[0m\n\u001b[1;32m    173\u001b[0m             \u001b[0mself\u001b[0m\u001b[0;34m.\u001b[0m\u001b[0m_open_fileobj\u001b[0m\u001b[0;34m(\u001b[0m\u001b[0mfileobj\u001b[0m\u001b[0;34m,\u001b[0m \u001b[0mmode\u001b[0m\u001b[0;34m,\u001b[0m \u001b[0moverwrite\u001b[0m\u001b[0;34m)\u001b[0m\u001b[0;34m\u001b[0m\u001b[0m\n\u001b[1;32m    174\u001b[0m         \u001b[0;32melif\u001b[0m \u001b[0misinstance\u001b[0m\u001b[0;34m(\u001b[0m\u001b[0mfileobj\u001b[0m\u001b[0;34m,\u001b[0m \u001b[0mstr\u001b[0m\u001b[0;34m)\u001b[0m\u001b[0;34m:\u001b[0m\u001b[0;34m\u001b[0m\u001b[0m\n\u001b[0;32m--> 175\u001b[0;31m             \u001b[0mself\u001b[0m\u001b[0;34m.\u001b[0m\u001b[0m_open_filename\u001b[0m\u001b[0;34m(\u001b[0m\u001b[0mfileobj\u001b[0m\u001b[0;34m,\u001b[0m \u001b[0mmode\u001b[0m\u001b[0;34m,\u001b[0m \u001b[0moverwrite\u001b[0m\u001b[0;34m)\u001b[0m\u001b[0;34m\u001b[0m\u001b[0m\n\u001b[0m\u001b[1;32m    176\u001b[0m         \u001b[0;32melse\u001b[0m\u001b[0;34m:\u001b[0m\u001b[0;34m\u001b[0m\u001b[0m\n\u001b[1;32m    177\u001b[0m             \u001b[0mself\u001b[0m\u001b[0;34m.\u001b[0m\u001b[0m_open_filelike\u001b[0m\u001b[0;34m(\u001b[0m\u001b[0mfileobj\u001b[0m\u001b[0;34m,\u001b[0m \u001b[0mmode\u001b[0m\u001b[0;34m,\u001b[0m \u001b[0moverwrite\u001b[0m\u001b[0;34m)\u001b[0m\u001b[0;34m\u001b[0m\u001b[0m\n",
      "\u001b[0;32m/project/6016730/mlhaa/lib/python3.6/site-packages/astropy/io/fits/file.py\u001b[0m in \u001b[0;36m_open_filename\u001b[0;34m(self, filename, mode, overwrite)\u001b[0m\n\u001b[1;32m    522\u001b[0m         \u001b[0;32mif\u001b[0m \u001b[0mos\u001b[0m\u001b[0;34m.\u001b[0m\u001b[0mpath\u001b[0m\u001b[0;34m.\u001b[0m\u001b[0mexists\u001b[0m\u001b[0;34m(\u001b[0m\u001b[0mself\u001b[0m\u001b[0;34m.\u001b[0m\u001b[0mname\u001b[0m\u001b[0;34m)\u001b[0m\u001b[0;34m:\u001b[0m\u001b[0;34m\u001b[0m\u001b[0m\n\u001b[1;32m    523\u001b[0m             \u001b[0;32mwith\u001b[0m \u001b[0mfileobj_open\u001b[0m\u001b[0;34m(\u001b[0m\u001b[0mself\u001b[0m\u001b[0;34m.\u001b[0m\u001b[0mname\u001b[0m\u001b[0;34m,\u001b[0m \u001b[0;34m'rb'\u001b[0m\u001b[0;34m)\u001b[0m \u001b[0;32mas\u001b[0m \u001b[0mf\u001b[0m\u001b[0;34m:\u001b[0m\u001b[0;34m\u001b[0m\u001b[0m\n\u001b[0;32m--> 524\u001b[0;31m                 \u001b[0mmagic\u001b[0m \u001b[0;34m=\u001b[0m \u001b[0mf\u001b[0m\u001b[0;34m.\u001b[0m\u001b[0mread\u001b[0m\u001b[0;34m(\u001b[0m\u001b[0;36m4\u001b[0m\u001b[0;34m)\u001b[0m\u001b[0;34m\u001b[0m\u001b[0m\n\u001b[0m\u001b[1;32m    525\u001b[0m         \u001b[0;32melse\u001b[0m\u001b[0;34m:\u001b[0m\u001b[0;34m\u001b[0m\u001b[0m\n\u001b[1;32m    526\u001b[0m             \u001b[0mmagic\u001b[0m \u001b[0;34m=\u001b[0m \u001b[0;34mb''\u001b[0m\u001b[0;34m\u001b[0m\u001b[0m\n",
      "\u001b[0;31mKeyboardInterrupt\u001b[0m: "
     ]
    }
   ],
   "source": [
    "#load the real TEST images and their negatives\n",
    "import os\n",
    "from astropy.io import fits\n",
    "import numpy as np\n",
    "#from sklearn.preprocessing import minmax_scale\n",
    "from random import shuffle\n",
    "NEG_PATH = \"/home/toyonaga/scratch/augmented_reals_3/dim_negs_norm_aug_noskysubtract/\"\n",
    "#POS_PATH = \"/home/roberttoyonaga/notebooks/roberttoyonaga/CMUDeepLensNRC/HSTLens/non-neg-set/merged/\"\n",
    "POS_PATH = \"/home/toyonaga/scratch/augmented_reals_3/augmented_reals_separate_test/\"\n",
    "set_size =15*40*2  #includes both pos and neg samples\n",
    "\n",
    "ims_real_test = np.ones((set_size, 1, 100, 100))\n",
    "y_real_test = np.ones((set_size,1))\n",
    "\n",
    "#load the negatives into even numbered indices (including 0)\n",
    "count =0\n",
    "neg_list = os.listdir(NEG_PATH)\n",
    "shuffle(neg_list)\n",
    "for filename in neg_list:\n",
    "    if filename.endswith(\".fits\") and count<set_size/2: \n",
    "        pic = fits.open(NEG_PATH+filename)[0].data\n",
    "    \n",
    "#         pic[pic< (3*np.median(pic) - 2*np.average(pic)) +1.5*np.std(pic)] = 0\n",
    "#         tmp_image = pic.reshape(-1,)\n",
    "#         tmp_image = np.log10(tmp_image+1)\n",
    "#         tmp_image = minmax_scale(tmp_image, feature_range = (0,1))\n",
    "#         pic = tmp_image.reshape(pic.shape[2],pic.shape[2])\n",
    "        \n",
    "        ims_real_test[count*2] = pic\n",
    "        y_real_test[count*2] = np.array([0])\n",
    "        count+=1\n",
    "    \n",
    "    \n",
    "#load the positives into odd numered indices\n",
    "count =0\n",
    "pos_list = os.listdir(POS_PATH)\n",
    "shuffle(pos_list)\n",
    "for filename in pos_list:\n",
    "    if filename.endswith(\".fits\") and count<set_size/2: \n",
    "        pic = fits.open(POS_PATH+filename)[0].data\n",
    "        \n",
    "#         pic[pic< (3*np.median(pic) - 2*np.average(pic)) +1.5*np.std(pic)] = 0\n",
    "#         tmp_image = pic.reshape(-1,)\n",
    "#         tmp_image = np.log10(tmp_image+1)\n",
    "#         tmp_image = minmax_scale(tmp_image, feature_range = (0,1))\n",
    "#         pic = tmp_image.reshape(pic.shape[2],pic.shape[2])\n",
    "        \n",
    "        ims_real_test[count*2+1] = pic\n",
    "        y_real_test[count*2+1] = np.array([1])\n",
    "        count+=1\n",
    "        \n",
    "\n",
    "          "
   ]
  },
  {
   "cell_type": "code",
   "execution_count": 85,
   "metadata": {},
   "outputs": [
    {
     "name": "stdout",
     "output_type": "stream",
     "text": [
      "...Generating Predictions ...\n",
      "fpr:  0.015 tpr:  0.8316666666666667 fp  9.0 tp  499.0 fn  101.0\n"
     ]
    }
   ],
   "source": [
    "predictions  = my_model._predict( ims_real_test, y= None, discrete = True)\n",
    "tp =0.\n",
    "fp =0.\n",
    "fn=0.\n",
    "pos =0.\n",
    "for i in range(len(predictions)):\n",
    "    if (predictions[i] ==1) and( y_real_test[i] ==1):\n",
    "        tp+=1\n",
    "        pos+=1\n",
    "        \n",
    "    if (predictions[i] == 1) and (y_real_test[i]==0): \n",
    "        fp+=1\n",
    "        #print (\"fp\"+ str(i))\n",
    "    if (predictions[i] == 0 ) and (y_real_test[i] ==1):\n",
    "        fn+=1\n",
    "        pos+=1\n",
    "        #print( \"fn\"+ str(i))\n",
    "        \n",
    "print (\"fpr: \", fp/pos,\"tpr: \", tp/pos ,\"fp \",fp, \"tp \",  tp,\"fn \", fn)\n"
   ]
  },
  {
   "cell_type": "code",
   "execution_count": 76,
   "metadata": {},
   "outputs": [
    {
     "name": "stdout",
     "output_type": "stream",
     "text": [
      "...Generating Predictions ...\n"
     ]
    },
    {
     "data": {
      "text/plain": [
       "('purity0.963855421686747', 'comp0.9333333333333333')"
      ]
     },
     "execution_count": 76,
     "metadata": {},
     "output_type": "execute_result"
    }
   ],
   "source": [
    "#pur, comp = my_model.eval_purity_completeness(ims_shuf[10000:], y_shuf[10000:])\n",
    "pur, comp = my_model.eval_purity_completeness(ims_real_test,y_real_test)\n",
    "\"purity\" + str(pur),\"comp\" + str(comp)"
   ]
  },
  {
   "cell_type": "code",
   "execution_count": null,
   "metadata": {},
   "outputs": [],
   "source": []
  },
  {
   "cell_type": "code",
   "execution_count": null,
   "metadata": {},
   "outputs": [],
   "source": []
  }
 ],
 "metadata": {
  "kernelspec": {
   "display_name": "Python 3",
   "language": "python",
   "name": "python3"
  },
  "language_info": {
   "codemirror_mode": {
    "name": "ipython",
    "version": 3
   },
   "file_extension": ".py",
   "mimetype": "text/x-python",
   "name": "python",
   "nbconvert_exporter": "python",
   "pygments_lexer": "ipython3",
   "version": "3.6.3"
  }
 },
 "nbformat": 4,
 "nbformat_minor": 2
}
