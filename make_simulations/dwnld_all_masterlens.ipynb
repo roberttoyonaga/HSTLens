{
 "cells": [
  {
   "cell_type": "code",
   "execution_count": 2,
   "metadata": {},
   "outputs": [
    {
     "data": {
      "text/html": [
       "<style>.container {width:100% !important;}</style>"
      ],
      "text/plain": [
       "<IPython.core.display.HTML object>"
      ]
     },
     "metadata": {},
     "output_type": "display_data"
    }
   ],
   "source": [
    "from IPython.core.display import display, HTML\n",
    "display(HTML('<style>.container {width:100% !important;}</style>'))\n"
   ]
  },
  {
   "cell_type": "code",
   "execution_count": null,
   "metadata": {},
   "outputs": [
    {
     "name": "stdout",
     "output_type": "stream",
     "text": [
      "-30.352722\n",
      "couldnt find filename\n",
      "-30.382194\n",
      "couldnt find filename\n",
      "-10.15308799\n",
      "couldnt find filename\n",
      "+16.4378587777\n",
      "couldnt find filename\n",
      "-0.06896\n",
      "couldnt find filename\n",
      "5.67049154\n",
      "6.3479305559\n",
      "j8qu01020\n"
     ]
    }
   ],
   "source": [
    "import csv\n",
    "import pandas as pd\n",
    "from daomop.storage import tap_query\n",
    "import os\n",
    "import time \n",
    "import subprocess\n",
    "from astropy import wcs\n",
    "from astropy.io import fits\n",
    "from astropy.nddata.utils import Cutout2D\n",
    "import numpy as np\n",
    "import random\n",
    "def get_filenames(ra, dec,i): #0.001\n",
    "    CUTOUT_PATH =\"/home/robbie/repos/HSTLens/CC_batch_processing/batchjob_3/images/\"+str(ra)+\"_\"+str(dec)+\".fits\"\n",
    "    OUT_PATH= \"/home/robbie/repos/HSTLens/CC_batch_processing/batchjob_3/out/\"+str(ra)+\"_\"+str(dec)+\".fits\"\n",
    "\n",
    "    \n",
    "    query = '''SELECT caom2.Plane.publisherID, caom2.Plane.planeURI\n",
    "    FROM caom2.observation \n",
    "    JOIN caom2.plane ON caom2.observation.obsID = caom2.plane.obsID \n",
    "    WHERE CONTAINS( CIRCLE('ICRS',''' + str(ra) + ',' +str(dec) + ''',0.001), caom2.plane.position_bounds)=1 \n",
    "    AND caom2.observation.collection = 'HST' \n",
    "    AND caom2.observation.instrument_name = 'ACS/WFC' \n",
    "    AND caom2.Plane.energy_bandpassName ='F814W'\n",
    "    ''' #'F814W' F606W,F850W F475WAND   AND \n",
    "    print ra\n",
    "    out_query = tap_query(query)\n",
    "\n",
    "    '''store the pubID and filenames'''\n",
    "    success=False\n",
    "    for entry in range(len(out_query[\"publisherID\"])):#\n",
    "#         if (True):\n",
    "        if ((\"0-\"  in out_query[\"publisherID\"][entry]) and (\"PRODUCT\"  in out_query[\"publisherID\"][entry])) :\n",
    "            success=True\n",
    "            start = out_query[\"publisherID\"][entry].find('HST?') + 4 #add 4 to get to the and of the HST?\n",
    "            end = out_query[\"publisherID\"][entry].find('/j', start)\n",
    "            print(out_query[\"publisherID\"][entry][start:end])\n",
    "            try:\n",
    "\n",
    "                subprocess.check_output([\"wget\", \"-O\", CUTOUT_PATH,\n",
    "                                 \"http://www.cadc-ccda.hia-iha.nrc-cnrc.gc.ca/caom2ops/cutout?uri=mast:HST/product/\"+\n",
    "                                 str(out_query[\"publisherID\"][entry][start:end])+\"_drc.fits&cutout=Circle+ICRS+\" + str(ra) + \"+\" +\n",
    "                                 str(dec) + \"+0.002\"])#0.002\n",
    "                break\n",
    "            except:\n",
    "                print('fail')\n",
    "                \n",
    "    if success==False: \n",
    "        print('couldnt find filename')\n",
    "        bad_objects.append(i)\n",
    "        return\n",
    "        \n",
    "    data, hdr = fits.getdata(CUTOUT_PATH, 1, header=True) #open the dwnlded image\n",
    "    w = wcs.WCS(hdr) \n",
    "    pixcrd = w.wcs_world2pix([[float(ra), float(dec)]], 0) #find the pixel crds to center on\n",
    "    centered_cut = Cutout2D(data, (pixcrd[0][0], pixcrd[0][1]), (100, 100)) #make cutout\n",
    "    fits.writeto(OUT_PATH, centered_cut.data, header=hdr, overwrite =True) #save cutout\n",
    "        \n",
    "crd_dict = {'ra':[],'dec':[]}\n",
    "pos=0 #to alternate btw ra and dec\n",
    "\n",
    "my_file = open(\"unformatted_masterlens\",\"r\") #open and read the raw masterlens data\n",
    "lines = my_file.readlines()\n",
    "my_file.close()\n",
    "\n",
    "for line in lines:\n",
    "\n",
    "  \n",
    "    start = line.find('[') \n",
    "    if start != -1: #if it found somthing\n",
    "        start+=1\n",
    "        end = line.find(']') -1\n",
    "\n",
    "        if line[end-1]=='\\xc2':\n",
    "            word = line[start:end-1] \n",
    "\n",
    "            if pos==0:\n",
    "                crd_dict['ra'].append(word)\n",
    "                pos=1\n",
    "            else:\n",
    "                crd_dict['dec'].append(word)\n",
    "                pos=0\n",
    "                \n",
    "crd_df = pd.DataFrame(crd_dict)\n",
    "crd_df.to_csv('masterlens.csv')\n",
    "bad_objects = []\n",
    "\n",
    "for i in range(len(crd_dict['ra'])):\n",
    "    try:\n",
    "        get_filenames(crd_dict['ra'][i], crd_dict['dec'][i], i)\n",
    "    except:\n",
    "        bad_objects.append(i)\n",
    "        \n",
    "with open(\"testcsv\", 'wb') as myfile: #save the list of bad images\n",
    "    wr = csv.writer(myfile)\n",
    "    wr.writerow(c)\n"
   ]
  },
  {
   "cell_type": "code",
   "execution_count": null,
   "metadata": {},
   "outputs": [],
   "source": []
  }
 ],
 "metadata": {
  "kernelspec": {
   "display_name": "Python 3",
   "language": "python",
   "name": "python3"
  },
  "language_info": {
   "codemirror_mode": {
    "name": "ipython",
    "version": 3
   },
   "file_extension": ".py",
   "mimetype": "text/x-python",
   "name": "python",
   "nbconvert_exporter": "python",
   "pygments_lexer": "ipython3",
   "version": "3.8.5"
  }
 },
 "nbformat": 4,
 "nbformat_minor": 2
}
