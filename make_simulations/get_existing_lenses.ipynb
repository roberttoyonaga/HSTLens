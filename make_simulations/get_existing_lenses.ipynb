{
 "cells": [
  {
   "cell_type": "markdown",
   "metadata": {},
   "source": [
    "This code is to download all the lenses at the coordinates described by a csv file which you provide the path to. The coordinates might be in the form\n",
    "\n",
    "- 333.094995,-0.303149,Jacobs\n",
    "- 00:49:41.89,-27:52:25.7,CASTLES\n",
    "- 09 59 29.0,+01 45 53,faure"
   ]
  },
  {
   "cell_type": "code",
   "execution_count": 1,
   "metadata": {},
   "outputs": [
    {
     "data": {
      "text/html": [
       "<style>.container {width:90% !important;}</style>"
      ],
      "text/plain": [
       "<IPython.core.display.HTML object>"
      ]
     },
     "metadata": {},
     "output_type": "display_data"
    }
   ],
   "source": [
    "from IPython.core.display import display, HTML\n",
    "display(HTML('<style>.container {width:90% !important;}</style>'))\n"
   ]
  },
  {
   "cell_type": "code",
   "execution_count": null,
   "metadata": {},
   "outputs": [],
   "source": [
    "#get cutouts of lenses from papers\n",
    "\n",
    "import pandas as pd\n",
    "import subprocess\n",
    "from astropy.io import fits\n",
    "import matplotlib.pyplot as plt\n",
    "import numpy as np\n",
    "from daomop.storage import tap_query\n",
    "from astropy import units as u\n",
    "from astropy.coordinates import SkyCoord\n",
    "CSV = '/home/toyonagar/Documents/paper_crds.csv'\n",
    "CUTOUT_PATH =\"/home/toyonagar/anaconda3/HST_Lens/paper_cutouts/\"\n",
    "\n",
    "def get_filenames(ra, dec,i):\n",
    "    if (\":\" in str(ra)) or (\" \" in str(ra)):\n",
    "        try:\n",
    "            crd = SkyCoord(ra[0:2]+\"h\"+ra[3:5]+'m'+ra[6:10]+'s',dec[0:3]+\"d\"+dec[4:6]+'m'+dec[7:9]+'s')\n",
    "            ra = crd.ra.degree\n",
    "            dec = crd.dec.degree\n",
    "\n",
    "        except:\n",
    "            print('unable to convert crds to degree')\n",
    "            print(ra)\n",
    "            return 0\n",
    "        \n",
    "    query = '''SELECT caom2.Plane.publisherID, caom2.Plane.planeURI \n",
    "    FROM caom2.observation \n",
    "    JOIN caom2.plane ON caom2.observation.obsID = caom2.plane.obsID \n",
    "    WHERE CONTAINS( CIRCLE('ICRS',''' + str(ra) + ',' +str(dec) + ''',0.001), caom2.plane.position_bounds)=1 \n",
    "    AND caom2.observation.collection = 'HST' \n",
    "    AND caom2.observation.instrument_name = 'ACS/WFC' \n",
    "    AND caom2.Plane.energy_bandpassName ='F814W'\n",
    "    ''' #'F814W' F606W,F850W F475W\n",
    "    try:\n",
    "        out_query = tap_query(query)\n",
    "    except: \n",
    "        print('tap query failed')\n",
    "        print(ra,dec)\n",
    "        return 0\n",
    "    \n",
    "    '''store the pubID and filenames'''\n",
    "    success=False\n",
    "    for entry in range(len(out_query[\"publisherID\"])):\n",
    "        if (\"0-\" in out_query[\"publisherID\"][entry]) and (\"PRODUCT\" in out_query[\"publisherID\"][entry]):\n",
    "            success=True\n",
    "            start = out_query[\"publisherID\"][entry].find('HST?') + 4 #add 4 to get to the and of the HST?\n",
    "            end = out_query[\"publisherID\"][entry].find('/j', start)\n",
    "            print(out_query[\"publisherID\"][entry][start:end])\n",
    "            try:\n",
    "                subprocess.check_output([\"wget\", \"-O\", CUTOUT_PATH+papers['author'][i]+\"_\"+str(i)+'.fits',\n",
    "                                 \"http://www.cadc-ccda.hia-iha.nrc-cnrc.gc.ca/caom2ops/cutout?uri=mast:HST/product/\"+\n",
    "                                 str(out_query[\"publisherID\"][entry][start:end])+\"_drz.fits&cutout=Circle+ICRS+\" + str(ra) + \"+\" +\n",
    "                                 str(dec) + \"+0.002\"])\n",
    "                break\n",
    "            except:\n",
    "                print('failed download')\n",
    "    if success==False: print('couldnt find filename '+str(i))\n",
    "\n",
    "\n",
    "\n",
    "\n",
    "papers = pd.read_csv(CSV, sep = ',')\n",
    "\n",
    "for i in range(len(papers)):\n",
    "    #for each row try to download the image\n",
    "#     try:\n",
    "        r = get_filenames(papers['ra'][i], papers['dec'][i],i)\n",
    "#     except:\n",
    "#         print((papers['ra'][i], papers['dec'][i],i)) "
   ]
  },
  {
   "cell_type": "code",
   "execution_count": null,
   "metadata": {},
   "outputs": [],
   "source": [
    "### load images from files\n",
    "\n",
    "\n",
    "import os \n",
    "from astropy.io import fits \n",
    "import numpy as np \n",
    "from sklearn.preprocessing import minmax_scale\n",
    "from astropy.nddata.utils import Cutout2D\n",
    "\n",
    "PATH =\"/home/toyonagar/anaconda3/HST_Lens/faure_100x100_no-norm/\"\n",
    "ims = np.zeros((len(os.listdir(PATH)),1,100,100))\n",
    "# sp= int(input(\"start point\"))\n",
    "\n",
    "count=0\n",
    "for filename in os.listdir(PATH): \n",
    "    try:\n",
    "        pic = fits.open(PATH+filename)[0].data\n",
    "        \n",
    "        if pic.shape != (100, 100):    #check for cut off images\n",
    "            result = np.zeros((100,100))\n",
    "            result[:pic.shape[0],:pic.shape[1]] = pic\n",
    "            ims[count][0] = result\n",
    "            count+=1\n",
    "            continue\n",
    "            \n",
    "        ims[count][0] = pic\n",
    "        count+=1\n",
    "         \n",
    "    except:\n",
    "        print('missed'+ str(i+sp))\n",
    "\n",
    "\n"
   ]
  }
 ],
 "metadata": {
  "kernelspec": {
   "display_name": "Python 2",
   "language": "python",
   "name": "python2"
  },
  "language_info": {
   "codemirror_mode": {
    "name": "ipython",
    "version": 2
   },
   "file_extension": ".py",
   "mimetype": "text/x-python",
   "name": "python",
   "nbconvert_exporter": "python",
   "pygments_lexer": "ipython2",
   "version": "2.7.15"
  }
 },
 "nbformat": 4,
 "nbformat_minor": 2
}
