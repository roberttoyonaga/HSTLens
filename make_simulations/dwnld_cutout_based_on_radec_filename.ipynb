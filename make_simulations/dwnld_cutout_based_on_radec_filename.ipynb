{
 "cells": [
  {
   "cell_type": "markdown",
   "metadata": {},
   "source": [
    "This code will help you do quick coordinate conversions and dwnld/view images based on their coordinates."
   ]
  },
  {
   "cell_type": "code",
   "execution_count": 1,
   "metadata": {},
   "outputs": [
    {
     "data": {
      "text/html": [
       "<style>.container {width:100% !important;}</style>"
      ],
      "text/plain": [
       "<IPython.core.display.HTML object>"
      ]
     },
     "metadata": {},
     "output_type": "display_data"
    }
   ],
   "source": [
    "from IPython.core.display import display, HTML\n",
    "display(HTML('<style>.container {width:100% !important;}</style>'))\n"
   ]
  },
  {
   "cell_type": "code",
   "execution_count": 2,
   "metadata": {},
   "outputs": [
    {
     "name": "stdout",
     "output_type": "stream",
     "text": [
      "52.421833333333325 -2.215527777777778\n"
     ]
    }
   ],
   "source": [
    "#convert hmsdms to degrees\n",
    "from astropy import units as u\n",
    "from astropy.coordinates import SkyCoord\n",
    "r='03 29 41.2409'\n",
    "d='-02 12 55.922'\n",
    "crd = SkyCoord(r[0:2]+\"h\"+r[3:5]+'m'+r[6:12]+'s',d[0:3]+\"d\"+d[4:6]+'m'+d[7:11]+'s')\n",
    "print (crd.ra.degree, crd.dec.degree)"
   ]
  },
  {
   "cell_type": "code",
   "execution_count": 3,
   "metadata": {},
   "outputs": [
    {
     "data": {
      "text/plain": [
       "'16h21m22.2251s +38d10m06.3664s'"
      ]
     },
     "execution_count": 3,
     "metadata": {},
     "output_type": "execute_result"
    }
   ],
   "source": [
    "#convert degrees to hmsdms\n",
    "a= SkyCoord(245.3426046,38.1684351, unit='deg') \n",
    "a.to_string('hmsdms')\n"
   ]
  },
  {
   "cell_type": "code",
   "execution_count": 4,
   "metadata": {},
   "outputs": [
    {
     "data": {
      "text/plain": [
       "'16h45m03.901s +01d40m06.177s'"
      ]
     },
     "execution_count": 4,
     "metadata": {},
     "output_type": "execute_result"
    }
   ],
   "source": [
    "#convert degrees to hmsdms\n",
    "a= SkyCoord(251.2662542,1.6683825, unit='deg') \n",
    "a.to_string('hmsdms')\n"
   ]
  },
  {
   "cell_type": "code",
   "execution_count": 5,
   "metadata": {},
   "outputs": [
    {
     "data": {
      "text/plain": [
       "'03h29m40.8127s -02d13m18.2892s'"
      ]
     },
     "execution_count": 5,
     "metadata": {},
     "output_type": "execute_result"
    }
   ],
   "source": [
    "#convert degrees to hmsdms\n",
    "a= SkyCoord(52.4200531,-2.2217470, unit='deg') \n",
    "a.to_string('hmsdms')\n"
   ]
  },
  {
   "cell_type": "code",
   "execution_count": 6,
   "metadata": {},
   "outputs": [
    {
     "data": {
      "text/plain": [
       "'02h45m26.8183s -53d04m11.4575s'"
      ]
     },
     "execution_count": 6,
     "metadata": {},
     "output_type": "execute_result"
    }
   ],
   "source": [
    "#convert degrees to hmsdms\n",
    "a= SkyCoord(41.3617431,-53.0698493, unit='deg') \n",
    "a.to_string('hmsdms')\n"
   ]
  },
  {
   "cell_type": "code",
   "execution_count": 1,
   "metadata": {
    "scrolled": true
   },
   "outputs": [
    {
     "name": "stdout",
     "output_type": "stream",
     "text": [
      "publisherID planeURI\n",
      "----------- --------\n",
      "couldnt find filename\n",
      "0.689740896225\n",
      "['CLEAR1L;F814W']\n"
     ]
    },
    {
     "ename": "IOError",
     "evalue": "[Errno 2] No such file or directory: 'candidate2_814.fits'",
     "output_type": "error",
     "traceback": [
      "\u001b[0;31m---------------------------------------------------------------------------\u001b[0m",
      "\u001b[0;31mIOError\u001b[0m                                   Traceback (most recent call last)",
      "\u001b[0;32m<ipython-input-1-955c08b11ada>\u001b[0m in \u001b[0;36m<module>\u001b[0;34m()\u001b[0m\n\u001b[1;32m     77\u001b[0m \u001b[0mcount_bands\u001b[0m\u001b[0;34m(\u001b[0m\u001b[0mra\u001b[0m\u001b[0;34m,\u001b[0m\u001b[0mdec\u001b[0m\u001b[0;34m)\u001b[0m\u001b[0;34m\u001b[0m\u001b[0m\n\u001b[1;32m     78\u001b[0m \u001b[0;34m\u001b[0m\u001b[0m\n\u001b[0;32m---> 79\u001b[0;31m \u001b[0mdata\u001b[0m\u001b[0;34m,\u001b[0m \u001b[0mhdr\u001b[0m \u001b[0;34m=\u001b[0m \u001b[0mfits\u001b[0m\u001b[0;34m.\u001b[0m\u001b[0mgetdata\u001b[0m\u001b[0;34m(\u001b[0m\u001b[0mCUTOUT_PATH\u001b[0m\u001b[0;34m,\u001b[0m \u001b[0;36m1\u001b[0m\u001b[0;34m,\u001b[0m \u001b[0mheader\u001b[0m\u001b[0;34m=\u001b[0m\u001b[0mTrue\u001b[0m\u001b[0;34m)\u001b[0m\u001b[0;34m\u001b[0m\u001b[0m\n\u001b[0m\u001b[1;32m     80\u001b[0m \u001b[0mplt\u001b[0m\u001b[0;34m.\u001b[0m\u001b[0mimshow\u001b[0m\u001b[0;34m(\u001b[0m\u001b[0mnp\u001b[0m\u001b[0;34m.\u001b[0m\u001b[0mlog10\u001b[0m\u001b[0;34m(\u001b[0m\u001b[0mdata\u001b[0m\u001b[0;34m+\u001b[0m\u001b[0;36m1\u001b[0m\u001b[0;34m)\u001b[0m\u001b[0;34m)\u001b[0m\u001b[0;34m,\u001b[0m\u001b[0mhdr\u001b[0m\u001b[0;34m[\u001b[0m\u001b[0;34m'CRVAL1'\u001b[0m\u001b[0;34m]\u001b[0m\u001b[0;34m,\u001b[0m\u001b[0mhdr\u001b[0m\u001b[0;34m[\u001b[0m\u001b[0;34m'CRVAL2'\u001b[0m\u001b[0;34m]\u001b[0m\u001b[0;34m,\u001b[0m\u001b[0mhdr\u001b[0m \u001b[0;34m[\u001b[0m\u001b[0;34m'PHOTMODE'\u001b[0m\u001b[0;34m]\u001b[0m\u001b[0;34m\u001b[0m\u001b[0m\n",
      "\u001b[0;32m/home/robbie/python_environments/python27/local/lib/python2.7/site-packages/astropy/io/fits/convenience.pyc\u001b[0m in \u001b[0;36mgetdata\u001b[0;34m(filename, *args, **kwargs)\u001b[0m\n\u001b[1;32m    195\u001b[0m     \u001b[0mview\u001b[0m \u001b[0;34m=\u001b[0m \u001b[0mkwargs\u001b[0m\u001b[0;34m.\u001b[0m\u001b[0mpop\u001b[0m\u001b[0;34m(\u001b[0m\u001b[0;34m'view'\u001b[0m\u001b[0;34m,\u001b[0m \u001b[0mNone\u001b[0m\u001b[0;34m)\u001b[0m\u001b[0;34m\u001b[0m\u001b[0m\n\u001b[1;32m    196\u001b[0m \u001b[0;34m\u001b[0m\u001b[0m\n\u001b[0;32m--> 197\u001b[0;31m     \u001b[0mhdulist\u001b[0m\u001b[0;34m,\u001b[0m \u001b[0mextidx\u001b[0m \u001b[0;34m=\u001b[0m \u001b[0m_getext\u001b[0m\u001b[0;34m(\u001b[0m\u001b[0mfilename\u001b[0m\u001b[0;34m,\u001b[0m \u001b[0mmode\u001b[0m\u001b[0;34m,\u001b[0m \u001b[0;34m*\u001b[0m\u001b[0margs\u001b[0m\u001b[0;34m,\u001b[0m \u001b[0;34m**\u001b[0m\u001b[0mkwargs\u001b[0m\u001b[0;34m)\u001b[0m\u001b[0;34m\u001b[0m\u001b[0m\n\u001b[0m\u001b[1;32m    198\u001b[0m     \u001b[0;32mtry\u001b[0m\u001b[0;34m:\u001b[0m\u001b[0;34m\u001b[0m\u001b[0m\n\u001b[1;32m    199\u001b[0m         \u001b[0mhdu\u001b[0m \u001b[0;34m=\u001b[0m \u001b[0mhdulist\u001b[0m\u001b[0;34m[\u001b[0m\u001b[0mextidx\u001b[0m\u001b[0;34m]\u001b[0m\u001b[0;34m\u001b[0m\u001b[0m\n",
      "\u001b[0;32m/home/robbie/python_environments/python27/local/lib/python2.7/site-packages/astropy/io/fits/convenience.pyc\u001b[0m in \u001b[0;36m_getext\u001b[0;34m(filename, mode, *args, **kwargs)\u001b[0m\n\u001b[1;32m   1002\u001b[0m         \u001b[0;32mraise\u001b[0m \u001b[0mTypeError\u001b[0m\u001b[0;34m(\u001b[0m\u001b[0;34m'extver alone cannot specify an extension.'\u001b[0m\u001b[0;34m)\u001b[0m\u001b[0;34m\u001b[0m\u001b[0m\n\u001b[1;32m   1003\u001b[0m \u001b[0;34m\u001b[0m\u001b[0m\n\u001b[0;32m-> 1004\u001b[0;31m     \u001b[0mhdulist\u001b[0m \u001b[0;34m=\u001b[0m \u001b[0mfitsopen\u001b[0m\u001b[0;34m(\u001b[0m\u001b[0mfilename\u001b[0m\u001b[0;34m,\u001b[0m \u001b[0mmode\u001b[0m\u001b[0;34m=\u001b[0m\u001b[0mmode\u001b[0m\u001b[0;34m,\u001b[0m \u001b[0;34m**\u001b[0m\u001b[0mkwargs\u001b[0m\u001b[0;34m)\u001b[0m\u001b[0;34m\u001b[0m\u001b[0m\n\u001b[0m\u001b[1;32m   1005\u001b[0m \u001b[0;34m\u001b[0m\u001b[0m\n\u001b[1;32m   1006\u001b[0m     \u001b[0;32mreturn\u001b[0m \u001b[0mhdulist\u001b[0m\u001b[0;34m,\u001b[0m \u001b[0mext\u001b[0m\u001b[0;34m\u001b[0m\u001b[0m\n",
      "\u001b[0;32m/home/robbie/python_environments/python27/local/lib/python2.7/site-packages/astropy/io/fits/hdu/hdulist.pyc\u001b[0m in \u001b[0;36mfitsopen\u001b[0;34m(name, mode, memmap, save_backup, cache, lazy_load_hdus, **kwargs)\u001b[0m\n\u001b[1;32m    146\u001b[0m \u001b[0;34m\u001b[0m\u001b[0m\n\u001b[1;32m    147\u001b[0m     return HDUList.fromfile(name, mode, memmap, save_backup, cache,\n\u001b[0;32m--> 148\u001b[0;31m                             lazy_load_hdus, **kwargs)\n\u001b[0m\u001b[1;32m    149\u001b[0m \u001b[0;34m\u001b[0m\u001b[0m\n\u001b[1;32m    150\u001b[0m \u001b[0;34m\u001b[0m\u001b[0m\n",
      "\u001b[0;32m/home/robbie/python_environments/python27/local/lib/python2.7/site-packages/astropy/io/fits/hdu/hdulist.pyc\u001b[0m in \u001b[0;36mfromfile\u001b[0;34m(cls, fileobj, mode, memmap, save_backup, cache, lazy_load_hdus, **kwargs)\u001b[0m\n\u001b[1;32m    400\u001b[0m         return cls._readfrom(fileobj=fileobj, mode=mode, memmap=memmap,\n\u001b[1;32m    401\u001b[0m                              \u001b[0msave_backup\u001b[0m\u001b[0;34m=\u001b[0m\u001b[0msave_backup\u001b[0m\u001b[0;34m,\u001b[0m \u001b[0mcache\u001b[0m\u001b[0;34m=\u001b[0m\u001b[0mcache\u001b[0m\u001b[0;34m,\u001b[0m\u001b[0;34m\u001b[0m\u001b[0m\n\u001b[0;32m--> 402\u001b[0;31m                              lazy_load_hdus=lazy_load_hdus, **kwargs)\n\u001b[0m\u001b[1;32m    403\u001b[0m \u001b[0;34m\u001b[0m\u001b[0m\n\u001b[1;32m    404\u001b[0m     \u001b[0;34m@\u001b[0m\u001b[0mclassmethod\u001b[0m\u001b[0;34m\u001b[0m\u001b[0m\n",
      "\u001b[0;32m/home/robbie/python_environments/python27/local/lib/python2.7/site-packages/astropy/io/fits/hdu/hdulist.pyc\u001b[0m in \u001b[0;36m_readfrom\u001b[0;34m(cls, fileobj, data, mode, memmap, save_backup, cache, lazy_load_hdus, **kwargs)\u001b[0m\n\u001b[1;32m   1004\u001b[0m             \u001b[0;32mif\u001b[0m \u001b[0;32mnot\u001b[0m \u001b[0misinstance\u001b[0m\u001b[0;34m(\u001b[0m\u001b[0mfileobj\u001b[0m\u001b[0;34m,\u001b[0m \u001b[0m_File\u001b[0m\u001b[0;34m)\u001b[0m\u001b[0;34m:\u001b[0m\u001b[0;34m\u001b[0m\u001b[0m\n\u001b[1;32m   1005\u001b[0m                 \u001b[0;31m# instantiate a FITS file object (ffo)\u001b[0m\u001b[0;34m\u001b[0m\u001b[0;34m\u001b[0m\u001b[0m\n\u001b[0;32m-> 1006\u001b[0;31m                 \u001b[0mfileobj\u001b[0m \u001b[0;34m=\u001b[0m \u001b[0m_File\u001b[0m\u001b[0;34m(\u001b[0m\u001b[0mfileobj\u001b[0m\u001b[0;34m,\u001b[0m \u001b[0mmode\u001b[0m\u001b[0;34m=\u001b[0m\u001b[0mmode\u001b[0m\u001b[0;34m,\u001b[0m \u001b[0mmemmap\u001b[0m\u001b[0;34m=\u001b[0m\u001b[0mmemmap\u001b[0m\u001b[0;34m,\u001b[0m \u001b[0mcache\u001b[0m\u001b[0;34m=\u001b[0m\u001b[0mcache\u001b[0m\u001b[0;34m)\u001b[0m\u001b[0;34m\u001b[0m\u001b[0m\n\u001b[0m\u001b[1;32m   1007\u001b[0m             \u001b[0;31m# The Astropy mode is determined by the _File initializer if the\u001b[0m\u001b[0;34m\u001b[0m\u001b[0;34m\u001b[0m\u001b[0m\n\u001b[1;32m   1008\u001b[0m             \u001b[0;31m# supplied mode was None\u001b[0m\u001b[0;34m\u001b[0m\u001b[0;34m\u001b[0m\u001b[0m\n",
      "\u001b[0;32m/home/robbie/python_environments/python27/local/lib/python2.7/site-packages/astropy/utils/decorators.pyc\u001b[0m in \u001b[0;36mwrapper\u001b[0;34m(*args, **kwargs)\u001b[0m\n\u001b[1;32m    537\u001b[0m                             \u001b[0mkwargs\u001b[0m\u001b[0;34m[\u001b[0m\u001b[0mnew_name\u001b[0m\u001b[0;34m[\u001b[0m\u001b[0mi\u001b[0m\u001b[0;34m]\u001b[0m\u001b[0;34m]\u001b[0m \u001b[0;34m=\u001b[0m \u001b[0mvalue\u001b[0m\u001b[0;34m\u001b[0m\u001b[0m\n\u001b[1;32m    538\u001b[0m \u001b[0;34m\u001b[0m\u001b[0m\n\u001b[0;32m--> 539\u001b[0;31m             \u001b[0;32mreturn\u001b[0m \u001b[0mfunction\u001b[0m\u001b[0;34m(\u001b[0m\u001b[0;34m*\u001b[0m\u001b[0margs\u001b[0m\u001b[0;34m,\u001b[0m \u001b[0;34m**\u001b[0m\u001b[0mkwargs\u001b[0m\u001b[0;34m)\u001b[0m\u001b[0;34m\u001b[0m\u001b[0m\n\u001b[0m\u001b[1;32m    540\u001b[0m \u001b[0;34m\u001b[0m\u001b[0m\n\u001b[1;32m    541\u001b[0m         \u001b[0;32mreturn\u001b[0m \u001b[0mwrapper\u001b[0m\u001b[0;34m\u001b[0m\u001b[0m\n",
      "\u001b[0;32m/home/robbie/python_environments/python27/local/lib/python2.7/site-packages/astropy/io/fits/file.pyc\u001b[0m in \u001b[0;36m__init__\u001b[0;34m(self, fileobj, mode, memmap, overwrite, cache)\u001b[0m\n\u001b[1;32m    148\u001b[0m             \u001b[0mself\u001b[0m\u001b[0;34m.\u001b[0m\u001b[0m_open_fileobj\u001b[0m\u001b[0;34m(\u001b[0m\u001b[0mfileobj\u001b[0m\u001b[0;34m,\u001b[0m \u001b[0mmode\u001b[0m\u001b[0;34m,\u001b[0m \u001b[0moverwrite\u001b[0m\u001b[0;34m)\u001b[0m\u001b[0;34m\u001b[0m\u001b[0m\n\u001b[1;32m    149\u001b[0m         \u001b[0;32melif\u001b[0m \u001b[0misinstance\u001b[0m\u001b[0;34m(\u001b[0m\u001b[0mfileobj\u001b[0m\u001b[0;34m,\u001b[0m \u001b[0mstring_types\u001b[0m\u001b[0;34m)\u001b[0m\u001b[0;34m:\u001b[0m\u001b[0;34m\u001b[0m\u001b[0m\n\u001b[0;32m--> 150\u001b[0;31m             \u001b[0mself\u001b[0m\u001b[0;34m.\u001b[0m\u001b[0m_open_filename\u001b[0m\u001b[0;34m(\u001b[0m\u001b[0mfileobj\u001b[0m\u001b[0;34m,\u001b[0m \u001b[0mmode\u001b[0m\u001b[0;34m,\u001b[0m \u001b[0moverwrite\u001b[0m\u001b[0;34m)\u001b[0m\u001b[0;34m\u001b[0m\u001b[0m\n\u001b[0m\u001b[1;32m    151\u001b[0m         \u001b[0;32melse\u001b[0m\u001b[0;34m:\u001b[0m\u001b[0;34m\u001b[0m\u001b[0m\n\u001b[1;32m    152\u001b[0m             \u001b[0mself\u001b[0m\u001b[0;34m.\u001b[0m\u001b[0m_open_filelike\u001b[0m\u001b[0;34m(\u001b[0m\u001b[0mfileobj\u001b[0m\u001b[0;34m,\u001b[0m \u001b[0mmode\u001b[0m\u001b[0;34m,\u001b[0m \u001b[0moverwrite\u001b[0m\u001b[0;34m)\u001b[0m\u001b[0;34m\u001b[0m\u001b[0m\n",
      "\u001b[0;32m/home/robbie/python_environments/python27/local/lib/python2.7/site-packages/astropy/io/fits/file.pyc\u001b[0m in \u001b[0;36m_open_filename\u001b[0;34m(self, filename, mode, overwrite)\u001b[0m\n\u001b[1;32m    504\u001b[0m             \u001b[0mself\u001b[0m\u001b[0;34m.\u001b[0m\u001b[0m_file\u001b[0m \u001b[0;34m=\u001b[0m \u001b[0mbz2\u001b[0m\u001b[0;34m.\u001b[0m\u001b[0mBZ2File\u001b[0m\u001b[0;34m(\u001b[0m\u001b[0mself\u001b[0m\u001b[0;34m.\u001b[0m\u001b[0mname\u001b[0m\u001b[0;34m,\u001b[0m \u001b[0mbzip2_mode\u001b[0m\u001b[0;34m)\u001b[0m\u001b[0;34m\u001b[0m\u001b[0m\n\u001b[1;32m    505\u001b[0m         \u001b[0;32melse\u001b[0m\u001b[0;34m:\u001b[0m\u001b[0;34m\u001b[0m\u001b[0m\n\u001b[0;32m--> 506\u001b[0;31m             \u001b[0mself\u001b[0m\u001b[0;34m.\u001b[0m\u001b[0m_file\u001b[0m \u001b[0;34m=\u001b[0m \u001b[0mfileobj_open\u001b[0m\u001b[0;34m(\u001b[0m\u001b[0mself\u001b[0m\u001b[0;34m.\u001b[0m\u001b[0mname\u001b[0m\u001b[0;34m,\u001b[0m \u001b[0mIO_FITS_MODES\u001b[0m\u001b[0;34m[\u001b[0m\u001b[0mmode\u001b[0m\u001b[0;34m]\u001b[0m\u001b[0;34m)\u001b[0m\u001b[0;34m\u001b[0m\u001b[0m\n\u001b[0m\u001b[1;32m    507\u001b[0m             \u001b[0mself\u001b[0m\u001b[0;34m.\u001b[0m\u001b[0mclose_on_error\u001b[0m \u001b[0;34m=\u001b[0m \u001b[0mTrue\u001b[0m\u001b[0;34m\u001b[0m\u001b[0m\n\u001b[1;32m    508\u001b[0m \u001b[0;34m\u001b[0m\u001b[0m\n",
      "\u001b[0;32m/home/robbie/python_environments/python27/local/lib/python2.7/site-packages/astropy/io/fits/util.pyc\u001b[0m in \u001b[0;36mfileobj_open\u001b[0;34m(filename, mode)\u001b[0m\n\u001b[1;32m    393\u001b[0m         \"\"\"\n\u001b[1;32m    394\u001b[0m \u001b[0;34m\u001b[0m\u001b[0m\n\u001b[0;32m--> 395\u001b[0;31m         \u001b[0;32mreturn\u001b[0m \u001b[0mopen\u001b[0m\u001b[0;34m(\u001b[0m\u001b[0mfilename\u001b[0m\u001b[0;34m,\u001b[0m \u001b[0mmode\u001b[0m\u001b[0;34m)\u001b[0m\u001b[0;34m\u001b[0m\u001b[0m\n\u001b[0m\u001b[1;32m    396\u001b[0m \u001b[0;32melse\u001b[0m\u001b[0;34m:\u001b[0m\u001b[0;34m\u001b[0m\u001b[0m\n\u001b[1;32m    397\u001b[0m     \u001b[0;32mdef\u001b[0m \u001b[0mfileobj_open\u001b[0m\u001b[0;34m(\u001b[0m\u001b[0mfilename\u001b[0m\u001b[0;34m,\u001b[0m \u001b[0mmode\u001b[0m\u001b[0;34m)\u001b[0m\u001b[0;34m:\u001b[0m\u001b[0;34m\u001b[0m\u001b[0m\n",
      "\u001b[0;31mIOError\u001b[0m: [Errno 2] No such file or directory: 'candidate2_814.fits'"
     ]
    }
   ],
   "source": [
    "'''this code allows you to download an image based on ra and dec and also determine how many bands it is available in\n",
    "Will only look for PRODUCT calibrated co-added images'''\n",
    "import subprocess\n",
    "from astropy.io import fits\n",
    "import matplotlib.pyplot as plt\n",
    "import numpy as np\n",
    "from daomop.storage import tap_query ##_251.26625423401939_1.6683825966091756\n",
    "import time\n",
    "start=time.time()\n",
    "CUTOUT_PATH =\"candidate2_814.fits\"\n",
    "\n",
    "\n",
    "ra = 35.273747\n",
    "dec =  35.937809\n",
    "\n",
    "grade=\"B\"\n",
    "\n",
    "def get_filenames(ra, dec): #0.001\n",
    "    query = '''SELECT caom2.Plane.publisherID, caom2.Plane.planeURI\n",
    "    FROM caom2.observation \n",
    "    JOIN caom2.plane ON caom2.observation.obsID = caom2.plane.obsID \n",
    "    WHERE CONTAINS( CIRCLE('ICRS',''' + str(ra) + ',' +str(dec) + ''',0.001), caom2.plane.position_bounds)=1 \n",
    "    AND caom2.observation.collection = 'HST' \n",
    "    AND caom2.observation.instrument_name = 'ACS/WFC' \n",
    "    AND caom2.Plane.energy_bandpassName ='F814W'\n",
    "    ''' #'F814W' F606W,F850W F475WAND   AND \n",
    "    \n",
    "    out_query = tap_query(query)\n",
    "\n",
    "    print(out_query)\n",
    "\n",
    "    '''store the pubID and filenames'''\n",
    "    success=False\n",
    "    for entry in range(len(out_query[\"publisherID\"])):#\n",
    "#         if (True):\n",
    "        if ((\"0-\"  in out_query[\"publisherID\"][entry]) and (\"PRODUCT\"  in out_query[\"publisherID\"][entry])) :\n",
    "            success=True\n",
    "            start = out_query[\"publisherID\"][entry].find('HST?') + 4 #add 4 to get to the and of the HST?\n",
    "            end = out_query[\"publisherID\"][entry].find('/j', start)\n",
    "            print(out_query[\"publisherID\"][entry][start:end])\n",
    "            try:\n",
    "                subprocess.check_output([\"wget\", \"-O\", CUTOUT_PATH,\n",
    "                                 \"http://www.cadc-ccda.hia-iha.nrc-cnrc.gc.ca/caom2ops/cutout?uri=mast:HST/product/\"+\n",
    "                                 str(out_query[\"publisherID\"][entry][start:end])+\"_drc.fits&cutout=Circle+ICRS+\" + str(ra) + \"+\" +\n",
    "                                 str(dec) + \"+0.001\"])#0.002\n",
    "                break\n",
    "            except:\n",
    "                print('fail')\n",
    "                \n",
    "    if success==False: print('couldnt find filename')\n",
    "        \n",
    "def count_bands(ra, dec):\n",
    "    #get all the results (from all bands) \n",
    "    query = '''SELECT caom2.Plane.publisherID, caom2.Plane.energy_bandpassName \n",
    "    FROM caom2.observation \n",
    "    JOIN caom2.plane ON caom2.observation.obsID = caom2.plane.obsID \n",
    "    WHERE CONTAINS( CIRCLE('ICRS',''' + str(ra) + ',' +str(dec)  + ''',0.002), caom2.plane.position_bounds)=1 \n",
    "    AND caom2.observation.collection = 'HST' \n",
    "    AND caom2.observation.instrument_name = 'ACS/WFC'   \n",
    "    '''\n",
    "    \n",
    "    out_query = tap_query(query)\n",
    "    \n",
    "    #check to see if there are multiple object ids that are in differnet filters\n",
    "    filters=[]\n",
    "    for entry in range(len(out_query[\"publisherID\"])):\n",
    "        #first check if the entry is PRODUCT co-added (SHOULD I INCLUDE ALL RESULTS AND PARSE LATER???)\n",
    "        if ((\"0-\" in out_query[\"publisherID\"][entry]) and (\"PRODUCT\" in out_query[\"publisherID\"][entry])):\n",
    "            if out_query['energy_bandpassName'][entry] not in filters: # then check if it is a new filter\n",
    "                filters.append(out_query['energy_bandpassName'][entry])\n",
    "    print(filters)\n",
    "\n",
    "                \n",
    "        \n",
    "get_filenames(ra,dec)\n",
    "print(time.time()-start)\n",
    "count_bands(ra,dec)\n",
    "\n",
    "data, hdr = fits.getdata(CUTOUT_PATH, 1, header=True)\n",
    "plt.imshow(np.log10(data+1)),hdr['CRVAL1'],hdr['CRVAL2'],hdr ['PHOTMODE']"
   ]
  },
  {
   "cell_type": "code",
   "execution_count": 230,
   "metadata": {
    "scrolled": false
   },
   "outputs": [
    {
     "data": {
      "text/plain": [
       "<matplotlib.image.AxesImage at 0x7f53fb8c5b50>"
      ]
     },
     "execution_count": 230,
     "metadata": {},
     "output_type": "execute_result"
    },
    {
     "data": {
      "image/png": "[encoded data removed]",
      "text/plain": [
       "<Figure size 432x288 with 1 Axes>"
      ]
     },
     "metadata": {
      "needs_background": "light"
     },
     "output_type": "display_data"
    }
   ],
   "source": [
    "#view a samll window of the original image\n",
    "from astropy.visualization import (ZScaleInterval, ImageNormalize)\n",
    "from astropy.nddata.utils import Cutout2D\n",
    "left = float(50)\n",
    "right=float(150)\n",
    "centered_cut = Cutout2D(data,(left, right), (100, 100)).data\n",
    "norm = ImageNormalize(data, interval = ZScaleInterval())\n",
    "# plt.imshow((centered_cut),norm=norm, cmap='gray')\n",
    "plt.imshow(np.log10(centered_cut+0.1),cmap='gray')\n"
   ]
  },
  {
   "cell_type": "code",
   "execution_count": 231,
   "metadata": {},
   "outputs": [],
   "source": [
    "#save as jpg\n",
    "from PIL import Image\n",
    "from sklearn.preprocessing import minmax_scale\n",
    "centered_cut = Cutout2D(data,(left, right), (100, 100))\n",
    "# tmp_lens = (centered_cut.data).reshape(-1,)     \n",
    "tmp_lens = np.log10(centered_cut.data+0.1).reshape(-1,)     \n",
    "\n",
    "new = np.zeros( tmp_lens.shape,'uint8')\n",
    "\n",
    "tmp_lens = minmax_scale(tmp_lens, feature_range = (0, 255))  \n",
    "for i in range(len(tmp_lens)):\n",
    "    new[i] = int(round(tmp_lens[i]))\n",
    "centered_cut.data = new.reshape(centered_cut.data.shape[0],centered_cut.data.shape[1])\n",
    "\n",
    "img = Image.fromarray(centered_cut.data)\n",
    "img.save('candidtate_'+\"A\"+\"_\"+str(ra)+\"_\"+str(dec)+\".jpg\")"
   ]
  },
  {
   "cell_type": "code",
   "execution_count": 40,
   "metadata": {},
   "outputs": [],
   "source": [
    "#save the tiled image with an appropriate fits header\n",
    "from astropy.wcs import WCS\n",
    "wcs1 = WCS(hdr)\n",
    "centered_cut = Cutout2D(data,(float(190), float(180)), (100, 100),wcs=wcs1)\n",
    "\n",
    "hdu1 = fits.PrimaryHDU(data=centered_cut.data, header=centered_cut.wcs.to_header())\n",
    "hdu1.writeto('candidate_3_F814W.fits', overwrite =True) "
   ]
  },
  {
   "cell_type": "code",
   "execution_count": 52,
   "metadata": {},
   "outputs": [
    {
     "data": {
      "text/plain": [
       "XTENSION= 'IMAGE   '           / IMAGE extension                                \n",
       "BITPIX  =                  -32 / number of bits per data pixel                  \n",
       "NAXIS   =                    2 / number of data axes                            \n",
       "NAXIS1  =                  301 / length of data axis 1                          \n",
       "NAXIS2  =                  301 / length of data axis 2                          \n",
       "PCOUNT  =                    0 /                                                \n",
       "GCOUNT  =                    1 / one data group (required keyword)              \n",
       "COMMENT   FITS (Flexible Image Transport System) format is defined in 'Astronomy\n",
       "COMMENT   and Astrophysics', volume 376, page 359; bibcode: 2001A&A...376..359H \n",
       "INHERIT =                    T / inherit the primary header                     \n",
       "EXTNAME = 'SCI     '           / extension name                                 \n",
       "EXTVER  =                    1                                                  \n",
       "BUNIT   = 'ELECTRONS/S'        / Units of science product                       \n",
       "                                                                                \n",
       "CD1_1   = -5.7132041248370E-07                                                  \n",
       "CD1_2   = 1.38771332613829E-05                                                  \n",
       "CD2_1   = 1.38771332613829E-05                                                  \n",
       "CD2_2   = 5.71320412483705E-07                                                  \n",
       "CRVAL1  =    245.3488577963727                                                  \n",
       "CRVAL2  =    38.16833118831858                                                  \n",
       "CRPIX1  = 1.295000000000000E+02                                                 \n",
       "CRPIX2  = 5.045000000000000E+02                                                 \n",
       "CTYPE1  = 'RA---TAN'                                                            \n",
       "CTYPE2  = 'DEC--TAN'                                                            \n",
       "ORIENTAT=    87.64246893657283                                                  \n",
       "VAFACTOR=                  1.0                                                  \n",
       "              / WFC CCD CHIP IDENTIFICATION                                     \n",
       "                                                                                \n",
       "CCDCHIP = '-999    '           / CCD chip (1 or 2)                              \n",
       "                                                                                \n",
       "              / World Coordinate System and Related Parameters                  \n",
       "                                                                                \n",
       "RAW_LTV1=                  0.0 / original offset in X to subsection start       \n",
       "RAW_LTV2=                  0.0 / original offset in Y to subsection start       \n",
       "LTM1_1  =                  1.0 / reciprocal of sampling rate in X               \n",
       "LTM2_2  =                  1.0 / reciprocal of sampling rate in Y               \n",
       "RA_APER =   2.453541742257E+02 / RA of aperture reference position              \n",
       "DEC_APER=   3.816919376548E+01 / Declination of aperture reference position     \n",
       "                                                                                \n",
       "              / READOUT DEFINITION PARAMETERS                                   \n",
       "                                                                                \n",
       "                                                                                \n",
       "              / PHOTOMETRY KEYWORDS                                             \n",
       "                                                                                \n",
       "PHOTMODE= 'ACS WFC1 F814W MJD#55812.5399' / obser                               \n",
       "PHOTFLAM= 7.02655443333333E-20 / inverse sensitivity, ergs/cm2/Ang/electron     \n",
       "PHOTZPT =                -21.1 / ST magnitude zero point                        \n",
       "PHOTPLAM=    8044.989699999999 / Pivot wavelength (Angstroms)                   \n",
       "PHOTBW  =    653.0566399999999 / RMS bandwidth of filter plus detector          \n",
       "                                                                                \n",
       "              / REPEATED EXPOSURES INFO                                         \n",
       "                                                                                \n",
       "NCOMBINE=                    3 / number of image sets combined during CR rejecti\n",
       "                                                                                \n",
       "              / DATA PACKET INFORMATION                                         \n",
       "                                                                                \n",
       "                                                                                \n",
       "              / ON-BOARD COMPRESSION INFORMATION                                \n",
       "                                                                                \n",
       "                                                                                \n",
       "              / IMAGE STATISTICS AND DATA QUALITY FLAGS                         \n",
       "                                                                                \n",
       "GOODMIN =           -1001.6787 / minimum value of good pixels                   \n",
       "GOODMAX =    91064.05499999999 / maximum value of good pixels                   \n",
       "GOODMEAN=           31.5556655 / mean value of good pixels                      \n",
       "SNRMIN  =           -7.1300659 / minimum signal to noise of good pixels         \n",
       "SNRMAX  =        2.2908553E+02 / maximum signal to noise of good pixels         \n",
       "SNRMEAN =    3.691562583333333 / mean value of signal to noise of good pixels   \n",
       "RADESYS = 'ICRS    '                                                            \n",
       "RADESYSO= 'ICRS    '                                                            \n",
       "TDD_CTB =     1.5787128139E-06                                                  \n",
       "TDD_CTA = ''                                                                    \n",
       "TDD_CXB =    -1.0658206323E-06                                                  \n",
       "TDD_CXA = ''                                                                    \n",
       "TDD_CYA = ''                                                                    \n",
       "TDD_CYB = ''                                                                    \n",
       "IDCTAB  = 'jref$0461802dj_idc.fits'                                             \n",
       "WCSNAME = 'DRZWCS  '                                                            \n",
       "MDRIZSKY=    24.79916826883952 / Sky value computed by AstroDrizzle             "
      ]
     },
     "execution_count": 52,
     "metadata": {},
     "output_type": "execute_result"
    }
   ],
   "source": [
    "hdr "
   ]
  },
  {
   "cell_type": "code",
   "execution_count": 50,
   "metadata": {},
   "outputs": [
    {
     "data": {
      "text/plain": [
       "XTENSION= 'IMAGE   '           / IMAGE extension                                \n",
       "BITPIX  =                  -32 / number of bits per data pixel                  \n",
       "NAXIS   =                    2 / number of data axes                            \n",
       "NAXIS1  =                  301 / length of data axis 1                          \n",
       "NAXIS2  =                  301 / length of data axis 2                          \n",
       "PCOUNT  =                    0 /                                                \n",
       "GCOUNT  =                    1 / one data group (required keyword)              \n",
       "COMMENT   FITS (Flexible Image Transport System) format is defined in 'Astronomy\n",
       "COMMENT   and Astrophysics', volume 376, page 359; bibcode: 2001A&A...376..359H \n",
       "INHERIT =                    T / inherit the primary header                     \n",
       "EXTNAME = 'SCI     '           / extension name                                 \n",
       "EXTVER  =                    1                                                  \n",
       "BUNIT   = 'ELECTRONS/S'        / Units of science product                       \n",
       "                                                                                \n",
       "CD1_1   = -5.7132041248370E-07                                                  \n",
       "CD1_2   = 1.38771332613829E-05                                                  \n",
       "CD2_1   = 1.38771332613829E-05                                                  \n",
       "CD2_2   = 5.71320412483705E-07                                                  \n",
       "CRVAL1  =    245.3488577963727                                                  \n",
       "CRVAL2  =    38.16833118831858                                                  \n",
       "CRPIX1  = 1.295000000000000E+02                                                 \n",
       "CRPIX2  = 5.045000000000000E+02                                                 \n",
       "CTYPE1  = 'RA---TAN'                                                            \n",
       "CTYPE2  = 'DEC--TAN'                                                            \n",
       "ORIENTAT=    87.64246893657283                                                  \n",
       "VAFACTOR=                  1.0                                                  \n",
       "              / WFC CCD CHIP IDENTIFICATION                                     \n",
       "                                                                                \n",
       "CCDCHIP = '-999    '           / CCD chip (1 or 2)                              \n",
       "                                                                                \n",
       "              / World Coordinate System and Related Parameters                  \n",
       "                                                                                \n",
       "RAW_LTV1=                  0.0 / original offset in X to subsection start       \n",
       "RAW_LTV2=                  0.0 / original offset in Y to subsection start       \n",
       "LTM1_1  =                  1.0 / reciprocal of sampling rate in X               \n",
       "LTM2_2  =                  1.0 / reciprocal of sampling rate in Y               \n",
       "RA_APER =   2.453541742257E+02 / RA of aperture reference position              \n",
       "DEC_APER=   3.816919376548E+01 / Declination of aperture reference position     \n",
       "                                                                                \n",
       "              / READOUT DEFINITION PARAMETERS                                   \n",
       "                                                                                \n",
       "                                                                                \n",
       "              / PHOTOMETRY KEYWORDS                                             \n",
       "                                                                                \n",
       "PHOTMODE= 'ACS WFC1 F814W MJD#55812.5399' / obser                               \n",
       "PHOTFLAM= 7.02655443333333E-20 / inverse sensitivity, ergs/cm2/Ang/electron     \n",
       "PHOTZPT =                -21.1 / ST magnitude zero point                        \n",
       "PHOTPLAM=    8044.989699999999 / Pivot wavelength (Angstroms)                   \n",
       "PHOTBW  =    653.0566399999999 / RMS bandwidth of filter plus detector          \n",
       "                                                                                \n",
       "              / REPEATED EXPOSURES INFO                                         \n",
       "                                                                                \n",
       "NCOMBINE=                    3 / number of image sets combined during CR rejecti\n",
       "                                                                                \n",
       "              / DATA PACKET INFORMATION                                         \n",
       "                                                                                \n",
       "                                                                                \n",
       "              / ON-BOARD COMPRESSION INFORMATION                                \n",
       "                                                                                \n",
       "                                                                                \n",
       "              / IMAGE STATISTICS AND DATA QUALITY FLAGS                         \n",
       "                                                                                \n",
       "GOODMIN =           -1001.6787 / minimum value of good pixels                   \n",
       "GOODMAX =    91064.05499999999 / maximum value of good pixels                   \n",
       "GOODMEAN=           31.5556655 / mean value of good pixels                      \n",
       "SNRMIN  =           -7.1300659 / minimum signal to noise of good pixels         \n",
       "SNRMAX  =        2.2908553E+02 / maximum signal to noise of good pixels         \n",
       "SNRMEAN =    3.691562583333333 / mean value of signal to noise of good pixels   \n",
       "RADESYS = 'ICRS    '                                                            \n",
       "RADESYSO= 'ICRS    '                                                            \n",
       "TDD_CTB =     1.5787128139E-06                                                  \n",
       "TDD_CTA = ''                                                                    \n",
       "TDD_CXB =    -1.0658206323E-06                                                  \n",
       "TDD_CXA = ''                                                                    \n",
       "TDD_CYA = ''                                                                    \n",
       "TDD_CYB = ''                                                                    \n",
       "IDCTAB  = 'jref$0461802dj_idc.fits'                                             \n",
       "WCSNAME = 'DRZWCS  '                                                            \n",
       "MDRIZSKY=    24.79916826883952 / Sky value computed by AstroDrizzle             "
      ]
     },
     "execution_count": 50,
     "metadata": {},
     "output_type": "execute_result"
    }
   ],
   "source": [
    "hdr"
   ]
  },
  {
   "cell_type": "code",
   "execution_count": null,
   "metadata": {},
   "outputs": [],
   "source": [
    "import subprocess\n",
    "\n",
    "DWNLD_PATH = \"/home/robbie/repos/HSTLens/CC_batch_processing/full/full_\"+str(0)\n",
    "\n",
    "subprocess.check_output([\"wget\", \"-O\",DWNLD_PATH+ \".fits\" ,\n",
    "                         \"http://www.cadc-ccda.hia-iha.nrc-cnrc.gc.ca/data/pub/MAST/HST/product/\"+\n",
    "                         'jdn024010'+\"_drz.fits\"]) "
   ]
  },
  {
   "cell_type": "code",
   "execution_count": null,
   "metadata": {},
   "outputs": [],
   "source": []
  }
 ],
 "metadata": {
  "kernelspec": {
   "display_name": "Python 3",
   "language": "python",
   "name": "python3"
  },
  "language_info": {
   "codemirror_mode": {
    "name": "ipython",
    "version": 3
   },
   "file_extension": ".py",
   "mimetype": "text/x-python",
   "name": "python",
   "nbconvert_exporter": "python",
   "pygments_lexer": "ipython3",
   "version": "3.8.5"
  }
 },
 "nbformat": 4,
 "nbformat_minor": 2
}
