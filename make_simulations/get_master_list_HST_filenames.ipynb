{
 "cells": [
  {
   "cell_type": "code",
   "execution_count": 4,
   "metadata": {},
   "outputs": [
    {
     "data": {
      "text/html": [
       "<style>.container {width:80% !important;}</style>"
      ],
      "text/plain": [
       "<IPython.core.display.HTML object>"
      ]
     },
     "metadata": {},
     "output_type": "display_data"
    }
   ],
   "source": [
    "from IPython.core.display import display, HTML\n",
    "display(HTML('<style>.container {width:80% !important;}</style>'))"
   ]
  },
  {
   "cell_type": "code",
   "execution_count": 32,
   "metadata": {},
   "outputs": [
    {
     "name": "stdout",
     "output_type": "stream",
     "text": [
      "2.46382904053\n"
     ]
    }
   ],
   "source": [
    "#get a large csv table of all the large HST images\n",
    "data_dict = {\"pubID\":[], \"obj_name\":[] } \n",
    "\n",
    "\n",
    "import pandas as pd\n",
    "\n",
    "from daomop.storage import tap_query\n",
    "import os\n",
    "import time \n",
    "import subprocess\n",
    "from astropy import wcs\n",
    "from astropy.io import fits\n",
    "from astropy.nddata.utils import Cutout2D\n",
    "import numpy as np\n",
    "import random\n",
    "from sklearn.preprocessing import minmax_scale\n",
    "\n",
    "\n",
    "#OUT_PATH ='/run/media/toyonagar/Lexar/real_lenses/normalized/real_out'\n",
    "\n",
    "CSV_PATH=\"test_csv\"\n",
    "\n",
    "\n",
    "\n",
    "def get_filenames(data_dict):\n",
    "    query = '''SELECT caom2.Plane.publisherID, caom2.Plane.planeURI \n",
    "    FROM caom2.observation \n",
    "    JOIN caom2.plane ON caom2.observation.obsID = caom2.plane.obsID \n",
    "    WHERE caom2.observation.collection = 'HST' \n",
    "    AND caom2.observation.instrument_name = 'ACS/WFC'\n",
    "    AND caom2.Plane.energy_bandpassName = 'F814W'\n",
    "    '''\n",
    "    #AND caom2.Plane.energy_bandpassName = 'F775W' \n",
    "\n",
    "    out_query = tap_query(query)\n",
    "\n",
    "    '''store the pubID and filenames'''\n",
    "    \n",
    "    for entry in range(len(out_query[\"publisherID\"])):#len(out_query[\"publisherID\"])):\n",
    "        if (\"0-\" in out_query[\"publisherID\"][entry]) and (\"PRODUCT\" in out_query[\"publisherID\"][entry]):\n",
    "            data_dict[\"pubID\"].append(out_query[\"publisherID\"][entry])\n",
    "            start = out_query[\"publisherID\"][entry].find('HST?') + 4 #add 4 to get to the and of the HST?\n",
    "            end = out_query[\"publisherID\"][entry].find('/j', start)\n",
    "            data_dict[\"obj_name\"].append(out_query[\"publisherID\"][entry][start:end])\n",
    "            \n",
    "    df= pd.DataFrame(data_dict)\n",
    "    df.to_csv(CSV_PATH, sep=',')  #saving filenames to CSV      \n",
    "    return data_dict\n",
    "\n",
    "\n",
    "  \n",
    "'''tap query for the potential results'''\n",
    "start=time.time()\n",
    "data_dict = get_filenames(data_dict)\n",
    "    \n",
    "print(time.time()-start)\n",
    "\n",
    "\n",
    "        "
   ]
  },
  {
   "cell_type": "code",
   "execution_count": null,
   "metadata": {},
   "outputs": [
    {
     "name": "stdout",
     "output_type": "stream",
     "text": [
      "dwnlding image 3\n",
      "dwnlding image 4\n"
     ]
    }
   ],
   "source": [
    "#download the images form th master csv table\n",
    "\n",
    "batch_size = 3\n",
    "start_point = 3\n",
    "DWNLD_PATH = \"/run/media/toyonagar/Lexar/hst_detection/hst_det_\"\n",
    "CSV_PATH=\"test_csv\"\n",
    "\n",
    "\n",
    "im_info = pd.read_csv(CSV_PATH)\n",
    "\n",
    "def dwnld(entry): \n",
    "    subprocess.check_output([\"wget\", \"-O\",DWNLD_PATH +str(entry)+ \".fits\" ,\n",
    "                             \"http://www.cadc-ccda.hia-iha.nrc-cnrc.gc.ca/data/pub/MAST/HST/product/\"+\n",
    "                             im_info['obj_name'][entry]+\"_drz.fits\"]) \n",
    "    \n",
    "'''download image cutouts based on the file names'''\n",
    "fails=0\n",
    "for i in range(batch_size):\n",
    "    print(\"dwnlding image \" + str(i+start_point))\n",
    "    try: \n",
    "        dwnld(i+start_point)\n",
    "    except:\n",
    "        fails+=1\n",
    "        print(\"Failed\")\n",
    "print(\"failed: \"+str(fails))\n",
    "            \n",
    "\n"
   ]
  },
  {
   "cell_type": "code",
   "execution_count": 28,
   "metadata": {},
   "outputs": [
    {
     "data": {
      "text/plain": [
       "0    jdn012010\n",
       "1    jc9q01020\n",
       "2    jca9ga020\n",
       "3    jb6u05010\n",
       "Name: obj_name, dtype: object"
      ]
     },
     "execution_count": 28,
     "metadata": {},
     "output_type": "execute_result"
    }
   ],
   "source": [
    "im_info = pd.read_csv(\"test_csv\")\n",
    "im_info['obj_name'][0:4]"
   ]
  },
  {
   "cell_type": "code",
   "execution_count": null,
   "metadata": {},
   "outputs": [],
   "source": [
    "http://www.cadc-ccda.hia-iha.nrc-cnrc.gc.ca/data/pub/MAST/HST/product/jcl403f8q_flt.fits"
   ]
  },
  {
   "cell_type": "code",
   "execution_count": 42,
   "metadata": {},
   "outputs": [
    {
     "data": {
      "text/plain": [
       "['pie', 'is', 'good']"
      ]
     },
     "execution_count": 42,
     "metadata": {},
     "output_type": "execute_result"
    }
   ],
   "source": [
    "pie = \"pie is good\"\n",
    "pie.split()"
   ]
  },
  {
   "cell_type": "code",
   "execution_count": 9,
   "metadata": {},
   "outputs": [
    {
     "data": {
      "text/plain": [
       "''"
      ]
     },
     "execution_count": 9,
     "metadata": {},
     "output_type": "execute_result"
    }
   ],
   "source": [
    "import subprocess\n",
    "\n",
    "subprocess.check_output([\"wget\", \"-O\",\"test.fits\" ,\n",
    "                         \"http://www.cadc-ccda.hia-iha.nrc-cnrc.gc.ca/caom2ops/cutout?uri=mast:HST/product/\"+\n",
    "                         \"jcc212010_drz.fits&cutout=Circle+ICRS+\" + str(14.670393222633267) + \"+\" +\n",
    "                         str(-74.05824472139092) + \"+0.001\"])\n"
   ]
  },
  {
   "cell_type": "code",
   "execution_count": null,
   "metadata": {},
   "outputs": [],
   "source": []
  }
 ],
 "metadata": {
  "kernelspec": {
   "display_name": "Python 2",
   "language": "python",
   "name": "python2"
  },
  "language_info": {
   "codemirror_mode": {
    "name": "ipython",
    "version": 2
   },
   "file_extension": ".py",
   "mimetype": "text/x-python",
   "name": "python",
   "nbconvert_exporter": "python",
   "pygments_lexer": "ipython2",
   "version": "2.7.15"
  }
 },
 "nbformat": 4,
 "nbformat_minor": 2
}
