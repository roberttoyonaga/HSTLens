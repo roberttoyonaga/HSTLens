{
 "cells": [
  {
   "cell_type": "code",
   "execution_count": 1,
   "metadata": {},
   "outputs": [
    {
     "data": {
      "text/html": [
       "<style>.container {width:100% !important;}</style>"
      ],
      "text/plain": [
       "<IPython.core.display.HTML object>"
      ]
     },
     "metadata": {},
     "output_type": "display_data"
    }
   ],
   "source": [
    "from IPython.core.display import display, HTML\n",
    "display(HTML('<style>.container {width:100% !important;}</style>'))\n",
    "\n",
    "import numpy as np\n",
    "\n",
    "\n",
    "def plot_confusion_matrix(cm,\n",
    "                          target_names,\n",
    "                          title='Confusion matrix',\n",
    "                          cmap=None,\n",
    "                          normalize=True):\n",
    "    \"\"\"\n",
    "    given a sklearn confusion matrix (cm), make a nice plot\n",
    "\n",
    "    Arguments\n",
    "    ---------\n",
    "    cm:           confusion matrix from sklearn.metrics.confusion_matrix\n",
    "\n",
    "    target_names: given classification classes such as [0, 1, 2]\n",
    "                  the class names, for example: ['high', 'medium', 'low']\n",
    "\n",
    "    title:        the text to display at the top of the matrix\n",
    "\n",
    "    cmap:         the gradient of the values displayed from matplotlib.pyplot.cm\n",
    "                  see http://matplotlib.org/examples/color/colormaps_reference.html\n",
    "                  plt.get_cmap('jet') or plt.cm.Blues\n",
    "\n",
    "    normalize:    If False, plot the raw numbers\n",
    "                  If True, plot the proportions\n",
    "\n",
    "    Usage\n",
    "    -----\n",
    "    plot_confusion_matrix(cm           = cm,                  # confusion matrix created by\n",
    "                                                              # sklearn.metrics.confusion_matrix\n",
    "                          normalize    = True,                # show proportions\n",
    "                          target_names = y_labels_vals,       # list of names of the classes\n",
    "                          title        = best_estimator_name) # title of graph\n",
    "\n",
    "    Citiation\n",
    "    ---------\n",
    "    http://scikit-learn.org/stable/auto_examples/model_selection/plot_confusion_matrix.html\n",
    "\n",
    "    \"\"\"\n",
    "    import matplotlib.pyplot as plt\n",
    "    import numpy as np\n",
    "    import itertools\n",
    "\n",
    "    accuracy = np.trace(cm) / float(np.sum(cm))\n",
    "    misclass = 1 - accuracy\n",
    "\n",
    "    if cmap is None:\n",
    "        cmap = plt.get_cmap('Blues')\n",
    "\n",
    "    plt.figure(figsize=(8, 6))\n",
    "    plt.imshow(cm, interpolation='nearest', cmap=cmap)\n",
    "    plt.title(title)\n",
    "    plt.colorbar()\n",
    "\n",
    "    if target_names is not None:\n",
    "        tick_marks = np.arange(len(target_names))\n",
    "        plt.xticks([0,1], [target_names[0],target_names[1]], rotation=45)\n",
    "        plt.yticks(tick_marks, target_names)\n",
    "\n",
    "    if normalize:\n",
    "        cm = cm.astype('float') / cm.sum(axis=1)[:, np.newaxis]\n",
    "\n",
    "\n",
    "    thresh = cm.max() / 1.5 if normalize else cm.max() / 2\n",
    "    for i, j in itertools.product(range(cm.shape[0]), range(cm.shape[1])):\n",
    "        if normalize:\n",
    "            plt.text(j, i, \"{:0.4f}\".format(cm[i, j]),\n",
    "                     horizontalalignment=\"center\",\n",
    "                     color=\"white\" if cm[i, j] > thresh else \"black\")\n",
    "        else:\n",
    "            plt.text(j, i, \"{:,}\".format(cm[i, j]),\n",
    "                     horizontalalignment=\"center\",\n",
    "                     color=\"white\" if cm[i, j] > thresh else \"black\")\n",
    "\n",
    "\n",
    "    plt.tight_layout()\n",
    "    plt.ylabel('True label')\n",
    "    plt.xlabel('Predicted label')#\\naccuracy={:0.4f}; misclass={:0.4f}'.format(accuracy, misclass))\n",
    "    plt.show()\n",
    "    \n"
   ]
  },
  {
   "cell_type": "code",
   "execution_count": 1,
   "metadata": {
    "scrolled": true
   },
   "outputs": [
    {
     "name": "stderr",
     "output_type": "stream",
     "text": [
      "Using TensorFlow backend.\n"
     ]
    },
    {
     "name": "stdout",
     "output_type": "stream",
     "text": [
      "building arch 11\n",
      "arch 12\n"
     ]
    }
   ],
   "source": [
    "#build and load weights\n",
    "from HSTLens_resnet_2class_arch12 import deeplens_classifier\n",
    "\n",
    "model_num='55'\n",
    "epoch_num ='14'\n",
    "\n",
    "my_model = deeplens_classifier(n_epochs=8, batch_size=32)\n",
    "my_model._build() \n",
    "my_model.model.load_weights(\n",
    "    '/home/robbie/repos/HSTLens/CC_batch_processing/batchjob_3/weights/2arch12_'+model_num+'/epoch_weights000000'+epoch_num+'.h5')#(\"weights/2_class_weights_dim\")\n"
   ]
  },
  {
   "cell_type": "markdown",
   "metadata": {},
   "source": [
    "## make predictions"
   ]
  },
  {
   "cell_type": "code",
   "execution_count": 37,
   "metadata": {},
   "outputs": [
    {
     "name": "stdout",
     "output_type": "stream",
     "text": [
      "...Generating Predictions ...\n",
      "...Generating Predictions ...\n",
      "...Generating Predictions ...\n"
     ]
    }
   ],
   "source": [
    "'''\n",
    "for using the manually cleaned negatives.\n",
    "'''\n",
    "\n",
    "from sklearn.preprocessing import minmax_scale\n",
    "import os \n",
    "import matplotlib.pyplot as plt\n",
    "import numpy as np\n",
    "from astropy.io import fits\n",
    "import numpy as np\n",
    "from sklearn.preprocessing import minmax_scale\n",
    "\n",
    "#----------------------------------------------------------------------------------------------------------------------------------------------------------------\n",
    "test_crowded = np.load('datasets/test_crowded_conf.npy')\n",
    "\n",
    "    \n",
    "predictions_crowded  = my_model._predict(test_crowded, y= None, discrete = False)\n",
    "\n",
    "#----------------------------------------------------------------------------------------------------------------------------------------------------------------\n",
    "test_neg = np.load('datasets/test_neg_conf.npy')\n",
    "\n",
    "predictions_neg  = my_model._predict(test_neg, y= None, discrete = False)\n",
    "\n",
    "#----------------------------------------------------------------------------------------------------------------------------------------------------------------\n",
    "pos_v = np.load('datasets/test_pos_conf.npy')\n",
    "\n",
    "predictions_pos  = my_model._predict(pos_v, y= None, discrete = False)\n",
    "\n",
    "\n"
   ]
  },
  {
   "cell_type": "markdown",
   "metadata": {},
   "source": [
    "## tally up predictions"
   ]
  },
  {
   "cell_type": "code",
   "execution_count": 38,
   "metadata": {},
   "outputs": [
    {
     "data": {
      "text/plain": [
       "({0: 184.0, 1: 2316.0}, {0: 2366.0, 1: 134.0}, {0: 2488.0, 1: 12.0})"
      ]
     },
     "execution_count": 38,
     "metadata": {},
     "output_type": "execute_result"
    }
   ],
   "source": [
    "pos_tally = {0:0,1:0}\n",
    "for prediction in predictions_pos:\n",
    "    if prediction>0.50:\n",
    "        pos_tally[1]+=1.\n",
    "    else:\n",
    "        pos_tally[0]+=1.\n",
    "\n",
    "# for i in pos_tally:\n",
    "#     pos_tally[i]=round(pos_tally[i]/len(predictions_pos), 4)\n",
    "#----------------------------------------------------------------------------------------------------------------------------------------------------------------\n",
    "\n",
    "\n",
    "neg_tally = {0:0,1:0}\n",
    "for prediction in predictions_neg:\n",
    "    if prediction>0.50:\n",
    "        neg_tally[1]+=1.\n",
    "    else:\n",
    "        neg_tally[0]+=1.\n",
    "\n",
    "# for i in neg_tally:\n",
    "#     neg_tally[i]= round(neg_tally[i]/len(predictions_neg),4)\n",
    "    \n",
    "#----------------------------------------------------------------------------------------------------------------------------------------------------------------\n",
    "\n",
    "crowded_tally = {0:0,1:0}\n",
    "for prediction in predictions_crowded:\n",
    "    if prediction>0.50:\n",
    "        crowded_tally[1]+=1.\n",
    "    else:\n",
    "        crowded_tally[0]+=1.\n",
    "    \n",
    "# for i in crowded_tally:\n",
    "#     crowded_tally[i]=round(crowded_tally[i]/len(predictions_crowded),4)\n",
    "    \n",
    "pos_tally, neg_tally,crowded_tally"
   ]
  },
  {
   "cell_type": "code",
   "execution_count": 36,
   "metadata": {},
   "outputs": [
    {
     "data": {
      "text/plain": [
       "((2500, 1), (2500, 1), (2500, 1))"
      ]
     },
     "execution_count": 36,
     "metadata": {},
     "output_type": "execute_result"
    }
   ],
   "source": [
    "predictions_pos.shape, predictions_neg.shape, predictions_crowded.shape"
   ]
  },
  {
   "cell_type": "code",
   "execution_count": 12,
   "metadata": {
    "scrolled": false
   },
   "outputs": [
    {
     "data": {
      "image/png": "[encoded data removed]",
      "text/plain": [
       "<Figure size 576x432 with 2 Axes>"
      ]
     },
     "metadata": {
      "needs_background": "light"
     },
     "output_type": "display_data"
    }
   ],
   "source": [
    "\n",
    "\n",
    "plot_confusion_matrix(cm           = np.array([[ pos_tally[0], pos_tally[1]],\n",
    "                                              [ neg_tally[0], neg_tally[1]],\n",
    "                                              [ crowded_tally[0], crowded_tally[1]]]), \n",
    "                      normalize    = False,\n",
    "                      target_names = ['Lens', 'Negative', 'Crowded'],\n",
    "                      title        = \"Confusion Matrix\")\n",
    "\n"
   ]
  },
  {
   "cell_type": "code",
   "execution_count": null,
   "metadata": {},
   "outputs": [],
   "source": []
  }
 ],
 "metadata": {
  "kernelspec": {
   "display_name": "Python 3",
   "language": "python",
   "name": "python3"
  },
  "language_info": {
   "codemirror_mode": {
    "name": "ipython",
    "version": 3
   },
   "file_extension": ".py",
   "mimetype": "text/x-python",
   "name": "python",
   "nbconvert_exporter": "python",
   "pygments_lexer": "ipython3",
   "version": "3.8.5"
  }
 },
 "nbformat": 4,
 "nbformat_minor": 2
}
