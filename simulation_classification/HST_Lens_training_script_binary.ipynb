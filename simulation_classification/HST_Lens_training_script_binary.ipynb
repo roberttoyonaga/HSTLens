{
 "cells": [
  {
   "cell_type": "code",
   "execution_count": 2,
   "metadata": {},
   "outputs": [
    {
     "data": {
      "text/html": [
       "<style>.container {width:100% !important;}</style>"
      ],
      "text/plain": [
       "<IPython.core.display.HTML object>"
      ]
     },
     "metadata": {},
     "output_type": "display_data"
    }
   ],
   "source": [
    "from IPython.core.display import display, HTML\n",
    "display(HTML('<style>.container {width:100% !important;}</style>'))"
   ]
  },
  {
   "cell_type": "code",
   "execution_count": 1,
   "metadata": {},
   "outputs": [
    {
     "data": {
      "text/plain": [
       "((3008, 1, 100, 100), 1.0000000000000002)"
      ]
     },
     "execution_count": 1,
     "metadata": {},
     "output_type": "execute_result"
    }
   ],
   "source": [
    "import numpy as np\n",
    "pos_v = np.load('datasets/cc/pos_combined_feb9.npy')\n",
    "pos_v.shape,pos_v.max()"
   ]
  },
  {
   "cell_type": "code",
   "execution_count": 1,
   "metadata": {},
   "outputs": [],
   "source": [
    "\n",
    "'''\n",
    "Load the datasets for each clas from their numpy files and concatenate them and shuffle. \n",
    "The one-hot-encoded labels are shuffled in the exact same arrangement.\n",
    "'''\n",
    "import numpy as np\n",
    "\n",
    "#load numpy binaries\\\n",
    "# pos = np.load('datasets/cc/pos_jan21.npy')[:7192] #positive set is already shuffled\n",
    "# neg = np.load('datasets/cc/neg7192.npy')[:7192/2] #only load half \n",
    "# crowded =np.load('datasets/cc/crowded7192.npy')[:7192/2]\n",
    "\n",
    "pos = np.load('datasets/cc/pos_jan21.npy')[:12000] #14k in each class\n",
    "neg = np.load('datasets/neg_shuf.npy')[:6000]\n",
    "crowded =np.load('datasets/crowded_shuf.npy')[:6000]\n",
    "\n",
    "\n",
    "# pos_v = np.load('datasets/cc/pos_val_jan26.npy') [:7192]\n",
    "# neg_v = np.load('datasets/cc/neg7192_val.npy')[:7192/2]\n",
    "# crowded_v =np.load('datasets/cc/crowded7192_val.npy')[:7192/2]\n",
    "\n",
    "pos_v = np.load('datasets/cc/pos_val_jan26.npy')[:2500] #4000\n",
    "neg_v = np.load('datasets/neg_shuf.npy')[12000:] #2000\n",
    "crowded_v =np.load('datasets/crowded_shuf.npy')[12000:] #2000\n",
    "# pos_v = np.load('datasets/cc/pos_combined_feb9.npy')[:2500] #same validation set as binary\n",
    "# neg_v = np.load('datasets/cc/neg_val_feb9.npy')\n",
    "# crowded_v =np.load('datasets/cc/crowded_val_feb9.npy')\n",
    "\n",
    "neg = np.concatenate(( neg, crowded))\n",
    "neg_v = np.concatenate(( neg_v, crowded_v))\n",
    "\n",
    "\n",
    "#one-hot-encode\n",
    "py =np.ones((pos.shape[0],1))\n",
    "for i in range(py.shape[0]): py[i] =[1,]\n",
    "ny =np.ones((neg.shape[0],1))\n",
    "for i in range(ny.shape[0]): ny[i] =[0]\n",
    "\n",
    "py_v =np.ones((pos_v.shape[0],1))\n",
    "for i in range(py_v.shape[0]): py_v[i] =[1,]\n",
    "ny_v =np.ones((neg_v.shape[0],1))\n",
    "for i in range(ny_v.shape[0]): ny_v[i] =[0]\n",
    "\n",
    "\n",
    "#concat the data sets into features and labels\n",
    "x_combined =np.concatenate((pos, neg))#, paper_pos, paper_neg))#, multisource))\n",
    "y_combined =np.concatenate((py, ny))#, ppy, pny))#, my)) \n",
    "\n",
    "x_combined_v =np.concatenate((pos_v, neg_v))#, paper_pos, paper_neg))#, multisource))\n",
    "y_combined_v =np.concatenate((py_v, ny_v))#, ppy, pny))#, my)) \n",
    "\n",
    "#shuffle the data sets\n",
    "# s3 = np.arange(x_combined.shape[0])\n",
    "# np.random.shuffle(s3)\n",
    "# x_combined_shuf =x_combined[s3]\n",
    "# y_combined_shuf = y_combined[s3]\n",
    "\n",
    "s3 = np.arange(x_combined.shape[0])\n",
    "np.random.shuffle(s3)\n",
    "x_combined =x_combined[s3]\n",
    "y_combined = y_combined[s3]"
   ]
  },
  {
   "cell_type": "code",
   "execution_count": 1,
   "metadata": {},
   "outputs": [
    {
     "name": "stderr",
     "output_type": "stream",
     "text": [
      "/home/robbie/anaconda2/lib/python2.7/site-packages/sklearn/utils/validation.py:475: DataConversionWarning: Data with input dtype >f8 was converted to float64.\n",
      "  warnings.warn(msg, DataConversionWarning)\n"
     ]
    }
   ],
   "source": [
    "\n",
    "'''\n",
    "Load the datasets for each clas from their numpy files and concatenate them and shuffle. \n",
    "The one-hot-encoded labels are shuffled in the exact same arrangement.\n",
    "'''\n",
    "import numpy as np\n",
    "\n",
    "\n",
    "pos = np.load('datasets/cc/pos_jan21.npy')[:12000-2000]#[:12000-2128] #14k in each class\n",
    "neg = np.load('datasets/neg_shuf.npy')[:6000]\n",
    "crowded =np.load('datasets/crowded_shuf.npy')[:6000]\n",
    "\n",
    "'''-------------'''\n",
    "from IPython import display\n",
    "from astropy.visualization import (ZScaleInterval, ImageNormalize)\n",
    "from sklearn.preprocessing import minmax_scale\n",
    "import os \n",
    "import matplotlib.pyplot as plt\n",
    "import numpy as np\n",
    "from astropy.io import fits\n",
    "PATH = \"/home/robbie/repos/HSTLens/CC_batch_processing/batchjob_3/datasets/cc/augmented_real_no_orig/\"#HSTLens_detections/\"\n",
    "\n",
    "l= os.listdir(PATH)\n",
    "\n",
    "pos_v = np.zeros((len(l),1,100,100))\n",
    "count=0\n",
    "fails=0\n",
    "for filename in l:\n",
    "    \n",
    "    try:  \n",
    "        data, hdr = fits.getdata(PATH + filename, 0,header=True) #'sci' image[1] data and header\n",
    "        \n",
    "        tmp_image = np.nan_to_num(data).reshape(-1,)                    \n",
    "        tmp_image = minmax_scale(tmp_image, feature_range = (0,1))\n",
    "        data = tmp_image.reshape(1,100,100) \n",
    "        pos_v[count]=data\n",
    "       \n",
    "\n",
    "      \n",
    "    except:\n",
    "        fails+=1\n",
    "        print(\"skipped due to non-existent image, or conversion error\")\n",
    "        \n",
    "        \n",
    "    count+=1\n",
    "    \n",
    "s3 = np.arange(pos_v.shape[0])#shuffle it\n",
    "np.random.shuffle(s3)\n",
    "pos_v =pos_v[s3]\n",
    "'''-------------'''\n",
    "\n",
    "neg_v = np.load('datasets/neg_shuf.npy')[12000:13000] #2000\n",
    "crowded_v =np.load('datasets/crowded_shuf.npy')[12000:13000] #2000\n",
    "\n",
    "pos = np.concatenate(( pos, pos_v[:2000]))#add reals to trainign set\n",
    "neg = np.concatenate(( neg, crowded))\n",
    "neg_v = np.concatenate(( neg_v, crowded_v))\n",
    "\n",
    "\n",
    "#one-hot-encode\n",
    "py =np.ones((pos.shape[0],1))\n",
    "for i in range(py.shape[0]): py[i] =[1,]\n",
    "ny =np.ones((neg.shape[0],1))\n",
    "for i in range(ny.shape[0]): ny[i] =[0]\n",
    "\n",
    "py_v =np.ones((pos_v.shape[0],1))\n",
    "for i in range(py_v.shape[0]): py_v[i] =[1,]\n",
    "ny_v =np.ones((neg_v.shape[0],1))\n",
    "for i in range(ny_v.shape[0]): ny_v[i] =[0]\n",
    "\n",
    "\n",
    "#concat the data sets into features and labels\n",
    "x_combined =np.concatenate((pos, neg))#, paper_pos, paper_neg))#, multisource))\n",
    "y_combined =np.concatenate((py, ny))#, ppy, pny))#, my)) \n",
    "\n",
    "x_combined_v =np.concatenate((pos_v[2000:], neg_v))#, paper_pos, paper_neg))#, multisource))\n",
    "y_combined_v =np.concatenate((py_v[2000:], ny_v))#, ppy, pny))#, my)) \n",
    "\n",
    "\n",
    "s3 = np.arange(x_combined.shape[0])\n",
    "np.random.shuffle(s3)\n",
    "x_combined =x_combined[s3]\n",
    "y_combined = y_combined[s3]"
   ]
  },
  {
   "cell_type": "code",
   "execution_count": 2,
   "metadata": {
    "scrolled": true
   },
   "outputs": [
    {
     "name": "stderr",
     "output_type": "stream",
     "text": [
      "Using TensorFlow backend.\n"
     ]
    },
    {
     "name": "stdout",
     "output_type": "stream",
     "text": [
      "building arch 11\n",
      "arch 12\n",
      "...Fitting model ...\n",
      "Train on 24000 samples, validate on 7268 samples\n",
      "Epoch 1/30\n",
      " 2464/24000 [==>...........................] - ETA: 58s - loss: 0.7269 - acc: 0.6144"
     ]
    },
    {
     "ename": "KeyboardInterrupt",
     "evalue": "",
     "output_type": "error",
     "traceback": [
      "\u001b[0;31m---------------------------------------------------------------------------\u001b[0m",
      "\u001b[0;31mKeyboardInterrupt\u001b[0m                         Traceback (most recent call last)",
      "\u001b[0;32m<ipython-input-2-d91055e1d5eb>\u001b[0m in \u001b[0;36m<module>\u001b[0;34m()\u001b[0m\n\u001b[1;32m      9\u001b[0m \u001b[0mmy_model\u001b[0m\u001b[0;34m.\u001b[0m\u001b[0m_build\u001b[0m\u001b[0;34m(\u001b[0m\u001b[0;34m)\u001b[0m\u001b[0;34m\u001b[0m\u001b[0;34m\u001b[0m\u001b[0m\n\u001b[1;32m     10\u001b[0m \u001b[0mval\u001b[0m\u001b[0;34m=\u001b[0m\u001b[0;34m[\u001b[0m\u001b[0mx_combined_v\u001b[0m\u001b[0;34m,\u001b[0m\u001b[0my_combined_v\u001b[0m\u001b[0;34m]\u001b[0m\u001b[0;34m\u001b[0m\u001b[0;34m\u001b[0m\u001b[0m\n\u001b[0;32m---> 11\u001b[0;31m \u001b[0mmy_model\u001b[0m\u001b[0;34m.\u001b[0m\u001b[0m_fit\u001b[0m\u001b[0;34m(\u001b[0m\u001b[0mx_combined\u001b[0m\u001b[0;34m,\u001b[0m\u001b[0my_combined\u001b[0m\u001b[0;34m,\u001b[0m \u001b[0mval\u001b[0m\u001b[0;34m)\u001b[0m\u001b[0;34m\u001b[0m\u001b[0;34m\u001b[0m\u001b[0m\n\u001b[0m\u001b[1;32m     12\u001b[0m \u001b[0;34m\u001b[0m\u001b[0m\n\u001b[1;32m     13\u001b[0m \u001b[0;31m# my_model.model.save(\"weights/3_class_weights\") # issue with json serializing\u001b[0m\u001b[0;34m\u001b[0m\u001b[0;34m\u001b[0m\u001b[0;34m\u001b[0m\u001b[0m\n",
      "\u001b[0;32m/home/robbie/repos/HSTLens/CC_batch_processing/batchjob_3/HSTLens_base_2class_arch12.pyc\u001b[0m in \u001b[0;36m_fit\u001b[0;34m(self, data, labels, val)\u001b[0m\n\u001b[1;32m    122\u001b[0m \u001b[0;34m\u001b[0m\u001b[0m\n\u001b[1;32m    123\u001b[0m         self.model.fit(data, labels,validation_data =val, batch_size=self.batch_size, callbacks=callbacks_list,\n\u001b[0;32m--> 124\u001b[0;31m                        shuffle= False, validation_split = 0, epochs= self.n_epochs)        \n\u001b[0m\u001b[1;32m    125\u001b[0m         \u001b[0mself\u001b[0m\u001b[0;34m.\u001b[0m\u001b[0mfitted\u001b[0m\u001b[0;34m=\u001b[0m\u001b[0mTrue\u001b[0m\u001b[0;34m\u001b[0m\u001b[0;34m\u001b[0m\u001b[0m\n\u001b[1;32m    126\u001b[0m \u001b[0;34m\u001b[0m\u001b[0m\n",
      "\u001b[0;32m/home/robbie/python_environments/python27/local/lib/python2.7/site-packages/keras/engine/training.pyc\u001b[0m in \u001b[0;36mfit\u001b[0;34m(self, x, y, batch_size, epochs, verbose, callbacks, validation_split, validation_data, shuffle, class_weight, sample_weight, initial_epoch, steps_per_epoch, validation_steps, validation_freq, max_queue_size, workers, use_multiprocessing, **kwargs)\u001b[0m\n\u001b[1;32m   1176\u001b[0m                                         \u001b[0msteps_per_epoch\u001b[0m\u001b[0;34m=\u001b[0m\u001b[0msteps_per_epoch\u001b[0m\u001b[0;34m,\u001b[0m\u001b[0;34m\u001b[0m\u001b[0;34m\u001b[0m\u001b[0m\n\u001b[1;32m   1177\u001b[0m                                         \u001b[0mvalidation_steps\u001b[0m\u001b[0;34m=\u001b[0m\u001b[0mvalidation_steps\u001b[0m\u001b[0;34m,\u001b[0m\u001b[0;34m\u001b[0m\u001b[0;34m\u001b[0m\u001b[0m\n\u001b[0;32m-> 1178\u001b[0;31m                                         validation_freq=validation_freq)\n\u001b[0m\u001b[1;32m   1179\u001b[0m \u001b[0;34m\u001b[0m\u001b[0m\n\u001b[1;32m   1180\u001b[0m     def evaluate(self,\n",
      "\u001b[0;32m/home/robbie/python_environments/python27/local/lib/python2.7/site-packages/keras/engine/training_arrays.pyc\u001b[0m in \u001b[0;36mfit_loop\u001b[0;34m(model, fit_function, fit_inputs, out_labels, batch_size, epochs, verbose, callbacks, val_function, val_inputs, shuffle, callback_metrics, initial_epoch, steps_per_epoch, validation_steps, validation_freq)\u001b[0m\n\u001b[1;32m    202\u001b[0m                     \u001b[0mins_batch\u001b[0m\u001b[0;34m[\u001b[0m\u001b[0mi\u001b[0m\u001b[0;34m]\u001b[0m \u001b[0;34m=\u001b[0m \u001b[0mins_batch\u001b[0m\u001b[0;34m[\u001b[0m\u001b[0mi\u001b[0m\u001b[0;34m]\u001b[0m\u001b[0;34m.\u001b[0m\u001b[0mtoarray\u001b[0m\u001b[0;34m(\u001b[0m\u001b[0;34m)\u001b[0m\u001b[0;34m\u001b[0m\u001b[0;34m\u001b[0m\u001b[0m\n\u001b[1;32m    203\u001b[0m \u001b[0;34m\u001b[0m\u001b[0m\n\u001b[0;32m--> 204\u001b[0;31m                 \u001b[0mouts\u001b[0m \u001b[0;34m=\u001b[0m \u001b[0mfit_function\u001b[0m\u001b[0;34m(\u001b[0m\u001b[0mins_batch\u001b[0m\u001b[0;34m)\u001b[0m\u001b[0;34m\u001b[0m\u001b[0;34m\u001b[0m\u001b[0m\n\u001b[0m\u001b[1;32m    205\u001b[0m                 \u001b[0mouts\u001b[0m \u001b[0;34m=\u001b[0m \u001b[0mto_list\u001b[0m\u001b[0;34m(\u001b[0m\u001b[0mouts\u001b[0m\u001b[0;34m)\u001b[0m\u001b[0;34m\u001b[0m\u001b[0;34m\u001b[0m\u001b[0m\n\u001b[1;32m    206\u001b[0m                 \u001b[0;32mfor\u001b[0m \u001b[0ml\u001b[0m\u001b[0;34m,\u001b[0m \u001b[0mo\u001b[0m \u001b[0;32min\u001b[0m \u001b[0mzip\u001b[0m\u001b[0;34m(\u001b[0m\u001b[0mout_labels\u001b[0m\u001b[0;34m,\u001b[0m \u001b[0mouts\u001b[0m\u001b[0;34m)\u001b[0m\u001b[0;34m:\u001b[0m\u001b[0;34m\u001b[0m\u001b[0;34m\u001b[0m\u001b[0m\n",
      "\u001b[0;32m/home/robbie/python_environments/python27/local/lib/python2.7/site-packages/keras/backend/tensorflow_backend.pyc\u001b[0m in \u001b[0;36m__call__\u001b[0;34m(self, inputs)\u001b[0m\n\u001b[1;32m   2977\u001b[0m                     \u001b[0;32mreturn\u001b[0m \u001b[0mself\u001b[0m\u001b[0;34m.\u001b[0m\u001b[0m_legacy_call\u001b[0m\u001b[0;34m(\u001b[0m\u001b[0minputs\u001b[0m\u001b[0;34m)\u001b[0m\u001b[0;34m\u001b[0m\u001b[0;34m\u001b[0m\u001b[0m\n\u001b[1;32m   2978\u001b[0m \u001b[0;34m\u001b[0m\u001b[0m\n\u001b[0;32m-> 2979\u001b[0;31m             \u001b[0;32mreturn\u001b[0m \u001b[0mself\u001b[0m\u001b[0;34m.\u001b[0m\u001b[0m_call\u001b[0m\u001b[0;34m(\u001b[0m\u001b[0minputs\u001b[0m\u001b[0;34m)\u001b[0m\u001b[0;34m\u001b[0m\u001b[0;34m\u001b[0m\u001b[0m\n\u001b[0m\u001b[1;32m   2980\u001b[0m         \u001b[0;32melse\u001b[0m\u001b[0;34m:\u001b[0m\u001b[0;34m\u001b[0m\u001b[0;34m\u001b[0m\u001b[0m\n\u001b[1;32m   2981\u001b[0m             \u001b[0;32mif\u001b[0m \u001b[0mpy_any\u001b[0m\u001b[0;34m(\u001b[0m\u001b[0mis_tensor\u001b[0m\u001b[0;34m(\u001b[0m\u001b[0mx\u001b[0m\u001b[0;34m)\u001b[0m \u001b[0;32mfor\u001b[0m \u001b[0mx\u001b[0m \u001b[0;32min\u001b[0m \u001b[0minputs\u001b[0m\u001b[0;34m)\u001b[0m\u001b[0;34m:\u001b[0m\u001b[0;34m\u001b[0m\u001b[0;34m\u001b[0m\u001b[0m\n",
      "\u001b[0;32m/home/robbie/python_environments/python27/local/lib/python2.7/site-packages/keras/backend/tensorflow_backend.pyc\u001b[0m in \u001b[0;36m_call\u001b[0;34m(self, inputs)\u001b[0m\n\u001b[1;32m   2935\u001b[0m             \u001b[0mfetched\u001b[0m \u001b[0;34m=\u001b[0m \u001b[0mself\u001b[0m\u001b[0;34m.\u001b[0m\u001b[0m_callable_fn\u001b[0m\u001b[0;34m(\u001b[0m\u001b[0;34m*\u001b[0m\u001b[0marray_vals\u001b[0m\u001b[0;34m,\u001b[0m \u001b[0mrun_metadata\u001b[0m\u001b[0;34m=\u001b[0m\u001b[0mself\u001b[0m\u001b[0;34m.\u001b[0m\u001b[0mrun_metadata\u001b[0m\u001b[0;34m)\u001b[0m\u001b[0;34m\u001b[0m\u001b[0;34m\u001b[0m\u001b[0m\n\u001b[1;32m   2936\u001b[0m         \u001b[0;32melse\u001b[0m\u001b[0;34m:\u001b[0m\u001b[0;34m\u001b[0m\u001b[0;34m\u001b[0m\u001b[0m\n\u001b[0;32m-> 2937\u001b[0;31m             \u001b[0mfetched\u001b[0m \u001b[0;34m=\u001b[0m \u001b[0mself\u001b[0m\u001b[0;34m.\u001b[0m\u001b[0m_callable_fn\u001b[0m\u001b[0;34m(\u001b[0m\u001b[0;34m*\u001b[0m\u001b[0marray_vals\u001b[0m\u001b[0;34m)\u001b[0m\u001b[0;34m\u001b[0m\u001b[0;34m\u001b[0m\u001b[0m\n\u001b[0m\u001b[1;32m   2938\u001b[0m         \u001b[0;32mreturn\u001b[0m \u001b[0mfetched\u001b[0m\u001b[0;34m[\u001b[0m\u001b[0;34m:\u001b[0m\u001b[0mlen\u001b[0m\u001b[0;34m(\u001b[0m\u001b[0mself\u001b[0m\u001b[0;34m.\u001b[0m\u001b[0moutputs\u001b[0m\u001b[0;34m)\u001b[0m\u001b[0;34m]\u001b[0m\u001b[0;34m\u001b[0m\u001b[0;34m\u001b[0m\u001b[0m\n\u001b[1;32m   2939\u001b[0m \u001b[0;34m\u001b[0m\u001b[0m\n",
      "\u001b[0;32m/home/robbie/python_environments/python27/local/lib/python2.7/site-packages/tensorflow/python/client/session.pyc\u001b[0m in \u001b[0;36m__call__\u001b[0;34m(self, *args, **kwargs)\u001b[0m\n\u001b[1;32m   1437\u001b[0m           ret = tf_session.TF_SessionRunCallable(\n\u001b[1;32m   1438\u001b[0m               \u001b[0mself\u001b[0m\u001b[0;34m.\u001b[0m\u001b[0m_session\u001b[0m\u001b[0;34m.\u001b[0m\u001b[0m_session\u001b[0m\u001b[0;34m,\u001b[0m \u001b[0mself\u001b[0m\u001b[0;34m.\u001b[0m\u001b[0m_handle\u001b[0m\u001b[0;34m,\u001b[0m \u001b[0margs\u001b[0m\u001b[0;34m,\u001b[0m \u001b[0mstatus\u001b[0m\u001b[0;34m,\u001b[0m\u001b[0;34m\u001b[0m\u001b[0;34m\u001b[0m\u001b[0m\n\u001b[0;32m-> 1439\u001b[0;31m               run_metadata_ptr)\n\u001b[0m\u001b[1;32m   1440\u001b[0m         \u001b[0;32mif\u001b[0m \u001b[0mrun_metadata\u001b[0m\u001b[0;34m:\u001b[0m\u001b[0;34m\u001b[0m\u001b[0;34m\u001b[0m\u001b[0m\n\u001b[1;32m   1441\u001b[0m           \u001b[0mproto_data\u001b[0m \u001b[0;34m=\u001b[0m \u001b[0mtf_session\u001b[0m\u001b[0;34m.\u001b[0m\u001b[0mTF_GetBuffer\u001b[0m\u001b[0;34m(\u001b[0m\u001b[0mrun_metadata_ptr\u001b[0m\u001b[0;34m)\u001b[0m\u001b[0;34m\u001b[0m\u001b[0;34m\u001b[0m\u001b[0m\n",
      "\u001b[0;31mKeyboardInterrupt\u001b[0m: "
     ]
    }
   ],
   "source": [
    "'''\n",
    "Load the model files, build architecture, train and sav weights. Save all samples after 50000 for validation.\n",
    "It might be better ot keep a set completely seperate for validation. \n",
    "'''\n",
    "\n",
    "from HSTLens_resnet_2class_arch12 import deeplens_classifier\n",
    "\n",
    "my_model = deeplens_classifier(n_epochs=30, batch_size=32)\n",
    "my_model._build() \n",
    "val=[x_combined_v,y_combined_v]\n",
    "my_model._fit(x_combined,y_combined, val)\n",
    "\n",
    "# my_model.model.save(\"weights/3_class_weights\") # issue with json serializing\n",
    "my_model.model.save_weights(\"test!!!\")\n",
    "# my_model.model.load_weights(\"multiclass4_ensemble_1\")\n"
   ]
  },
  {
   "cell_type": "code",
   "execution_count": 4,
   "metadata": {},
   "outputs": [
    {
     "name": "stdout",
     "output_type": "stream",
     "text": [
      "building arch 11\n",
      "arch 12\n"
     ]
    }
   ],
   "source": [
    "#build and load weights\n",
    "from HSTLens_resnet_2class_arch12 import deeplens_classifier\n",
    "\n",
    "my_model = deeplens_classifier(n_epochs=8, batch_size=32)\n",
    "my_model._build() \n",
    "my_model.model.load_weights('/home/robbie/repos/HSTLens/CC_batch_processing/batchjob_3/weights/2arch12_25/epoch_weights00000007.h5')#(\"weights/2_class_weights_dim\")\n"
   ]
  },
  {
   "cell_type": "code",
   "execution_count": 3,
   "metadata": {},
   "outputs": [
    {
     "name": "stderr",
     "output_type": "stream",
     "text": [
      "/home/robbie/anaconda2/lib/python2.7/site-packages/matplotlib/cbook/deprecation.py:107: MatplotlibDeprecationWarning: Passing one of 'on', 'true', 'off', 'false' as a boolean is deprecated; use an actual boolean (True/False) instead.\n",
      "  warnings.warn(message, mplDeprecation, stacklevel=1)\n"
     ]
    },
    {
     "data": {
      "text/plain": [
       "<matplotlib.legend.Legend at 0x7f98e144c110>"
      ]
     },
     "execution_count": 3,
     "metadata": {},
     "output_type": "execute_result"
    },
    {
     "data": {
      "image/png": "[encoded data removed]",
      "text/plain": [
       "<Figure size 432x288 with 1 Axes>"
      ]
     },
     "metadata": {
      "needs_background": "light"
     },
     "output_type": "display_data"
    }
   ],
   "source": [
    "#plot the loss vs epochs\n",
    "#my_model.model.history is a callback obj my_model.model.history is a dict\n",
    "import matplotlib.pyplot as plt\n",
    "train_loss = my_model.model.history.history['loss'] \n",
    "val_loss = my_model.model.history.history['val_loss']\n",
    "\n",
    "ep=13\n",
    "xc = range(ep)\n",
    "\n",
    "plt.figure()\n",
    "plt.title('test')\n",
    "plt.xlabel('epochs');\n",
    "plt.ylabel('loss')\n",
    "plt.xticks(np.arange(0, ep, step=1))\n",
    "plt.yticks(np.arange(0, 1, step=0.02))\n",
    "\n",
    "plt.plot(xc, train_loss,'r-',label=\"train loss\")\n",
    "plt.plot(xc, val_loss, 'b-',label=\"validation loss\")\n",
    "plt.grid('on')\n",
    "plt.legend()"
   ]
  },
  {
   "cell_type": "code",
   "execution_count": 48,
   "metadata": {},
   "outputs": [
    {
     "name": "stdout",
     "output_type": "stream",
     "text": [
      "...Generating Predictions ...\n"
     ]
    },
    {
     "data": {
      "text/plain": [
       "Text(0,0.5,'Percentage of Rankings')"
      ]
     },
     "execution_count": 48,
     "metadata": {},
     "output_type": "execute_result"
    },
    {
     "data": {
      "image/png": "[encoded data removed]",
      "text/plain": [
       "<Figure size 432x288 with 1 Axes>"
      ]
     },
     "metadata": {
      "needs_background": "light"
     },
     "output_type": "display_data"
    }
   ],
   "source": [
    "\n",
    "#quickly get predicitons using 1 model only\n",
    "import numpy as np\n",
    "from sklearn.preprocessing import minmax_scale\n",
    "\n",
    "test_set = np.load('datasets/cc/test_set.npy')\n",
    "\n",
    "for i in range(len(test_set)):\n",
    "    \n",
    "    tmp_image = test_set[i].reshape(-1,)                    \n",
    "    tmp_image = minmax_scale(tmp_image, feature_range = (0,1))\n",
    "    test_set[i] = tmp_image.reshape(1,100,100) \n",
    "\n",
    "\n",
    "predictions  = my_model._predict(test_set, y= None, discrete = False)\n",
    "\n",
    "new = np.zeros((10000,1))\n",
    "for i in range(len(new)):\n",
    "    new[i][0]=  predictions[i][0]\n",
    "    \n",
    "import pandas as pd\n",
    "import matplotlib.pyplot as plt\n",
    "\n",
    "from astropy.io import fits\n",
    "from astropy.nddata.utils import Cutout2D\n",
    "import numpy as np\n",
    "import os \n",
    "import time\n",
    "lens=new\n",
    "\n",
    "x_axis = np.linspace(0,1, num=350)\n",
    "tens_list = [lens]\n",
    "for i in range(len(x_axis-1)):\n",
    "    tens_list.append([])\n",
    "    \n",
    "    \n",
    "def work(element,limit):\n",
    "    for probability in (tens_list[element]): #check the previous percentage bin\n",
    "        if probability>limit:\n",
    "            tens_list[element+1].append(probability)\n",
    "    return len(tens_list[element+1])\n",
    "\n",
    "y_axis =[]\n",
    "for i in range(len(x_axis-1)):\n",
    "    y_axis.append(work(i,x_axis[i]))\n",
    "\n",
    "plt.plot(x_axis[0:],np.array(y_axis[0:]).astype(float)/y_axis[0])\n",
    "plt.title('Samples vs Rankings')\n",
    "plt.yticks(np.arange(0,1, 0.1))\n",
    "plt.xticks(np.arange(0,1, 0.1))\n",
    "plt.xlabel('Ranking')\n",
    "plt.ylabel('Percentage of Rankings')"
   ]
  },
  {
   "cell_type": "code",
   "execution_count": 60,
   "metadata": {},
   "outputs": [
    {
     "data": {
      "text/plain": [
       "(0.010937186433875175, 0.8108882521489971)"
      ]
     },
     "execution_count": 60,
     "metadata": {},
     "output_type": "execute_result"
    }
   ],
   "source": [
    "a= np.array(y_axis[0:]).astype(float)/y_axis[0]\n",
    "i=283\n",
    "\n",
    "\n",
    "a[i],x_axis[i]"
   ]
  },
  {
   "cell_type": "code",
   "execution_count": 13,
   "metadata": {},
   "outputs": [
    {
     "name": "stderr",
     "output_type": "stream",
     "text": [
      "/home/robbie/anaconda2/lib/python2.7/site-packages/sklearn/utils/validation.py:475: DataConversionWarning: Data with input dtype >f4 was converted to float64.\n",
      "  warnings.warn(msg, DataConversionWarning)\n"
     ]
    },
    {
     "name": "stdout",
     "output_type": "stream",
     "text": [
      "fails 0\n",
      "...Generating Predictions ...\n"
     ]
    }
   ],
   "source": [
    "# closer inspection\n",
    "from IPython import display\n",
    "from astropy.visualization import (ZScaleInterval, ImageNormalize)\n",
    "from sklearn.preprocessing import minmax_scale\n",
    "import os \n",
    "import matplotlib.pyplot as plt\n",
    "import numpy as np\n",
    "from astropy.io import fits\n",
    "PATH = \"/home/robbie/repos/HSTLens/CC_batch_processing/batchjob_3/out/\"#HSTLens_detections/\"\n",
    "# PATH =\"/home/robbie/repos/HSTLens/CC_batch_processing/batchjob_3/augmented_real133/\"# \n",
    "\n",
    "l= os.listdir(PATH)\n",
    "\n",
    "ims = np.zeros((len(l),1,100,100))\n",
    "count=0\n",
    "fails=0\n",
    "for filename in l:\n",
    "    \n",
    "    try:  \n",
    "        data, hdr = fits.getdata(PATH + filename, 0,header=True) #'sci' image[1] data and header\n",
    "        \n",
    "        tmp_image = np.nan_to_num(data).reshape(-1,)                    \n",
    "        tmp_image = minmax_scale(tmp_image, feature_range = (0,1))\n",
    "        data = tmp_image.reshape(1,100,100) \n",
    "        ims[count]=data\n",
    "       \n",
    "\n",
    "      \n",
    "    except:\n",
    "        fails+=1\n",
    "        print(\"skipped due to non-existent image, or conversion error\")\n",
    "        \n",
    "        \n",
    "    count+=1\n",
    "\n",
    "print('fails '+str(fails))\n",
    "\n",
    "\n",
    "\n",
    "#######-----------------\n",
    "\n",
    "predictions  = my_model._predict(ims, y= None, discrete = False)\n",
    "new = np.zeros((predictions.shape[0],1))\n",
    "for i in range(len(new)):\n",
    "    new[i][0]=  predictions[i][0]"
   ]
  },
  {
   "cell_type": "code",
   "execution_count": 11,
   "metadata": {},
   "outputs": [
    {
     "name": "stdout",
     "output_type": "stream",
     "text": [
      "...Generating Predictions ...\n"
     ]
    }
   ],
   "source": [
    "# closer inspection\n",
    "from IPython import display\n",
    "from astropy.visualization import (ZScaleInterval, ImageNormalize)\n",
    "from sklearn.preprocessing import minmax_scale\n",
    "import os \n",
    "import matplotlib.pyplot as plt\n",
    "import numpy as np\n",
    "from astropy.io import fits\n",
    "\n",
    "pos_v = np.load('datasets/cc/pos_combined_feb9.npy')\n",
    "\n",
    "predictions  = my_model._predict(pos_v, y= None, discrete = False)\n",
    "new = np.zeros((predictions.shape[0],1))\n",
    "for i in range(len(new)):\n",
    "    new[i][0]=  predictions[i][0]"
   ]
  },
  {
   "cell_type": "code",
   "execution_count": 12,
   "metadata": {
    "scrolled": true
   },
   "outputs": [
    {
     "name": "stdout",
     "output_type": "stream",
     "text": [
      "2326.0\n",
      "0.773271276596\n"
     ]
    }
   ],
   "source": [
    "count=0\n",
    "for i in range(len(new)):\n",
    "    if new[i]> 0.8260869565217391:\n",
    "        count+=1\n",
    "        \n",
    "print float(count)\n",
    "print float(count)/predictions.shape[0]"
   ]
  },
  {
   "cell_type": "code",
   "execution_count": 66,
   "metadata": {},
   "outputs": [
    {
     "name": "stdout",
     "output_type": "stream",
     "text": [
      "0.5\n"
     ]
    }
   ],
   "source": [
    "tol= 0.001\n",
    "desired_comp=0.95\n",
    "curr_comp=0\n",
    "boundary=0.5\n",
    "prev_boundary=0\n",
    "while(abs(curr_comp-desired_comp)<tol):\n",
    "    count=0\n",
    "    for i in range(len(new)):\n",
    "        if new[i]> boundary:\n",
    "            count+=1\n",
    "    curr_comp = float(count)/predictions.shape[0]\n",
    "    \n",
    "    if curr_comp<desired_comp:\n",
    "        prev_boundary = boundary\n",
    "        boundary=boundary+ (1.0-boundary)/2\n",
    "    else:\n",
    "        tmp = boundary\n",
    "        boundary=prev_boundary+ (boundry-prev_boundary)/2\n",
    "        prev_boundary=tmp\n",
    "print boundary   "
   ]
  },
  {
   "cell_type": "code",
   "execution_count": 18,
   "metadata": {},
   "outputs": [],
   "source": [
    "#rotate the positive TR 90 degrees to make validation\n",
    "\n",
    "import matplotlib.pyplot as plt\n",
    "import numpy as np \n",
    "ims = np.load('datasets/cc/pos_jan21.npy')\n",
    "\n",
    "\n",
    "for i in range(len(ims)):\n",
    "    ims[i][0]= np.rot90(ims[i][0])\n",
    "    \n",
    "\n",
    "np.save('/home/robbie/repos/HSTLens/CC_batch_processing/batchjob_3/datasets/cc/pos_jan21_rot90',ims)\n",
    "\n",
    "# ims = np.load('datasets/cc/pos_jan21.npy')\n",
    "# plt.imshow(ims[0][0])\n",
    "\n",
    "# ims = np.load('datasets/cc/pos_jan21_rot90.npy')\n",
    "# plt.imshow(ims[0][0])"
   ]
  },
  {
   "cell_type": "code",
   "execution_count": 386,
   "metadata": {},
   "outputs": [
    {
     "data": {
      "text/plain": [
       "<matplotlib.image.AxesImage at 0x7f9d830eb310>"
      ]
     },
     "execution_count": 386,
     "metadata": {},
     "output_type": "execute_result"
    },
    {
     "data": {
      "image/png": "[encoded data removed]",
      "text/plain": [
       "<Figure size 432x288 with 1 Axes>"
      ]
     },
     "metadata": {
      "needs_background": "light"
     },
     "output_type": "display_data"
    }
   ],
   "source": [
    "plt.imshow(pos_v[1013][0])"
   ]
  },
  {
   "cell_type": "markdown",
   "metadata": {},
   "source": [
    "***\n",
    "\n",
    "# getting ROC curves with common thresholds.\n"
   ]
  },
  {
   "cell_type": "code",
   "execution_count": 70,
   "metadata": {},
   "outputs": [
    {
     "name": "stdout",
     "output_type": "stream",
     "text": [
      "building arch 11\n",
      "arch 12\n"
     ]
    }
   ],
   "source": [
    "#build and load weights\n",
    "from HSTLens_resnet_2class_arch12 import deeplens_classifier\n",
    "\n",
    "my_model = deeplens_classifier(n_epochs=8, batch_size=32)\n",
    "my_model._build() \n",
    "my_model.model.load_weights(\n",
    "    '/home/robbie/repos/HSTLens/CC_batch_processing/batchjob_3/weights/2arch12_20/epoch_weights00000006.h5')#(\"weights/2_class_weights_dim\")\n"
   ]
  },
  {
   "cell_type": "code",
   "execution_count": 42,
   "metadata": {},
   "outputs": [
    {
     "ename": "SyntaxError",
     "evalue": "invalid syntax (<ipython-input-42-e8226c3ef6bd>, line 52)",
     "output_type": "error",
     "traceback": [
      "\u001b[0;36m  File \u001b[0;32m\"<ipython-input-42-e8226c3ef6bd>\"\u001b[0;36m, line \u001b[0;32m52\u001b[0m\n\u001b[0;31m    predictions_neg.shape, predictions_combined.shape     u\u001b[0m\n\u001b[0m                                                          ^\u001b[0m\n\u001b[0;31mSyntaxError\u001b[0m\u001b[0;31m:\u001b[0m invalid syntax\n"
     ]
    }
   ],
   "source": [
    "from sklearn.preprocessing import minmax_scale\n",
    "import os \n",
    "import matplotlib.pyplot as plt\n",
    "import numpy as np\n",
    "from astropy.io import fits\n",
    "import numpy as np\n",
    "from sklearn.preprocessing import minmax_scale\n",
    "\n",
    "test_set = np.load('datasets/cc/test_set.npy')\n",
    "for i in range(len(test_set)):\n",
    "    \n",
    "    tmp_image = test_set[i].reshape(-1,)                    \n",
    "    tmp_image = minmax_scale(tmp_image, feature_range = (0,1))\n",
    "    test_set[i] = tmp_image.reshape(1,100,100) \n",
    "    \n",
    "predictions_neg  = my_model._predict(test_set, y= None, discrete = False)\n",
    "\n",
    "\n",
    "# pos_v = np.load('datasets/cc/pos_combined_feb9.npy')\n",
    "\n",
    "PATH = \"/home/robbie/repos/HSTLens/CC_batch_processing/batchjob_3/out/\"#HSTLens_detections/\"\n",
    "l= os.listdir(PATH)\n",
    "pos_v = np.zeros((len(l),1,100,100))\n",
    "count =0\n",
    "for filename in l:\n",
    "    try:  \n",
    "        data, hdr = fits.getdata(PATH + filename, 0,header=True) #'sci' image[1] data and header\n",
    "        \n",
    "        tmp_image = np.nan_to_num(data).reshape(-1,)                    \n",
    "        tmp_image = minmax_scale(tmp_image, feature_range = (0,1))\n",
    "        data = tmp_image.reshape(1,100,100) \n",
    "        pos_v[count]=data\n",
    "    except:\n",
    "        print(\"skipped due to non-existent image, or conversion error\")\n",
    "    count+=1\n",
    "    \n",
    "predictions_pos  = my_model._predict(pos_v, y= None, discrete = False)\n",
    "\n",
    "neg_len = predictions_neg.shape[0]\n",
    "pos_len = predictions_pos.shape[0]\n",
    "\n",
    "predictions_combined = np.zeros((neg_len+pos_len,))\n",
    "labels_combined = np.zeros((neg_len+pos_len,))\n",
    "\n",
    "for i in range(neg_len):\n",
    "    predictions_combined[i]=  predictions_neg[i][0]\n",
    "    \n",
    "for i in range(pos_len):\n",
    "    predictions_combined[neg_len+i] =  predictions_pos[i][0]\n",
    "    labels_combined[neg_len+i] = 1\n",
    "    \n",
    "predictions_neg.shape, predictions_combined.shape  "
   ]
  },
  {
   "cell_type": "code",
   "execution_count": 47,
   "metadata": {},
   "outputs": [
    {
     "name": "stdout",
     "output_type": "stream",
     "text": [
      "...Generating Predictions ...\n",
      "0.9999994\n",
      "0.8112135\n",
      "0.992788\n",
      "0.9748092\n"
     ]
    }
   ],
   "source": [
    "#for testing on the new candidates\n",
    "from sklearn.preprocessing import minmax_scale\n",
    "import os \n",
    "import matplotlib.pyplot as plt\n",
    "import numpy as np\n",
    "from astropy.io import fits\n",
    "import numpy as np\n",
    "from sklearn.preprocessing import minmax_scale\n",
    "\n",
    "\n",
    "PATH ='/home/robbie/repos/HSTLens/make_simulations/new_candidates/'\n",
    "l= os.listdir(PATH)\n",
    "pos_v = np.zeros((len(l),1,100,100))\n",
    "count =0\n",
    "for filename in l:\n",
    "    try:  \n",
    "        data, hdr = fits.getdata(PATH + filename, 0,header=True) #'sci' image[1] data and header\n",
    "        \n",
    "        tmp_image = np.nan_to_num(data).reshape(-1,)                    \n",
    "        tmp_image = minmax_scale(tmp_image, feature_range = (0,1))\n",
    "        data = tmp_image.reshape(1,100,100) \n",
    "        pos_v[count]=data\n",
    "    except:\n",
    "        print(\"skipped due to non-existent image, or conversion error\")\n",
    "    count+=1\n",
    "    \n",
    "predictions_pos  = my_model._predict(pos_v, y= None, discrete = False)\n",
    "\n",
    "for i in range(4):\n",
    "    print(predictions_pos[i][0]) u"
   ]
  },
  {
   "cell_type": "code",
   "execution_count": 71,
   "metadata": {},
   "outputs": [
    {
     "name": "stdout",
     "output_type": "stream",
     "text": [
      "...Generating Predictions ...\n",
      "...Generating Predictions ...\n"
     ]
    },
    {
     "data": {
      "text/plain": [
       "((8360, 1), (18360,))"
      ]
     },
     "execution_count": 71,
     "metadata": {},
     "output_type": "execute_result"
    }
   ],
   "source": [
    "'''\n",
    "for using the manually cleaned negatives.\n",
    "'''\n",
    "\n",
    "from sklearn.preprocessing import minmax_scale\n",
    "import os \n",
    "import matplotlib.pyplot as plt\n",
    "import numpy as np\n",
    "from astropy.io import fits\n",
    "import numpy as np\n",
    "from sklearn.preprocessing import minmax_scale\n",
    "    \n",
    "PATH = \"clean_test_neg_aug/\"\n",
    "l= os.listdir(PATH)\n",
    "test_neg = np.zeros((len(l),1,100,100))\n",
    "count =0\n",
    "for filename in l:\n",
    "    try:  \n",
    "        data, hdr = fits.getdata(PATH + filename, 0,header=True) #'sci' image[1] data and header\n",
    "        \n",
    "        tmp_image = np.nan_to_num(data).reshape(-1,)                    \n",
    "        tmp_image = minmax_scale(tmp_image, feature_range = (0,1))\n",
    "        data = tmp_image.reshape(1,100,100) \n",
    "        test_neg[count]=data\n",
    "    except:\n",
    "        print(\"skipped due to non-existent image, or conversion error\")\n",
    "    count+=1\n",
    "    \n",
    "    \n",
    "predictions_neg  = my_model._predict(test_neg, y= None, discrete = False)\n",
    "\n",
    "\n",
    "pos_v = np.load('/home/robbie/repos/HSTLens/CC_batch_processing/batchjob_3/datasets/cc/new_test_positives_merged_m31_aug_no_blanks.npy')#np.load('datasets/cc/pos_combined_feb9.npy')\n",
    "predictions_pos  = my_model._predict(pos_v, y= None, discrete = False)\n",
    "\n",
    "\n",
    "neg_len = predictions_neg.shape[0]\n",
    "pos_len = predictions_pos.shape[0]\n",
    "\n",
    "predictions_combined = np.zeros((neg_len+pos_len,))\n",
    "labels_combined = np.zeros((neg_len+pos_len,))\n",
    "\n",
    "for i in range(neg_len):\n",
    "    predictions_combined[i]=  predictions_neg[i][0]\n",
    "    \n",
    "for i in range(pos_len):\n",
    "    predictions_combined[neg_len+i] =  predictions_pos[i][0]\n",
    "    labels_combined[neg_len+i] = 1\n",
    "    \n",
    "predictions_neg.shape, predictions_combined.shape    "
   ]
  },
  {
   "cell_type": "code",
   "execution_count": 72,
   "metadata": {},
   "outputs": [
    {
     "data": {
      "text/plain": [
       "Text(0,0.5,'TPR')"
      ]
     },
     "execution_count": 72,
     "metadata": {},
     "output_type": "execute_result"
    },
    {
     "data": {
      "image/png": "[encoded data removed]",
      "text/plain": [
       "<Figure size 432x288 with 1 Axes>"
      ]
     },
     "metadata": {
      "needs_background": "light"
     },
     "output_type": "display_data"
    }
   ],
   "source": [
    "score = predictions_combined\n",
    "y =labels_combined\n",
    "\n",
    "roc_x = []\n",
    "roc_y = []\n",
    "min_score = min(score)\n",
    "max_score = max(score)\n",
    "thr = np.linspace(0.0, 1, 5000)\n",
    "FP=0\n",
    "TP=0\n",
    "N = neg_len\n",
    "P = pos_len\n",
    "\n",
    "for thresh in thr:\n",
    "    for i in range(len(score)):\n",
    "        if (score[i] >= thresh):\n",
    "            if (y[i]==1):\n",
    "                TP = TP + 1\n",
    "            if (y[i]==0):\n",
    "                FP = FP + 1\n",
    "                \n",
    "    roc_x.append(FP/float(N))\n",
    "    roc_y.append(TP/float(P))\n",
    "    FP=0\n",
    "    TP=0\n",
    "\n",
    "# fpr_2arch12_9 = roc_x\n",
    "# tpr_2arch12_9 = roc_y\n",
    "\n",
    "plt.scatter(roc_x,roc_y)\n",
    "plt.xticks(np.arange(0, 1.0, step=0.05))\n",
    "plt.yticks(np.arange(0, 1, step=0.05))\n",
    "plt.title('ROC')\n",
    "plt.xlabel('FPR')\n",
    "plt.ylabel('TPR')"
   ]
  },
  {
   "cell_type": "code",
   "execution_count": 73,
   "metadata": {
    "scrolled": true
   },
   "outputs": [
    {
     "data": {
      "image/png": "[encoded data removed]",
      "text/plain": [
       "<Figure size 432x288 with 1 Axes>"
      ]
     },
     "metadata": {
      "needs_background": "light"
     },
     "output_type": "display_data"
    }
   ],
   "source": [
    "import numpy as np\n",
    "from scipy import interpolate\n",
    "\n",
    "# fpr_unique, indices = np.unique(np.array(fpr_2arch12_9), return_index=True)\n",
    "# tpr_unique =np.array(tpr_2arch12_9)[indices]\n",
    "\n",
    "fc = interpolate.interp1d(np.flip(np.array(roc_x)), np.flip(np.array(roc_y)), kind=1)\n",
    "xn =np.arange(0.00,1,0.001)\n",
    "yn = fc(xn)\n",
    "\n",
    "fpr_2arch12_1=xn\n",
    "tpr_2arch12_20=yn\n",
    "\n",
    "plt.plot(xn,yn)\n",
    "plt.xticks(np.arange(0, 1.0, step=0.05))\n",
    "plt.yticks(np.arange(0, 1, step=0.05))\n",
    "plt.show()"
   ]
  }
 ],
 "metadata": {
  "kernelspec": {
   "display_name": "Python 3",
   "language": "python",
   "name": "python3"
  },
  "language_info": {
   "codemirror_mode": {
    "name": "ipython",
    "version": 3
   },
   "file_extension": ".py",
   "mimetype": "text/x-python",
   "name": "python",
   "nbconvert_exporter": "python",
   "pygments_lexer": "ipython3",
   "version": "3.8.5"
  }
 },
 "nbformat": 4,
 "nbformat_minor": 2
}
