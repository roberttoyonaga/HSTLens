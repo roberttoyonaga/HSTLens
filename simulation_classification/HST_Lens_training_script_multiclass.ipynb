{
 "cells": [
  {
   "cell_type": "code",
   "execution_count": 1,
   "metadata": {},
   "outputs": [
    {
     "data": {
      "text/html": [
       "<style>.container {width:100% !important;}</style>"
      ],
      "text/plain": [
       "<IPython.core.display.HTML object>"
      ]
     },
     "metadata": {},
     "output_type": "display_data"
    }
   ],
   "source": [
    "from IPython.core.display import display, HTML\n",
    "display(HTML('<style>.container {width:100% !important;}</style>'))"
   ]
  },
  {
   "cell_type": "code",
   "execution_count": 2,
   "metadata": {},
   "outputs": [],
   "source": [
    "# 3 classes\n",
    "'''\n",
    "Load the datasets for each clas from their numpy files and concatenate them and shuffle. \n",
    "The one-hot-encoded labels are shuffled in the exact same arrangement.\n",
    "'''\n",
    "import numpy as np\n",
    "\n",
    "#load numpy binaries\n",
    "# pos = np.load('datasets/cc/pos_jan21.npy')[:7192] #positive set is already shuffled\n",
    "# neg = np.load('datasets/cc/neg7192.npy')\n",
    "# crowded =np.load('datasets/cc/crowded7192.npy')\n",
    "\n",
    "pos = np.load('datasets/cc/pos_jan21.npy')[:12000] #14k in each class\n",
    "neg = np.load('datasets/batchjob_3_neg.npy')[:12000]\n",
    "crowded =np.load('datasets/cc/batchjob_3_crowded.npy')[:12000]\n",
    "\n",
    "# pos_v = np.load('datasets/cc/pos_val_jan26.npy')[:7192] #same validation set as binary\n",
    "# neg_v = np.load('datasets/cc/neg7192_val.npy')\n",
    "# crowded_v =np.load('datasets/cc/crowded7192_val.npy')\n",
    "\n",
    "pos_v = np.load('datasets/cc/pos_val_jan26.npy')[:2500] #same validation set as binary\n",
    "neg_v = np.load('datasets/batchjob_3_neg.npy')[12000:]\n",
    "crowded_v =np.load('datasets/cc/batchjob_3_crowded.npy')[12000:]\n",
    "\n",
    "# pos_v = np.load('datasets/cc/pos_combined_feb9.npy')[:2500] \n",
    "# neg_v = np.load('datasets/cc/neg_val_feb9.npy')\n",
    "# crowded_v =np.load('datasets/cc/crowded_val_feb9.npy')\n",
    "\n",
    "\n",
    "#one-hot-encode\n",
    "py =np.ones((pos.shape[0],3))\n",
    "for i in range(py.shape[0]): py[i] =[1,0,0]\n",
    "ny =np.ones((neg.shape[0],3))\n",
    "for i in range(ny.shape[0]): ny[i] =[0,1,0]\n",
    "cy =np.ones((crowded.shape[0],3))\n",
    "for i in range(cy.shape[0]): cy[i] =[0,0,1]\n",
    "    \n",
    "py_v =np.ones((pos_v.shape[0],3))\n",
    "for i in range(py_v.shape[0]): py_v[i] =[1,0,0]\n",
    "ny_v =np.ones((neg_v.shape[0],3))\n",
    "for i in range(ny_v.shape[0]): ny_v[i] =[0,1,0]\n",
    "cy_v =np.ones((crowded_v.shape[0],3))\n",
    "for i in range(cy_v.shape[0]): cy_v[i] =[0,0,1]\n",
    "\n",
    "\n",
    "#concat the data sets into features and labels\n",
    "x_combined =np.concatenate((pos, neg, crowded))#, paper_pos, paper_neg))#, multisource))\n",
    "y_combined =np.concatenate((py, ny, cy))#, ppy, pny))#, my)) \n",
    "\n",
    "x_combined_v =np.concatenate((pos_v, neg_v, crowded_v))#, paper_pos, paper_neg))#, multisource))\n",
    "y_combined_v =np.concatenate((py_v, ny_v, cy_v))#, ppy, pny))#, my)) \n",
    "\n",
    "\n",
    "#shuffle the data sets\n",
    "# s3 = np.arange(x_combined.shape[0])\n",
    "# np.random.shuffle(s3)\n",
    "# x_combined_shuf =x_combined[s3]\n",
    "# y_combined_shuf = y_combined[s3]\n",
    "\n",
    "s3 = np.arange(x_combined.shape[0])\n",
    "np.random.shuffle(s3)\n",
    "x_combined =x_combined[s3]\n",
    "y_combined = y_combined[s3]"
   ]
  },
  {
   "cell_type": "code",
   "execution_count": 1,
   "metadata": {},
   "outputs": [
    {
     "name": "stderr",
     "output_type": "stream",
     "text": [
      "/home/robbie/anaconda2/lib/python2.7/site-packages/sklearn/utils/validation.py:475: DataConversionWarning: Data with input dtype >f8 was converted to float64.\n",
      "  warnings.warn(msg, DataConversionWarning)\n"
     ]
    },
    {
     "ename": "MemoryError",
     "evalue": "",
     "output_type": "error",
     "traceback": [
      "\u001b[0;31m---------------------------------------------------------------------------\u001b[0m",
      "\u001b[0;31mMemoryError\u001b[0m                               Traceback (most recent call last)",
      "\u001b[0;32m<ipython-input-1-f0e73d2ab1d1>\u001b[0m in \u001b[0;36m<module>\u001b[0;34m()\u001b[0m\n\u001b[1;32m     68\u001b[0m \u001b[0;34m\u001b[0m\u001b[0m\n\u001b[1;32m     69\u001b[0m \u001b[0;31m#concat the data sets into features and labels\u001b[0m\u001b[0;34m\u001b[0m\u001b[0;34m\u001b[0m\u001b[0m\n\u001b[0;32m---> 70\u001b[0;31m \u001b[0mx_combined\u001b[0m \u001b[0;34m=\u001b[0m\u001b[0mnp\u001b[0m\u001b[0;34m.\u001b[0m\u001b[0mconcatenate\u001b[0m\u001b[0;34m(\u001b[0m\u001b[0;34m(\u001b[0m\u001b[0mpos\u001b[0m\u001b[0;34m,\u001b[0m \u001b[0mneg\u001b[0m\u001b[0;34m,\u001b[0m \u001b[0mcrowded\u001b[0m\u001b[0;34m)\u001b[0m\u001b[0;34m)\u001b[0m\u001b[0;31m#, paper_pos, paper_neg))#, multisource))\u001b[0m\u001b[0;34m\u001b[0m\u001b[0m\n\u001b[0m\u001b[1;32m     71\u001b[0m \u001b[0my_combined\u001b[0m \u001b[0;34m=\u001b[0m\u001b[0mnp\u001b[0m\u001b[0;34m.\u001b[0m\u001b[0mconcatenate\u001b[0m\u001b[0;34m(\u001b[0m\u001b[0;34m(\u001b[0m\u001b[0mpy\u001b[0m\u001b[0;34m,\u001b[0m \u001b[0mny\u001b[0m\u001b[0;34m,\u001b[0m \u001b[0mcy\u001b[0m\u001b[0;34m)\u001b[0m\u001b[0;34m)\u001b[0m\u001b[0;31m#, ppy, pny))#, my))\u001b[0m\u001b[0;34m\u001b[0m\u001b[0m\n\u001b[1;32m     72\u001b[0m \u001b[0;34m\u001b[0m\u001b[0m\n",
      "\u001b[0;31mMemoryError\u001b[0m: "
     ]
    }
   ],
   "source": [
    "#133 AUG REALS AR VALIDATION\n",
    "\n",
    "import numpy as np\n",
    "\n",
    "pos = np.load('datasets/cc/pos_jan21.npy')[:12000-2000]#[:12000-2128] #14k in each class\n",
    "neg = np.load('datasets/batchjob_3_neg.npy')[:12000]\n",
    "crowded =np.load('datasets/cc/batchjob_3_crowded.npy')[:12000]\n",
    "\n",
    "'''-------------'''\n",
    "from IPython import display\n",
    "from astropy.visualization import (ZScaleInterval, ImageNormalize)\n",
    "from sklearn.preprocessing import minmax_scale\n",
    "import os \n",
    "import matplotlib.pyplot as plt\n",
    "import numpy as np\n",
    "from astropy.io import fits\n",
    "PATH = \"/home/robbie/repos/HSTLens/CC_batch_processing/batchjob_3/datasets/cc/augmented_real_no_orig/\"#HSTLens_detections/\"\n",
    "\n",
    "l= os.listdir(PATH)\n",
    "\n",
    "pos_v = np.zeros((len(l),1,100,100))\n",
    "count=0\n",
    "fails=0\n",
    "for filename in l:\n",
    "    \n",
    "    try:  \n",
    "        data, hdr = fits.getdata(PATH + filename, 0,header=True) #'sci' image[1] data and header\n",
    "        \n",
    "        tmp_image = np.nan_to_num(data).reshape(-1,)                    \n",
    "        tmp_image = minmax_scale(tmp_image, feature_range = (0,1))\n",
    "        data = tmp_image.reshape(1,100,100) \n",
    "        pos_v[count]=data\n",
    "       \n",
    "\n",
    "      \n",
    "    except:\n",
    "        fails+=1\n",
    "        print(\"skipped due to non-existent image, or conversion error\")\n",
    "        \n",
    "        \n",
    "    count+=1\n",
    "    \n",
    "s3 = np.arange(pos_v.shape[0])#shuffle it\n",
    "np.random.shuffle(s3)\n",
    "pos_v =pos_v[s3]\n",
    "'''-------------'''\n",
    "pos = np.concatenate(( pos, pos_v[:2000]))#add reals to trainign set\n",
    "neg_v = np.load('datasets/batchjob_3_neg.npy')[12000:13000]#[12000:]\n",
    "crowded_v =np.load('datasets/cc/batchjob_3_crowded.npy')[12000:13000]#[12000:]\n",
    "\n",
    "\n",
    "\n",
    "#one-hot-encode\n",
    "py =np.ones((pos.shape[0],3))\n",
    "for i in range(py.shape[0]): py[i] =[1,0,0]\n",
    "ny =np.ones((neg.shape[0],3))\n",
    "for i in range(ny.shape[0]): ny[i] =[0,1,0]\n",
    "cy =np.ones((crowded.shape[0],3))\n",
    "for i in range(cy.shape[0]): cy[i] =[0,0,1]\n",
    "    \n",
    "py_v =np.ones((pos_v.shape[0],3))\n",
    "for i in range(py_v.shape[0]): py_v[i] =[1,0,0]\n",
    "ny_v =np.ones((neg_v.shape[0],3))\n",
    "for i in range(ny_v.shape[0]): ny_v[i] =[0,1,0]\n",
    "cy_v =np.ones((crowded_v.shape[0],3))\n",
    "for i in range(cy_v.shape[0]): cy_v[i] =[0,0,1]\n",
    "\n",
    "\n",
    "#concat the data sets into features and labels\n",
    "x_combined =np.concatenate((pos, neg, crowded))#, paper_pos, paper_neg))#, multisource))\n",
    "y_combined =np.concatenate((py, ny, cy))#, ppy, pny))#, my)) \n",
    "\n",
    "x_combined_v =np.concatenate((pos_v[2000:], neg_v, crowded_v))#, paper_pos, paper_neg))#, multisource))\n",
    "y_combined_v =np.concatenate((py_v[2000:], ny_v, cy_v))#, ppy, pny))#, my)) \n",
    "\n",
    "\n",
    "\n",
    "s3 = np.arange(x_combined.shape[0])\n",
    "np.random.shuffle(s3)\n",
    "x_combined =x_combined[s3]\n",
    "y_combined = y_combined[s3]"
   ]
  },
  {
   "cell_type": "code",
   "execution_count": 3,
   "metadata": {},
   "outputs": [
    {
     "data": {
      "text/plain": [
       "(3059, 1, 100, 100)"
      ]
     },
     "execution_count": 3,
     "metadata": {},
     "output_type": "execute_result"
    }
   ],
   "source": [
    "PATH = \"/home/robbie/repos/HSTLens/CC_batch_processing/batchjob_3/datasets/cc/augmented_real_no_orig/\"#HSTLens_detections/\"\n",
    "\n",
    "l= os.listdir(PATH)\n",
    "\n",
    "pos_v = np.zeros((len(l),1,100,100))\n",
    "count=0\n",
    "fails=0\n",
    "for filename in l:\n",
    "    \n",
    "    try:  \n",
    "        data, hdr = fits.getdata(PATH + filename, 0,header=True) #'sci' image[1] data and header\n",
    "        \n",
    "        tmp_image = np.nan_to_num(data).reshape(-1,)                    \n",
    "        tmp_image = minmax_scale(tmp_image, feature_range = (0,1))\n",
    "        data = tmp_image.reshape(1,100,100) \n",
    "        pos_v[count]=data\n",
    "       \n",
    "\n",
    "      \n",
    "    except:\n",
    "        fails+=1\n",
    "        print(\"skipped due to non-existent image, or conversion error\")\n",
    "        \n",
    "        \n",
    "    count+=1\n",
    "    \n",
    "pos_v.shape"
   ]
  },
  {
   "cell_type": "code",
   "execution_count": 5,
   "metadata": {},
   "outputs": [
    {
     "name": "stdout",
     "output_type": "stream",
     "text": [
      "curr num 23 next=1, exit=00\n"
     ]
    },
    {
     "data": {
      "image/png": "[encoded data removed]",
      "text/plain": [
       "<Figure size 432x288 with 1 Axes>"
      ]
     },
     "metadata": {
      "needs_background": "light"
     },
     "output_type": "display_data"
    }
   ],
   "source": [
    "##### quickly view some images\n",
    "'''\n",
    "This cell allows for quick viewing of training examples that you've created. \n",
    "You can uncomment lines to plot the original images besided the finished product.\n",
    "'''\n",
    "from astropy.visualization import (ZScaleInterval, ImageNormalize)\n",
    "import numpy as np\n",
    "import matplotlib.pyplot as plt\n",
    "from IPython import display\n",
    "import os\n",
    "pos = np.load('datasets/cc/pos_combined_feb9.npy') #14k in each class\n",
    "\n",
    "ims1 = pos_v\n",
    "\n",
    "sp=int(input(\"start position\"))\n",
    "for i in range(len(ims1)):\n",
    "    exit=False\n",
    "    \n",
    "\n",
    "\n",
    "    while(1):\n",
    "\n",
    "        display.clear_output(wait=True)\n",
    "\n",
    "        \n",
    "        ans = int(input(\"curr num \"+str(i+sp)+\" next=1, exit=0\"))\n",
    "        plt.imshow((ims1[i+sp][0]))#,cmap='gray') \n",
    "#         norm = ImageNormalize(ims1[i+sp][0], interval = ZScaleInterval())\n",
    "#         plt.imshow(ims1[i+sp][0],norm=norm, cmap='gray')\n",
    "        plt.pause(0.01) \n",
    "        \n",
    "        if ans ==5:\n",
    "            break\n",
    "        if ans==0:\n",
    "            exit=True\n",
    "            break\n",
    "\n",
    "    if exit==True:\n",
    "        break\n"
   ]
  },
  {
   "cell_type": "code",
   "execution_count": 2,
   "metadata": {},
   "outputs": [
    {
     "name": "stdout",
     "output_type": "stream",
     "text": [
      "Default GPU Device: /device:GPU:0\n"
     ]
    }
   ],
   "source": [
    "import tensorflow as tf\n",
    "if tf.test.gpu_device_name():\n",
    "    print('Default GPU Device: {}'.format(tf.test.gpu_device_name()))\n",
    "else:\n",
    "    print(\"Please install GPU version of TF\")"
   ]
  },
  {
   "cell_type": "code",
   "execution_count": 3,
   "metadata": {
    "scrolled": true
   },
   "outputs": [
    {
     "name": "stderr",
     "output_type": "stream",
     "text": [
      "Using TensorFlow backend.\n"
     ]
    },
    {
     "name": "stdout",
     "output_type": "stream",
     "text": [
      "building 3class arch 10\n",
      "(?, 1, 100, 100)\n",
      "3arch10\n",
      "...Fitting model ...\n",
      "Train on 36000 samples, validate on 7284 samples\n",
      "Epoch 1/30\n",
      " 1280/36000 [>.............................] - ETA: 2:42 - loss: 1.1409 - acc: 0.5203"
     ]
    },
    {
     "ename": "KeyboardInterrupt",
     "evalue": "",
     "output_type": "error",
     "traceback": [
      "\u001b[0;31m---------------------------------------------------------------------------\u001b[0m",
      "\u001b[0;31mKeyboardInterrupt\u001b[0m                         Traceback (most recent call last)",
      "\u001b[0;32m<ipython-input-3-184c2e30888e>\u001b[0m in \u001b[0;36m<module>\u001b[0;34m()\u001b[0m\n\u001b[1;32m     11\u001b[0m \u001b[0mval\u001b[0m\u001b[0;34m=\u001b[0m\u001b[0;34m[\u001b[0m\u001b[0mx_combined_v\u001b[0m\u001b[0;34m,\u001b[0m\u001b[0my_combined_v\u001b[0m\u001b[0;34m]\u001b[0m\u001b[0;34m\u001b[0m\u001b[0m\n\u001b[1;32m     12\u001b[0m \u001b[0;34m\u001b[0m\u001b[0m\n\u001b[0;32m---> 13\u001b[0;31m \u001b[0mmy_model\u001b[0m\u001b[0;34m.\u001b[0m\u001b[0m_fit\u001b[0m\u001b[0;34m(\u001b[0m\u001b[0mx_combined\u001b[0m\u001b[0;34m,\u001b[0m\u001b[0my_combined\u001b[0m\u001b[0;34m,\u001b[0m \u001b[0mval\u001b[0m\u001b[0;34m)\u001b[0m\u001b[0;34m\u001b[0m\u001b[0m\n\u001b[0m\u001b[1;32m     14\u001b[0m \u001b[0;34m\u001b[0m\u001b[0m\n\u001b[1;32m     15\u001b[0m \u001b[0;31m# my_model.model.save(\"weights/3_class_weights\") # issue with json serializing\u001b[0m\u001b[0;34m\u001b[0m\u001b[0;34m\u001b[0m\u001b[0m\n",
      "\u001b[0;32m/home/robbie/repos/HSTLens/CC_batch_processing/batchjob_3/HSTLens_base_3class_arch12.pyc\u001b[0m in \u001b[0;36m_fit\u001b[0;34m(self, data, labels, val)\u001b[0m\n\u001b[1;32m    128\u001b[0m \u001b[0;34m\u001b[0m\u001b[0m\n\u001b[1;32m    129\u001b[0m         self.model.fit(data, labels,validation_data =val, batch_size=self.batch_size, callbacks=callbacks_list,\n\u001b[0;32m--> 130\u001b[0;31m                        shuffle= False, validation_split = 0, epochs= self.n_epochs)        \n\u001b[0m\u001b[1;32m    131\u001b[0m         \u001b[0mself\u001b[0m\u001b[0;34m.\u001b[0m\u001b[0mfitted\u001b[0m\u001b[0;34m=\u001b[0m\u001b[0mTrue\u001b[0m\u001b[0;34m\u001b[0m\u001b[0m\n\u001b[1;32m    132\u001b[0m \u001b[0;34m\u001b[0m\u001b[0m\n",
      "\u001b[0;32m/home/robbie/python_environments/python27/local/lib/python2.7/site-packages/keras/engine/training.pyc\u001b[0m in \u001b[0;36mfit\u001b[0;34m(self, x, y, batch_size, epochs, verbose, callbacks, validation_split, validation_data, shuffle, class_weight, sample_weight, initial_epoch, steps_per_epoch, validation_steps, validation_freq, max_queue_size, workers, use_multiprocessing, **kwargs)\u001b[0m\n\u001b[1;32m   1176\u001b[0m                                         \u001b[0msteps_per_epoch\u001b[0m\u001b[0;34m=\u001b[0m\u001b[0msteps_per_epoch\u001b[0m\u001b[0;34m,\u001b[0m\u001b[0;34m\u001b[0m\u001b[0m\n\u001b[1;32m   1177\u001b[0m                                         \u001b[0mvalidation_steps\u001b[0m\u001b[0;34m=\u001b[0m\u001b[0mvalidation_steps\u001b[0m\u001b[0;34m,\u001b[0m\u001b[0;34m\u001b[0m\u001b[0m\n\u001b[0;32m-> 1178\u001b[0;31m                                         validation_freq=validation_freq)\n\u001b[0m\u001b[1;32m   1179\u001b[0m \u001b[0;34m\u001b[0m\u001b[0m\n\u001b[1;32m   1180\u001b[0m     def evaluate(self,\n",
      "\u001b[0;32m/home/robbie/python_environments/python27/local/lib/python2.7/site-packages/keras/engine/training_arrays.pyc\u001b[0m in \u001b[0;36mfit_loop\u001b[0;34m(model, fit_function, fit_inputs, out_labels, batch_size, epochs, verbose, callbacks, val_function, val_inputs, shuffle, callback_metrics, initial_epoch, steps_per_epoch, validation_steps, validation_freq)\u001b[0m\n\u001b[1;32m    202\u001b[0m                     \u001b[0mins_batch\u001b[0m\u001b[0;34m[\u001b[0m\u001b[0mi\u001b[0m\u001b[0;34m]\u001b[0m \u001b[0;34m=\u001b[0m \u001b[0mins_batch\u001b[0m\u001b[0;34m[\u001b[0m\u001b[0mi\u001b[0m\u001b[0;34m]\u001b[0m\u001b[0;34m.\u001b[0m\u001b[0mtoarray\u001b[0m\u001b[0;34m(\u001b[0m\u001b[0;34m)\u001b[0m\u001b[0;34m\u001b[0m\u001b[0m\n\u001b[1;32m    203\u001b[0m \u001b[0;34m\u001b[0m\u001b[0m\n\u001b[0;32m--> 204\u001b[0;31m                 \u001b[0mouts\u001b[0m \u001b[0;34m=\u001b[0m \u001b[0mfit_function\u001b[0m\u001b[0;34m(\u001b[0m\u001b[0mins_batch\u001b[0m\u001b[0;34m)\u001b[0m\u001b[0;34m\u001b[0m\u001b[0m\n\u001b[0m\u001b[1;32m    205\u001b[0m                 \u001b[0mouts\u001b[0m \u001b[0;34m=\u001b[0m \u001b[0mto_list\u001b[0m\u001b[0;34m(\u001b[0m\u001b[0mouts\u001b[0m\u001b[0;34m)\u001b[0m\u001b[0;34m\u001b[0m\u001b[0m\n\u001b[1;32m    206\u001b[0m                 \u001b[0;32mfor\u001b[0m \u001b[0ml\u001b[0m\u001b[0;34m,\u001b[0m \u001b[0mo\u001b[0m \u001b[0;32min\u001b[0m \u001b[0mzip\u001b[0m\u001b[0;34m(\u001b[0m\u001b[0mout_labels\u001b[0m\u001b[0;34m,\u001b[0m \u001b[0mouts\u001b[0m\u001b[0;34m)\u001b[0m\u001b[0;34m:\u001b[0m\u001b[0;34m\u001b[0m\u001b[0m\n",
      "\u001b[0;32m/home/robbie/python_environments/python27/local/lib/python2.7/site-packages/keras/backend/tensorflow_backend.pyc\u001b[0m in \u001b[0;36m__call__\u001b[0;34m(self, inputs)\u001b[0m\n\u001b[1;32m   2977\u001b[0m                     \u001b[0;32mreturn\u001b[0m \u001b[0mself\u001b[0m\u001b[0;34m.\u001b[0m\u001b[0m_legacy_call\u001b[0m\u001b[0;34m(\u001b[0m\u001b[0minputs\u001b[0m\u001b[0;34m)\u001b[0m\u001b[0;34m\u001b[0m\u001b[0m\n\u001b[1;32m   2978\u001b[0m \u001b[0;34m\u001b[0m\u001b[0m\n\u001b[0;32m-> 2979\u001b[0;31m             \u001b[0;32mreturn\u001b[0m \u001b[0mself\u001b[0m\u001b[0;34m.\u001b[0m\u001b[0m_call\u001b[0m\u001b[0;34m(\u001b[0m\u001b[0minputs\u001b[0m\u001b[0;34m)\u001b[0m\u001b[0;34m\u001b[0m\u001b[0m\n\u001b[0m\u001b[1;32m   2980\u001b[0m         \u001b[0;32melse\u001b[0m\u001b[0;34m:\u001b[0m\u001b[0;34m\u001b[0m\u001b[0m\n\u001b[1;32m   2981\u001b[0m             \u001b[0;32mif\u001b[0m \u001b[0mpy_any\u001b[0m\u001b[0;34m(\u001b[0m\u001b[0mis_tensor\u001b[0m\u001b[0;34m(\u001b[0m\u001b[0mx\u001b[0m\u001b[0;34m)\u001b[0m \u001b[0;32mfor\u001b[0m \u001b[0mx\u001b[0m \u001b[0;32min\u001b[0m \u001b[0minputs\u001b[0m\u001b[0;34m)\u001b[0m\u001b[0;34m:\u001b[0m\u001b[0;34m\u001b[0m\u001b[0m\n",
      "\u001b[0;32m/home/robbie/python_environments/python27/local/lib/python2.7/site-packages/keras/backend/tensorflow_backend.pyc\u001b[0m in \u001b[0;36m_call\u001b[0;34m(self, inputs)\u001b[0m\n\u001b[1;32m   2935\u001b[0m             \u001b[0mfetched\u001b[0m \u001b[0;34m=\u001b[0m \u001b[0mself\u001b[0m\u001b[0;34m.\u001b[0m\u001b[0m_callable_fn\u001b[0m\u001b[0;34m(\u001b[0m\u001b[0;34m*\u001b[0m\u001b[0marray_vals\u001b[0m\u001b[0;34m,\u001b[0m \u001b[0mrun_metadata\u001b[0m\u001b[0;34m=\u001b[0m\u001b[0mself\u001b[0m\u001b[0;34m.\u001b[0m\u001b[0mrun_metadata\u001b[0m\u001b[0;34m)\u001b[0m\u001b[0;34m\u001b[0m\u001b[0m\n\u001b[1;32m   2936\u001b[0m         \u001b[0;32melse\u001b[0m\u001b[0;34m:\u001b[0m\u001b[0;34m\u001b[0m\u001b[0m\n\u001b[0;32m-> 2937\u001b[0;31m             \u001b[0mfetched\u001b[0m \u001b[0;34m=\u001b[0m \u001b[0mself\u001b[0m\u001b[0;34m.\u001b[0m\u001b[0m_callable_fn\u001b[0m\u001b[0;34m(\u001b[0m\u001b[0;34m*\u001b[0m\u001b[0marray_vals\u001b[0m\u001b[0;34m)\u001b[0m\u001b[0;34m\u001b[0m\u001b[0m\n\u001b[0m\u001b[1;32m   2938\u001b[0m         \u001b[0;32mreturn\u001b[0m \u001b[0mfetched\u001b[0m\u001b[0;34m[\u001b[0m\u001b[0;34m:\u001b[0m\u001b[0mlen\u001b[0m\u001b[0;34m(\u001b[0m\u001b[0mself\u001b[0m\u001b[0;34m.\u001b[0m\u001b[0moutputs\u001b[0m\u001b[0;34m)\u001b[0m\u001b[0;34m]\u001b[0m\u001b[0;34m\u001b[0m\u001b[0m\n\u001b[1;32m   2939\u001b[0m \u001b[0;34m\u001b[0m\u001b[0m\n",
      "\u001b[0;32m/home/robbie/python_environments/python27/local/lib/python2.7/site-packages/tensorflow/python/client/session.pyc\u001b[0m in \u001b[0;36m__call__\u001b[0;34m(self, *args, **kwargs)\u001b[0m\n\u001b[1;32m   1437\u001b[0m           ret = tf_session.TF_SessionRunCallable(\n\u001b[1;32m   1438\u001b[0m               \u001b[0mself\u001b[0m\u001b[0;34m.\u001b[0m\u001b[0m_session\u001b[0m\u001b[0;34m.\u001b[0m\u001b[0m_session\u001b[0m\u001b[0;34m,\u001b[0m \u001b[0mself\u001b[0m\u001b[0;34m.\u001b[0m\u001b[0m_handle\u001b[0m\u001b[0;34m,\u001b[0m \u001b[0margs\u001b[0m\u001b[0;34m,\u001b[0m \u001b[0mstatus\u001b[0m\u001b[0;34m,\u001b[0m\u001b[0;34m\u001b[0m\u001b[0m\n\u001b[0;32m-> 1439\u001b[0;31m               run_metadata_ptr)\n\u001b[0m\u001b[1;32m   1440\u001b[0m         \u001b[0;32mif\u001b[0m \u001b[0mrun_metadata\u001b[0m\u001b[0;34m:\u001b[0m\u001b[0;34m\u001b[0m\u001b[0m\n\u001b[1;32m   1441\u001b[0m           \u001b[0mproto_data\u001b[0m \u001b[0;34m=\u001b[0m \u001b[0mtf_session\u001b[0m\u001b[0;34m.\u001b[0m\u001b[0mTF_GetBuffer\u001b[0m\u001b[0;34m(\u001b[0m\u001b[0mrun_metadata_ptr\u001b[0m\u001b[0;34m)\u001b[0m\u001b[0;34m\u001b[0m\u001b[0m\n",
      "\u001b[0;31mKeyboardInterrupt\u001b[0m: "
     ]
    }
   ],
   "source": [
    "'''\n",
    "Load the model files, build architecture, train and sav weights. Save all samples after 50000 for validation.\n",
    "It might be better ot keep a set completely seperate for validation. \n",
    "'''\n",
    "\n",
    "from HSTLens_resnet_3class_arch12 import deeplens_classifier\n",
    "\n",
    "my_model = deeplens_classifier(n_epochs=30, batch_size=32)\n",
    "my_model._build() \n",
    "\n",
    "val=[x_combined_v,y_combined_v]\n",
    "\n",
    "my_model._fit(x_combined,y_combined, val)\n",
    "\n",
    "# my_model.model.save(\"weights/3_class_weights\") # issue with json serializing\n",
    "my_model.model.save_weights(\"weights/3arch_12_37\")\n",
    "# my_model.model.load_weights(\"multiclass4_ensemble_1\")\n"
   ]
  },
  {
   "cell_type": "code",
   "execution_count": 4,
   "metadata": {
    "scrolled": true
   },
   "outputs": [
    {
     "name": "stdout",
     "output_type": "stream",
     "text": [
      "building 3class arch 10\n",
      "(?, 1, 100, 100)\n",
      "3arch10\n"
     ]
    }
   ],
   "source": [
    "#build and load weights\n",
    "from HSTLens_resnet_3class_arch12 import deeplens_classifier\n",
    "\n",
    "my_model = deeplens_classifier(n_epochs=8, batch_size=32)\n",
    "my_model._build() \n",
    "my_model.model.load_weights('/home/robbie/repos/HSTLens/CC_batch_processing/batchjob_3/weights/3arch12_26/epoch_weights00000009.h5')\n"
   ]
  },
  {
   "cell_type": "code",
   "execution_count": 3,
   "metadata": {},
   "outputs": [
    {
     "name": "stderr",
     "output_type": "stream",
     "text": [
      "/home/robbie/anaconda2/lib/python2.7/site-packages/matplotlib/cbook/deprecation.py:107: MatplotlibDeprecationWarning: Passing one of 'on', 'true', 'off', 'false' as a boolean is deprecated; use an actual boolean (True/False) instead.\n",
      "  warnings.warn(message, mplDeprecation, stacklevel=1)\n"
     ]
    },
    {
     "data": {
      "text/plain": [
       "<matplotlib.legend.Legend at 0x7fb6a42687d0>"
      ]
     },
     "execution_count": 3,
     "metadata": {},
     "output_type": "execute_result"
    },
    {
     "data": {
      "image/png": "[encoded data removed]",
      "text/plain": [
       "<Figure size 432x288 with 1 Axes>"
      ]
     },
     "metadata": {
      "needs_background": "light"
     },
     "output_type": "display_data"
    }
   ],
   "source": [
    "#plot the loss vs epochs\n",
    "#my_model.model.history is a callback obj my_model.model.history is a dict\n",
    "import matplotlib.pyplot as plt\n",
    "train_loss = my_model.model.history.history['loss'] \n",
    "val_loss = my_model.model.history.history['val_loss']\n",
    "\n",
    "ep=14\n",
    "xc = range(ep)\n",
    "\n",
    "plt.figure()\n",
    "plt.title('3 classes')\n",
    "plt.xlabel('epochs');\n",
    "plt.ylabel('loss')\n",
    "plt.xticks(np.arange(0, ep, step=1))\n",
    "plt.yticks(np.arange(0, 1, step=0.05))\n",
    "plt.plot(xc, train_loss,'r-',label=\"train loss\")\n",
    "plt.plot(xc, val_loss, 'b-',label=\"validation loss\")\n",
    "plt.grid('on')\n",
    "plt.legend()"
   ]
  },
  {
   "cell_type": "code",
   "execution_count": 67,
   "metadata": {
    "scrolled": true
   },
   "outputs": [
    {
     "name": "stdout",
     "output_type": "stream",
     "text": [
      "...Generating Predictions ...\n"
     ]
    },
    {
     "data": {
      "text/plain": [
       "Text(0,0.5,'Percentage of Rankings')"
      ]
     },
     "execution_count": 67,
     "metadata": {},
     "output_type": "execute_result"
    },
    {
     "data": {
      "image/png": "[encoded data removed]",
      "text/plain": [
       "<Figure size 432x288 with 1 Axes>"
      ]
     },
     "metadata": {
      "needs_background": "light"
     },
     "output_type": "display_data"
    }
   ],
   "source": [
    "#quickly get predicitons using 1 model only\n",
    "import numpy as np\n",
    "from sklearn.preprocessing import minmax_scale\n",
    "\n",
    "test_set = np.load('datasets/cc/test_set.npy')\n",
    "\n",
    "for i in range(len(test_set)):\n",
    "    \n",
    "    tmp_image = test_set[i].reshape(-1,)                    \n",
    "    tmp_image = minmax_scale(tmp_image, feature_range = (0,1))\n",
    "    test_set[i] = tmp_image.reshape(1,100,100) \n",
    "\n",
    "\n",
    "predictions  = my_model._predict(test_set, y= None, discrete = False)\n",
    "\n",
    "new = np.zeros((10000,1))\n",
    "for i in range(len(new)):\n",
    "    new[i][0]=  predictions[i][0]\n",
    "\n",
    "import pandas as pd\n",
    "import matplotlib.pyplot as plt\n",
    "\n",
    "from astropy.io import fits\n",
    "from astropy.nddata.utils import Cutout2D\n",
    "import numpy as np\n",
    "import os \n",
    "import time\n",
    "lens=new\n",
    "\n",
    "x_axis = np.linspace(0,1, num=350)\n",
    "tens_list = [lens]\n",
    "for i in range(len(x_axis-1)):\n",
    "    tens_list.append([])\n",
    "    \n",
    "    \n",
    "def work(element,limit):\n",
    "    for probability in (tens_list[element]): #check the previous percentage bin\n",
    "        if probability>limit:\n",
    "            tens_list[element+1].append(probability)\n",
    "    return len(tens_list[element+1])\n",
    "\n",
    "y_axis =[]\n",
    "for i in range(len(x_axis-1)):\n",
    "    y_axis.append(work(i,x_axis[i]))\n",
    "    \n",
    "\n",
    "plt.plot(x_axis[0:],np.array(y_axis[0:]).astype(float)/y_axis[0])\n",
    "plt.title('Samples vs Rankings')\n",
    "plt.yticks(np.arange(0,1, 0.1))\n",
    "plt.xticks(np.arange(0,1, 0.1))\n",
    "\n",
    "plt.xlabel('Ranking')\n",
    "plt.ylabel('Percentage of Rankings')"
   ]
  },
  {
   "cell_type": "code",
   "execution_count": 85,
   "metadata": {},
   "outputs": [
    {
     "data": {
      "text/plain": [
       "(0.004572241414346677, 0.673352435530086)"
      ]
     },
     "execution_count": 85,
     "metadata": {},
     "output_type": "execute_result"
    }
   ],
   "source": [
    "a= np.array(y_axis[0:]).astype(float)/y_axis[0]\n",
    "i=235\n",
    "\n",
    "\n",
    "\n",
    "a[i],x_axis[i]"
   ]
  },
  {
   "cell_type": "code",
   "execution_count": 14,
   "metadata": {},
   "outputs": [
    {
     "name": "stdout",
     "output_type": "stream",
     "text": [
      "fails 0\n",
      "...Generating Predictions ...\n"
     ]
    }
   ],
   "source": [
    "# closer inspection\n",
    "from IPython import display\n",
    "from astropy.visualization import (ZScaleInterval, ImageNormalize)\n",
    "from sklearn.preprocessing import minmax_scale\n",
    "import os \n",
    "import matplotlib.pyplot as plt\n",
    "import numpy as np\n",
    "from astropy.io import fits\n",
    "# PATH =\"/home/robbie/repos/HSTLens/CC_batch_processing/batchjob_3/augmented_real133/\"# \n",
    "PATH =\"/home/robbie/repos/HSTLens/CC_batch_processing/batchjob_3/out/\"#HSTLens_detections/\"\n",
    "l= os.listdir(PATH)\n",
    "\n",
    "ims = np.zeros((len(l),1,100,100))\n",
    "count=0\n",
    "fails=0\n",
    "for filename in l:\n",
    "    \n",
    "    try:  \n",
    "        data, hdr = fits.getdata(PATH + filename, 0,header=True) #'sci' image[1] data and header\n",
    "        \n",
    "        tmp_image = np.nan_to_num(data).reshape(-1,)                    \n",
    "        tmp_image = minmax_scale(tmp_image, feature_range = (0,1))\n",
    "        data = tmp_image.reshape(1,100,100) \n",
    "        ims[count]=data\n",
    "       \n",
    "\n",
    "      \n",
    "    except:\n",
    "        fails+=1\n",
    "        print(\"skipped due to non-existent image, or conversion error\")\n",
    "        \n",
    "        \n",
    "    count+=1\n",
    "\n",
    "print('fails '+str(fails))\n",
    "\n",
    "\n",
    "\n",
    "#######-----------------\n",
    "\n",
    "predictions  = my_model._predict(ims, y= None, discrete = False)\n",
    "new = np.zeros((predictions.shape[0],1))\n",
    "for i in range(len(new)):\n",
    "    new[i][0]=  predictions[i][0]"
   ]
  },
  {
   "cell_type": "code",
   "execution_count": 4,
   "metadata": {},
   "outputs": [
    {
     "ename": "NameError",
     "evalue": "name 'my_model' is not defined",
     "output_type": "error",
     "traceback": [
      "\u001b[0;31m---------------------------------------------------------------------------\u001b[0m",
      "\u001b[0;31mNameError\u001b[0m                                 Traceback (most recent call last)",
      "\u001b[0;32m<ipython-input-4-0f0227bd62bf>\u001b[0m in \u001b[0;36m<module>\u001b[0;34m()\u001b[0m\n\u001b[1;32m     10\u001b[0m \u001b[0mpos_v\u001b[0m \u001b[0;34m=\u001b[0m \u001b[0mnp\u001b[0m\u001b[0;34m.\u001b[0m\u001b[0mload\u001b[0m\u001b[0;34m(\u001b[0m\u001b[0;34m'datasets/cc/pos_combined_feb9.npy'\u001b[0m\u001b[0;34m)\u001b[0m\u001b[0;34m\u001b[0m\u001b[0m\n\u001b[1;32m     11\u001b[0m \u001b[0;34m\u001b[0m\u001b[0m\n\u001b[0;32m---> 12\u001b[0;31m \u001b[0mpredictions\u001b[0m  \u001b[0;34m=\u001b[0m \u001b[0mmy_model\u001b[0m\u001b[0;34m.\u001b[0m\u001b[0m_predict\u001b[0m\u001b[0;34m(\u001b[0m\u001b[0mpos_v\u001b[0m\u001b[0;34m,\u001b[0m \u001b[0my\u001b[0m\u001b[0;34m=\u001b[0m \u001b[0mNone\u001b[0m\u001b[0;34m,\u001b[0m \u001b[0mdiscrete\u001b[0m \u001b[0;34m=\u001b[0m \u001b[0mFalse\u001b[0m\u001b[0;34m)\u001b[0m\u001b[0;34m\u001b[0m\u001b[0m\n\u001b[0m\u001b[1;32m     13\u001b[0m \u001b[0mnew\u001b[0m \u001b[0;34m=\u001b[0m \u001b[0mnp\u001b[0m\u001b[0;34m.\u001b[0m\u001b[0mzeros\u001b[0m\u001b[0;34m(\u001b[0m\u001b[0;34m(\u001b[0m\u001b[0mpredictions\u001b[0m\u001b[0;34m.\u001b[0m\u001b[0mshape\u001b[0m\u001b[0;34m[\u001b[0m\u001b[0;36m0\u001b[0m\u001b[0;34m]\u001b[0m\u001b[0;34m,\u001b[0m\u001b[0;36m1\u001b[0m\u001b[0;34m)\u001b[0m\u001b[0;34m)\u001b[0m\u001b[0;34m\u001b[0m\u001b[0m\n\u001b[1;32m     14\u001b[0m \u001b[0;32mfor\u001b[0m \u001b[0mi\u001b[0m \u001b[0;32min\u001b[0m \u001b[0mrange\u001b[0m\u001b[0;34m(\u001b[0m\u001b[0mlen\u001b[0m\u001b[0;34m(\u001b[0m\u001b[0mnew\u001b[0m\u001b[0;34m)\u001b[0m\u001b[0;34m)\u001b[0m\u001b[0;34m:\u001b[0m\u001b[0;34m\u001b[0m\u001b[0m\n",
      "\u001b[0;31mNameError\u001b[0m: name 'my_model' is not defined"
     ]
    }
   ],
   "source": [
    "# closer inspection\n",
    "from IPython import display\n",
    "from astropy.visualization import (ZScaleInterval, ImageNormalize)\n",
    "from sklearn.preprocessing import minmax_scale\n",
    "import os \n",
    "import matplotlib.pyplot as plt\n",
    "import numpy as np\n",
    "from astropy.io import fits\n",
    "\n",
    "pos_v = np.load('datasets/cc/pos_combined_feb9.npy')\n",
    "\n",
    "predictions  = my_model._predict(pos_v, y= None, discrete = False)\n",
    "new = np.zeros((predictions.shape[0],1))\n",
    "for i in range(len(new)):\n",
    "    new[i][0]=  predictions[i][0]"
   ]
  },
  {
   "cell_type": "code",
   "execution_count": 8,
   "metadata": {},
   "outputs": [
    {
     "name": "stdout",
     "output_type": "stream",
     "text": [
      "2363.0\n",
      "0.785571808511\n"
     ]
    }
   ],
   "source": [
    "count=0\n",
    "for i in range(len(new)):\n",
    "    if new[i]>   0.5616045845272206:\n",
    "        count+=1\n",
    "print float(count)\n",
    "print float(count)/predictions.shape[0]"
   ]
  },
  {
   "cell_type": "markdown",
   "metadata": {},
   "source": [
    "***\n",
    "\n",
    "# getting ROC curves with common thresholds"
   ]
  },
  {
   "cell_type": "code",
   "execution_count": 1,
   "metadata": {},
   "outputs": [
    {
     "name": "stderr",
     "output_type": "stream",
     "text": [
      "Using TensorFlow backend.\n",
      "WARNING: Logging before flag parsing goes to stderr.\n",
      "W1005 13:32:10.471591 139692757808960 deprecation_wrapper.py:119] From /home/robbie/python_environments/python27/local/lib/python2.7/site-packages/keras/backend/tensorflow_backend.py:66: The name tf.get_default_graph is deprecated. Please use tf.compat.v1.get_default_graph instead.\n",
      "\n",
      "W1005 13:32:10.482341 139692757808960 deprecation_wrapper.py:119] From /home/robbie/python_environments/python27/local/lib/python2.7/site-packages/keras/backend/tensorflow_backend.py:541: The name tf.placeholder is deprecated. Please use tf.compat.v1.placeholder instead.\n",
      "\n",
      "W1005 13:32:10.486490 139692757808960 deprecation_wrapper.py:119] From /home/robbie/python_environments/python27/local/lib/python2.7/site-packages/keras/backend/tensorflow_backend.py:4432: The name tf.random_uniform is deprecated. Please use tf.random.uniform instead.\n",
      "\n",
      "W1005 13:32:10.496129 139692757808960 deprecation_wrapper.py:119] From /home/robbie/python_environments/python27/local/lib/python2.7/site-packages/keras/backend/tensorflow_backend.py:190: The name tf.get_default_session is deprecated. Please use tf.compat.v1.get_default_session instead.\n",
      "\n",
      "W1005 13:32:10.497843 139692757808960 deprecation_wrapper.py:119] From /home/robbie/python_environments/python27/local/lib/python2.7/site-packages/keras/backend/tensorflow_backend.py:197: The name tf.ConfigProto is deprecated. Please use tf.compat.v1.ConfigProto instead.\n",
      "\n",
      "W1005 13:32:10.622320 139692757808960 deprecation_wrapper.py:119] From /home/robbie/python_environments/python27/local/lib/python2.7/site-packages/keras/backend/tensorflow_backend.py:4267: The name tf.nn.max_pool is deprecated. Please use tf.nn.max_pool2d instead.\n",
      "\n"
     ]
    },
    {
     "name": "stdout",
     "output_type": "stream",
     "text": [
      "building 3class arch 10\n",
      "(?, 1, 100, 100)\n",
      "3arch10\n"
     ]
    },
    {
     "name": "stderr",
     "output_type": "stream",
     "text": [
      "W1005 13:32:11.192801 139692757808960 deprecation.py:506] From /home/robbie/python_environments/python27/local/lib/python2.7/site-packages/keras/backend/tensorflow_backend.py:3733: calling dropout (from tensorflow.python.ops.nn_ops) with keep_prob is deprecated and will be removed in a future version.\n",
      "Instructions for updating:\n",
      "Please use `rate` instead of `keep_prob`. Rate should be set to `rate = 1 - keep_prob`.\n",
      "W1005 13:32:11.233462 139692757808960 deprecation_wrapper.py:119] From /home/robbie/python_environments/python27/local/lib/python2.7/site-packages/keras/optimizers.py:793: The name tf.train.Optimizer is deprecated. Please use tf.compat.v1.train.Optimizer instead.\n",
      "\n"
     ]
    }
   ],
   "source": [
    "#build and load weights\n",
    "from HSTLens_resnet_3class_arch12 import deeplens_classifier\n",
    "\n",
    "\n",
    "my_model = deeplens_classifier(n_epochs=8, batch_size=32)\n",
    "my_model._build() \n",
    "my_model.model.load_weights(\n",
    "    '/home/robbie/repos/HSTLens/CC_batch_processing/batchjob_3/weights/3arch12_26/epoch_weights00000009.h5')#(\"weights/2_class_weights_dim\")\n"
   ]
  },
  {
   "cell_type": "code",
   "execution_count": 4,
   "metadata": {},
   "outputs": [
    {
     "ename": "SyntaxError",
     "evalue": "invalid syntax (<ipython-input-4-f3ed630ecfed>, line 51)",
     "output_type": "error",
     "traceback": [
      "\u001b[0;36m  File \u001b[0;32m\"<ipython-input-4-f3ed630ecfed>\"\u001b[0;36m, line \u001b[0;32m51\u001b[0m\n\u001b[0;31m    predictions_neg.shape, predictions_combined.shape    u\u001b[0m\n\u001b[0m                                                         ^\u001b[0m\n\u001b[0;31mSyntaxError\u001b[0m\u001b[0;31m:\u001b[0m invalid syntax\n"
     ]
    }
   ],
   "source": [
    "from sklearn.preprocessing import minmax_scale\n",
    "import os \n",
    "import matplotlib.pyplot as plt\n",
    "import numpy as np\n",
    "from astropy.io import fits\n",
    "import numpy as np\n",
    "from sklearn.preprocessing import minmax_scale\n",
    "\n",
    "test_set = np.load('datasets/cc/test_set.npy')\n",
    "for i in range(len(test_set)):\n",
    "    \n",
    "    tmp_image = test_set[i].reshape(-1,)                    \n",
    "    tmp_image = minmax_scale(tmp_image, feature_range = (0,1))\n",
    "    test_set[i] = tmp_image.reshape(1,100,100) \n",
    "    \n",
    "predictions_neg  = my_model._predict(test_set, y= None, discrete = False)\n",
    "\n",
    "\n",
    "pos_v = np.load('/home/robbie/repos/HSTLens/CC_batch_processing/batchjob_3/datasets/cc/new_test_positives_merged_m31_aug_no_blanks.npy')#np.load('datasets/cc/pos_combined_feb9.npy')\n",
    "# PATH = \"/home/robbie/repos/HSTLens/CC_batch_processing/batchjob_3/out/\"#HSTLens_detections/\"\n",
    "# l= os.listdir(PATH)\n",
    "# pos_v = np.zeros((len(l),1,100,100))\n",
    "# count =0\n",
    "# for filename in l:\n",
    "#     try:  \n",
    "#         data, hdr = fits.getdata(PATH + filename, 0,header=True) #'sci' image[1] data and header\n",
    "        \n",
    "#         tmp_image = np.nan_to_num(data).reshape(-1,)                    \n",
    "#         tmp_image = minmax_scale(tmp_image, feature_range = (0,1))\n",
    "#         data = tmp_image.reshape(1,100,100) \n",
    "#         pos_v[count]=data\n",
    "#     except:\n",
    "#         print(\"skipped due to non-existent image, or conversion error\")\n",
    "#     count+=1\n",
    "    \n",
    "predictions_pos  = my_model._predict(pos_v, y= None, discrete = False)\n",
    "\n",
    "neg_len = predictions_neg.shape[0]\n",
    "pos_len = predictions_pos.shape[0]\n",
    "\n",
    "predictions_combined = np.zeros((neg_len+pos_len,))\n",
    "labels_combined = np.zeros((neg_len+pos_len,))\n",
    "\n",
    "for i in range(neg_len):\n",
    "    predictions_combined[i]=  predictions_neg[i][0]\n",
    "    \n",
    "for i in range(pos_len):\n",
    "    predictions_combined[neg_len+i] =  predictions_pos[i][0]\n",
    "    labels_combined[neg_len+i] = 1\n",
    "    \n",
    "predictions_neg.shape, predictions_combined.shape"
   ]
  },
  {
   "cell_type": "code",
   "execution_count": 2,
   "metadata": {},
   "outputs": [
    {
     "ename": "SyntaxError",
     "evalue": "invalid syntax (<ipython-input-2-ae774c99fce5>, line 30)",
     "output_type": "error",
     "traceback": [
      "\u001b[0;36m  File \u001b[0;32m\"<ipython-input-2-ae774c99fce5>\"\u001b[0;36m, line \u001b[0;32m30\u001b[0m\n\u001b[0;31m    print(predictions_pos[i][0]) u\u001b[0m\n\u001b[0m                                 ^\u001b[0m\n\u001b[0;31mSyntaxError\u001b[0m\u001b[0;31m:\u001b[0m invalid syntax\n"
     ]
    }
   ],
   "source": [
    "#for testing on the new candidates\n",
    "from sklearn.preprocessing import minmax_scale\n",
    "import os \n",
    "import matplotlib.pyplot as plt\n",
    "import numpy as np\n",
    "from astropy.io import fits\n",
    "import numpy as np\n",
    "from sklearn.preprocessing import minmax_scale\n",
    "\n",
    "\n",
    "PATH ='/home/robbie/repos/HSTLens/make_simulations/new_candidates/'\n",
    "l= os.listdir(PATH)\n",
    "pos_v = np.zeros((len(l),1,100,100))\n",
    "count =0\n",
    "for filename in l:\n",
    "    try:  \n",
    "        data, hdr = fits.getdata(PATH + filename, 0,header=True) #'sci' image[1] data and header\n",
    "        \n",
    "        tmp_image = np.nan_to_num(data).reshape(-1,)                    \n",
    "        tmp_image = minmax_scale(tmp_image, feature_range = (0,1))\n",
    "        data = tmp_image.reshape(1,100,100) \n",
    "        pos_v[count]=data\n",
    "    except:\n",
    "        print(\"skipped due to non-existent image, or conversion error\")\n",
    "    count+=1\n",
    "    \n",
    "predictions_pos  = my_model._predict(pos_v, y= None, discrete = False)\n",
    "\n",
    "for i in range(4):\n",
    "    print(predictions_pos[i][0]) u"
   ]
  },
  {
   "cell_type": "code",
   "execution_count": 66,
   "metadata": {},
   "outputs": [
    {
     "data": {
      "text/plain": [
       "<matplotlib.image.AxesImage at 0x7f23c88df950>"
      ]
     },
     "execution_count": 66,
     "metadata": {},
     "output_type": "execute_result"
    },
    {
     "data": {
      "image/png": "[encoded data removed]",
      "text/plain": [
       "<Figure size 432x288 with 1 Axes>"
      ]
     },
     "metadata": {
      "needs_background": "light"
     },
     "output_type": "display_data"
    }
   ],
   "source": [
    "#for testing on the new candidates\n",
    "plt.imshow(pos_v[3][0])"
   ]
  },
  {
   "cell_type": "code",
   "execution_count": 3,
   "metadata": {},
   "outputs": [
    {
     "ename": "ImportError",
     "evalue": "No module named astropy.io",
     "output_type": "error",
     "traceback": [
      "\u001b[0;31m---------------------------------------------------------------------------\u001b[0m",
      "\u001b[0;31mImportError\u001b[0m                               Traceback (most recent call last)",
      "\u001b[0;32m<ipython-input-3-b40fb3c3132b>\u001b[0m in \u001b[0;36m<module>\u001b[0;34m()\u001b[0m\n\u001b[1;32m      1\u001b[0m \u001b[0;31m#for testing on the new candidates\u001b[0m\u001b[0;34m\u001b[0m\u001b[0;34m\u001b[0m\u001b[0;34m\u001b[0m\u001b[0m\n\u001b[1;32m      2\u001b[0m \u001b[0;32mimport\u001b[0m \u001b[0mos\u001b[0m\u001b[0;34m\u001b[0m\u001b[0;34m\u001b[0m\u001b[0m\n\u001b[0;32m----> 3\u001b[0;31m \u001b[0;32mfrom\u001b[0m \u001b[0mastropy\u001b[0m\u001b[0;34m.\u001b[0m\u001b[0mio\u001b[0m \u001b[0;32mimport\u001b[0m \u001b[0mfits\u001b[0m\u001b[0;34m\u001b[0m\u001b[0;34m\u001b[0m\u001b[0m\n\u001b[0m\u001b[1;32m      4\u001b[0m \u001b[0;32mfrom\u001b[0m \u001b[0msklearn\u001b[0m\u001b[0;34m.\u001b[0m\u001b[0mpreprocessing\u001b[0m \u001b[0;32mimport\u001b[0m \u001b[0mminmax_scale\u001b[0m\u001b[0;34m\u001b[0m\u001b[0;34m\u001b[0m\u001b[0m\n\u001b[1;32m      5\u001b[0m \u001b[0;34m\u001b[0m\u001b[0m\n",
      "\u001b[0;31mImportError\u001b[0m: No module named astropy.io"
     ]
    }
   ],
   "source": [
    "#for testing on the new candidates\n",
    "import os\n",
    "from astropy.io import fits\n",
    "from sklearn.preprocessing import minmax_scale\n",
    "\n",
    "PATH = \"clean_test_neg_aug/\"\n",
    "l= os.listdir(PATH)\n",
    "test_neg = np.zeros((len(l),1,100,100))\n",
    "count =0\n",
    "for filename in l:\n",
    "#     try:  \n",
    "        data, hdr = fits.getdata(PATH + filename, 0,header=True) #'sci' image[1] data and header\n",
    "        \n",
    "        data = np.nan_to_num(data)\n",
    "        \n",
    "#         data =np.clip(data, data[30:70,30:70].min(), data[30:70,30:70].max(), out=None) #added in this line\n",
    "        \n",
    "        tmp_image = data.reshape(-1,)                    \n",
    "        tmp_image = minmax_scale(tmp_image, feature_range = (0,1))\n",
    "        data = tmp_image.reshape(1,100,100) \n",
    "        test_neg[count]=data\n",
    "#     except:\n",
    "#         print(\"skipped due to non-existent image, or conversion error\")\n",
    "#     count+=1\n",
    "    \n",
    "    \n",
    "predictions_neg  = my_model._predict(test_neg, y= None, discrete = False)\n",
    "\n",
    "count=0\n",
    "for i in range(len(new)):\n",
    "    if new[i]>   0.5:\n",
    "        count+=1\n",
    "print (float(count))\n",
    "print (float(count)/predictions_neg.shape[0])"
   ]
  },
  {
   "cell_type": "code",
   "execution_count": 1,
   "metadata": {},
   "outputs": [
    {
     "ename": "NameError",
     "evalue": "name 'my_model' is not defined",
     "output_type": "error",
     "traceback": [
      "\u001b[0;31m---------------------------------------------------------------------------\u001b[0m",
      "\u001b[0;31mNameError\u001b[0m                                 Traceback (most recent call last)",
      "\u001b[0;32m<ipython-input-1-0e50b780fe17>\u001b[0m in \u001b[0;36m<module>\u001b[0;34m()\u001b[0m\n\u001b[1;32m     32\u001b[0m \u001b[0;34m\u001b[0m\u001b[0m\n\u001b[1;32m     33\u001b[0m \u001b[0;34m\u001b[0m\u001b[0m\n\u001b[0;32m---> 34\u001b[0;31m \u001b[0mpredictions_neg\u001b[0m  \u001b[0;34m=\u001b[0m \u001b[0mmy_model\u001b[0m\u001b[0;34m.\u001b[0m\u001b[0m_predict\u001b[0m\u001b[0;34m(\u001b[0m\u001b[0mtest_neg\u001b[0m\u001b[0;34m,\u001b[0m \u001b[0my\u001b[0m\u001b[0;34m=\u001b[0m \u001b[0mNone\u001b[0m\u001b[0;34m,\u001b[0m \u001b[0mdiscrete\u001b[0m \u001b[0;34m=\u001b[0m \u001b[0mFalse\u001b[0m\u001b[0;34m)\u001b[0m\u001b[0;34m\u001b[0m\u001b[0;34m\u001b[0m\u001b[0m\n\u001b[0m\u001b[1;32m     35\u001b[0m \u001b[0;34m\u001b[0m\u001b[0m\n\u001b[1;32m     36\u001b[0m \u001b[0;34m\u001b[0m\u001b[0m\n",
      "\u001b[0;31mNameError\u001b[0m: name 'my_model' is not defined"
     ]
    }
   ],
   "source": [
    "'''\n",
    "for using the manually cleaned negatives.\n",
    "'''\n",
    "\n",
    "from sklearn.preprocessing import minmax_scale\n",
    "import os \n",
    "import matplotlib.pyplot as plt\n",
    "import numpy as np\n",
    "from astropy.io import fits\n",
    "import numpy as np\n",
    "from sklearn.preprocessing import minmax_scale\n",
    "    \n",
    "PATH = \"clean_test_neg_aug/\"\n",
    "l= os.listdir(PATH)\n",
    "test_neg = np.zeros((len(l),1,100,100))\n",
    "count =0\n",
    "for filename in l:\n",
    "    try:  \n",
    "        data, hdr = fits.getdata(PATH + filename, 0,header=True) #'sci' image[1] data and header\n",
    "        \n",
    "        data = np.nan_to_num(data)\n",
    "        \n",
    "        data =np.clip(data, data[30:70,30:70].min(), data[30:70,30:70].max(), out=None) #added in this line\n",
    "        \n",
    "        tmp_image = data.reshape(-1,)                    \n",
    "        tmp_image = minmax_scale(tmp_image, feature_range = (0,1))\n",
    "        data = tmp_image.reshape(1,100,100) \n",
    "        test_neg[count]=data\n",
    "    except:\n",
    "        print(\"skipped due to non-existent image, or conversion error\")\n",
    "    count+=1\n",
    "    \n",
    "    \n",
    "predictions_neg  = my_model._predict(test_neg, y= None, discrete = False)\n",
    "\n",
    "\n",
    "pos_v = np.load('/home/robbie/repos/HSTLens/CC_batch_processing/batchjob_3/datasets/cc/new_test_positives_merged_m31_aug_no_blanks.npy')#np.load('datasets/cc/pos_combined_feb9.npy')\n",
    "predictions_pos  = my_model._predict(pos_v, y= None, discrete = False)\n",
    "\n",
    "\n",
    "neg_len = predictions_neg.shape[0]\n",
    "pos_len = predictions_pos.shape[0]\n",
    "\n",
    "predictions_combined = np.zeros((neg_len+pos_len,))\n",
    "labels_combined = np.zeros((neg_len+pos_len,))\n",
    "\n",
    "for i in range(neg_len):\n",
    "    predictions_combined[i]=  predictions_neg[i][0]\n",
    "    \n",
    "for i in range(pos_len):\n",
    "    predictions_combined[neg_len+i] =  predictions_pos[i][0]\n",
    "    labels_combined[neg_len+i] = 1\n",
    "    \n",
    "predictions_neg.shape, predictions_combined.shape    "
   ]
  },
  {
   "cell_type": "code",
   "execution_count": 69,
   "metadata": {},
   "outputs": [],
   "source": [
    "''' NOT FOR MAKING ROC\n",
    "store all the prediction of the 10,000 negative set in a list that are under threshold. \n",
    "Want to see what the false positives at low FPR look like.'''\n",
    "fp_list = []#list of FP at low FPR\n",
    "thresh =0.5644699140401146\n",
    "for i in range(len(predictions_neg)):\n",
    "    if predictions_neg[i][0]>thresh:\n",
    "        fp_list.append(i)\n",
    "    "
   ]
  },
  {
   "cell_type": "code",
   "execution_count": 57,
   "metadata": {},
   "outputs": [
    {
     "data": {
      "text/plain": [
       "Text(0,0.5,'TPR')"
      ]
     },
     "execution_count": 57,
     "metadata": {},
     "output_type": "execute_result"
    },
    {
     "data": {
      "image/png": "[encoded data removed]",
      "text/plain": [
       "<Figure size 432x288 with 1 Axes>"
      ]
     },
     "metadata": {
      "needs_background": "light"
     },
     "output_type": "display_data"
    }
   ],
   "source": [
    "\n",
    "\n",
    "score = predictions_combined\n",
    "y =labels_combined\n",
    "\n",
    "roc_x = []\n",
    "roc_y = []\n",
    "min_score = min(score)\n",
    "max_score = max(score)\n",
    "thr = np.linspace(0.0, 1, 5000) #changed from 1000 to 5000 on march 23 2019\n",
    "FP=0\n",
    "TP=0\n",
    "N = neg_len\n",
    "P = pos_len\n",
    "\n",
    "for thresh in thr:\n",
    "    for i in range(len(score)):\n",
    "        if (score[i] >= thresh):\n",
    "            if (y[i]==1):\n",
    "                TP = TP + 1\n",
    "            if (y[i]==0):\n",
    "                FP = FP + 1\n",
    "                \n",
    "    roc_x.append(FP/float(N))\n",
    "    roc_y.append(TP/float(P))\n",
    "    FP=0\n",
    "    TP=0\n",
    "\n",
    "# fpr_2arch12_9 = roc_x\n",
    "# tpr_2arch12_9 = roc_y\n",
    "\n",
    "plt.scatter(roc_x,roc_y)\n",
    "plt.xticks(np.arange(0, 1.0, step=0.05))\n",
    "plt.yticks(np.arange(0, 1, step=0.05))\n",
    "plt.title('ROC')\n",
    "plt.xlabel('FPR')\n",
    "plt.ylabel('TPR')"
   ]
  },
  {
   "cell_type": "code",
   "execution_count": 58,
   "metadata": {},
   "outputs": [
    {
     "data": {
      "image/png": "[encoded data removed]",
      "text/plain": [
       "<Figure size 432x288 with 1 Axes>"
      ]
     },
     "metadata": {
      "needs_background": "light"
     },
     "output_type": "display_data"
    }
   ],
   "source": [
    "import numpy as np\n",
    "from scipy import interpolate\n",
    "\n",
    "# fpr_unique, indices = np.unique(np.array(fpr_2arch12_9), return_index=True)\n",
    "# tpr_unique =np.array(tpr_2arch12_9)[indices]\n",
    "\n",
    "fc = interpolate.interp1d(np.flip(np.array(roc_x)), np.flip(np.array(roc_y)), kind=1)\n",
    "xn =np.arange(0.000,1,0.001)\n",
    "yn = fc(xn)\n",
    "\n",
    "fpr_3arch12_1=xn\n",
    "tpr_3arch12_26=yn\n",
    "\n",
    "plt.plot(xn,yn)\n",
    "plt.xticks(np.arange(0, 1.0, step=0.05))\n",
    "plt.yticks(np.arange(0, 1, step=0.05))\n",
    "plt.show()"
   ]
  },
  {
   "cell_type": "code",
   "execution_count": 59,
   "metadata": {},
   "outputs": [
    {
     "data": {
      "text/plain": [
       "array(0.69558)"
      ]
     },
     "execution_count": 59,
     "metadata": {},
     "output_type": "execute_result"
    }
   ],
   "source": [
    "fc(0.01)"
   ]
  }
 ],
 "metadata": {
  "kernelspec": {
   "display_name": "Python 3",
   "language": "python",
   "name": "python3"
  },
  "language_info": {
   "codemirror_mode": {
    "name": "ipython",
    "version": 3
   },
   "file_extension": ".py",
   "mimetype": "text/x-python",
   "name": "python",
   "nbconvert_exporter": "python",
   "pygments_lexer": "ipython3",
   "version": "3.8.5"
  }
 },
 "nbformat": 4,
 "nbformat_minor": 2
}
