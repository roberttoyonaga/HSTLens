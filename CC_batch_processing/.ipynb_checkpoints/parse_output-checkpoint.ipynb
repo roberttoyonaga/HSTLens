{
 "cells": [
  {
   "cell_type": "code",
   "execution_count": 11,
   "metadata": {},
   "outputs": [
    {
     "data": {
      "text/html": [
       "<style>.container {width:80% !important;}</style>"
      ],
      "text/plain": [
       "<IPython.core.display.HTML object>"
      ]
     },
     "metadata": {},
     "output_type": "display_data"
    }
   ],
   "source": [
    "from IPython.core.display import display, HTML\n",
    "display(HTML('<style>.container {width:80% !important;}</style>'))\n"
   ]
  },
  {
   "cell_type": "code",
   "execution_count": 39,
   "metadata": {},
   "outputs": [
    {
     "name": "stdin",
     "output_type": "stream",
     "text": [
      "how many jobs ran? 7361\n"
     ]
    },
    {
     "name": "stdout",
     "output_type": "stream",
     "text": [
      "err\n",
      "2999\n",
      "missed this many jobs: 4362\n"
     ]
    }
   ],
   "source": [
    "''' \n",
    "This script will parse through the results folder returned from the pipeline execution and provide a list of \n",
    "the jobs that failed to complete.\n",
    "Save the missing job numbers into a csv. 7361 jobs were supposed to run\n",
    "'''\n",
    "import os\n",
    "import numpy as np\n",
    "import pandas as pd\n",
    "\n",
    "results = os.listdir('/home/toyonaga/scratch/HSTLens_datasets/results')\n",
    "compare = np.arange(int(input('how many jobs ran?')))\n",
    "\n",
    "job_nums = [] #will be an int array \n",
    "for filename in results:\n",
    "    try:\n",
    "        start = filename.find('_') + 1 \n",
    "        end = filename.find('.', start)\n",
    "        job_nums.append(int(filename[start:end]))\n",
    "    except:\n",
    "        print('err')\n",
    "        continue\n",
    "print(len(job_nums))\n",
    "\n",
    "missing = [] #list of jobs that didnt complete\n",
    "for i in compare:\n",
    "        if compare[i] not in job_nums:\n",
    "            missing.append(compare[i])\n",
    "            \n",
    "print('missed this many jobs: '+ str(len(missing)))\n",
    "\n",
    "\n",
    "failed = {'job':missing}\n",
    "\n",
    "df =pd.DataFrame(data=failed)   \n",
    "df.to_csv('missed_jobs.csv', index= False)"
   ]
  },
  {
   "cell_type": "code",
   "execution_count": 65,
   "metadata": {},
   "outputs": [
    {
     "data": {
      "text/plain": [
       "16.666666666666668"
      ]
     },
     "execution_count": 65,
     "metadata": {},
     "output_type": "execute_result"
    }
   ],
   "source": [
    "1000/60"
   ]
  },
  {
   "cell_type": "code",
   "execution_count": 5,
   "metadata": {},
   "outputs": [
    {
     "data": {
      "image/png": "[encoded data removed]",
      "text/plain": [
       "<Figure size 432x288 with 1 Axes>"
      ]
     },
     "metadata": {
      "needs_background": "light"
     },
     "output_type": "display_data"
    },
    {
     "name": "stdin",
     "output_type": "stream",
     "text": [
      "save=1, discard=2, exit=9 9\n"
     ]
    }
   ],
   "source": [
    "from IPython import display\n",
    "import pandas as pd\n",
    "import os\n",
    "import time \n",
    "import subprocess\n",
    "from astropy import wcs\n",
    "from astropy.io import fits\n",
    "from astropy.nddata.utils import Cutout2D\n",
    "import numpy as np\n",
    "import random\n",
    "import matplotlib.pyplot as plt\n",
    "\n",
    "DWNLD_PATH = \"c_\"\n",
    "RESULTS_PATH = \"/home/toyonaga/scratch/pipeline/results/\"\n",
    "start = int(input('start from this results file '))\n",
    "end = int(input(\"end at this results file \"))\n",
    "CSV_PATH=\"test_csv\" #shouldn't have to change\n",
    "OUT_PATH = 'de_'#'detected_images/det_'\n",
    "FP_PATH = 'fp_'#'false_postives_h2/fp_'\n",
    "im_info = pd.read_csv(CSV_PATH)\n",
    "\n",
    "\n",
    "def dwnld(entry): \n",
    "    subprocess.check_output([\"wget\", \"-O\",DWNLD_PATH+str(entry)+ \".fits\" ,\n",
    "                             \"http://www.cadc-ccda.hia-iha.nrc-cnrc.gc.ca/data/pub/MAST/HST/product/\"+\n",
    "                             im_info['obj_name'][entry]+\"_drz.fits\"]) \n",
    "\n",
    "def get_positives(filename):\n",
    "    #get coords of pred above 0.9\n",
    "    crd_dict = {\"ra\": [], \"dec\":[], \"obj_name\":[] } \n",
    "    df = pd.read_csv(filename, sep = ',')\n",
    "    for row in range(len(df)):\n",
    "        if float(df['prb'][row]) > 0.999:\n",
    "            crd_dict['ra'].append(df['ra'][row])\n",
    "            crd_dict['dec'].append(df['dec'][row])\n",
    "            crd_dict['obj_name'].append(df['obj_name'][row])\n",
    "    print(len(crd_dict['ra']))\n",
    "    return crd_dict\n",
    "        \n",
    "        \n",
    "\n",
    "for job in range(end-start):\n",
    "   \n",
    "    '''populate coordinate dict with result file info'''\n",
    "    try:\n",
    "        crd_dict = get_positives(RESULTS_PATH+\"results_\"+str(job+start)+\".out\")\n",
    "        print(len(crd_dict['ra']))\n",
    "    except:\n",
    "        print('missing results from job: '+str(job))\n",
    "        continue\n",
    "        \n",
    "        \n",
    "    '''download image cutouts based on the file names''' \n",
    "    fails=0\n",
    "    print(\"dwnlding image \" + str(job+start))\n",
    "    #try: \n",
    "    dwnld(job+start)\n",
    "    #except:\n",
    "    fails+=1\n",
    "    print(\"Failed\")\n",
    "    print(\"failed: \"+str(fails))\n",
    "            \n",
    "        \n",
    "    '''make 100x100 boxes'''\n",
    "    data, hdr = fits.getdata(DWNLD_PATH + str(job+start) + \".fits\", 1, header=True) #'sci' image[1] data and header\n",
    "    w = wcs.WCS(hdr)\n",
    "    exit=False\n",
    "    for cutout in range(len(crd_dict[\"obj_name\"])):\n",
    "        try:                                \n",
    "\n",
    "            pixcrd2 = w.wcs_world2pix([[float(crd_dict['ra'][cutout]), float(crd_dict['dec'][cutout])]], 0)\n",
    "            print (pixcrd2)\n",
    "            centered_cut = Cutout2D(data, (pixcrd2[0][0], pixcrd2[0][1]), (100, 100))\n",
    "            print (centered_cut.shape)\n",
    "            \n",
    "            ims=centered_cut.data\n",
    "            display.clear_output(wait=True)\n",
    "            plt.imshow(ims) \n",
    "            plt.pause(0.1)\n",
    "            while(1):\n",
    "                ans = int(input(\"save=1, discard=2, exit=9\"))\n",
    "        \n",
    "                if ans ==1:\n",
    "                    fits.writeto(OUT_PATH+ str(crd_dict['ra'][cutout]) + \"_\" + str(crd_dict['dec'][cutout]) +'.fits',centered_cut.data, header=hdr, overwrite =True)\n",
    "                    break\n",
    "                if ans ==2:\n",
    "                    fits.writeto(FP_PATH+ str(crd_dict['ra'][cutout]) + \"_\" + str(crd_dict['dec'][cutout]) +'.fits',centered_cut.data, header=hdr, overwrite =True)\n",
    "                    break\n",
    "                if ans ==9:\n",
    "                    exit=True\n",
    "                    break\n",
    "            if exit==True:\n",
    "                break\n",
    "        except:\n",
    "            print(\"skipped due to non-existent image, or conversion error\")\n",
    "    "
   ]
  },
  {
   "cell_type": "markdown",
   "metadata": {},
   "source": [
    "## \n",
    "\n",
    "   "
   ]
  },
  {
   "cell_type": "markdown",
   "metadata": {},
   "source": [
    "## "
   ]
  },
  {
   "cell_type": "code",
   "execution_count": 4,
   "metadata": {},
   "outputs": [],
   "source": [
    "data, hdr = fits.getdata(DWNLD_PATH + str(2) + \".fits\", 1, header=True) #'sci' image[1] data and header"
   ]
  },
  {
   "cell_type": "code",
   "execution_count": 8,
   "metadata": {},
   "outputs": [
    {
     "data": {
      "text/plain": [
       "(100, 100)"
      ]
     },
     "execution_count": 8,
     "metadata": {},
     "output_type": "execute_result"
    }
   ],
   "source": [
    "data[100:200,200:300].shape"
   ]
  },
  {
   "cell_type": "code",
   "execution_count": 46,
   "metadata": {},
   "outputs": [
    {
     "data": {
      "text/plain": [
       "7"
      ]
     },
     "execution_count": 46,
     "metadata": {},
     "output_type": "execute_result"
    }
   ],
   "source": [
    "jobs = pd.read_csv('/home/toyonaga/projects/def-sfabbro/toyonaga/HSTLens/CC_batch_processing/missed_jobs.csv')\n",
    "jobs['job'][1]+2"
   ]
  },
  {
   "cell_type": "code",
   "execution_count": 64,
   "metadata": {},
   "outputs": [
    {
     "data": {
      "text/plain": [
       "7.783333333333333"
      ]
     },
     "execution_count": 64,
     "metadata": {},
     "output_type": "execute_result"
    }
   ],
   "source": [
    "467./60"
   ]
  },
  {
   "cell_type": "code",
   "execution_count": 7,
   "metadata": {},
   "outputs": [
    {
     "ename": "NameError",
     "evalue": "name 'start_point' is not defined",
     "output_type": "error",
     "traceback": [
      "\u001b[0;31m---------------------------------------------------------------------------\u001b[0m",
      "\u001b[0;31mNameError\u001b[0m                                 Traceback (most recent call last)",
      "\u001b[0;32m<ipython-input-7-e90d48a52d4f>\u001b[0m in \u001b[0;36m<module>\u001b[0;34m()\u001b[0m\n\u001b[1;32m      1\u001b[0m os.system('rm /home/toyonaga/scratch/pipeline/full/full_'\n\u001b[1;32m      2\u001b[0m          \u001b[0;34m+\u001b[0m\u001b[0mstr\u001b[0m\u001b[0;34m(\u001b[0m\u001b[0mstart_point\u001b[0m\u001b[0;34m)\u001b[0m\u001b[0;34m+\u001b[0m\u001b[0;34m'.fits /home/toyonaga/scratch/pipeline/cat/image_'\u001b[0m\u001b[0;34m\u001b[0m\u001b[0m\n\u001b[0;32m----> 3\u001b[0;31m          +str(start_point)+'.cat')\n\u001b[0m",
      "\u001b[0;31mNameError\u001b[0m: name 'start_point' is not defined"
     ]
    }
   ],
   "source": [
    "os.system('rm /home/toyonaga/scratch/pipeline/full/full_'\n",
    "         +str(277)+'.fits /home/toyonaga/scratch/pipeline/cat/image_'\n",
    "         +str(277)+'.cat')"
   ]
  },
  {
   "cell_type": "code",
   "execution_count": null,
   "metadata": {},
   "outputs": [],
   "source": []
  }
 ],
 "metadata": {
  "kernelspec": {
   "display_name": "Python 3",
   "language": "python",
   "name": "python3"
  },
  "language_info": {
   "codemirror_mode": {
    "name": "ipython",
    "version": 3
   },
   "file_extension": ".py",
   "mimetype": "text/x-python",
   "name": "python",
   "nbconvert_exporter": "python",
   "pygments_lexer": "ipython3",
   "version": "3.6.3"
  }
 },
 "nbformat": 4,
 "nbformat_minor": 2
}
