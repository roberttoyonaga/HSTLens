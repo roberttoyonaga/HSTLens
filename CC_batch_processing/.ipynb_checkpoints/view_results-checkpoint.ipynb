{
 "cells": [
  {
   "cell_type": "code",
   "execution_count": 11,
   "metadata": {},
   "outputs": [
    {
     "data": {
      "text/html": [
       "<style>.container {width:80% !important;}</style>"
      ],
      "text/plain": [
       "<IPython.core.display.HTML object>"
      ]
     },
     "metadata": {},
     "output_type": "display_data"
    }
   ],
   "source": [
    "from IPython.core.display import display, HTML\n",
    "display(HTML('<style>.container {width:80% !important;}</style>'))\n"
   ]
  },
  {
   "cell_type": "code",
   "execution_count": 20,
   "metadata": {},
   "outputs": [
    {
     "name": "stdin",
     "output_type": "stream",
     "text": [
      "how many jobs ran? 7363\n"
     ]
    },
    {
     "name": "stdout",
     "output_type": "stream",
     "text": [
      "2971\n",
      "missed this many jobs: 4392\n"
     ]
    }
   ],
   "source": [
    "''' \n",
    "This script will parse through the results folder returned from the pipeline execution and provide a list of \n",
    "the jobs that failed to complete.\n",
    "Save the missing job numbers into a csv. 7361 jobs were supposed to run\n",
    "'''\n",
    "import os\n",
    "import numpy as np\n",
    "import pandas as pd\n",
    "\n",
    "results = os.listdir('/home/toyonaga/scratch/pipeline/results')\n",
    "compare = np.arange(int(input('how many jobs ran?')))\n",
    "\n",
    "job_nums = [] #will be an int array \n",
    "for filename in results:\n",
    "    try:\n",
    "        start = filename.find('_') + 1 \n",
    "        end = filename.find('.', start)\n",
    "        job_nums.append(int(filename[start:end]))\n",
    "    except:\n",
    "        print('err')\n",
    "        continue\n",
    "print(len(job_nums))\n",
    "\n",
    "missing = [] #list of jobs that didnt complete\n",
    "for i in compare:\n",
    "        if compare[i] not in job_nums:\n",
    "            missing.append(compare[i])\n",
    "            \n",
    "print('missed this many jobs: '+ str(len(missing)))\n",
    "\n",
    "\n",
    "failed = {'job':missing}\n",
    "\n",
    "df =pd.DataFrame(data=failed)   \n",
    "df.to_csv('missed_jobs.csv', index= False)"
   ]
  },
  {
   "cell_type": "code",
   "execution_count": 4,
   "metadata": {},
   "outputs": [],
   "source": [
    "data, hdr = fits.getdata(DWNLD_PATH + str(2) + \".fits\", 1, header=True) #'sci' image[1] data and header"
   ]
  },
  {
   "cell_type": "code",
   "execution_count": 46,
   "metadata": {},
   "outputs": [
    {
     "data": {
      "text/plain": [
       "7"
      ]
     },
     "execution_count": 46,
     "metadata": {},
     "output_type": "execute_result"
    }
   ],
   "source": [
    "jobs = pd.read_csv('/home/toyonaga/projects/def-sfabbro/toyonaga/HSTLens/CC_batch_processing/missed_jobs.csv')\n",
    "jobs['job'][1]+2"
   ]
  },
  {
   "cell_type": "code",
   "execution_count": 3,
   "metadata": {},
   "outputs": [
    {
     "name": "stdin",
     "output_type": "stream",
     "text": [
      "start from this results file  0\n",
      "end at this results file  10\n"
     ]
    }
   ],
   "source": [
    "from IPython import display\n",
    "import pandas as pd\n",
    "import os\n",
    "import time \n",
    "import subprocess\n",
    "from astropy import wcs\n",
    "from astropy.io import fits\n",
    "from astropy.nddata.utils import Cutout2D\n",
    "import numpy as np\n",
    "import random\n",
    "import matplotlib.pyplot as plt\n",
    "\n",
    "DWNLD_PATH = \"dwnlds/c_\"\n",
    "RESULTS_PATH = \"/home/toyonaga/scratch/pipeline/results/\"# '/home/toyonaga/scratch/pipeline/results_recover_2/'#\n",
    "start = int(input('start from this results file '))\n",
    "end = int(input(\"end at this results file \"))\n",
    "CSV_PATH=\"test_csv\" #shouldn't have to change\n",
    "\n",
    "OUT_PATH_1 = \"class_1/c_\"\n",
    "OUT_PATH_2 = \"class_2/c_\"\n",
    "OUT_PATH_3 = \"class_3/c_\" #crowded\n",
    "OUT_PATH_4 = \"class_4/c_\"\n",
    "OUT_PATH_5 = \"class_5/c_\"\n",
    "OUT_PATH_6 = \"class_6/c_\"\n",
    "OUT_PATH_7 = \"class_7/c_\"\n",
    "OUT_PATH_8 = \"class_8/c_\"\n",
    "OUT_PATH_9 = \"class_9/c_\" #general fp\n",
    "OUT_PATH_22 = \"class_22/c_\" #main source and small satellite source (confused as arclet)\n",
    "OUT_PATH_33 = \"class_33/c_\" # single bright source and faint background\n",
    "im_info = pd.read_csv(CSV_PATH)\n",
    "# count=0\n",
    "# for job in range(end-start):\n",
    "   \n",
    "#     '''populate coordinate dict with result file info'''\n",
    "\n",
    "#     try:\n",
    "#         crd_dict = get_positives(RESULTS_PATH+\"results_\"+str(job+start)+\".out\")\n",
    "#         print(len(crd_dict['ra']))\n",
    "#         count+=len(crd_dict['prb'])\n",
    "#     except:\n",
    "#         print('missing results from job: '+str(job))\n",
    "#         continue"
   ]
  },
  {
   "cell_type": "code",
   "execution_count": 6,
   "metadata": {},
   "outputs": [
    {
     "data": {
      "image/png": "[encoded data removed]",
      "text/plain": [
       "<Figure size 432x288 with 1 Axes>"
      ]
     },
     "metadata": {
      "needs_background": "light"
     },
     "output_type": "display_data"
    },
    {
     "name": "stdout",
     "output_type": "stream",
     "text": [
      "skipped due to non-existent image, or conversion error\n",
      "missing results from job: 8\n",
      "missing results from job: 9\n"
     ]
    }
   ],
   "source": [
    "def dwnld(entry): \n",
    "    subprocess.check_output([\"wget\", \"-O\",DWNLD_PATH+str(entry)+ \".fits\" ,\n",
    "                             \"http://www.cadc-ccda.hia-iha.nrc-cnrc.gc.ca/data/pub/MAST/HST/product/\"+\n",
    "                             im_info['obj_name'][entry]+\"_drz.fits\"]) \n",
    "\n",
    "def get_positives(filename):\n",
    "    #get coords of pred above 0.9\n",
    "    crd_dict = {\"ra\": [], \"dec\":[], \"obj_name\":[], \"prb_1\":[] , \"prb_2\":[] , \"prb_3\":[] } \n",
    "    df = pd.read_csv(filename, sep = ',')\n",
    "    for row in range(len(df)):\n",
    "        if (float(df['prb_1'][row]) >= 0.70) :#and (float(df['prb'][row])<0.95) :\n",
    "            crd_dict['prb_1'].append(df['prb_1'][row])\n",
    "            crd_dict['ra'].append(df['ra'][row])\n",
    "            crd_dict['dec'].append(df['dec'][row])\n",
    "            crd_dict['obj_name'].append(df['obj_name'][row])\n",
    "    print(len(crd_dict['ra']))\n",
    "    return crd_dict\n",
    "        \n",
    "    \n",
    "        \n",
    "\n",
    "for job in range(end-start):\n",
    "   \n",
    "    '''populate coordinate dict with result file info'''\n",
    "    try:\n",
    "        crd_dict = get_positives(RESULTS_PATH+\"results_\"+str(job+start)+\".out\")\n",
    "        print(len(crd_dict['ra']))\n",
    "    except:\n",
    "        print('missing results from job: '+str(job+start))\n",
    "        continue\n",
    "        \n",
    "        \n",
    "    '''download image cutouts based on the file names''' \n",
    "    fails=0\n",
    "    print(\"dwnlding image \" + str(job+start))\n",
    "    try: \n",
    "        dwnld(job+start)\n",
    "    except:\n",
    "        fails+=1\n",
    "        print(\"Failed\")\n",
    "        \n",
    "        print(\"failed: \"+str(fails))\n",
    "        continue    \n",
    "        \n",
    "    '''make 100x100 boxes'''\n",
    "    data, hdr = fits.getdata(DWNLD_PATH + str(job+start) + \".fits\", 1, header=True) #'sci' image[1] data and header\n",
    "    w = wcs.WCS(hdr)\n",
    "    exit=False\n",
    "    for cutout in range(len(crd_dict[\"obj_name\"])):\n",
    "        try:                                \n",
    "\n",
    "            pixcrd2 = w.wcs_world2pix([[float(crd_dict['ra'][cutout]), float(crd_dict['dec'][cutout])]], 0)\n",
    "            centered_cut = Cutout2D(data, (pixcrd2[0][0], pixcrd2[0][1]), (100, 100))\n",
    "            \n",
    "            ims=centered_cut.data\n",
    "#             print(crd_dict['prb'][cutout])\n",
    "\n",
    "            \n",
    "            display.clear_output(wait=True)\n",
    "            plt.imshow(ims) \n",
    "            plt.pause(0.10)\n",
    "            while(1):\n",
    "                ans = int(input(str(crd_dict['prb_1'][cutout])+\"|| logscale =18, log black=19, exit=20, job: \"+str(job+start)))\n",
    "\n",
    "                if ans ==1:\n",
    "                    fits.writeto(OUT_PATH_1+ str(crd_dict['ra'][cutout]) + \"_\" + str(crd_dict['dec'][cutout]) +'.fits',centered_cut.data, header=hdr, overwrite =True)\n",
    "                    break\n",
    "                if ans ==2:\n",
    "                    fits.writeto(OUT_PATH_2+ str(crd_dict['ra'][cutout]) + \"_\" + str(crd_dict['dec'][cutout]) +'.fits',centered_cut.data, header=hdr, overwrite =True)\n",
    "                    break\n",
    "                if ans ==3:\n",
    "                    fits.writeto(OUT_PATH_3+ str(crd_dict['ra'][cutout]) + \"_\" + str(crd_dict['dec'][cutout]) +'.fits',centered_cut.data, header=hdr, overwrite =True)\n",
    "                    break\n",
    "                if ans ==4:\n",
    "                    fits.writeto(OUT_PATH_4+ str(crd_dict['ra'][cutout]) + \"_\" + str(crd_dict['dec'][cutout]) +'.fits',centered_cut.data, header=hdr, overwrite =True)\n",
    "                    break\n",
    "                if ans ==5:\n",
    "                    fits.writeto(OUT_PATH_5+ str(crd_dict['ra'][cutout]) + \"_\" + str(crd_dict['dec'][cutout]) +'.fits',centered_cut.data, header=hdr, overwrite =True)\n",
    "                    break\n",
    "                if ans ==6:\n",
    "                    fits.writeto(OUT_PATH_6+ str(crd_dict['ra'][cutout]) + \"_\" + str(crd_dict['dec'][cutout]) +'.fits',centered_cut.data, header=hdr, overwrite =True)\n",
    "                    break\n",
    "                if ans ==7:\n",
    "                    fits.writeto(OUT_PATH_7+ str(crd_dict['ra'][cutout]) + \"_\" + str(crd_dict['dec'][cutout]) +'.fits',centered_cut.data, header=hdr, overwrite =True)\n",
    "                    break\n",
    "                if ans ==8:\n",
    "                    fits.writeto(OUT_PATH_8+ str(crd_dict['ra'][cutout]) + \"_\" + str(crd_dict['dec'][cutout]) +'.fits',centered_cut.data, header=hdr, overwrite =True)\n",
    "                    break\n",
    "                if ans ==9: \n",
    "                    fits.writeto(OUT_PATH_9+ str(crd_dict['ra'][cutout]) + \"_\" + str(crd_dict['dec'][cutout]) +'.fits',centered_cut.data, header=hdr, overwrite =True)\n",
    "                    break\n",
    "                if ans ==22: \n",
    "                    fits.writeto(OUT_PATH_22+ str(crd_dict['ra'][cutout]) + \"_\" + str(crd_dict['dec'][cutout]) +'.fits',centered_cut.data, header=hdr, overwrite =True)\n",
    "                    break\n",
    "                if ans ==33: \n",
    "                    fits.writeto(OUT_PATH_33+ str(crd_dict['ra'][cutout]) + \"_\" + str(crd_dict['dec'][cutout]) +'.fits',centered_cut.data, header=hdr, overwrite =True)\n",
    "                    break\n",
    "                if ans ==18:\n",
    "                    plt.imshow(np.log10(ims+1)) \n",
    "                    plt.pause(0.1)\n",
    "                if ans ==19:\n",
    "                    plt.imshow(np.log10(ims+1),cmap='gray') \n",
    "                    plt.pause(0.1)\n",
    "                if ans ==20:\n",
    "                    exit=True\n",
    "                    break\n",
    "            if exit==True:\n",
    "                break\n",
    "        except:\n",
    "            print(\"skipped due to non-existent image, or conversion error\")\n",
    "        \n",
    "    if exit==True:\n",
    "        break\n",
    "\n"
   ]
  },
  {
   "cell_type": "code",
   "execution_count": 2,
   "metadata": {},
   "outputs": [
    {
     "data": {
      "image/png": "[encoded data removed]",
      "text/plain": [
       "<Figure size 432x288 with 1 Axes>"
      ]
     },
     "metadata": {
      "needs_background": "light"
     },
     "output_type": "display_data"
    },
    {
     "name": "stdin",
     "output_type": "stream",
     "text": [
      "c_152.68164189222514_-4.626367639384708.fits|| logscale =18, log black=19, exit=20, 20\n"
     ]
    }
   ],
   "source": [
    "#closer inspection\n",
    "from IPython import display\n",
    "\n",
    "import os \n",
    "import matplotlib.pyplot as plt\n",
    "import numpy as np\n",
    "from astropy.io import fits\n",
    "PATH = \"/home/toyonaga/projects/def-sfabbro/toyonaga/HSTLens/CC_batch_processing/manual_detections/\"#HSTLens_detections/\"\n",
    "for filename in os.listdir(PATH):\n",
    "\n",
    "    data, hdr = fits.getdata(PATH + filename, 0, header=True) #'sci' image[1] data and header\n",
    "    exit=False\n",
    "    try:     \n",
    "\n",
    "        ims=data\n",
    "\n",
    "        display.clear_output(wait=True)\n",
    "        plt.imshow(ims) \n",
    "        plt.pause(0.10)\n",
    "        while(1):\n",
    "            ans = int(input(filename+\"|| logscale =18, log black=19, exit=20,\"))\n",
    "\n",
    "            if ans ==18:\n",
    "                plt.imshow(np.log10(ims+1)) \n",
    "                plt.pause(0.1)\n",
    "            if ans ==19:\n",
    "                plt.imshow(np.log10(ims+1),cmap='gray') \n",
    "                plt.pause(0.1)\n",
    "            if ans ==20:\n",
    "                exit=True\n",
    "                break\n",
    "        if exit==True:\n",
    "            break\n",
    "    except:\n",
    "        print(\"skipped due to non-existent image, or conversion error\")\n",
    "\n",
    "    if exit==True:\n",
    "        break\n",
    "\n"
   ]
  },
  {
   "cell_type": "code",
   "execution_count": null,
   "metadata": {},
   "outputs": [],
   "source": []
  }
 ],
 "metadata": {
  "kernelspec": {
   "display_name": "Python 3",
   "language": "python",
   "name": "python3"
  },
  "language_info": {
   "codemirror_mode": {
    "name": "ipython",
    "version": 3
   },
   "file_extension": ".py",
   "mimetype": "text/x-python",
   "name": "python",
   "nbconvert_exporter": "python",
   "pygments_lexer": "ipython3",
   "version": "3.6.3"
  }
 },
 "nbformat": 4,
 "nbformat_minor": 2
}
