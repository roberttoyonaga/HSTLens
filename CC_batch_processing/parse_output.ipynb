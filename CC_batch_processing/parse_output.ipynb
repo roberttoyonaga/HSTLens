{
 "cells": [
  {
   "cell_type": "code",
   "execution_count": 11,
   "metadata": {},
   "outputs": [
    {
     "data": {
      "text/html": [
       "<style>.container {width:80% !important;}</style>"
      ],
      "text/plain": [
       "<IPython.core.display.HTML object>"
      ]
     },
     "metadata": {},
     "output_type": "display_data"
    }
   ],
   "source": [
    "from IPython.core.display import display, HTML\n",
    "display(HTML('<style>.container {width:80% !important;}</style>'))\n"
   ]
  },
  {
   "cell_type": "code",
   "execution_count": 20,
   "metadata": {},
   "outputs": [
    {
     "name": "stdin",
     "output_type": "stream",
     "text": [
      "how many jobs ran? 7363\n"
     ]
    },
    {
     "name": "stdout",
     "output_type": "stream",
     "text": [
      "2971\n",
      "missed this many jobs: 4392\n"
     ]
    }
   ],
   "source": [
    "''' \n",
    "This script will parse through the results folder returned from the pipeline execution and provide a list of \n",
    "the jobs that failed to complete.\n",
    "Save the missing job numbers into a csv. 7361 jobs were supposed to run\n",
    "'''\n",
    "import os\n",
    "import numpy as np\n",
    "import pandas as pd\n",
    "\n",
    "results = os.listdir('/home/toyonaga/scratch/pipeline/results')\n",
    "compare = np.arange(int(input('how many jobs ran?')))\n",
    "\n",
    "job_nums = [] #will be an int array \n",
    "for filename in results:\n",
    "    try:\n",
    "        start = filename.find('_') + 1 \n",
    "        end = filename.find('.', start)\n",
    "        job_nums.append(int(filename[start:end]))\n",
    "    except:\n",
    "        print('err')\n",
    "        continue\n",
    "print(len(job_nums))\n",
    "\n",
    "missing = [] #list of jobs that didnt complete\n",
    "for i in compare:\n",
    "        if compare[i] not in job_nums:\n",
    "            missing.append(compare[i])\n",
    "            \n",
    "print('missed this many jobs: '+ str(len(missing)))\n",
    "\n",
    "\n",
    "failed = {'job':missing}\n",
    "\n",
    "df =pd.DataFrame(data=failed)   \n",
    "df.to_csv('missed_jobs.csv', index= False)"
   ]
  },
  {
   "cell_type": "code",
   "execution_count": null,
   "metadata": {},
   "outputs": [],
   "source": []
  },
  {
   "cell_type": "code",
   "execution_count": 22,
   "metadata": {},
   "outputs": [
    {
     "data": {
      "text/plain": [
       "(True, 2971, 219.6, False)"
      ]
     },
     "execution_count": 22,
     "metadata": {},
     "output_type": "execute_result"
    }
   ],
   "source": [
    "3845 in job_nums, len(job_nums), 4392./20, 3845 in missing"
   ]
  },
  {
   "cell_type": "code",
   "execution_count": 3,
   "metadata": {},
   "outputs": [
    {
     "ename": "KeyboardInterrupt",
     "evalue": "",
     "output_type": "error",
     "traceback": [
      "\u001b[0;31m---------------------------------------------------------------------------\u001b[0m",
      "\u001b[0;31mFileNotFoundError\u001b[0m                         Traceback (most recent call last)",
      "\u001b[0;32m/project/6016730/mlhaa/lib/python3.6/genericpath.py\u001b[0m in \u001b[0;36mexists\u001b[0;34m(path)\u001b[0m\n\u001b[1;32m     18\u001b[0m     \u001b[0;32mtry\u001b[0m\u001b[0;34m:\u001b[0m\u001b[0;34m\u001b[0m\u001b[0m\n\u001b[0;32m---> 19\u001b[0;31m         \u001b[0mos\u001b[0m\u001b[0;34m.\u001b[0m\u001b[0mstat\u001b[0m\u001b[0;34m(\u001b[0m\u001b[0mpath\u001b[0m\u001b[0;34m)\u001b[0m\u001b[0;34m\u001b[0m\u001b[0m\n\u001b[0m\u001b[1;32m     20\u001b[0m     \u001b[0;32mexcept\u001b[0m \u001b[0mOSError\u001b[0m\u001b[0;34m:\u001b[0m\u001b[0;34m\u001b[0m\u001b[0m\n",
      "\u001b[0;31mFileNotFoundError\u001b[0m: [Errno 2] No such file or directory: '/home/toyonaga/.config/matplotlib/stylelib'",
      "\nDuring handling of the above exception, another exception occurred:\n",
      "\u001b[0;31mKeyboardInterrupt\u001b[0m                         Traceback (most recent call last)",
      "\u001b[0;32m<ipython-input-3-eddf6d53c7b0>\u001b[0m in \u001b[0;36m<module>\u001b[0;34m()\u001b[0m\n\u001b[1;32m      9\u001b[0m \u001b[0;32mimport\u001b[0m \u001b[0mnumpy\u001b[0m \u001b[0;32mas\u001b[0m \u001b[0mnp\u001b[0m\u001b[0;34m\u001b[0m\u001b[0m\n\u001b[1;32m     10\u001b[0m \u001b[0;32mimport\u001b[0m \u001b[0mrandom\u001b[0m\u001b[0;34m\u001b[0m\u001b[0m\n\u001b[0;32m---> 11\u001b[0;31m \u001b[0;32mimport\u001b[0m \u001b[0mmatplotlib\u001b[0m\u001b[0;34m.\u001b[0m\u001b[0mpyplot\u001b[0m \u001b[0;32mas\u001b[0m \u001b[0mplt\u001b[0m\u001b[0;34m\u001b[0m\u001b[0m\n\u001b[0m\u001b[1;32m     12\u001b[0m \u001b[0;34m\u001b[0m\u001b[0m\n\u001b[1;32m     13\u001b[0m \u001b[0mDWNLD_PATH\u001b[0m \u001b[0;34m=\u001b[0m \u001b[0;34m\"c_\"\u001b[0m\u001b[0;34m\u001b[0m\u001b[0m\n",
      "\u001b[0;32m/project/6016730/mlhaa/lib/python3.6/site-packages/matplotlib/pyplot.py\u001b[0m in \u001b[0;36m<module>\u001b[0;34m()\u001b[0m\n\u001b[1;32m     30\u001b[0m \u001b[0;32mimport\u001b[0m \u001b[0mmatplotlib\u001b[0m\u001b[0;34m\u001b[0m\u001b[0m\n\u001b[1;32m     31\u001b[0m \u001b[0;32mimport\u001b[0m \u001b[0mmatplotlib\u001b[0m\u001b[0;34m.\u001b[0m\u001b[0mcolorbar\u001b[0m\u001b[0;34m\u001b[0m\u001b[0m\n\u001b[0;32m---> 32\u001b[0;31m \u001b[0;32mfrom\u001b[0m \u001b[0mmatplotlib\u001b[0m \u001b[0;32mimport\u001b[0m \u001b[0mstyle\u001b[0m\u001b[0;34m\u001b[0m\u001b[0m\n\u001b[0m\u001b[1;32m     33\u001b[0m \u001b[0;32mfrom\u001b[0m \u001b[0mmatplotlib\u001b[0m \u001b[0;32mimport\u001b[0m \u001b[0m_pylab_helpers\u001b[0m\u001b[0;34m,\u001b[0m \u001b[0minteractive\u001b[0m\u001b[0;34m\u001b[0m\u001b[0m\n\u001b[1;32m     34\u001b[0m \u001b[0;32mfrom\u001b[0m \u001b[0mmatplotlib\u001b[0m\u001b[0;34m.\u001b[0m\u001b[0mcbook\u001b[0m \u001b[0;32mimport\u001b[0m \u001b[0mdedent\u001b[0m\u001b[0;34m,\u001b[0m \u001b[0msilent_list\u001b[0m\u001b[0;34m,\u001b[0m \u001b[0mis_numlike\u001b[0m\u001b[0;34m\u001b[0m\u001b[0m\n",
      "\u001b[0;32m/project/6016730/mlhaa/lib/python3.6/site-packages/matplotlib/style/__init__.py\u001b[0m in \u001b[0;36m<module>\u001b[0;34m()\u001b[0m\n\u001b[1;32m      1\u001b[0m \u001b[0;32mfrom\u001b[0m \u001b[0m__future__\u001b[0m \u001b[0;32mimport\u001b[0m \u001b[0mabsolute_import\u001b[0m\u001b[0;34m\u001b[0m\u001b[0m\n\u001b[1;32m      2\u001b[0m \u001b[0;34m\u001b[0m\u001b[0m\n\u001b[0;32m----> 3\u001b[0;31m \u001b[0;32mfrom\u001b[0m \u001b[0;34m.\u001b[0m\u001b[0mcore\u001b[0m \u001b[0;32mimport\u001b[0m \u001b[0muse\u001b[0m\u001b[0;34m,\u001b[0m \u001b[0mcontext\u001b[0m\u001b[0;34m,\u001b[0m \u001b[0mavailable\u001b[0m\u001b[0;34m,\u001b[0m \u001b[0mlibrary\u001b[0m\u001b[0;34m,\u001b[0m \u001b[0mreload_library\u001b[0m\u001b[0;34m\u001b[0m\u001b[0m\n\u001b[0m",
      "\u001b[0;32m/project/6016730/mlhaa/lib/python3.6/site-packages/matplotlib/style/core.py\u001b[0m in \u001b[0;36m<module>\u001b[0;34m()\u001b[0m\n\u001b[1;32m    232\u001b[0m     \u001b[0;32mglobal\u001b[0m \u001b[0mlibrary\u001b[0m\u001b[0;34m\u001b[0m\u001b[0m\n\u001b[1;32m    233\u001b[0m     \u001b[0mavailable\u001b[0m\u001b[0;34m[\u001b[0m\u001b[0;34m:\u001b[0m\u001b[0;34m]\u001b[0m \u001b[0;34m=\u001b[0m \u001b[0mlibrary\u001b[0m \u001b[0;34m=\u001b[0m \u001b[0mupdate_user_library\u001b[0m\u001b[0;34m(\u001b[0m\u001b[0m_base_library\u001b[0m\u001b[0;34m)\u001b[0m\u001b[0;34m\u001b[0m\u001b[0m\n\u001b[0;32m--> 234\u001b[0;31m \u001b[0mreload_library\u001b[0m\u001b[0;34m(\u001b[0m\u001b[0;34m)\u001b[0m\u001b[0;34m\u001b[0m\u001b[0m\n\u001b[0m",
      "\u001b[0;32m/project/6016730/mlhaa/lib/python3.6/site-packages/matplotlib/style/core.py\u001b[0m in \u001b[0;36mreload_library\u001b[0;34m()\u001b[0m\n\u001b[1;32m    231\u001b[0m     \u001b[0;34m\"\"\"Reload style library.\"\"\"\u001b[0m\u001b[0;34m\u001b[0m\u001b[0m\n\u001b[1;32m    232\u001b[0m     \u001b[0;32mglobal\u001b[0m \u001b[0mlibrary\u001b[0m\u001b[0;34m\u001b[0m\u001b[0m\n\u001b[0;32m--> 233\u001b[0;31m     \u001b[0mavailable\u001b[0m\u001b[0;34m[\u001b[0m\u001b[0;34m:\u001b[0m\u001b[0;34m]\u001b[0m \u001b[0;34m=\u001b[0m \u001b[0mlibrary\u001b[0m \u001b[0;34m=\u001b[0m \u001b[0mupdate_user_library\u001b[0m\u001b[0;34m(\u001b[0m\u001b[0m_base_library\u001b[0m\u001b[0;34m)\u001b[0m\u001b[0;34m\u001b[0m\u001b[0m\n\u001b[0m\u001b[1;32m    234\u001b[0m \u001b[0mreload_library\u001b[0m\u001b[0;34m(\u001b[0m\u001b[0;34m)\u001b[0m\u001b[0;34m\u001b[0m\u001b[0m\n",
      "\u001b[0;32m/project/6016730/mlhaa/lib/python3.6/site-packages/matplotlib/style/core.py\u001b[0m in \u001b[0;36mupdate_user_library\u001b[0;34m(library)\u001b[0m\n\u001b[1;32m    173\u001b[0m \u001b[0;32mdef\u001b[0m \u001b[0mupdate_user_library\u001b[0m\u001b[0;34m(\u001b[0m\u001b[0mlibrary\u001b[0m\u001b[0;34m)\u001b[0m\u001b[0;34m:\u001b[0m\u001b[0;34m\u001b[0m\u001b[0m\n\u001b[1;32m    174\u001b[0m     \u001b[0;34m\"\"\"Update style library with user-defined rc files\"\"\"\u001b[0m\u001b[0;34m\u001b[0m\u001b[0m\n\u001b[0;32m--> 175\u001b[0;31m     \u001b[0;32mfor\u001b[0m \u001b[0mstylelib_path\u001b[0m \u001b[0;32min\u001b[0m \u001b[0miter_user_libraries\u001b[0m\u001b[0;34m(\u001b[0m\u001b[0;34m)\u001b[0m\u001b[0;34m:\u001b[0m\u001b[0;34m\u001b[0m\u001b[0m\n\u001b[0m\u001b[1;32m    176\u001b[0m         \u001b[0mstyles\u001b[0m \u001b[0;34m=\u001b[0m \u001b[0mread_style_directory\u001b[0m\u001b[0;34m(\u001b[0m\u001b[0mstylelib_path\u001b[0m\u001b[0;34m)\u001b[0m\u001b[0;34m\u001b[0m\u001b[0m\n\u001b[1;32m    177\u001b[0m         \u001b[0mupdate_nested_dict\u001b[0m\u001b[0;34m(\u001b[0m\u001b[0mlibrary\u001b[0m\u001b[0;34m,\u001b[0m \u001b[0mstyles\u001b[0m\u001b[0;34m)\u001b[0m\u001b[0;34m\u001b[0m\u001b[0m\n",
      "\u001b[0;32m/project/6016730/mlhaa/lib/python3.6/site-packages/matplotlib/style/core.py\u001b[0m in \u001b[0;36miter_user_libraries\u001b[0;34m()\u001b[0m\n\u001b[1;32m    167\u001b[0m     \u001b[0;32mfor\u001b[0m \u001b[0mstylelib_path\u001b[0m \u001b[0;32min\u001b[0m \u001b[0mUSER_LIBRARY_PATHS\u001b[0m\u001b[0;34m:\u001b[0m\u001b[0;34m\u001b[0m\u001b[0m\n\u001b[1;32m    168\u001b[0m         \u001b[0mstylelib_path\u001b[0m \u001b[0;34m=\u001b[0m \u001b[0mos\u001b[0m\u001b[0;34m.\u001b[0m\u001b[0mpath\u001b[0m\u001b[0;34m.\u001b[0m\u001b[0mexpanduser\u001b[0m\u001b[0;34m(\u001b[0m\u001b[0mstylelib_path\u001b[0m\u001b[0;34m)\u001b[0m\u001b[0;34m\u001b[0m\u001b[0m\n\u001b[0;32m--> 169\u001b[0;31m         \u001b[0;32mif\u001b[0m \u001b[0mos\u001b[0m\u001b[0;34m.\u001b[0m\u001b[0mpath\u001b[0m\u001b[0;34m.\u001b[0m\u001b[0mexists\u001b[0m\u001b[0;34m(\u001b[0m\u001b[0mstylelib_path\u001b[0m\u001b[0;34m)\u001b[0m \u001b[0;32mand\u001b[0m \u001b[0mos\u001b[0m\u001b[0;34m.\u001b[0m\u001b[0mpath\u001b[0m\u001b[0;34m.\u001b[0m\u001b[0misdir\u001b[0m\u001b[0;34m(\u001b[0m\u001b[0mstylelib_path\u001b[0m\u001b[0;34m)\u001b[0m\u001b[0;34m:\u001b[0m\u001b[0;34m\u001b[0m\u001b[0m\n\u001b[0m\u001b[1;32m    170\u001b[0m             \u001b[0;32myield\u001b[0m \u001b[0mstylelib_path\u001b[0m\u001b[0;34m\u001b[0m\u001b[0m\n\u001b[1;32m    171\u001b[0m \u001b[0;34m\u001b[0m\u001b[0m\n",
      "\u001b[0;32m/project/6016730/mlhaa/lib/python3.6/genericpath.py\u001b[0m in \u001b[0;36mexists\u001b[0;34m(path)\u001b[0m\n\u001b[1;32m     17\u001b[0m     \u001b[0;34m\"\"\"Test whether a path exists.  Returns False for broken symbolic links\"\"\"\u001b[0m\u001b[0;34m\u001b[0m\u001b[0m\n\u001b[1;32m     18\u001b[0m     \u001b[0;32mtry\u001b[0m\u001b[0;34m:\u001b[0m\u001b[0;34m\u001b[0m\u001b[0m\n\u001b[0;32m---> 19\u001b[0;31m         \u001b[0mos\u001b[0m\u001b[0;34m.\u001b[0m\u001b[0mstat\u001b[0m\u001b[0;34m(\u001b[0m\u001b[0mpath\u001b[0m\u001b[0;34m)\u001b[0m\u001b[0;34m\u001b[0m\u001b[0m\n\u001b[0m\u001b[1;32m     20\u001b[0m     \u001b[0;32mexcept\u001b[0m \u001b[0mOSError\u001b[0m\u001b[0;34m:\u001b[0m\u001b[0;34m\u001b[0m\u001b[0m\n\u001b[1;32m     21\u001b[0m         \u001b[0;32mreturn\u001b[0m \u001b[0;32mFalse\u001b[0m\u001b[0;34m\u001b[0m\u001b[0m\n",
      "\u001b[0;31mKeyboardInterrupt\u001b[0m: "
     ]
    }
   ],
   "source": [
    "from IPython import display\n",
    "import pandas as pd\n",
    "import os\n",
    "import time \n",
    "import subprocess\n",
    "from astropy import wcs\n",
    "from astropy.io import fits\n",
    "from astropy.nddata.utils import Cutout2D\n",
    "import numpy as np\n",
    "import random\n",
    "import matplotlib.pyplot as plt\n",
    "\n",
    "DWNLD_PATH = \"c_\"\n",
    "RESULTS_PATH = \"/home/toyonaga/scratch/pipeline/results/\"\n",
    "start = int(input('start from this results file '))\n",
    "end = int(input(\"end at this results file \"))\n",
    "CSV_PATH=\"test_csv\" #shouldn't have to change\n",
    "OUT_PATH = 'de_'#'detected_images/det_'\n",
    "FP_PATH = 'fp_'#'false_postives_h2/fp_'\n",
    "im_info = pd.read_csv(CSV_PATH)\n",
    "\n",
    "\n",
    "def dwnld(entry): \n",
    "    subprocess.check_output([\"wget\", \"-O\",DWNLD_PATH+str(entry)+ \".fits\" ,\n",
    "                             \"http://www.cadc-ccda.hia-iha.nrc-cnrc.gc.ca/data/pub/MAST/HST/product/\"+\n",
    "                             im_info['obj_name'][entry]+\"_drz.fits\"]) \n",
    "\n",
    "def get_positives(filename):\n",
    "    #get coords of pred above 0.9\n",
    "    crd_dict = {\"ra\": [], \"dec\":[], \"obj_name\":[] } \n",
    "    df = pd.read_csv(filename, sep = ',')\n",
    "    for row in range(len(df)):\n",
    "        if float(df['prb'][row]) > 0.999:\n",
    "            crd_dict['ra'].append(df['ra'][row])\n",
    "            crd_dict['dec'].append(df['dec'][row])\n",
    "            crd_dict['obj_name'].append(df['obj_name'][row])\n",
    "    print(len(crd_dict['ra']))\n",
    "    return crd_dict\n",
    "        \n",
    "        \n",
    "\n",
    "for job in range(end-start):\n",
    "   \n",
    "    '''populate coordinate dict with result file info'''\n",
    "    try:\n",
    "        crd_dict = get_positives(RESULTS_PATH+\"results_\"+str(job+start)+\".out\")\n",
    "        print(len(crd_dict['ra']))\n",
    "    except:\n",
    "        print('missing results from job: '+str(job))\n",
    "        continue\n",
    "        \n",
    "        \n",
    "    '''download image cutouts based on the file names''' \n",
    "    fails=0\n",
    "    print(\"dwnlding image \" + str(job+start))\n",
    "    #try: \n",
    "    dwnld(job+start)\n",
    "    #except:\n",
    "    fails+=1\n",
    "    print(\"Failed\")\n",
    "    print(\"failed: \"+str(fails))\n",
    "            \n",
    "        \n",
    "    '''make 100x100 boxes'''\n",
    "    data, hdr = fits.getdata(DWNLD_PATH + str(job+start) + \".fits\", 1, header=True) #'sci' image[1] data and header\n",
    "    w = wcs.WCS(hdr)\n",
    "    exit=False\n",
    "    for cutout in range(len(crd_dict[\"obj_name\"])):\n",
    "        try:                                \n",
    "\n",
    "            pixcrd2 = w.wcs_world2pix([[float(crd_dict['ra'][cutout]), float(crd_dict['dec'][cutout])]], 0)\n",
    "            print (pixcrd2)\n",
    "            centered_cut = Cutout2D(data, (pixcrd2[0][0], pixcrd2[0][1]), (100, 100))\n",
    "            print (centered_cut.shape)\n",
    "            \n",
    "            ims=centered_cut.data\n",
    "            display.clear_output(wait=True)\n",
    "            plt.imshow(ims) \n",
    "            plt.pause(0.1)\n",
    "            while(1):\n",
    "                ans = int(input(\"save=1, discard=2, exit=9\"))\n",
    "        \n",
    "                if ans ==1:\n",
    "                    fits.writeto(OUT_PATH+ str(crd_dict['ra'][cutout]) + \"_\" + str(crd_dict['dec'][cutout]) +'.fits',centered_cut.data, header=hdr, overwrite =True)\n",
    "                    break\n",
    "                if ans ==2:\n",
    "                    fits.writeto(FP_PATH+ str(crd_dict['ra'][cutout]) + \"_\" + str(crd_dict['dec'][cutout]) +'.fits',centered_cut.data, header=hdr, overwrite =True)\n",
    "                    break\n",
    "                if ans ==9:\n",
    "                    exit=True\n",
    "                    break\n",
    "            if exit==True:\n",
    "                break\n",
    "        except:\n",
    "            print(\"skipped due to non-existent image, or conversion error\")\n",
    "    "
   ]
  },
  {
   "cell_type": "markdown",
   "metadata": {},
   "source": [
    "## \n",
    "\n",
    "   "
   ]
  },
  {
   "cell_type": "markdown",
   "metadata": {},
   "source": [
    "## "
   ]
  },
  {
   "cell_type": "code",
   "execution_count": null,
   "metadata": {},
   "outputs": [],
   "source": [
    "#get probabilities to plot distributions\n",
    "import pandas as pd\n",
    "from astropy.io import fits\n",
    "from astropy.nddata.utils import Cutout2D\n",
    "import numpy as np\n",
    "import os \n",
    "import time\n",
    "start = time.time()\n",
    "PATH = '/home/toyonaga/scratch/pipeline/results/'\n",
    "crd_dict = {\"prb_1\": [], \"prb_2\":[], \"prb_3\":[] } \n",
    "\n",
    "def get_crds(full_path):\n",
    "    df = pd.read_csv(full_path, sep = ',') #open results csv\n",
    "    for row in range(len(df)): #for each row\n",
    "        crd_dict['prb_1'].append(float(df['prb_1'][row]))\n",
    "        crd_dict['prb_2'].append(float(df['prb_2'][row]))\n",
    "        crd_dict['prb_3'].append(float(df['prb_3'][row]))\n",
    "\n",
    "    return crd_dict\n",
    "\n",
    "        \n",
    "        \n",
    "for filename in os.listdir(PATH):\n",
    "    print(filename)\n",
    "    try:\n",
    "        get_crds(PATH+filename)\n",
    "    except:\n",
    "        print('failed to get prbs')\n",
    "\n",
    "print(str(time.time()-start)+ \" seconds \")"
   ]
  },
  {
   "cell_type": "code",
   "execution_count": 2,
   "metadata": {},
   "outputs": [
    {
     "data": {
      "text/plain": [
       "20315329"
      ]
     },
     "execution_count": 2,
     "metadata": {},
     "output_type": "execute_result"
    }
   ],
   "source": [
    "len(crd_dict['prb_1'])"
   ]
  },
  {
   "cell_type": "code",
   "execution_count": 3,
   "metadata": {},
   "outputs": [
    {
     "data": {
      "text/plain": [
       "40630.658"
      ]
     },
     "execution_count": 3,
     "metadata": {},
     "output_type": "execute_result"
    }
   ],
   "source": [
    "20315329*0.002"
   ]
  },
  {
   "cell_type": "code",
   "execution_count": 7,
   "metadata": {},
   "outputs": [
    {
     "data": {
      "image/png": "[encoded data removed]",
      "text/plain": [
       "<Figure size 432x288 with 1 Axes>"
      ]
     },
     "metadata": {
      "needs_background": "light"
     },
     "output_type": "display_data"
    }
   ],
   "source": [
    "import matplotlib.pyplot as plt\n",
    "plt.hist(crd_dict['prb_1'],30)\n",
    "plt.show()\n"
   ]
  },
  {
   "cell_type": "code",
   "execution_count": 50,
   "metadata": {},
   "outputs": [
    {
     "data": {
      "text/plain": [
       "[<matplotlib.lines.Line2D at 0x7fedac3598d0>]"
      ]
     },
     "execution_count": 50,
     "metadata": {},
     "output_type": "execute_result"
    },
    {
     "data": {
      "image/png": "[encoded data removed]",
      "text/plain": [
       "<Figure size 432x288 with 1 Axes>"
      ]
     },
     "metadata": {
      "needs_background": "light"
     },
     "output_type": "display_data"
    }
   ],
   "source": [
    "x_axis = np.linspace(0,1, num=14)\n",
    "tens_list = [crd_dict['prb_1']]\n",
    "for i in range(len(x_axis-1)):\n",
    "    tens_list.append([])\n",
    "    \n",
    "    \n",
    "def work(element,limit):\n",
    "    for probability in (tens_list[element]): #check the previous percentage bin\n",
    "        if probability>limit:\n",
    "            tens_list[element+1].append(probability)\n",
    "    return len(tens_list[element+1])\n",
    "\n",
    "y_axis =[]\n",
    "for i in range(len(x_axis-1)):\n",
    "    y_axis.append(work(i,x_axis[i]))\n",
    "    \n",
    "\n",
    "plt.plot(x_axis[1:],y_axis[1:])"
   ]
  },
  {
   "cell_type": "code",
   "execution_count": 46,
   "metadata": {},
   "outputs": [
    {
     "data": {
      "text/plain": [
       "([1781171, 122661, 78741, 48730, 30388, 14200, 4121, 2229, 1375, 0],\n",
       " array([0.        , 0.11111111, 0.22222222, 0.33333333, 0.44444444,\n",
       "        0.55555556, 0.66666667, 0.77777778, 0.88888889, 1.        ]))"
      ]
     },
     "execution_count": 46,
     "metadata": {},
     "output_type": "execute_result"
    }
   ],
   "source": [
    "y_axis, x_axis"
   ]
  },
  {
   "cell_type": "code",
   "execution_count": 9,
   "metadata": {},
   "outputs": [
    {
     "data": {
      "image/png": "[encoded data removed]",
      "text/plain": [
       "<Figure size 432x288 with 1 Axes>"
      ]
     },
     "metadata": {
      "needs_background": "light"
     },
     "output_type": "display_data"
    }
   ],
   "source": [
    "plt.hist(crd_dict['prb_2'],30)\n",
    "plt.show()"
   ]
  },
  {
   "cell_type": "code",
   "execution_count": 11,
   "metadata": {},
   "outputs": [
    {
     "data": {
      "image/png": "[encoded data removed]",
      "text/plain": [
       "<Figure size 432x288 with 1 Axes>"
      ]
     },
     "metadata": {
      "needs_background": "light"
     },
     "output_type": "display_data"
    }
   ],
   "source": [
    "plt.hist(crd_dict['prb_3'],30)\n",
    "plt.show()"
   ]
  },
  {
   "cell_type": "code",
   "execution_count": null,
   "metadata": {},
   "outputs": [],
   "source": []
  }
 ],
 "metadata": {
  "kernelspec": {
   "display_name": "Python 3",
   "language": "python",
   "name": "python3"
  },
  "language_info": {
   "codemirror_mode": {
    "name": "ipython",
    "version": 3
   },
   "file_extension": ".py",
   "mimetype": "text/x-python",
   "name": "python",
   "nbconvert_exporter": "python",
   "pygments_lexer": "ipython3",
   "version": "3.6.3"
  }
 },
 "nbformat": 4,
 "nbformat_minor": 2
}
