{
 "cells": [
  {
   "cell_type": "code",
   "execution_count": null,
   "metadata": {},
   "outputs": [
    {
     "name": "stdout",
     "output_type": "stream",
     "text": [
      "1 0\n",
      "1 1\n",
      "1 2\n",
      "1 3\n",
      "1 4\n",
      "1 5\n",
      "1 6\n",
      "1 7\n",
      "1 8\n",
      "1 9\n",
      "1 10\n",
      "1 11\n",
      "1 12\n",
      "1 13\n",
      "1 14\n",
      "1 15\n",
      "1 16\n",
      "1 17\n",
      "1 18\n",
      "1 19\n",
      "1 20\n",
      "1 21\n",
      "1 22\n",
      "1 23\n",
      "1 24\n",
      "1 25\n",
      "1 26\n",
      "1 27\n",
      "1 28\n",
      "1 29\n",
      "1 30\n",
      "1 31\n",
      "1 32\n",
      "1 33\n",
      "1 34\n",
      "1 35\n",
      "1 36\n",
      "1 37\n",
      "1 38\n",
      "1 39\n",
      "1 40\n",
      "1 41\n",
      "1 42\n",
      "1 43\n",
      "1 44\n",
      "1 45\n",
      "1 46\n",
      "1 47\n",
      "1 48\n",
      "1 49\n",
      "1 50\n",
      "1 51\n",
      "1 52\n",
      "1 53\n",
      "1 54\n",
      "1 55\n",
      "1 56\n",
      "1 57\n",
      "1 58\n",
      "1 59\n",
      "1 60\n",
      "1 61\n",
      "1 62\n",
      "1 63\n",
      "1 64\n",
      "1 65\n",
      "1 66\n",
      "1 67\n",
      "1 68\n",
      "1 69\n",
      "1 70\n",
      "1 71\n",
      "1 72\n",
      "1 73\n",
      "1 74\n",
      "1 75\n",
      "1 76\n",
      "1 77\n",
      "1 78\n",
      "1 79\n",
      "1 80\n",
      "1 81\n",
      "1 82\n",
      "1 83\n",
      "1 84\n",
      "1 85\n",
      "1 86\n",
      "1 87\n",
      "1 88\n",
      "1 89\n",
      "1 90\n",
      "1 91\n",
      "1 92\n",
      "1 93\n",
      "1 94\n",
      "1 95\n",
      "1 96\n",
      "1 97\n",
      "1 98\n",
      "1 99\n",
      "1 100\n",
      "1 101\n",
      "1 102\n",
      "1 103\n",
      "1 104\n",
      "1 105\n",
      "1 106\n",
      "1 107\n",
      "1 108\n",
      "1 109\n",
      "1 110\n",
      "1 111\n",
      "1 112\n",
      "1 113\n",
      "1 114\n",
      "1 115\n",
      "1 116\n",
      "1 117\n",
      "1 118\n",
      "1 119\n",
      "1 120\n",
      "1 121\n",
      "1 122\n",
      "1 123\n",
      "1 124\n",
      "1 125\n",
      "1 126\n",
      "1 127\n",
      "1 128\n",
      "1 129\n",
      "1 130\n",
      "1 131\n",
      "1 132\n",
      "1 133\n",
      "1 134\n",
      "1 135\n",
      "1 136\n",
      "1 137\n",
      "1 138\n",
      "1 139\n",
      "1 140\n",
      "1 141\n",
      "1 142\n",
      "1 143\n",
      "1 144\n",
      "1 145\n",
      "1 146\n",
      "1 147\n",
      "1 148\n",
      "1 149\n",
      "1 150\n",
      "1 151\n",
      "1 152\n",
      "1 153\n",
      "1 154\n",
      "1 155\n",
      "1 156\n",
      "1 157\n",
      "1 158\n",
      "1 159\n",
      "1 160\n",
      "1 161\n",
      "1 162\n",
      "1 163\n",
      "1 164\n",
      "1 165\n",
      "1 166\n",
      "1 167\n",
      "1 168\n",
      "1 169\n",
      "1 170\n",
      "1 171\n",
      "1 172\n",
      "1 173\n",
      "1 174\n",
      "1 175\n",
      "1 176\n",
      "1 177\n",
      "1 178\n",
      "1 179\n",
      "1 180\n",
      "1 181\n",
      "1 182\n",
      "1 183\n",
      "1 184\n",
      "1 185\n",
      "1 186\n",
      "1 187\n",
      "1 188\n",
      "1 189\n",
      "1 190\n",
      "1 191\n",
      "1 192\n",
      "1 193\n",
      "1 194\n",
      "1 195\n",
      "1 196\n",
      "1 197\n",
      "1 198\n",
      "1 199\n",
      "1 200\n",
      "1 201\n",
      "1 202\n",
      "1 203\n",
      "1 204\n",
      "1 205\n",
      "1 206\n",
      "1 207\n",
      "1 208\n",
      "1 209\n",
      "1 210\n",
      "1 211\n",
      "1 212\n",
      "1 213\n",
      "1 214\n",
      "1 215\n",
      "1 216\n",
      "1 217\n",
      "1 218\n",
      "1 219\n",
      "1 220\n",
      "1 221\n",
      "1 222\n",
      "1 223\n",
      "1 224\n",
      "1 225\n",
      "1 226\n",
      "1 227\n",
      "1 228\n",
      "1 229\n",
      "1 230\n",
      "1 231\n",
      "1 232\n",
      "1 233\n",
      "1 234\n",
      "1 235\n",
      "1 236\n",
      "1 237\n",
      "1 238\n",
      "1 239\n",
      "1 240\n",
      "1 241\n",
      "1 242\n",
      "1 243\n",
      "1 244\n",
      "1 245\n",
      "1 246\n",
      "1 247\n",
      "1 248\n",
      "1 249\n",
      "1 250\n",
      "1 251\n",
      "1 252\n",
      "1 253\n",
      "1 254\n",
      "1 255\n",
      "1 256\n",
      "1 257\n",
      "1 258\n",
      "1 259\n",
      "1 260\n",
      "1 261\n",
      "1 262\n",
      "1 263\n",
      "1 264\n",
      "1 265\n",
      "1 266\n",
      "1 267\n",
      "1 268\n",
      "1 269\n",
      "1 270\n",
      "1 271\n",
      "1 272\n",
      "1 273\n",
      "1 274\n",
      "1 275\n",
      "1 276\n",
      "1 277\n",
      "1 278\n",
      "1 279\n",
      "1 280\n",
      "1 281\n",
      "1 282\n",
      "1 283\n",
      "1 284\n",
      "1 285\n",
      "1 286\n",
      "1 287\n",
      "1 288\n",
      "1 289\n",
      "1 290\n",
      "1 291\n",
      "1 292\n",
      "1 293\n",
      "1 294\n",
      "1 295\n",
      "1 296\n",
      "1 297\n",
      "1 298\n",
      "1 299\n",
      "1 300\n",
      "1 301\n",
      "1 302\n",
      "1 303\n",
      "1 304\n",
      "1 305\n",
      "1 306\n",
      "1 307\n",
      "1 308\n",
      "1 309\n",
      "1 310\n",
      "1 311\n",
      "1 312\n",
      "1 313\n",
      "1 314\n",
      "1 315\n",
      "1 316\n",
      "1 317\n",
      "1 318\n",
      "1 319\n",
      "1 320\n",
      "1 321\n",
      "1 322\n",
      "1 323\n",
      "1 324\n",
      "1 325\n",
      "1 326\n",
      "1 327\n",
      "1 328\n",
      "1 329\n",
      "1 330\n",
      "1 331\n",
      "1 332\n",
      "1 333\n",
      "1 334\n",
      "1 335\n",
      "1 336\n",
      "1 337\n",
      "1 338\n",
      "1 339\n",
      "1 340\n",
      "1 341\n",
      "1 342\n",
      "1 343\n",
      "1 344\n",
      "1 345\n",
      "1 346\n",
      "1 347\n",
      "1 348\n",
      "1 349\n",
      "1 350\n",
      "1 351\n",
      "1 352\n",
      "1 353\n",
      "1 354\n",
      "1 355\n",
      "1 356\n",
      "1 357\n",
      "1 358\n",
      "1 359\n",
      "1 360\n",
      "1 361\n",
      "1 362\n",
      "1 363\n",
      "1 364\n",
      "1 365\n",
      "1 366\n",
      "1 367\n",
      "1 368\n",
      "1 369\n",
      "1 370\n",
      "1 371\n",
      "1 372\n",
      "1 373\n",
      "1 374\n",
      "1 375\n",
      "1 376\n",
      "1 377\n",
      "1 378\n",
      "1 379\n",
      "1 380\n",
      "1 381\n",
      "1 382\n",
      "1 383\n",
      "1 384\n",
      "1 385\n",
      "1 386\n",
      "1 387\n",
      "1 388\n",
      "1 389\n",
      "1 390\n",
      "1 391\n",
      "1 392\n",
      "1 393\n",
      "1 394\n",
      "1 395\n",
      "1 396\n",
      "1 397\n",
      "1 398\n",
      "1 399\n",
      "1 400\n",
      "1 401\n",
      "1 402\n",
      "1 403\n",
      "1 404\n",
      "1 405\n",
      "1 406\n",
      "1 407\n",
      "1 408\n",
      "1 409\n",
      "1 410\n",
      "1 411\n",
      "1 412\n",
      "1 413\n",
      "1 414\n",
      "1 415\n",
      "1 416\n",
      "1 417\n",
      "1 418\n",
      "1 419\n",
      "1 420\n",
      "1 421\n",
      "1 422\n",
      "1 423\n",
      "1 424\n",
      "1 425\n",
      "1 426\n",
      "1 427\n",
      "1 428\n",
      "1 429\n",
      "1 430\n",
      "1 431\n",
      "1 432\n",
      "1 433\n",
      "1 434\n",
      "1 435\n",
      "1 436\n",
      "1 437\n",
      "1 438\n",
      "1 439\n",
      "1 440\n",
      "1 441\n",
      "1 442\n",
      "1 443\n",
      "1 444\n",
      "1 445\n",
      "1 446\n",
      "1 447\n",
      "1 448\n",
      "1 449\n",
      "1 450\n",
      "1 451\n",
      "1 452\n",
      "1 453\n",
      "1 454\n",
      "1 455\n",
      "1 456\n",
      "1 457\n",
      "1 458\n",
      "1 459\n",
      "1 460\n",
      "1 461\n",
      "1 462\n",
      "1 463\n",
      "1 464\n",
      "1 465\n",
      "1 466\n",
      "1 467\n",
      "1 468\n",
      "1 469\n",
      "1 470\n",
      "1 471\n",
      "1 472\n",
      "1 473\n",
      "1 474\n",
      "1 475\n",
      "1 476\n",
      "1 477\n",
      "1 478\n",
      "1 479\n",
      "1 480\n",
      "1 481\n",
      "1 482\n",
      "1 483\n",
      "1 484\n",
      "1 485\n",
      "1 486\n",
      "1 487\n",
      "1 488\n",
      "1 489\n",
      "1 490\n",
      "1 491\n",
      "1 492\n",
      "1 493\n",
      "1 494\n",
      "1 495\n",
      "1 496\n",
      "1 497\n",
      "1 498\n",
      "1 499\n",
      "1 500\n",
      "1 501\n",
      "1 502\n",
      "1 503\n",
      "1 504\n",
      "1 505\n",
      "1 506\n",
      "1 507\n",
      "1 508\n",
      "1 509\n",
      "1 510\n",
      "1 511\n",
      "1 512\n",
      "1 513\n",
      "1 514\n",
      "1 515\n",
      "1 516\n",
      "1 517\n",
      "1 518\n",
      "1 519\n",
      "1 520\n",
      "1 521\n",
      "1 522\n",
      "1 523\n",
      "1 524\n",
      "1 525\n",
      "1 526\n",
      "1 527\n",
      "1 528\n",
      "1 529\n",
      "1 530\n",
      "1 531\n",
      "1 532\n",
      "1 533\n",
      "1 534\n",
      "1 535\n",
      "1 536\n",
      "1 537\n",
      "1 538\n",
      "1 539\n",
      "1 540\n",
      "1 541\n",
      "1 542\n",
      "1 543\n",
      "1 544\n",
      "1 545\n",
      "1 546\n",
      "1 547\n",
      "1 548\n",
      "1 549\n",
      "1 550\n",
      "1 551\n",
      "1 552\n",
      "1 553\n",
      "1 554\n",
      "1 555\n",
      "1 556\n",
      "1 557\n",
      "1 558\n",
      "1 559\n",
      "1 560\n",
      "1 561\n",
      "1 562\n",
      "1 563\n",
      "1 564\n",
      "1 565\n",
      "1 566\n",
      "1 567\n",
      "1 568\n",
      "1 569\n",
      "1 570\n",
      "1 571\n",
      "1 572\n"
     ]
    }
   ],
   "source": [
    "#load the pos/neg/fp from pipeline tests into their own list of arrays \n",
    "import os\n",
    "from astropy.convolution import convolve, Gaussian2DKernel\n",
    "from astropy.nddata.utils import Cutout2D\n",
    "from astropy.io import fits\n",
    "import numpy as np\n",
    "from sklearn.preprocessing import minmax_scale\n",
    "\n",
    "\n",
    "\n",
    "NEG_PATH = \"/home/toyonaga/scratch/HSTLens_datasets/batchjob_2_train_n/\"\n",
    "POS_PATH = \"/home/toyonaga/scratch/HSTLens_datasets/batchjob_2_train_p/\"\n",
    " #includes both pos and neg samples\n",
    "\n",
    "\n",
    "\n",
    "#load the negatives into even numbered indices (including 0)\n",
    "count =0\n",
    "set_size =30000\n",
    "nx=np.ones((set_size, 1, 100, 100))\n",
    "ny=np.ones((set_size,1))\n",
    "bad_images = []\n",
    "for filename in os.listdir(NEG_PATH):\n",
    "    if filename.endswith(\".fits\") and count<set_size: \n",
    "        pic = fits.open(NEG_PATH+filename)[0].data\n",
    "\n",
    "        if np.isnan(pic).all() ==True:\n",
    "            bad_images.append(count)\n",
    "            continue\n",
    "            \n",
    "        nx[count] = np.nan_to_num(pic)\n",
    "        ny[count] =(np.array([0]))\n",
    "        print(\"1 \"+str(count))\n",
    "        count+=1\n",
    "\n",
    "nx = np.delete(nx,bad_images, axis=0)        \n",
    "ny = np.delete(ny,bad_images, axis=0) \n",
    "print(nx.shape)\n",
    "    \n",
    "    \n",
    "#load the positives into odd numered indices\n",
    "set_size =30000\n",
    "px=np.ones((set_size, 1, 100, 100))\n",
    "py=np.ones((set_size,1))\n",
    "count =0\n",
    "bad_images = []\n",
    "for filename in os.listdir(POS_PATH):\n",
    "    if filename.endswith(\".fits\") and count<set_size: \n",
    "        pic = fits.open(POS_PATH+filename)[0].data\n",
    "        \n",
    "        if np.isnan(pic).all() ==True:\n",
    "            bad_images.append(count)\n",
    "            continue\n",
    "            \n",
    "        px[count]=np.nan_to_num(pic)\n",
    "        py[count]=np.array([1])\n",
    "        print(\"2 \"+str(count))\n",
    "        count+=1\n",
    "\n",
    "px = np.delete(px,bad_images, axis=0)        \n",
    "py = np.delete(py,bad_images, axis=0) \n",
    "print(px.shape)\n",
    "\n"
   ]
  },
  {
   "cell_type": "code",
   "execution_count": 1,
   "metadata": {},
   "outputs": [],
   "source": [
    "import numpy as np\n",
    "pos = np.load('/home/toyonaga/scratch/HSTLens_datasets/batchjob_2_train_p_bin.npy')\n",
    "neg = np.load('/home/toyonaga/scratch/HSTLens_datasets/batchjob_2_train_n_bin.npy')"
   ]
  },
  {
   "cell_type": "code",
   "execution_count": 19,
   "metadata": {},
   "outputs": [],
   "source": [
    "import numpy as np\n",
    "pos_test = np.load('/home/toyonaga/scratch/HSTLens_datasets/batchjob_2_test_p_bin.npy')\n",
    "neg_test = np.load('/home/toyonaga/scratch/HSTLens_datasets/batchjob_2_test_n_bin.npy')"
   ]
  },
  {
   "cell_type": "code",
   "execution_count": 6,
   "metadata": {},
   "outputs": [],
   "source": [
    "py =np.ones((pos.shape[0],1))\n",
    "ny =np.zeros((neg.shape[0],1))\n"
   ]
  },
  {
   "cell_type": "code",
   "execution_count": 20,
   "metadata": {},
   "outputs": [],
   "source": [
    "py_test =np.ones((pos_test.shape[0],1))\n",
    "ny_test =np.zeros((neg_test.shape[0],1))"
   ]
  },
  {
   "cell_type": "code",
   "execution_count": 21,
   "metadata": {},
   "outputs": [],
   "source": [
    "x_combined_test = np.concatenate((pos_test, neg_test))\n",
    "y_combined_test = np.concatenate((py_test, ny_test)) "
   ]
  },
  {
   "cell_type": "code",
   "execution_count": 7,
   "metadata": {},
   "outputs": [
    {
     "name": "stdout",
     "output_type": "stream",
     "text": [
      "done parsing\n",
      "done parsing\n"
     ]
    }
   ],
   "source": [
    "bad_images=[]\n",
    "for i in range(len(pos)):\n",
    "    pos[i][0] = np.nan_to_num(pos[i][0])\n",
    "    #print(i)\n",
    "    if pos[i][0].all==0:\n",
    "        bad_images.append(i)\n",
    "print('done parsing')\n",
    "pos = np.delete(pos,bad_images, axis=0)\n",
    "py = np.ones((pos.shape[0],1))\n",
    "\n",
    "bad_images=[]\n",
    "for i in range(len(neg)):\n",
    "    neg[i][0] = np.nan_to_num(neg[i][0])\n",
    "    #print(i)\n",
    "    if neg[i][0].all==0:\n",
    "        bad_images.append(i)\n",
    "print('done parsing')\n",
    "neg = np.delete(neg,bad_images, axis=0)\n",
    "ny = np.zeros((neg.shape[0],1))"
   ]
  },
  {
   "cell_type": "code",
   "execution_count": 3,
   "metadata": {},
   "outputs": [
    {
     "name": "stdout",
     "output_type": "stream",
     "text": [
      "done parsing\n",
      "done parsing\n"
     ]
    }
   ],
   "source": [
    "#import from .npy bin file\n",
    "\n",
    "import numpy as np\n",
    "px = np.load(\"/home/toyonaga/scratch/positive_array.npy\")\n",
    "bad_images=[]\n",
    "for i in range(len(px)):\n",
    "    px[i][0] = np.nan_to_num(px[i][0])\n",
    "    #print(i)\n",
    "    if px[i][0].all==0:\n",
    "        bad_images.append(i)\n",
    "print('done parsing')\n",
    "px = np.delete(px,bad_images, axis=0)\n",
    "py = np.ones((px.shape[0],1))\n",
    "\n",
    "nx = np.load(\"/home/toyonaga/scratch/negative_array.npy\")\n",
    "bad_images=[]\n",
    "for i in range(len(nx)):\n",
    "    nx[i][0] = np.nan_to_num(nx[i][0])\n",
    "    #print(i)\n",
    "    if nx[i][0].all==0:\n",
    "        bad_images.append(i)\n",
    "print('done parsing')\n",
    "nx = np.delete(nx,bad_images, axis=0)\n",
    "ny = np.zeros((nx.shape[0],1))\n"
   ]
  },
  {
   "cell_type": "code",
   "execution_count": 8,
   "metadata": {},
   "outputs": [
    {
     "name": "stdout",
     "output_type": "stream",
     "text": [
      "[1.]\n"
     ]
    },
    {
     "data": {
      "image/png": "[encoded data removed]",
      "text/plain": [
       "<Figure size 432x288 with 1 Axes>"
      ]
     },
     "metadata": {
      "needs_background": "light"
     },
     "output_type": "display_data"
    },
    {
     "ename": "KeyboardInterrupt",
     "evalue": "",
     "output_type": "error",
     "traceback": [
      "\u001b[0;31m---------------------------------------------------------------------------\u001b[0m",
      "\u001b[0;31mKeyboardInterrupt\u001b[0m                         Traceback (most recent call last)",
      "\u001b[0;32m/project/6016730/mlhaa/lib/python3.6/site-packages/ipykernel/kernelbase.py\u001b[0m in \u001b[0;36m_input_request\u001b[0;34m(self, prompt, ident, parent, password)\u001b[0m\n\u001b[1;32m    728\u001b[0m             \u001b[0;32mtry\u001b[0m\u001b[0;34m:\u001b[0m\u001b[0;34m\u001b[0m\u001b[0m\n\u001b[0;32m--> 729\u001b[0;31m                 \u001b[0mident\u001b[0m\u001b[0;34m,\u001b[0m \u001b[0mreply\u001b[0m \u001b[0;34m=\u001b[0m \u001b[0mself\u001b[0m\u001b[0;34m.\u001b[0m\u001b[0msession\u001b[0m\u001b[0;34m.\u001b[0m\u001b[0mrecv\u001b[0m\u001b[0;34m(\u001b[0m\u001b[0mself\u001b[0m\u001b[0;34m.\u001b[0m\u001b[0mstdin_socket\u001b[0m\u001b[0;34m,\u001b[0m \u001b[0;36m0\u001b[0m\u001b[0;34m)\u001b[0m\u001b[0;34m\u001b[0m\u001b[0m\n\u001b[0m\u001b[1;32m    730\u001b[0m             \u001b[0;32mexcept\u001b[0m \u001b[0mException\u001b[0m\u001b[0;34m:\u001b[0m\u001b[0;34m\u001b[0m\u001b[0m\n",
      "\u001b[0;32m/project/6016730/mlhaa/lib/python3.6/site-packages/jupyter_client/session.py\u001b[0m in \u001b[0;36mrecv\u001b[0;34m(self, socket, mode, content, copy)\u001b[0m\n\u001b[1;32m    802\u001b[0m         \u001b[0;32mtry\u001b[0m\u001b[0;34m:\u001b[0m\u001b[0;34m\u001b[0m\u001b[0m\n\u001b[0;32m--> 803\u001b[0;31m             \u001b[0mmsg_list\u001b[0m \u001b[0;34m=\u001b[0m \u001b[0msocket\u001b[0m\u001b[0;34m.\u001b[0m\u001b[0mrecv_multipart\u001b[0m\u001b[0;34m(\u001b[0m\u001b[0mmode\u001b[0m\u001b[0;34m,\u001b[0m \u001b[0mcopy\u001b[0m\u001b[0;34m=\u001b[0m\u001b[0mcopy\u001b[0m\u001b[0;34m)\u001b[0m\u001b[0;34m\u001b[0m\u001b[0m\n\u001b[0m\u001b[1;32m    804\u001b[0m         \u001b[0;32mexcept\u001b[0m \u001b[0mzmq\u001b[0m\u001b[0;34m.\u001b[0m\u001b[0mZMQError\u001b[0m \u001b[0;32mas\u001b[0m \u001b[0me\u001b[0m\u001b[0;34m:\u001b[0m\u001b[0;34m\u001b[0m\u001b[0m\n",
      "\u001b[0;32m/project/6016730/mlhaa/lib/python3.6/site-packages/zmq/sugar/socket.py\u001b[0m in \u001b[0;36mrecv_multipart\u001b[0;34m(self, flags, copy, track)\u001b[0m\n\u001b[1;32m    466\u001b[0m         \"\"\"\n\u001b[0;32m--> 467\u001b[0;31m         \u001b[0mparts\u001b[0m \u001b[0;34m=\u001b[0m \u001b[0;34m[\u001b[0m\u001b[0mself\u001b[0m\u001b[0;34m.\u001b[0m\u001b[0mrecv\u001b[0m\u001b[0;34m(\u001b[0m\u001b[0mflags\u001b[0m\u001b[0;34m,\u001b[0m \u001b[0mcopy\u001b[0m\u001b[0;34m=\u001b[0m\u001b[0mcopy\u001b[0m\u001b[0;34m,\u001b[0m \u001b[0mtrack\u001b[0m\u001b[0;34m=\u001b[0m\u001b[0mtrack\u001b[0m\u001b[0;34m)\u001b[0m\u001b[0;34m]\u001b[0m\u001b[0;34m\u001b[0m\u001b[0m\n\u001b[0m\u001b[1;32m    468\u001b[0m         \u001b[0;31m# have first part already, only loop while more to receive\u001b[0m\u001b[0;34m\u001b[0m\u001b[0;34m\u001b[0m\u001b[0m\n",
      "\u001b[0;32mzmq/backend/cython/socket.pyx\u001b[0m in \u001b[0;36mzmq.backend.cython.socket.Socket.recv\u001b[0;34m()\u001b[0m\n",
      "\u001b[0;32mzmq/backend/cython/socket.pyx\u001b[0m in \u001b[0;36mzmq.backend.cython.socket.Socket.recv\u001b[0;34m()\u001b[0m\n",
      "\u001b[0;32mzmq/backend/cython/socket.pyx\u001b[0m in \u001b[0;36mzmq.backend.cython.socket._recv_copy\u001b[0;34m()\u001b[0m\n",
      "\u001b[0;32m/project/6016730/mlhaa/lib/python3.6/site-packages/zmq/backend/cython/checkrc.pxd\u001b[0m in \u001b[0;36mzmq.backend.cython.checkrc._check_rc\u001b[0;34m()\u001b[0m\n",
      "\u001b[0;31mKeyboardInterrupt\u001b[0m: ",
      "\nDuring handling of the above exception, another exception occurred:\n",
      "\u001b[0;31mKeyboardInterrupt\u001b[0m                         Traceback (most recent call last)",
      "\u001b[0;32m<ipython-input-8-b148e6bd5255>\u001b[0m in \u001b[0;36m<module>\u001b[0;34m()\u001b[0m\n\u001b[1;32m     17\u001b[0m    \u001b[0;32mwhile\u001b[0m\u001b[0;34m(\u001b[0m\u001b[0;36m1\u001b[0m\u001b[0;34m)\u001b[0m\u001b[0;34m:\u001b[0m\u001b[0;34m\u001b[0m\u001b[0m\n\u001b[1;32m     18\u001b[0m \u001b[0;34m\u001b[0m\u001b[0m\n\u001b[0;32m---> 19\u001b[0;31m        \u001b[0mans\u001b[0m \u001b[0;34m=\u001b[0m \u001b[0minput\u001b[0m\u001b[0;34m(\u001b[0m\u001b[0;34m\"curr num \"\u001b[0m\u001b[0;34m+\u001b[0m\u001b[0mstr\u001b[0m\u001b[0;34m(\u001b[0m\u001b[0mi\u001b[0m\u001b[0;34m+\u001b[0m\u001b[0msp\u001b[0m\u001b[0;34m)\u001b[0m\u001b[0;34m+\u001b[0m\u001b[0;34m\"next=1, exit=0\"\u001b[0m\u001b[0;34m)\u001b[0m\u001b[0;34m\u001b[0m\u001b[0m\n\u001b[0m\u001b[1;32m     20\u001b[0m        \u001b[0mplt\u001b[0m\u001b[0;34m.\u001b[0m\u001b[0mshow\u001b[0m\u001b[0;34m(\u001b[0m\u001b[0;34m)\u001b[0m\u001b[0;34m\u001b[0m\u001b[0m\n\u001b[1;32m     21\u001b[0m        \u001b[0;32mbreak\u001b[0m\u001b[0;34m\u001b[0m\u001b[0m\n",
      "\u001b[0;32m/project/6016730/mlhaa/lib/python3.6/site-packages/ipykernel/kernelbase.py\u001b[0m in \u001b[0;36mraw_input\u001b[0;34m(self, prompt)\u001b[0m\n\u001b[1;32m    702\u001b[0m             \u001b[0mself\u001b[0m\u001b[0;34m.\u001b[0m\u001b[0m_parent_ident\u001b[0m\u001b[0;34m,\u001b[0m\u001b[0;34m\u001b[0m\u001b[0m\n\u001b[1;32m    703\u001b[0m             \u001b[0mself\u001b[0m\u001b[0;34m.\u001b[0m\u001b[0m_parent_header\u001b[0m\u001b[0;34m,\u001b[0m\u001b[0;34m\u001b[0m\u001b[0m\n\u001b[0;32m--> 704\u001b[0;31m             \u001b[0mpassword\u001b[0m\u001b[0;34m=\u001b[0m\u001b[0;32mFalse\u001b[0m\u001b[0;34m,\u001b[0m\u001b[0;34m\u001b[0m\u001b[0m\n\u001b[0m\u001b[1;32m    705\u001b[0m         )\n\u001b[1;32m    706\u001b[0m \u001b[0;34m\u001b[0m\u001b[0m\n",
      "\u001b[0;32m/project/6016730/mlhaa/lib/python3.6/site-packages/ipykernel/kernelbase.py\u001b[0m in \u001b[0;36m_input_request\u001b[0;34m(self, prompt, ident, parent, password)\u001b[0m\n\u001b[1;32m    732\u001b[0m             \u001b[0;32mexcept\u001b[0m \u001b[0mKeyboardInterrupt\u001b[0m\u001b[0;34m:\u001b[0m\u001b[0;34m\u001b[0m\u001b[0m\n\u001b[1;32m    733\u001b[0m                 \u001b[0;31m# re-raise KeyboardInterrupt, to truncate traceback\u001b[0m\u001b[0;34m\u001b[0m\u001b[0;34m\u001b[0m\u001b[0m\n\u001b[0;32m--> 734\u001b[0;31m                 \u001b[0;32mraise\u001b[0m \u001b[0mKeyboardInterrupt\u001b[0m\u001b[0;34m\u001b[0m\u001b[0m\n\u001b[0m\u001b[1;32m    735\u001b[0m             \u001b[0;32melse\u001b[0m\u001b[0;34m:\u001b[0m\u001b[0;34m\u001b[0m\u001b[0m\n\u001b[1;32m    736\u001b[0m                 \u001b[0;32mbreak\u001b[0m\u001b[0;34m\u001b[0m\u001b[0m\n",
      "\u001b[0;31mKeyboardInterrupt\u001b[0m: "
     ]
    }
   ],
   "source": [
    " #quickly view some images\n",
    "import matplotlib.pyplot as plt\n",
    "\n",
    "\n",
    "from IPython import display\n",
    "\n",
    "import os\n",
    "\n",
    "print(len(x_combined_shuf))\n",
    "sp=int(input(\"start position\"))\n",
    "for i in range(len(x_combined_shuf)):\n",
    "    exit=False\n",
    "    display.clear_output(wait=True)\n",
    "    plt.imshow(x_combined_shuf[i+sp][0]) \n",
    "    print(y_combined_shuf[i+sp])\n",
    "    plt.pause(0.01)\n",
    "    while(1):\n",
    "        \n",
    "        ans = input(\"curr num \"+str(i+sp)+\"next=1, exit=0\")\n",
    "        plt.show()\n",
    "        break\n",
    "        if ans ==1:\n",
    "            break\n",
    "        if ans==0:\n",
    "            exit=True\n",
    "            break\n",
    "    if exit==True:\n",
    "        break"
   ]
  },
  {
   "cell_type": "code",
   "execution_count": 8,
   "metadata": {},
   "outputs": [],
   "source": [
    "#randomize and shuffle and combine neg and pos\n",
    "import random\n",
    "#first combine the X and Y arrays. Split down the middle into pos and neg  \n",
    "x_combined =np.concatenate((pos, neg))\n",
    "y_combined =np.concatenate((py, ny)) \n",
    "\n",
    "#shuffle the combined arrays\n",
    "s1 = np.arange(x_combined.shape[0])\n",
    "np.random.shuffle(s1)\n",
    "x_combined_shuf = x_combined[s1]\n",
    "y_combined_shuf = y_combined[s1]\n",
    "\n"
   ]
  },
  {
   "cell_type": "code",
   "execution_count": 4,
   "metadata": {},
   "outputs": [
    {
     "name": "stdout",
     "output_type": "stream",
     "text": [
      "concat\n"
     ]
    }
   ],
   "source": [
    "#randomize and shuffle and combine neg and pos\n",
    "import random\n",
    "\n",
    "x_combined = np.concatenate((px,nx ))\n",
    "y_combined = np.concatenate((py,ny))\n",
    "\n",
    "print('concat')\n",
    "\n",
    "#shuffle the combined array\n",
    "s3 = np.arange(x_combined.shape[0])\n",
    "np.random.shuffle(s3)\n",
    "\n",
    "x_combined_shuf =x_combined[s3]\n",
    "y_combined_shuf = y_combined[s3]\n",
    "\n",
    "# tr_x = x_combined_shuf[:len(x_combined_shuf)*0.8]\n",
    "# tr_y = y_combined_shuf[:len(y_combined_shuf)*0.8]\n",
    "# test_x = x_combined_shuf[len(x_combined_shuf)*0.8:]\n",
    "# test_y = y_combined_shuf[len(y_combined_shuf)*0.8:]"
   ]
  },
  {
   "cell_type": "code",
   "execution_count": 12,
   "metadata": {
    "scrolled": true
   },
   "outputs": [
    {
     "ename": "ModuleNotFoundError",
     "evalue": "No module named 'HSTLens_resnet18'",
     "output_type": "error",
     "traceback": [
      "\u001b[0;31m---------------------------------------------------------------------------\u001b[0m",
      "\u001b[0;31mModuleNotFoundError\u001b[0m                       Traceback (most recent call last)",
      "\u001b[0;32m<ipython-input-12-c3056c8539a8>\u001b[0m in \u001b[0;36m<module>\u001b[0;34m()\u001b[0m\n\u001b[1;32m      1\u001b[0m \u001b[0;32mimport\u001b[0m \u001b[0mtensorflow\u001b[0m\u001b[0;34m\u001b[0m\u001b[0m\n\u001b[1;32m      2\u001b[0m \u001b[0;32mimport\u001b[0m \u001b[0mkeras\u001b[0m\u001b[0;34m\u001b[0m\u001b[0m\n\u001b[0;32m----> 3\u001b[0;31m \u001b[0;32mfrom\u001b[0m \u001b[0mHSTLens_resnet18\u001b[0m \u001b[0;32mimport\u001b[0m \u001b[0mdeeplens_classifier\u001b[0m\u001b[0;34m\u001b[0m\u001b[0m\n\u001b[0m\u001b[1;32m      4\u001b[0m \u001b[0;34m\u001b[0m\u001b[0m\n\u001b[1;32m      5\u001b[0m \u001b[0mmy_model\u001b[0m \u001b[0;34m=\u001b[0m \u001b[0mdeeplens_classifier\u001b[0m\u001b[0;34m(\u001b[0m\u001b[0mn_epochs\u001b[0m\u001b[0;34m=\u001b[0m\u001b[0;36m20\u001b[0m\u001b[0;34m,\u001b[0m \u001b[0mbatch_size\u001b[0m\u001b[0;34m=\u001b[0m\u001b[0;36m32\u001b[0m\u001b[0;34m)\u001b[0m\u001b[0;34m\u001b[0m\u001b[0m\n",
      "\u001b[0;31mModuleNotFoundError\u001b[0m: No module named 'HSTLens_resnet18'"
     ]
    }
   ],
   "source": [
    "import tensorflow\n",
    "import keras\n",
    "from HSTLens_resnet18 import deeplens_classifier\n",
    "\n",
    "my_model = deeplens_classifier(n_epochs=20, batch_size=32)\n",
    "my_model._build() \n",
    "\n",
    "my_model._fit(x_combined_shuf,y_combined_shuf)\n",
    "\n",
    "#my_model.model.save(\"real_lenses_weights\") # issue with json serializing\n",
    "my_model.model.save_weights(\"combined_nonsubtracted_weights_resnet17_h2_60000\")\n",
    "# my_model.model.load_weights(\"weights/combined_nonsubtracted_weights_resnet17_h2_60000\")\n"
   ]
  },
  {
   "cell_type": "code",
   "execution_count": 7,
   "metadata": {},
   "outputs": [
    {
     "data": {
      "text/plain": [
       "[0.745, 0.76, 0.75, 0.82, 0.86, 0.855, 0.825, 0.875, 0.875, 0.9]"
      ]
     },
     "execution_count": 7,
     "metadata": {},
     "output_type": "execute_result"
    }
   ],
   "source": [
    "(my_model.batch_history.epoch_losses) "
   ]
  },
  {
   "cell_type": "code",
   "execution_count": 23,
   "metadata": {
    "collapsed": true
   },
   "outputs": [
    {
     "name": "stdout",
     "output_type": "stream",
     "text": [
      "auc 0.9877\n"
     ]
    },
    {
     "name": "stderr",
     "output_type": "stream",
     "text": [
      "/project/6016730/mlhaa/lib/python3.6/site-packages/matplotlib/cbook/deprecation.py:107: MatplotlibDeprecationWarning: Passing one of 'on', 'true', 'off', 'false' as a boolean is deprecated; use an actual boolean (True/False) instead.\n",
      "  warnings.warn(message, mplDeprecation, stacklevel=1)\n"
     ]
    },
    {
     "data": {
      "image/png": "[encoded data removed]",
      "text/plain": [
       "<Figure size 432x288 with 1 Axes>"
      ]
     },
     "metadata": {
      "needs_background": "light"
     },
     "output_type": "display_data"
    }
   ],
   "source": [
    "import matplotlib.pyplot as plt\n",
    "import sklearn.metrics as metrics\n",
    "# x_combined_roc = np.concatenate((ims_shuf[10000:], ims_real_test))\n",
    "# y_combined_roc = np.concatenate((y_shuf[10000:], y_real_test))\n",
    "fpr, tpr, t=my_model.eval_ROC(x_combined_test,y_combined_test)\n",
    "print(\"auc \"+str( metrics.auc(fpr, tpr)))\n",
    "\n",
    "plt.title('resnet16 with pooling')\n",
    "plt.plot(fpr,tpr)\n",
    "plt.xlabel('FPR'); \n",
    "plt.ylabel('TPR')\n",
    "plt.xlim(0,0.4); \n",
    "plt.ylim(0.8,1)\n",
    "plt.grid('on')"
   ]
  },
  {
   "cell_type": "code",
   "execution_count": 14,
   "metadata": {},
   "outputs": [
    {
     "name": "stderr",
     "output_type": "stream",
     "text": [
      "/project/6016730/mlhaa/lib/python3.6/site-packages/matplotlib/cbook/deprecation.py:107: MatplotlibDeprecationWarning: Passing one of 'on', 'true', 'off', 'false' as a boolean is deprecated; use an actual boolean (True/False) instead.\n",
      "  warnings.warn(message, mplDeprecation, stacklevel=1)\n"
     ]
    },
    {
     "data": {
      "text/plain": [
       "<matplotlib.legend.Legend at 0x2baf6e3d6f98>"
      ]
     },
     "execution_count": 14,
     "metadata": {},
     "output_type": "execute_result"
    },
    {
     "data": {
      "image/png": "[encoded data removed]",
      "text/plain": [
       "<Figure size 432x288 with 1 Axes>"
      ]
     },
     "metadata": {
      "needs_background": "light"
     },
     "output_type": "display_data"
    }
   ],
   "source": [
    "#my_model.model.history is a callback obj my_model.model.history is a dict\n",
    "import matplotlib.pyplot as plt\n",
    "train_loss = my_model.model.history.history['loss'] \n",
    "val_loss = my_model.model.history.history['val_loss']\n",
    "xc = range(6)\n",
    "\n",
    "plt.figure()\n",
    "plt.title('multiclass')\n",
    "plt.xlabel('epochs');\n",
    "plt.ylabel('loss')\n",
    "plt.plot(xc, train_loss,'r-',label=\"train loss\")\n",
    "plt.plot(xc, val_loss, 'b-',label=\"validation loss\")\n",
    "plt.grid('on')\n",
    "plt.legend()"
   ]
  },
  {
   "cell_type": "code",
   "execution_count": 671,
   "metadata": {},
   "outputs": [
    {
     "ename": "NameError",
     "evalue": "name 'x' is not defined",
     "output_type": "error",
     "traceback": [
      "\u001b[0;31m\u001b[0m",
      "\u001b[0;31mNameError\u001b[0mTraceback (most recent call last)",
      "\u001b[0;32m<ipython-input-671-9544e4702b51>\u001b[0m in \u001b[0;36m<module>\u001b[0;34m()\u001b[0m\n\u001b[1;32m      1\u001b[0m \u001b[0mstart\u001b[0m \u001b[0;34m=\u001b[0m \u001b[0mtime\u001b[0m\u001b[0;34m.\u001b[0m\u001b[0mtime\u001b[0m\u001b[0;34m(\u001b[0m\u001b[0;34m)\u001b[0m\u001b[0;34m\u001b[0m\u001b[0m\n\u001b[0;32m----> 2\u001b[0;31m \u001b[0mpredictions\u001b[0m\u001b[0;34m=\u001b[0m \u001b[0mmy_model\u001b[0m\u001b[0;34m.\u001b[0m\u001b[0m_predict\u001b[0m\u001b[0;34m(\u001b[0m\u001b[0mx\u001b[0m\u001b[0;34m[\u001b[0m\u001b[0;34m:\u001b[0m\u001b[0;36m1000\u001b[0m\u001b[0;34m]\u001b[0m\u001b[0;34m,\u001b[0m\u001b[0my\u001b[0m\u001b[0;34m[\u001b[0m\u001b[0;34m:\u001b[0m\u001b[0;36m1000\u001b[0m\u001b[0;34m]\u001b[0m\u001b[0;34m)\u001b[0m\u001b[0;34m\u001b[0m\u001b[0m\n\u001b[0m\u001b[1;32m      3\u001b[0m \u001b[0mduration\u001b[0m \u001b[0;34m=\u001b[0m \u001b[0mtime\u001b[0m\u001b[0;34m.\u001b[0m\u001b[0mtime\u001b[0m\u001b[0;34m(\u001b[0m\u001b[0;34m)\u001b[0m\u001b[0;34m-\u001b[0m\u001b[0mstart\u001b[0m\u001b[0;34m\u001b[0m\u001b[0m\n\u001b[1;32m      4\u001b[0m \u001b[0;32mprint\u001b[0m\u001b[0;34m(\u001b[0m\u001b[0mduration\u001b[0m\u001b[0;34m)\u001b[0m\u001b[0;34m\u001b[0m\u001b[0m\n\u001b[1;32m      5\u001b[0m \u001b[0;34m\u001b[0m\u001b[0m\n",
      "\u001b[0;31mNameError\u001b[0m: name 'x' is not defined"
     ]
    }
   ],
   "source": [
    "start = time.time()\n",
    "predictions= my_model._predict(x[:1000],y[:1000])\n",
    "duration = time.time()-start\n",
    "print(duration)\n",
    "\n",
    "''' \n",
    "12.427s for 100 predictions\n",
    "1.28s for 10 predicitons\n",
    "97.0560390949 for 1000 predictions \n",
    "'''"
   ]
  },
  {
   "cell_type": "code",
   "execution_count": 15,
   "metadata": {},
   "outputs": [
    {
     "name": "stderr",
     "output_type": "stream",
     "text": [
      "/project/6016730/mlhaa/lib/python3.6/site-packages/matplotlib/cbook/deprecation.py:107: MatplotlibDeprecationWarning: Passing one of 'on', 'true', 'off', 'false' as a boolean is deprecated; use an actual boolean (True/False) instead.\n",
      "  warnings.warn(message, mplDeprecation, stacklevel=1)\n"
     ]
    },
    {
     "data": {
      "text/plain": [
       "<matplotlib.legend.Legend at 0x2baf6ea5a7f0>"
      ]
     },
     "execution_count": 15,
     "metadata": {},
     "output_type": "execute_result"
    },
    {
     "data": {
      "image/png": "[encoded data removed]",
      "text/plain": [
       "<Figure size 432x288 with 1 Axes>"
      ]
     },
     "metadata": {
      "needs_background": "light"
     },
     "output_type": "display_data"
    }
   ],
   "source": [
    "acc = my_model.model.history.history['acc'] \n",
    "val_acc = my_model.model.history.history['val_acc'] \n",
    "xc =range(6)\n",
    "plt.figure()\n",
    "plt.title('multiclass')\n",
    "plt.xlabel('epochs')\n",
    "plt.ylabel('acc')\n",
    "plt.plot(xc, acc,'r-',label=\"acc\")\n",
    "plt.plot(xc, val_acc,'b-',label=\" valid acc\")\n",
    "plt.grid('on')\n",
    "plt.legend()"
   ]
  },
  {
   "cell_type": "code",
   "execution_count": 674,
   "metadata": {},
   "outputs": [
    {
     "data": {
      "text/plain": [
       "(420, 1, 100, 100)"
      ]
     },
     "execution_count": 674,
     "metadata": {},
     "output_type": "execute_result"
    }
   ],
   "source": [
    "x_test = np.load('pos_real_nonskysubtracted_x1.npy')\n",
    "y_test = np.load('pos_real_nonskysubtracted_y1.npy')\n",
    "x_test.shape"
   ]
  },
  {
   "cell_type": "code",
   "execution_count": 53,
   "metadata": {},
   "outputs": [
    {
     "name": "stdout",
     "output_type": "stream",
     "text": [
      "(1200, 1, 100, 100)\n",
      "[1.]\n"
     ]
    },
    {
     "data": {
      "image/png": "[encoded data removed]",
      "text/plain": [
       "<Figure size 432x288 with 1 Axes>"
      ]
     },
     "metadata": {
      "needs_background": "light"
     },
     "output_type": "display_data"
    }
   ],
   "source": [
    "i = 1183\n",
    "\n",
    "print( ims_real_test.shape)\n",
    "plt.imshow(ims_real_test[i][0])\n",
    "print(y_real_test[i])"
   ]
  },
  {
   "cell_type": "code",
   "execution_count": 13,
   "metadata": {},
   "outputs": [],
   "source": [
    "#load the real TEST images and their negatives\n",
    "import os\n",
    "from astropy.io import fits\n",
    "import numpy as np\n",
    "from sklearn.preprocessing import minmax_scale\n",
    "from random import shuffle\n",
    "\n",
    "NEG_PATH = \"/home/toyonaga/scratch/augmented_reals_3/dim_negs_norm_aug_noskysubtract/\"\n",
    "#POS_PATH = \"/home/roberttoyonaga/notebooks/roberttoyonaga/CMUDeepLensNRC/HSTLens/non-neg-set/merged/\"\n",
    "POS_PATH = \"/home/toyonaga/scratch/augmented_reals_3/augmented_reals_separate_test/\"\n",
    "set_size =15*40*2  #includes both pos and neg samples\n",
    "\n",
    "ims_real_test = np.ones((set_size, 1, 100, 100))\n",
    "y_real_test = np.ones((set_size,1))\n",
    "\n",
    "c_sig=10\n",
    "\n",
    "#load the negatives into even numbered indices (including 0)\n",
    "count =0\n",
    "neg_list = os.listdir(NEG_PATH)\n",
    "shuffle(neg_list)\n",
    "for filename in neg_list:\n",
    "    if filename.endswith(\".fits\") and count<set_size/2: \n",
    "        pic = fits.open(NEG_PATH+filename)[0].data\n",
    "    \n",
    "            \n",
    "        c = np.nan_to_num(pic)\n",
    "        sky_c =3.*np.median(pic)- 2.*np.mean(pic) #calc sky\n",
    "        sigma_c= np.std(c)          #calc sigma\n",
    "        c[np.isnan(c)]=sky_c          #get rid of NAn\n",
    "        c[c>(sky_c+c_sig*sigma_c)]=sky_c+c_sig*sigma_c    #clip values\n",
    "        c= c-sky_c                                         #subtract sky\n",
    "        tmp_lens2 = c.reshape(-1,)                        #scale \n",
    "\n",
    "        tmp_lens2 = minmax_scale(tmp_lens2, feature_range = (0,1))\n",
    "        pic = tmp_lens2.reshape(pic.shape[2],pic.shape[2])\n",
    "\n",
    "\n",
    "        summed=pic\n",
    "        np.random.seed()\n",
    "        h1 = (sky_c)*np.random.randn(10000)\n",
    "        np.random.shuffle(h1)\n",
    "        summed = np.add(summed,h1.reshape(100,100)) # you can add constants too\n",
    "        tmp_image = summed.reshape(-1,)\n",
    "        tmp_image = minmax_scale(tmp_image, feature_range = (0,1))\n",
    "        summed = tmp_image.reshape(summed.shape[0],summed.shape[1])\n",
    "        ims_real_test[count*2] = summed\n",
    "        y_real_test[count*2] = np.array([0])\n",
    "        count+=1\n",
    "    \n",
    "    \n",
    "#load the positives into odd numered indices\n",
    "count =0\n",
    "pos_list = os.listdir(POS_PATH)\n",
    "shuffle(pos_list)\n",
    "for filename in pos_list:\n",
    "    if filename.endswith(\".fits\") and count<set_size/2: \n",
    "        pic = fits.open(POS_PATH+filename)[0].data\n",
    "        \n",
    "          \n",
    "        c = np.nan_to_num(pic)\n",
    "        sky_c =3.*np.median(pic)- 2.*np.mean(pic) #calc sky\n",
    "        sigma_c= np.std(c)          #calc sigma\n",
    "        c[np.isnan(c)]=sky_c          #get rid of NAn\n",
    "        c[c>(sky_c+c_sig*sigma_c)]=sky_c+c_sig*sigma_c    #clip values\n",
    "        c= c-sky_c                                         #subtract sky\n",
    "        tmp_lens2 = c.reshape(-1,)                        #scale \n",
    "\n",
    "        tmp_lens2 = minmax_scale(tmp_lens2, feature_range = (0,1))\n",
    "        pic = tmp_lens2.reshape(pic.shape[2],pic.shape[2])\n",
    "\n",
    "\n",
    "        summed=pic\n",
    "        np.random.seed()\n",
    "        h1 = (sky_c)*np.random.randn(10000)\n",
    "        np.random.shuffle(h1)\n",
    "        summed = np.add(summed,h1.reshape(100,100)) # you can add constants too\n",
    "        tmp_image = summed.reshape(-1,)\n",
    "        tmp_image = minmax_scale(tmp_image, feature_range = (0,1))\n",
    "        summed = tmp_image.reshape(summed.shape[0],summed.shape[1])\n",
    "        ims_real_test[count*2+1] = summed\n",
    "        y_real_test[count*2+1] = np.array([1])\n",
    "        count+=1\n",
    "        \n",
    "\n",
    "          "
   ]
  },
  {
   "cell_type": "code",
   "execution_count": 26,
   "metadata": {},
   "outputs": [
    {
     "name": "stdout",
     "output_type": "stream",
     "text": [
      "...Generating Predictions ...\n",
      "fpr:  0.0 tpr:  1.0 fp  0.0 tp  1156.0 fn  0.0\n"
     ]
    }
   ],
   "source": [
    "predictions  = my_model._predict( x_combined_test, y= None, discrete = False)\n",
    "tp =0.\n",
    "fp =0.\n",
    "fn=0.\n",
    "pos =0.\n",
    "for i in range(len(predictions)):\n",
    "    if (predictions[i] ==1) and( y_combined_test[i] ==1):\n",
    "        tp+=1\n",
    "        pos+=1\n",
    "        \n",
    "    if (predictions[i] == 1) and (y_combined_test[i]==0): \n",
    "        fp+=1\n",
    "        #print (\"fp\"+ str(i))\n",
    "    if (predictions[i] == 0 ) and (y_combined_test[i] ==1):\n",
    "        fn+=1\n",
    "        pos+=1\n",
    "        #print( \"fn\"+ str(i))\n",
    "        \n",
    "print (\"fpr: \", fp/pos,\"tpr: \", tp/pos ,\"fp \",fp, \"tp \",  tp,\"fn \", fn)\n"
   ]
  },
  {
   "cell_type": "code",
   "execution_count": 28,
   "metadata": {},
   "outputs": [
    {
     "name": "stdout",
     "output_type": "stream",
     "text": [
      "...Generating Predictions ...\n"
     ]
    },
    {
     "data": {
      "text/plain": [
       "('purity0.8870159453302962', 'comp0.9735')"
      ]
     },
     "execution_count": 28,
     "metadata": {},
     "output_type": "execute_result"
    }
   ],
   "source": [
    "pur, comp = my_model.eval_purity_completeness(x_combined_test, y_combined_test)\n",
    "#pur, comp = my_model.eval_purity_completeness(ims_real_test,y_real_test)\n",
    "\"purity\" + str(pur),\"comp\" + str(comp)"
   ]
  },
  {
   "cell_type": "code",
   "execution_count": 23,
   "metadata": {},
   "outputs": [
    {
     "data": {
      "text/plain": [
       "<matplotlib.image.AxesImage at 0x2af85f018b00>"
      ]
     },
     "execution_count": 23,
     "metadata": {},
     "output_type": "execute_result"
    },
    {
     "data": {
      "image/png": "[encoded data removed]",
      "text/plain": [
       "<Figure size 432x288 with 1 Axes>"
      ]
     },
     "metadata": {
      "needs_background": "light"
     },
     "output_type": "display_data"
    }
   ],
   "source": [
    "plt.imshow(ims_real_test[7][0])"
   ]
  },
  {
   "cell_type": "code",
   "execution_count": 27,
   "metadata": {},
   "outputs": [
    {
     "data": {
      "text/plain": [
       "(array([1145.,  144.,   98.,   60.,   45.,   48.,   45.,   33.,   30.,\n",
       "          29.,   31.,   27.,   23.,   22.,   25.,   21.,   19.,   20.,\n",
       "          20.,   16.,   13.,   18.,   17.,   16.,    6.,   19.,   28.,\n",
       "          26.,   48., 1908.]),\n",
       " array([3.9458659e-09, 3.3333339e-02, 6.6666670e-02, 1.0000000e-01,\n",
       "        1.3333334e-01, 1.6666667e-01, 2.0000000e-01, 2.3333333e-01,\n",
       "        2.6666668e-01, 3.0000001e-01, 3.3333334e-01, 3.6666667e-01,\n",
       "        4.0000001e-01, 4.3333334e-01, 4.6666667e-01, 5.0000000e-01,\n",
       "        5.3333336e-01, 5.6666666e-01, 6.0000002e-01, 6.3333333e-01,\n",
       "        6.6666669e-01, 6.9999999e-01, 7.3333335e-01, 7.6666665e-01,\n",
       "        8.0000001e-01, 8.3333331e-01, 8.6666667e-01, 8.9999998e-01,\n",
       "        9.3333334e-01, 9.6666664e-01, 1.0000000e+00], dtype=float32),\n",
       " <a list of 30 Patch objects>)"
      ]
     },
     "execution_count": 27,
     "metadata": {},
     "output_type": "execute_result"
    },
    {
     "data": {
      "image/png": "[encoded data removed]",
      "text/plain": [
       "<Figure size 432x288 with 1 Axes>"
      ]
     },
     "metadata": {
      "needs_background": "light"
     },
     "output_type": "display_data"
    }
   ],
   "source": [
    "plt.hist(predictions,30)"
   ]
  },
  {
   "cell_type": "code",
   "execution_count": null,
   "metadata": {},
   "outputs": [],
   "source": []
  }
 ],
 "metadata": {
  "kernelspec": {
   "display_name": "Python 3",
   "language": "python",
   "name": "python3"
  },
  "language_info": {
   "codemirror_mode": {
    "name": "ipython",
    "version": 3
   },
   "file_extension": ".py",
   "mimetype": "text/x-python",
   "name": "python",
   "nbconvert_exporter": "python",
   "pygments_lexer": "ipython3",
   "version": "3.6.3"
  }
 },
 "nbformat": 4,
 "nbformat_minor": 2
}
