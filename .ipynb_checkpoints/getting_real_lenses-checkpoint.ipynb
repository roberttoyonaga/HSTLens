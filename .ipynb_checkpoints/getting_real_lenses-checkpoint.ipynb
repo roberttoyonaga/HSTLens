{
 "cells": [
  {
   "cell_type": "code",
   "execution_count": 90,
   "metadata": {},
   "outputs": [
    {
     "data": {
      "text/plain": [
       "<SkyCoord (ICRS): (ra, dec) in deg\n",
       "    ( 53.15925, -27.94803889)>"
      ]
     },
     "execution_count": 90,
     "metadata": {},
     "output_type": "execute_result"
    }
   ],
   "source": [
    "\n",
    "from astropy.coordinates import SkyCoord\n",
    "\n",
    "lens_list = []\n",
    "\n",
    "SkyCoord('03h32m38.22s', '-27d56m52.94s', frame='icrs')\n"
   ]
  },
  {
   "cell_type": "code",
   "execution_count": 111,
   "metadata": {
    "scrolled": true
   },
   "outputs": [
    {
     "name": "stdout",
     "output_type": "stream",
     "text": [
      "How many lenses do you want to generate parameter files for? 3\n",
      "========== you can make this many lenses: 3\n",
      "0\n",
      "1\n",
      "2\n",
      "1.26793217659\n",
      "dwnlding image 0\n",
      "dwnlding image 1\n",
      "dwnlding image 2\n",
      "failed: 0\n",
      "[[ 153.78661192  153.58594465]]\n",
      "(100, 100)\n",
      "skipped due to non-existent image, or conversion error\n",
      "[[ 153.76974069  152.96178189]]\n",
      "(100, 100)\n",
      "skipped due to non-existent image, or conversion error\n",
      "[[ 192.72800653  191.28595751]]\n",
      "(100, 100)\n",
      "skipped due to non-existent image, or conversion error\n"
     ]
    }
   ],
   "source": [
    "#dwnd and cutout image of real lens\n",
    "data_dict = {\"ra\": [], \"dec\":[], \"z_spect\":[], \"z_phot\": [], \"pubID\":[], \"obj_name\":[] } \n",
    "  \n",
    "data_dict[\"ra\"].append(\"242.32816667\")\n",
    "data_dict[\"dec\"].append(\"65.54714444\")\n",
    "\n",
    "data_dict[\"ra\"].append(\"242.2928\")\n",
    "data_dict[\"dec\"].append(\"65.54927222\")\n",
    "\n",
    "data_dict[\"ra\"].append(\"53.15925\")\n",
    "data_dict[\"dec\"].append(\"-27.94803889\")\n",
    "\n",
    "import pandas as pd\n",
    "from daomop.storage import tap_query\n",
    "import os\n",
    "import time \n",
    "import subprocess\n",
    "from astropy import wcs\n",
    "from astropy.io import fits\n",
    "from astropy.nddata.utils import Cutout2D\n",
    "import numpy as np\n",
    "import random\n",
    "from sklearn.preprocessing import minmax_scale\n",
    "\n",
    "CUTOUT_PATH = \"/run/media/toyonagar/Lexar/real_lenses/real_cutout_\"\n",
    "OUT_PATH ='/run/media/toyonagar/Lexar/real_lenses/normalized/real_out'\n",
    "LENSES_PATH = \"lenses/lens_image_\"\n",
    "hm_lenses = input(\"How many lenses do you want to generate parameter files for? \")\n",
    "\n",
    "\n",
    "def dwnld(entry, data_dict): \n",
    "    subprocess.check_output([\"wget\", \"-O\",CUTOUT_PATH +str(entry)+ \".fits\" ,\n",
    "                             \"http://www.cadc-ccda.hia-iha.nrc-cnrc.gc.ca/caom2ops/cutout?uri=mast:HST/product/\"+\n",
    "                             data_dict[\"obj_name\"][entry]+\"_drz.fits&cutout=Circle+ICRS+\" + str(data_dict[\"ra\"][entry]) + \"+\" +\n",
    "                             str(data_dict[\"dec\"][entry]) + \"+0.002\"]) \n",
    "\n",
    "def get_filenames(ra, dec, data_dict):\n",
    "    query = '''SELECT caom2.Plane.publisherID, caom2.Plane.planeURI \n",
    "    FROM caom2.observation \n",
    "    JOIN caom2.plane ON caom2.observation.obsID = caom2.plane.obsID \n",
    "    WHERE CONTAINS( CIRCLE('ICRS',''' + str(ra) + ',' +str(dec) + ''',0.01), caom2.plane.position_bounds)=1 \n",
    "    AND caom2.observation.collection = 'HST' \n",
    "    AND caom2.observation.instrument_name = 'ACS/WFC' '''\n",
    "\n",
    "    out_query = tap_query(query)\n",
    "\n",
    "    '''store the pubID and filenames'''\n",
    "    filled = False\n",
    "    for entry in range(len(out_query[\"publisherID\"])):\n",
    "        if (\"0-\" in out_query[\"publisherID\"][entry]) and (\"PRODUCT\" in out_query[\"publisherID\"][entry]):\n",
    "            data_dict[\"pubID\"].append(out_query[\"publisherID\"][entry])\n",
    "\n",
    "            start = out_query[\"publisherID\"][entry].find('HST?') + 4 #add 4 to get to the and of the HST?\n",
    "            end = out_query[\"publisherID\"][entry].find('/j', start)\n",
    "            data_dict[\"obj_name\"].append(out_query[\"publisherID\"][entry][start:end])\n",
    "            filled=True\n",
    "            break  #only add one entry per ADQL query. Otherwise you'll download different images of the same obj\n",
    "    \n",
    "    if filled == False: \n",
    "            data_dict[\"obj_name\"].append(None)\n",
    "    return data_dict\n",
    "\n",
    "\n",
    "def image_params(lens):\n",
    "    #Set the lensing source parameters in the files that lenstool requires, and output them as new files\n",
    " \n",
    "    my_file = open(\"temp_parameters.parorig\",\"r\") #changed file extension so bash wont delete after each iteration\n",
    "    lines = my_file.readlines()\n",
    "    my_file.close()\n",
    "\n",
    "    for line in range(len(lines)):\n",
    "        if \"SOURCEFLAG\" in lines[line]:\n",
    "            lines[line] = \"\\t\" +\"source     1 cusp_left_\" +str(lens)+\".cat\" +\"\\n\" #PATH tmp.cat files in run dir\n",
    "        if \"PIXELFLAG\" in lines[line]:\n",
    "            lines[line] =  \"\\t\" +\"pixel     1 100 \"+LENSES_PATH+str(lens)+\".fits\" +\"\\n\" #PATH exports to run dir/lenses/\n",
    "        if \"SKYFLAG\" in lines[line]:\n",
    "            lines[line] =  \"\\t\" +\"sky     \"+str(sky[lens]) +\"\\n\"\n",
    "        if \"ZFLAG\" in lines[line]:\n",
    "            lines[line] =  \"\\t\" +\"z_lens     \"+str(zlens[lens]) +\"\\n\"\n",
    "        if \"ELLIPFLAG\" in lines[line]:\n",
    "            lines[line] =  \"\\t\" +\"ellipticite     \"+str(ellip[lens]) +\"\\n\"\n",
    "        if \"XCENTFLAG\" in lines[line]:\n",
    "            lines[line] =  \"\\t\" +\"x_centre     \"+str(x_cent[lens]) +\"\\n\"\n",
    "        if \"YCENTFLAG\" in lines[line]:\n",
    "            lines[line] =  \"\\t\" +\"y_centre     \"+str(y_cent[lens]) +\"\\n\"\n",
    "        if \"RADFLAG\" in lines[line]:\n",
    "            lines[line] =  \"\\t\" +\"core_radius_kpc     \"+str(core_rad_kpc[lens]) +\"\\n\"\n",
    "\n",
    "    f = open(\"temp_parameters_\"+str(lens)+\".par\",\"w\") #PATH temp .par files in run dir\n",
    "    f.writelines(lines)\n",
    "    f.close()\n",
    "\n",
    "    \n",
    "def source_params(lens):\n",
    "    #set up the parameters of the lensed source\n",
    "    \n",
    "    source_lines = []\n",
    "    source_lines.append(\"#REFERENCE 0 \\n\")\n",
    "    source_lines.append(\"S1 \"+str(ra[lens])+ \" \"+str(dec[lens])+\" \"+str(a_maj[lens])+ \" \"+ str(b_maj[lens])+ \" \"+ str(theta[lens])+ \" \"+str(redshift[lens])+ \" \"+str(magnitude[lens]))\n",
    "    f = open(\"cusp_left_\" +str(lens)+\".cat\",\"w\") #PATH leave as run dir\n",
    "    f.writelines(source_lines)\n",
    "    f.close()\n",
    "\n",
    "\n",
    "\n",
    "'''extract data from table'''\n",
    "\n",
    "\n",
    "        \n",
    "'''tap query for the potential results'''\n",
    "print(\"========== you can make this many lenses: \"+str(len(data_dict['ra'])))\n",
    "start=time.time()\n",
    "for i in range(hm_lenses):#range(len(data_dict['ra'])):\n",
    "    print(i)\n",
    "    data_dict = get_filenames(data_dict['ra'][i], data_dict['dec'][i], data_dict)\n",
    "    \n",
    "print(time.time()-start)\n",
    "\n",
    "\n",
    "\n",
    "'''download image cutouts based on the file names''' #needs error handling badly for when you cant get a 0- PRODUCT name!!\n",
    "fails=0\n",
    "for i in range(len(data_dict[\"obj_name\"])):\n",
    "    if data_dict[\"obj_name\"][i] != None:  #wnld only if you found a 0- PRODUCT image\n",
    "        try: \n",
    "            print(\"dwnlding image \" + str(i))\n",
    "            dwnld(i, data_dict)\n",
    "        except:\n",
    "            fails+=1\n",
    "            print(\"Failed\")\n",
    "print(\"failed: \"+str(fails))\n",
    "            \n",
    "'''after downloading, find the pixel coordinates of the RA/dec that you have and then cut a 100/100 square around there '''\n",
    "for cutout in range(len(data_dict[\"obj_name\"])):\n",
    "    #try:                                \n",
    "        data, hdr = fits.getdata(CUTOUT_PATH + str(cutout) + \".fits\", 1, header=True) #'sci' image[1] data and header\n",
    "        w = wcs.WCS(hdr)\n",
    "        pixcrd2 = w.wcs_world2pix([[float(data_dict['ra'][cutout]), float(data_dict['dec'][cutout])]], 0)\n",
    "        print (pixcrd2)\n",
    "        centered_cut = Cutout2D(data, (pixcrd2[0][0], pixcrd2[0][1]), (100, 100))\n",
    "        print (centered_cut.shape)\n",
    "        \n",
    "        #do a 0-1 scaling of the pixel intensities\n",
    "        tmp_image = centered_cut.data.reshape(-1,)\n",
    "        tmp_image = minmax_scale(tmp_image, feature_range = (0,1))\n",
    "        centered_cut.data = tmp_image.reshape(centered_cut.data.shape[0],centered_cut.data.shape[1])\n",
    "        \n",
    "        fits.writeto(OUT_PATH + str(cutout) + '.fits', centered_cut.data, header=hdr, overwrite =True)\n",
    "    #except:\n",
    "        print(\"skipped due to non-existent image, or conversion error\")\n",
    "\n",
    "        \n",
    "        "
   ]
  },
  {
   "cell_type": "code",
   "execution_count": 116,
   "metadata": {},
   "outputs": [],
   "source": [
    "#import all the data from their fits files. This will load the data into \"ims\" (set_size, color, 100,100) and \"y\" (set_size , 1) \n",
    "import numpy as np\n",
    "import os \n",
    "from astropy.io import fits\n",
    "\n",
    "NEG_PATH = \"/run/media/toyonagar/Lexar/negatives/\"\n",
    "POS_PATH = '/run/media/toyonagar/Lexar/real_lenses/normalized/'\n",
    "\n",
    "set_size =6\n",
    "\n",
    "ims = np.ones((set_size, 1, 100, 100))\n",
    "y = np.ones((set_size,1))\n",
    "\n",
    "#load the negatives into even numbered indices (including 0)\n",
    "count =0\n",
    "for filename in os.listdir(NEG_PATH):\n",
    "    if filename.endswith(\".fits\") and count<set_size/2: \n",
    "        ims[count*2] = fits.open(NEG_PATH+filename)[0].data\n",
    "        y[count*2] = np.array([0])\n",
    "        count+=1\n",
    "    \n",
    "    \n",
    "#load the positives into odd numered indices\n",
    "count =0\n",
    "for filename in os.listdir(POS_PATH):\n",
    "    if filename.endswith(\".fits\") and count<set_size/2: \n",
    "        ims[count*2+1] = fits.open(POS_PATH+filename)[0].data\n",
    "        y[count*2+1] = np.array([1])\n",
    "        count+=1\n",
    "    "
   ]
  },
  {
   "cell_type": "code",
   "execution_count": 132,
   "metadata": {},
   "outputs": [
    {
     "name": "stderr",
     "output_type": "stream",
     "text": [
      "Using TensorFlow backend.\n"
     ]
    },
    {
     "name": "stdout",
     "output_type": "stream",
     "text": [
      "performing cleaning and augmentation\n",
      "(12, 100, 100, 1)\n",
      "(12, 1, 100, 100)\n"
     ]
    }
   ],
   "source": [
    "#do some data augmentation to get more images to work with\n",
    "from sklearn.preprocessing import minmax_scale\n",
    "import numpy as np\n",
    "import time\n",
    "from keras.preprocessing.image import ImageDataGenerator\n",
    "\n",
    "def augment(x,y):\n",
    "    print (\"performing cleaning and augmentation\")\n",
    "    start= time.time()\n",
    "    y_new=y\n",
    "   \n",
    "    datagen = ImageDataGenerator()\n",
    "    transform_dict1 = {'flip_horizontal':True, 'flip_vertical':False}\n",
    "    transform_dict2 = {'flip_horizontal':False, 'flip_vertical':True}\n",
    "    transform_list= [transform_dict1, transform_dict2]\n",
    "    \n",
    "    y_new = np.zeros((len(transform_list)*y.shape[0],1))\n",
    "    \n",
    "    #reshape so colour channel is last\n",
    "    \n",
    "    x_r = np.zeros((x.shape[0],x.shape[2],x.shape[2],x.shape[1]))\n",
    "    \n",
    "    for image in range(x.shape[0]):\n",
    "        for color in range(x.shape[1]):\n",
    "            x_r[image,:,:,color] = x[image,color,:,:]\n",
    "    \n",
    "    \n",
    "    \n",
    "    #apply transforms and add them to the dataset \n",
    "    \n",
    "    x_aug = np.zeros((len(transform_list)*x_r.shape[0], x_r.shape[1], x_r.shape[2], x_r.shape[3]))\n",
    "    print(x_aug.shape)\n",
    "    for image in range(x_r.shape[0]): \n",
    "        for transform in range(len(transform_list)):\n",
    "            x_aug[image + x_r.shape[0]*transform] = datagen.apply_transform(x_r[image], transform_list[transform])\n",
    "            y_new[image + x_r.shape[0]*transform] = y[image]\n",
    "    \n",
    "    \n",
    "    #reshape so colour channel is axis=1\n",
    "    \n",
    "    x_aug_cf = np.zeros((x_aug.shape[0],x_aug.shape[3],x_aug.shape[2],x_aug.shape[2]))\n",
    "    \n",
    "    for image in range(x_aug.shape[0]):\n",
    "        for color in range(x_aug.shape[3]):\n",
    "            x_aug_cf[image,color,:,:] = x_aug[image,:,:,color]\n",
    "    print(x_aug_cf.shape)\n",
    "    \n",
    "    return x_aug_cf, y_new\n",
    "x_aug_cf, y_new = augment(ims,y)  "
   ]
  },
  {
   "cell_type": "code",
   "execution_count": 139,
   "metadata": {},
   "outputs": [
    {
     "name": "stdout",
     "output_type": "stream",
     "text": [
      "(0.022455884135968648, 0.059247109854550957)\n"
     ]
    },
    {
     "data": {
      "text/plain": [
       "<matplotlib.image.AxesImage at 0x7f93bc680610>"
      ]
     },
     "execution_count": 139,
     "metadata": {},
     "output_type": "execute_result"
    },
    {
     "data": {
      "image/png": "[encoded data removed]",
      "text/plain": [
       "<Figure size 432x288 with 1 Axes>"
      ]
     },
     "metadata": {
      "needs_background": "light"
     },
     "output_type": "display_data"
    }
   ],
   "source": [
    "import matplotlib.pyplot as plt\n",
    "print(ims[5][0].mean(), ims[4][0].mean())\n",
    "plt.imshow(x_aug_cf[7][0])"
   ]
  },
  {
   "cell_type": "code",
   "execution_count": null,
   "metadata": {},
   "outputs": [],
   "source": [
    "save(\"set-w-real-x\", x_aug_cf)\n",
    "save(\"set-w-real-y\",y_new)"
   ]
  }
 ],
 "metadata": {
  "kernelspec": {
   "display_name": "Python 2",
   "language": "python",
   "name": "python2"
  },
  "language_info": {
   "codemirror_mode": {
    "name": "ipython",
    "version": 2
   },
   "file_extension": ".py",
   "mimetype": "text/x-python",
   "name": "python",
   "nbconvert_exporter": "python",
   "pygments_lexer": "ipython2",
   "version": "2.7.15"
  }
 },
 "nbformat": 4,
 "nbformat_minor": 2
}
