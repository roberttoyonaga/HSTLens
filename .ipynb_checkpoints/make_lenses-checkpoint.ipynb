{
 "cells": [
  {
   "cell_type": "code",
   "execution_count": 44,
   "metadata": {},
   "outputs": [],
   "source": [
    "sky = 100 #this will be randomized\n",
    "z_lens =3.9\n",
    "ellip = 0.01\n",
    "x_cent = 0.0\n",
    "y_cent =0.00\n",
    "core_rad_kpc =5\n",
    "\n",
    "#for lensed source\n",
    "ra = 0.000\n",
    "dec = -0.0000000\n",
    "a_maj = 2.990983 #a major axis in arcsec\n",
    "b_maj = 0.20991 #a major axis in arcsec\n",
    "theta = 0.0 #in degrees from east-west axis\n",
    "redshift = 5.600\n",
    "magnitude = 18.0000\n",
    "\n",
    "\n",
    "my_file = open(\"temp_parameters.par\",\"r\")\n",
    "lines = my_file.readlines()\n",
    "my_file.close()\n",
    "\n",
    "# num for some line number\n",
    "for line in range(len(lines)):\n",
    "    if \"SKYFLAG\" in lines[line]:\n",
    "        lines[line] =  \"\\t\" +\"sky     \"+str(sky) +\"\\n\"\n",
    "    if \"ZFLAG\" in lines[line]:\n",
    "        lines[line] =  \"\\t\" +\"z_lens     \"+str(z_lens) +\"\\n\"\n",
    "    if \"ELLIPFLAG\" in lines[line]:\n",
    "        lines[line] =  \"\\t\" +\"ellipticite     \"+str(ellip) +\"\\n\"\n",
    "    if \"XCENTFLAG\" in lines[line]:\n",
    "        lines[line] =  \"\\t\" +\"x_centre     \"+str(x_cent) +\"\\n\"\n",
    "    if \"YCENTFLAG\" in lines[line]:\n",
    "        lines[line] =  \"\\t\" +\"y_centre     \"+str(y_cent) +\"\\n\"\n",
    "    if \"RADFLAG\" in lines[line]:\n",
    "        lines[line] =  \"\\t\" +\"core_radius_kpc     \"+str(core_rad_kpc) +\"\\n\"\n",
    "\n",
    "f = open(\"temp_parameters_changed.par\",\"w\")\n",
    "f.writelines(lines)\n",
    "f.close()\n",
    "\n",
    "\n",
    "source_lines = []\n",
    "source_lines.append(\"#REFERENCE 0 \\n\")\n",
    "source_lines.append(\"S1 \"+str(ra)+ \" \"+str(dec)+\" \"+str(a_maj)+ \" \"+ str(b_maj)+ \" \"+ str(theta)+ \" \"+str(redshift)+ \" \"+str(magnitude))\n",
    "f = open(\"cusp_left-CHANGED.cat\",\"w\")\n",
    "f.writelines(source_lines)\n",
    "f.close()\n"
   ]
  },
  {
   "cell_type": "code",
   "execution_count": 33,
   "metadata": {},
   "outputs": [
    {
     "data": {
      "text/plain": [
       "10.0"
      ]
     },
     "execution_count": 33,
     "metadata": {},
     "output_type": "execute_result"
    }
   ],
   "source": [
    "0.05*200\n"
   ]
  },
  {
   "cell_type": "code",
   "execution_count": 41,
   "metadata": {},
   "outputs": [
    {
     "data": {
      "text/plain": [
       "list"
      ]
     },
     "execution_count": 41,
     "metadata": {},
     "output_type": "execute_result"
    }
   ],
   "source": [
    "type(lines)"
   ]
  },
  {
   "cell_type": "code",
   "execution_count": null,
   "metadata": {},
   "outputs": [],
   "source": []
  }
 ],
 "metadata": {
  "kernelspec": {
   "display_name": "Python 2",
   "language": "python",
   "name": "python2"
  },
  "language_info": {
   "codemirror_mode": {
    "name": "ipython",
    "version": 2
   },
   "file_extension": ".py",
   "mimetype": "text/x-python",
   "name": "python",
   "nbconvert_exporter": "python",
   "pygments_lexer": "ipython2",
   "version": "2.7.15"
  }
 },
 "nbformat": 4,
 "nbformat_minor": 2
}
