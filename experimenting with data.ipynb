{
 "cells": [
  {
   "cell_type": "code",
   "execution_count": null,
   "metadata": {},
   "outputs": [],
   "source": []
  },
  {
   "cell_type": "code",
   "execution_count": 1,
   "metadata": {},
   "outputs": [
    {
     "name": "stderr",
     "output_type": "stream",
     "text": [
      "Using TensorFlow backend.\n"
     ]
    }
   ],
   "source": [
    "from sklearn.preprocessing import minmax_scale\n",
    "import numpy as np\n",
    "import time\n",
    "from keras.preprocessing.image import ImageDataGenerator\n",
    "\n",
    "def augment_clean(x,y):\n",
    "    print (\"performing cleaning and augmentation\")\n",
    "    start= time.time()\n",
    "    y_new=y\n",
    "    '''\n",
    "    datagen = ImageDataGenerator()\n",
    "    transform_dict1 = {'flip_horizontal':True, 'flip_vertical':False}\n",
    "    transform_dict2 = {'flip_horizontal':False, 'flip_vertical':True}\n",
    "    transform_list= [transform_dict1, transform_dict2]\n",
    "    \n",
    "    y_new = np.zeros((len(transform_list)*y.shape[0],1))\n",
    "    \n",
    "    #reshape so colour channel is last\n",
    "    \n",
    "    x_r = np.zeros((x.shape[0],x.shape[2],x.shape[2],x.shape[1]))\n",
    "    \n",
    "    for image in range(x.shape[0]):\n",
    "        for color in range(x.shape[1]):\n",
    "            x_r[image,:,:,color] = x[image,color,:,:]\n",
    "    \n",
    "    \n",
    "    \n",
    "    #apply transforms and add them to the dataset \n",
    "    \n",
    "    x_aug = np.zeros((len(transform_list)*x_r.shape[0], x_r.shape[1], x_r.shape[2], x_r.shape[3]))\n",
    "    print(x_aug.shape)\n",
    "    for image in range(x_r.shape[0]): \n",
    "        for transform in range(len(transform_list)):\n",
    "            x_aug[image + x_r.shape[0]*transform] = datagen.apply_transform(x_r[image], transform_list[transform])\n",
    "            y_new[image + x_r.shape[0]*transform] = y[image]\n",
    "    \n",
    "    \n",
    "    #reshape so colour channel is axis=1\n",
    "    \n",
    "    x_aug_cf = np.zeros((x_aug.shape[0],x_aug.shape[3],x_aug.shape[2],x_aug.shape[2]))\n",
    "    \n",
    "    for image in range(x_aug.shape[0]):\n",
    "        for color in range(x_aug.shape[3]):\n",
    "            x_aug_cf[image,color,:,:] = x_aug[image,:,:,color]\n",
    "    print(x_aug_cf.shape)\n",
    "    \n",
    "    '''\n",
    "    x_aug_clean=x.reshape(x.shape[0],4,101*101)\n",
    "    #x_aug_clean=x_aug_cf.reshape(x_aug_cf.shape[0],4,101*101)\n",
    "    \n",
    "    '''#use np.clip instead\n",
    "    for image in range(x_aug_cf.shape[0]):\n",
    "        for color in range(x_aug_cf.shape[1]):\n",
    "            if np.min(x_aug_clean[image][color]) < -15: \n",
    "                x_aug_clean= np.delete(x_aug_clean,image, axis=0)\n",
    "    '''\n",
    "\n",
    "\n",
    "    x_aug_clean_scaled= x_aug_clean\n",
    "    for image in range(x_aug_clean.shape[0]):\n",
    "        for color in range(x_aug_clean.shape[1]):\n",
    "            x_aug_clean_scaled[image][color]= minmax_scale(x_aug_clean[image][color])\n",
    "    \n",
    "    reshaped_images= x_aug_clean_scaled.reshape((x_aug_clean_scaled.shape[0],x_aug_clean_scaled.shape[1],101,101))\n",
    "    \n",
    "    print(\"done \"+ str(time.time()-start)+ \" seconds\")\n",
    "    \n",
    "    return reshaped_images , y_new"
   ]
  },
  {
   "cell_type": "code",
   "execution_count": 12,
   "metadata": {},
   "outputs": [
    {
     "name": "stdout",
     "output_type": "stream",
     "text": [
      "image loaded\n"
     ]
    }
   ],
   "source": [
    "'''          TRY SIMULATING AND LOADING pixel.fits AGAIN IT WILL BE 200,200\n",
    "\n",
    "\n",
    "This script receives .fits images from lenstool, padds them to be square arrays, \n",
    "scales them based on the image of the lensing source they are to be overlayed with,\n",
    "then adds the lens and the lensing source images together and stores it in a list called \"summed\"\n",
    "\n",
    "in this script you may need to change: \n",
    "-\"hm_lenses\"\n",
    "-appened more cutouts to the list\n",
    "-image_size \n",
    "\n",
    "'''\n",
    "from astropy.nddata.utils import Cutout2D\n",
    "from astropy.io import fits\n",
    "import numpy as np\n",
    "import matplotlib.pyplot as plt\n",
    "from sklearn.preprocessing import minmax_scale\n",
    "\n",
    "image = fits.open(\"j8de44010_drz.fits\")[1].data #currently this script only grabs from 1 HST image that you provide it\n",
    "print(\"image loaded\")\n",
    "\n",
    "image_size=200\n",
    "cutout_list =[]\n",
    "cutout_list.append( Cutout2D(image, (3538,3591), (image_size)))\n",
    "cutout_list.append( Cutout2D(image, (818,1139), (image_size)))\n",
    "cutout_list.append( Cutout2D(image, (2789,889), (image_size)))\n",
    "cutout_list.append( Cutout2D(image, (2633,2839), (image_size)))\n",
    "\n",
    "padded = []\n",
    "lens_scaled = []\n",
    "summed = []\n",
    "hm_lenses =1\n",
    "\n",
    "\n",
    "for lens_number in range(hm_lenses):\n",
    "    lens = fits.open(\"lens_image_\"+ str(lens_number)+\".fits\")[0].data\n",
    "    padded.append(np.zeros((200,200))) #assuming you set BG noise to 0\n",
    "    for i in range(175):\n",
    "        padded[lens_number][i+12] = lens[i] #offset by 12 to get lens right in the middle\n",
    "\n",
    "#print(padded[0].shape)\n",
    "\n",
    "for lens_number in range(hm_lenses):\n",
    "    lens_scaled.append(padded[lens_number].reshape(-1,))\n",
    "    lens_scaled[lens_number] = minmax_scale(lens_scaled[lens_number],feature_range=(cutout_list[lens_number].data.min(), cutout_list[lens_number].data.max()*0.75))\n",
    "    lens_scaled[lens_number] = lens_scaled[lens_number].reshape(padded[0].shape[0],padded[0].shape[1])\n",
    "#print(lens_scaled[3].shape)\n",
    "\n",
    "for lens_number in range(hm_lenses):    \n",
    "    summed.append(np.add(cutout_list[lens_number].data,lens_scaled[lens_number]))    "
   ]
  },
  {
   "cell_type": "code",
   "execution_count": 13,
   "metadata": {},
   "outputs": [
    {
     "ename": "IndexError",
     "evalue": "list index out of range",
     "output_type": "error",
     "traceback": [
      "\u001b[0;31m---------------------------------------------------------------------------\u001b[0m",
      "\u001b[0;31mIndexError\u001b[0m                                Traceback (most recent call last)",
      "\u001b[0;32m<ipython-input-13-3d4dc3458109>\u001b[0m in \u001b[0;36m<module>\u001b[0;34m()\u001b[0m\n\u001b[1;32m      4\u001b[0m \u001b[0mplt\u001b[0m\u001b[0;34m.\u001b[0m\u001b[0mimshow\u001b[0m\u001b[0;34m(\u001b[0m\u001b[0msummed\u001b[0m\u001b[0;34m[\u001b[0m\u001b[0;36m0\u001b[0m\u001b[0;34m]\u001b[0m\u001b[0;34m)\u001b[0m\u001b[0;34m\u001b[0m\u001b[0m\n\u001b[1;32m      5\u001b[0m \u001b[0mplt\u001b[0m\u001b[0;34m.\u001b[0m\u001b[0msubplot\u001b[0m\u001b[0;34m(\u001b[0m\u001b[0;36m222\u001b[0m\u001b[0;34m)\u001b[0m\u001b[0;34m\u001b[0m\u001b[0m\n\u001b[0;32m----> 6\u001b[0;31m \u001b[0mplt\u001b[0m\u001b[0;34m.\u001b[0m\u001b[0mimshow\u001b[0m\u001b[0;34m(\u001b[0m\u001b[0msummed\u001b[0m\u001b[0;34m[\u001b[0m\u001b[0;36m1\u001b[0m\u001b[0;34m]\u001b[0m\u001b[0;34m)\u001b[0m\u001b[0;34m\u001b[0m\u001b[0m\n\u001b[0m\u001b[1;32m      7\u001b[0m \u001b[0mplt\u001b[0m\u001b[0;34m.\u001b[0m\u001b[0msubplot\u001b[0m\u001b[0;34m(\u001b[0m\u001b[0;36m223\u001b[0m\u001b[0;34m)\u001b[0m\u001b[0;34m\u001b[0m\u001b[0m\n\u001b[1;32m      8\u001b[0m \u001b[0mplt\u001b[0m\u001b[0;34m.\u001b[0m\u001b[0mimshow\u001b[0m\u001b[0;34m(\u001b[0m\u001b[0msummed\u001b[0m\u001b[0;34m[\u001b[0m\u001b[0;36m2\u001b[0m\u001b[0;34m]\u001b[0m\u001b[0;34m)\u001b[0m\u001b[0;34m\u001b[0m\u001b[0m\n",
      "\u001b[0;31mIndexError\u001b[0m: list index out of range"
     ]
    },
    {
     "data": {
      "image/png": "[encoded data removed]",
      "text/plain": [
       "<Figure size 432x288 with 2 Axes>"
      ]
     },
     "metadata": {
      "needs_background": "light"
     },
     "output_type": "display_data"
    }
   ],
   "source": [
    "\n",
    "\n",
    "plt.subplot(221)\n",
    "plt.imshow(summed[0])\n",
    "plt.subplot(222)\n",
    "plt.imshow(summed[1])\n",
    "plt.subplot(223)\n",
    "plt.imshow(summed[2])\n",
    "plt.subplot(224)\n",
    "plt.imshow(summed[3])\n"
   ]
  },
  {
   "cell_type": "code",
   "execution_count": 2,
   "metadata": {},
   "outputs": [
    {
     "ename": "NameError",
     "evalue": "name 'plt' is not defined",
     "output_type": "error",
     "traceback": [
      "\u001b[0;31m---------------------------------------------------------------------------\u001b[0m",
      "\u001b[0;31mNameError\u001b[0m                                 Traceback (most recent call last)",
      "\u001b[0;32m<ipython-input-2-6d4289391ee6>\u001b[0m in \u001b[0;36m<module>\u001b[0;34m()\u001b[0m\n\u001b[0;32m----> 1\u001b[0;31m \u001b[0mplt\u001b[0m\u001b[0;34m.\u001b[0m\u001b[0mimshow\u001b[0m\u001b[0;34m(\u001b[0m\u001b[0msummed\u001b[0m\u001b[0;34m[\u001b[0m\u001b[0;36m0\u001b[0m\u001b[0;34m]\u001b[0m\u001b[0;34m)\u001b[0m\u001b[0;34m\u001b[0m\u001b[0m\n\u001b[0m",
      "\u001b[0;31mNameError\u001b[0m: name 'plt' is not defined"
     ]
    }
   ],
   "source": [
    "plt.imshow(summed[0])"
   ]
  },
  {
   "cell_type": "code",
   "execution_count": null,
   "metadata": {},
   "outputs": [],
   "source": [
    "lens = fits.open(\"pixel0.fits\")[0].data\n",
    "plt.subplot(221)\n",
    "plt.imshow(lens) \n"
   ]
  },
  {
   "cell_type": "code",
   "execution_count": null,
   "metadata": {},
   "outputs": [],
   "source": [
    "lens.max()\n"
   ]
  },
  {
   "cell_type": "code",
   "execution_count": null,
   "metadata": {},
   "outputs": [],
   "source": [
    "\n",
    "padded = np.zeros((200,200))\n",
    "for i in range(175):\n",
    "    padded[i+12] = lens[i] #offset by 12 to get lens right in the middle\n",
    "print(padded.shape)\n",
    "plt.imshow(padded) \n"
   ]
  },
  {
   "cell_type": "code",
   "execution_count": null,
   "metadata": {},
   "outputs": [],
   "source": [
    "from sklearn.preprocessing import minmax_scale\n",
    "\n",
    "#normalize min max to that of real image\n",
    "lens_scaled=padded.reshape(-1,)\n",
    "lens_scaled = minmax_scale(lens_scaled ,feature_range=(cutout_list[0].data.max()*0.0, cutout_list[0].data.max()*0.5))\n",
    "lens_scaled = lens_scaled.reshape(padded.shape[0],padded.shape[1])\n",
    "plt.imshow(lens_scaled) "
   ]
  },
  {
   "cell_type": "code",
   "execution_count": null,
   "metadata": {
    "scrolled": false
   },
   "outputs": [],
   "source": [
    "lens_scaled.shape"
   ]
  },
  {
   "cell_type": "code",
   "execution_count": null,
   "metadata": {},
   "outputs": [],
   "source": [
    "\n",
    "image =0\n",
    "summed = np.add(cutout_list[image].data,lens_scaled)\n",
    "plt.imshow(summed)\n"
   ]
  },
  {
   "cell_type": "markdown",
   "metadata": {},
   "source": [
    "resolved_summed.max()"
   ]
  },
  {
   "cell_type": "code",
   "execution_count": null,
   "metadata": {},
   "outputs": [],
   "source": [
    "resolved_summed.max()"
   ]
  },
  {
   "cell_type": "code",
   "execution_count": null,
   "metadata": {},
   "outputs": [],
   "source": [
    "low_noise"
   ]
  },
  {
   "cell_type": "code",
   "execution_count": 19,
   "metadata": {},
   "outputs": [],
   "source": [
    "lens = fits.open(\"pixel0.fits\")[0].data"
   ]
  },
  {
   "cell_type": "code",
   "execution_count": 20,
   "metadata": {},
   "outputs": [
    {
     "data": {
      "text/plain": [
       "(175, 200)"
      ]
     },
     "execution_count": 20,
     "metadata": {},
     "output_type": "execute_result"
    }
   ],
   "source": [
    "lens.shape"
   ]
  },
  {
   "cell_type": "code",
   "execution_count": 75,
   "metadata": {},
   "outputs": [
    {
     "data": {
      "text/plain": [
       "1.45"
      ]
     },
     "execution_count": 75,
     "metadata": {},
     "output_type": "execute_result"
    }
   ],
   "source": [
    "import random\n",
    "(float(random.randint(101,151))/100.)"
   ]
  },
  {
   "cell_type": "code",
   "execution_count": 79,
   "metadata": {},
   "outputs": [
    {
     "data": {
      "text/plain": [
       "168"
      ]
     },
     "execution_count": 79,
     "metadata": {},
     "output_type": "execute_result"
    }
   ],
   "source": []
  },
  {
   "cell_type": "code",
   "execution_count": null,
   "metadata": {},
   "outputs": [],
   "source": []
  }
 ],
 "metadata": {
  "kernelspec": {
   "display_name": "Python 2",
   "language": "python",
   "name": "python2"
  },
  "language_info": {
   "codemirror_mode": {
    "name": "ipython",
    "version": 2
   },
   "file_extension": ".py",
   "mimetype": "text/x-python",
   "name": "python",
   "nbconvert_exporter": "python",
   "pygments_lexer": "ipython2",
   "version": "2.7.15"
  }
 },
 "nbformat": 4,
 "nbformat_minor": 2
}
