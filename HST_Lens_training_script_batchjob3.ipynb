{
 "cells": [
  {
   "cell_type": "code",
   "execution_count": 7,
   "metadata": {},
   "outputs": [],
   "source": [
    "# 4 classes\n",
    "import numpy as np\n",
    "\n",
    "#load numpy binaries\n",
    "pos = np.load('/home/toyonaga/scratch/HSTLens_datasets/batchjob_3_pos.npy')\n",
    "neg = np.load('/home/toyonaga/scratch/HSTLens_datasets/batchjob_3_neg.npy')\n",
    "crowded = np.load('/home/toyonaga/scratch/HSTLens_datasets/batchjob_3_crowded.npy')\n",
    "multisource = np.load('/home/toyonaga/scratch/HSTLens_datasets/batchjob_3_multisource.npy')\n",
    "\n",
    "#one-hot-encode\n",
    "py =np.ones((pos.shape[0],4))\n",
    "for i in range(py.shape[0]): py[i] =[1,0,0,0]\n",
    "ny =np.ones((neg.shape[0],4))\n",
    "for i in range(ny.shape[0]): ny[i] =[0,1,0,0]\n",
    "cy =np.ones((pos.shape[0],4))\n",
    "for i in range(cy.shape[0]): cy[i] =[0,0,1,0]\n",
    "my =np.ones((neg.shape[0],4))\n",
    "for i in range(my.shape[0]): my[i] =[0,0,0,1]\n",
    "\n",
    "#concat the data sets into features and labels\n",
    "x_combined =np.concatenate((pos, neg, crowded, multisource))\n",
    "y_combined =np.concatenate((py, ny, cy, my)) \n",
    "\n",
    "#shuffle the data sets\n",
    "s3 = np.arange(x_combined.shape[0])\n",
    "np.random.shuffle(s3)\n",
    "x_combined_shuf =x_combined[s3]\n",
    "y_combined_shuf = y_combined[s3]"
   ]
  },
  {
   "cell_type": "code",
   "execution_count": 6,
   "metadata": {},
   "outputs": [],
   "source": [
    "# 3 classes\n",
    "\n",
    "import numpy as np\n",
    "\n",
    "#load numpy binaries\n",
    "pos = np.load('/home/toyonaga/scratch/HSTLens_datasets/batchjob_3_pos.npy')\n",
    "neg = np.load('/home/toyonaga/scratch/HSTLens_datasets/batchjob_3_neg.npy')\n",
    "crowded = np.load('/home/toyonaga/scratch/HSTLens_datasets/batchjob_3_crowded.npy')\n",
    "# multisource = np.load('/home/toyonaga/scratch/HSTLens_datasets/batchjob_3_multisource.npy')\n",
    "\n",
    "#one-hot-encode\n",
    "py =np.ones((pos.shape[0],3))\n",
    "for i in range(py.shape[0]): py[i] =[1,0,0]\n",
    "ny =np.ones((neg.shape[0],3))\n",
    "for i in range(ny.shape[0]): ny[i] =[0,1,0]\n",
    "cy =np.ones((pos.shape[0],3))\n",
    "for i in range(cy.shape[0]): cy[i] =[0,0,1]\n",
    "my =np.ones((neg.shape[0],3))\n",
    "for i in range(my.shape[0]): my[i] =[0,0,1]\n",
    "\n",
    "#concat the data sets into features and labels\n",
    "x_combined =np.concatenate((pos, neg, crowded))#, multisource))\n",
    "y_combined =np.concatenate((py, ny, cy))#, my)) \n",
    "\n",
    "#shuffle the data sets\n",
    "s3 = np.arange(x_combined.shape[0])\n",
    "np.random.shuffle(s3)\n",
    "x_combined_shuf =x_combined[s3]\n",
    "y_combined_shuf = y_combined[s3]"
   ]
  },
  {
   "cell_type": "code",
   "execution_count": 18,
   "metadata": {},
   "outputs": [
    {
     "data": {
      "text/plain": [
       "(57584, 1, 100, 100)"
      ]
     },
     "execution_count": 18,
     "metadata": {},
     "output_type": "execute_result"
    }
   ],
   "source": [
    "x_combined.shape"
   ]
  },
  {
   "cell_type": "code",
   "execution_count": 51,
   "metadata": {},
   "outputs": [
    {
     "name": "stdout",
     "output_type": "stream",
     "text": [
      "building 4 classes \n",
      "(?, 1, 100, 100)\n",
      "multiclass_2\n",
      "pre- resnet block entered!\n",
      "resnet16 blocks\n",
      "kernel= 5\n",
      "shorcut (?, 32, 50, 50) net (?, 32, 50, 50)\n",
      "pre- resnet block entered!\n",
      "resnet16 blocks\n",
      "kernel= 3\n",
      "shorcut (?, 32, 25, 25) net (?, 32, 25, 25)\n",
      "pre- resnet block entered!\n",
      "resnet16 blocks\n",
      "kernel= 3\n",
      "shorcut (?, 64, 12, 12) net (?, 64, 12, 12)\n",
      "pre- resnet block entered!\n",
      "resnet16 blocks\n",
      "kernel= 3\n",
      "shorcut (?, 64, 6, 6) net (?, 64, 6, 6)\n",
      "pre- resnet block entered!\n",
      "resnet16 blocks\n",
      "kernel= 3\n",
      "shorcut (?, 128, 6, 6) net (?, 128, 6, 6)\n",
      "pre- resnet block entered!\n",
      "resnet16 blocks\n",
      "kernel= 3\n",
      "shorcut (?, 128, 6, 6) net (?, 128, 6, 6)\n",
      "...Fitting model ...\n",
      "Train on 40000 samples, validate on 10000 samples\n",
      "Epoch 1/100\n",
      "step decay entered. Learning rate: 0.001\n",
      "40000/40000 [==============================] - 82s 2ms/step - loss: 0.5279 - acc: 0.8232 - val_loss: 1.7916 - val_acc: 0.6726\n",
      "Epoch 2/100\n",
      "step decay entered. Learning rate: 0.001\n",
      "40000/40000 [==============================] - 71s 2ms/step - loss: 0.3208 - acc: 0.8888 - val_loss: 0.5829 - val_acc: 0.8206\n",
      "Epoch 3/100\n",
      "step decay entered. Learning rate: 0.001\n",
      "40000/40000 [==============================] - 72s 2ms/step - loss: 0.2786 - acc: 0.9051 - val_loss: 0.2552 - val_acc: 0.9144\n",
      "Epoch 4/100\n",
      "step decay entered. Learning rate: 0.001\n",
      "40000/40000 [==============================] - 71s 2ms/step - loss: 0.2529 - acc: 0.9149 - val_loss: 0.9870 - val_acc: 0.7604\n",
      "Epoch 5/100\n",
      "step decay entered. Learning rate: 0.001\n",
      "40000/40000 [==============================] - 71s 2ms/step - loss: 0.2275 - acc: 0.9213 - val_loss: 0.4078 - val_acc: 0.8701\n",
      "Epoch 6/100\n",
      "step decay entered. Learning rate: 0.001\n",
      "40000/40000 [==============================] - 71s 2ms/step - loss: 0.2106 - acc: 0.9270 - val_loss: 2.5901 - val_acc: 0.7187\n"
     ]
    }
   ],
   "source": [
    "from HSTLens_resnet16_s_multiclass_6 import deeplens_classifier\n",
    "\n",
    "my_model = deeplens_classifier(n_epochs=100, batch_size=32)\n",
    "my_model._build() \n",
    "\n",
    "my_model._fit(x_combined_shuf[:50000],y_combined_shuf[:50000])\n",
    "\n",
    "#my_model.model.save(\"real_lenses_weights\") # issue with json serializing\n",
    "my_model.model.save_weights(\"combined_nonsubtracted_weights_resnet16_s_h4_4_3rdrun\")\n",
    "# my_model.model.load_weights(\"combined_nonsubtracted_weights_resnet16_s_h4_4\")\n"
   ]
  },
  {
   "cell_type": "code",
   "execution_count": 5,
   "metadata": {},
   "outputs": [
    {
     "name": "stdout",
     "output_type": "stream",
     "text": [
      "[0. 0. 0. 1.]\n"
     ]
    },
    {
     "data": {
      "image/png": "[encoded data removed]",
      "text/plain": [
       "<Figure size 432x288 with 1 Axes>"
      ]
     },
     "metadata": {
      "needs_background": "light"
     },
     "output_type": "display_data"
    },
    {
     "name": "stdin",
     "output_type": "stream",
     "text": [
      "curr num 791next=1, exit=0 0\n"
     ]
    }
   ],
   "source": [
    " #quickly view some images\n",
    "import matplotlib.pyplot as plt\n",
    "from IPython import display\n",
    "import os\n",
    "\n",
    "ims = x_combined_shuf\n",
    "y = y_combined_shuf\n",
    "\n",
    "print(len(ims))\n",
    "sp=int(input(\"start position\"))\n",
    "\n",
    "\n",
    "for i in range(len(ims)):\n",
    "    exit=False\n",
    "    display.clear_output(wait=True)\n",
    "    plt.imshow(ims[i+sp][0]) \n",
    "    print(y[i+sp])\n",
    "    plt.pause(0.01)\n",
    "    plt.show()\n",
    "    while(1):      \n",
    "        ans = int(input(\"curr num \"+str(i+sp)+\"next=1, exit=0\"))\n",
    "        if ans ==1: \n",
    "            break\n",
    "        if ans==0:\n",
    "            exit=True\n",
    "            break\n",
    "    if exit==True:\n",
    "        break"
   ]
  },
  {
   "cell_type": "code",
   "execution_count": 7,
   "metadata": {},
   "outputs": [
    {
     "data": {
      "text/plain": [
       "[0.745, 0.76, 0.75, 0.82, 0.86, 0.855, 0.825, 0.875, 0.875, 0.9]"
      ]
     },
     "execution_count": 7,
     "metadata": {},
     "output_type": "execute_result"
    }
   ],
   "source": [
    "(my_model.batch_history.epoch_losses) "
   ]
  },
  {
   "cell_type": "code",
   "execution_count": 16,
   "metadata": {
    "collapsed": true
   },
   "outputs": [
    {
     "ename": "ValueError",
     "evalue": "multilabel-indicator format is not supported",
     "output_type": "error",
     "traceback": [
      "\u001b[0;31m---------------------------------------------------------------------------\u001b[0m",
      "\u001b[0;31mValueError\u001b[0m                                Traceback (most recent call last)",
      "\u001b[0;32m<ipython-input-16-516eed7ae981>\u001b[0m in \u001b[0;36m<module>\u001b[0;34m()\u001b[0m\n\u001b[1;32m      3\u001b[0m \u001b[0;31m# x_combined_roc = np.concatenate((ims_shuf[10000:], ims_real_test))\u001b[0m\u001b[0;34m\u001b[0m\u001b[0;34m\u001b[0m\u001b[0m\n\u001b[1;32m      4\u001b[0m \u001b[0;31m# y_combined_roc = np.concatenate((y_shuf[10000:], y_real_test))\u001b[0m\u001b[0;34m\u001b[0m\u001b[0;34m\u001b[0m\u001b[0m\n\u001b[0;32m----> 5\u001b[0;31m \u001b[0mfpr\u001b[0m\u001b[0;34m,\u001b[0m \u001b[0mtpr\u001b[0m\u001b[0;34m,\u001b[0m \u001b[0mt\u001b[0m\u001b[0;34m=\u001b[0m\u001b[0mmy_model\u001b[0m\u001b[0;34m.\u001b[0m\u001b[0meval_ROC\u001b[0m\u001b[0;34m(\u001b[0m\u001b[0mx_combined_shuf\u001b[0m\u001b[0;34m[\u001b[0m\u001b[0;36m50000\u001b[0m\u001b[0;34m:\u001b[0m\u001b[0;34m]\u001b[0m\u001b[0;34m,\u001b[0m\u001b[0my_combined_shuf\u001b[0m\u001b[0;34m[\u001b[0m\u001b[0;36m50000\u001b[0m\u001b[0;34m:\u001b[0m\u001b[0;34m]\u001b[0m\u001b[0;34m)\u001b[0m\u001b[0;34m\u001b[0m\u001b[0m\n\u001b[0m\u001b[1;32m      6\u001b[0m \u001b[0mprint\u001b[0m\u001b[0;34m(\u001b[0m\u001b[0;34m\"auc \"\u001b[0m\u001b[0;34m+\u001b[0m\u001b[0mstr\u001b[0m\u001b[0;34m(\u001b[0m \u001b[0mmetrics\u001b[0m\u001b[0;34m.\u001b[0m\u001b[0mauc\u001b[0m\u001b[0;34m(\u001b[0m\u001b[0mfpr\u001b[0m\u001b[0;34m,\u001b[0m \u001b[0mtpr\u001b[0m\u001b[0;34m)\u001b[0m\u001b[0;34m)\u001b[0m\u001b[0;34m)\u001b[0m\u001b[0;34m\u001b[0m\u001b[0m\n\u001b[1;32m      7\u001b[0m \u001b[0;34m\u001b[0m\u001b[0m\n",
      "\u001b[0;32m/project/6016730/toyonaga/HSTLens/HSTLens_base_classifier_resnet16_s_multiclass_6.py\u001b[0m in \u001b[0;36meval_ROC\u001b[0;34m(self, X, y)\u001b[0m\n\u001b[1;32m    226\u001b[0m \u001b[0;34m\u001b[0m\u001b[0m\n\u001b[1;32m    227\u001b[0m         \u001b[0my_pred_keras\u001b[0m \u001b[0;34m=\u001b[0m \u001b[0mself\u001b[0m\u001b[0;34m.\u001b[0m\u001b[0mmodel\u001b[0m\u001b[0;34m.\u001b[0m\u001b[0mpredict\u001b[0m\u001b[0;34m(\u001b[0m\u001b[0mX\u001b[0m\u001b[0;34m)\u001b[0m\u001b[0;34m.\u001b[0m\u001b[0mravel\u001b[0m\u001b[0;34m(\u001b[0m\u001b[0;34m)\u001b[0m\u001b[0;34m\u001b[0m\u001b[0m\n\u001b[0;32m--> 228\u001b[0;31m         \u001b[0mfpr\u001b[0m\u001b[0;34m,\u001b[0m \u001b[0mtpr\u001b[0m\u001b[0;34m,\u001b[0m \u001b[0mt\u001b[0m \u001b[0;34m=\u001b[0m \u001b[0mroc_curve\u001b[0m\u001b[0;34m(\u001b[0m\u001b[0my\u001b[0m\u001b[0;34m,\u001b[0m \u001b[0my_pred_keras\u001b[0m\u001b[0;34m)\u001b[0m\u001b[0;34m\u001b[0m\u001b[0m\n\u001b[0m\u001b[1;32m    229\u001b[0m \u001b[0;34m\u001b[0m\u001b[0m\n\u001b[1;32m    230\u001b[0m         \u001b[0;32mreturn\u001b[0m \u001b[0mfpr\u001b[0m\u001b[0;34m,\u001b[0m \u001b[0mtpr\u001b[0m\u001b[0;34m,\u001b[0m \u001b[0mt\u001b[0m\u001b[0;34m\u001b[0m\u001b[0m\n",
      "\u001b[0;32m/project/6016730/mlhaa/lib/python3.6/site-packages/sklearn/metrics/ranking.py\u001b[0m in \u001b[0;36mroc_curve\u001b[0;34m(y_true, y_score, pos_label, sample_weight, drop_intermediate)\u001b[0m\n\u001b[1;32m    532\u001b[0m     \"\"\"\n\u001b[1;32m    533\u001b[0m     fps, tps, thresholds = _binary_clf_curve(\n\u001b[0;32m--> 534\u001b[0;31m         y_true, y_score, pos_label=pos_label, sample_weight=sample_weight)\n\u001b[0m\u001b[1;32m    535\u001b[0m \u001b[0;34m\u001b[0m\u001b[0m\n\u001b[1;32m    536\u001b[0m     \u001b[0;31m# Attempt to drop thresholds corresponding to points in between and\u001b[0m\u001b[0;34m\u001b[0m\u001b[0;34m\u001b[0m\u001b[0m\n",
      "\u001b[0;32m/project/6016730/mlhaa/lib/python3.6/site-packages/sklearn/metrics/ranking.py\u001b[0m in \u001b[0;36m_binary_clf_curve\u001b[0;34m(y_true, y_score, pos_label, sample_weight)\u001b[0m\n\u001b[1;32m    316\u001b[0m     if not (y_type == \"binary\" or\n\u001b[1;32m    317\u001b[0m             (y_type == \"multiclass\" and pos_label is not None)):\n\u001b[0;32m--> 318\u001b[0;31m         \u001b[0;32mraise\u001b[0m \u001b[0mValueError\u001b[0m\u001b[0;34m(\u001b[0m\u001b[0;34m\"{0} format is not supported\"\u001b[0m\u001b[0;34m.\u001b[0m\u001b[0mformat\u001b[0m\u001b[0;34m(\u001b[0m\u001b[0my_type\u001b[0m\u001b[0;34m)\u001b[0m\u001b[0;34m)\u001b[0m\u001b[0;34m\u001b[0m\u001b[0m\n\u001b[0m\u001b[1;32m    319\u001b[0m \u001b[0;34m\u001b[0m\u001b[0m\n\u001b[1;32m    320\u001b[0m     \u001b[0mcheck_consistent_length\u001b[0m\u001b[0;34m(\u001b[0m\u001b[0my_true\u001b[0m\u001b[0;34m,\u001b[0m \u001b[0my_score\u001b[0m\u001b[0;34m,\u001b[0m \u001b[0msample_weight\u001b[0m\u001b[0;34m)\u001b[0m\u001b[0;34m\u001b[0m\u001b[0m\n",
      "\u001b[0;31mValueError\u001b[0m: multilabel-indicator format is not supported"
     ]
    }
   ],
   "source": [
    "import matplotlib.pyplot as plt\n",
    "import sklearn.metrics as metrics\n",
    "# x_combined_roc = np.concatenate((ims_shuf[10000:], ims_real_test))\n",
    "# y_combined_roc = np.concatenate((y_shuf[10000:], y_real_test))\n",
    "fpr, tpr, t=my_model.eval_ROC(x_combined_shuf[50000:],y_combined_shuf[50000:])\n",
    "print(\"auc \"+str( metrics.auc(fpr, tpr)))\n",
    "\n",
    "plt.title('4 classes')\n",
    "plt.plot(fpr,tpr)\n",
    "plt.xlabel('FPR'); \n",
    "plt.ylabel('TPR')\n",
    "plt.xlim(0,0.4); \n",
    "plt.ylim(0.8,1)\n",
    "plt.grid('on')"
   ]
  },
  {
   "cell_type": "code",
   "execution_count": 32,
   "metadata": {},
   "outputs": [
    {
     "name": "stderr",
     "output_type": "stream",
     "text": [
      "/project/6016730/mlhaa/lib/python3.6/site-packages/matplotlib/cbook/deprecation.py:107: MatplotlibDeprecationWarning: Passing one of 'on', 'true', 'off', 'false' as a boolean is deprecated; use an actual boolean (True/False) instead.\n",
      "  warnings.warn(message, mplDeprecation, stacklevel=1)\n"
     ]
    },
    {
     "data": {
      "text/plain": [
       "<matplotlib.legend.Legend at 0x2b0d134e9e48>"
      ]
     },
     "execution_count": 32,
     "metadata": {},
     "output_type": "execute_result"
    },
    {
     "data": {
      "image/png": "[encoded data removed]",
      "text/plain": [
       "<Figure size 432x288 with 1 Axes>"
      ]
     },
     "metadata": {
      "needs_background": "light"
     },
     "output_type": "display_data"
    }
   ],
   "source": [
    "#my_model.model.history is a callback obj my_model.model.history is a dict\n",
    "train_loss = my_model.model.history.history['loss'] \n",
    "val_loss = my_model.model.history.history['val_loss']\n",
    "xc = range(8)\n",
    "\n",
    "plt.figure()\n",
    "plt.title('4 classes')\n",
    "plt.xlabel('epochs');\n",
    "plt.ylabel('loss')\n",
    "plt.plot(xc, train_loss,'r-',label=\"train loss\")\n",
    "plt.plot(xc, val_loss, 'b-',label=\"validation loss\")\n",
    "plt.grid('on')\n",
    "plt.legend()"
   ]
  },
  {
   "cell_type": "code",
   "execution_count": 671,
   "metadata": {},
   "outputs": [
    {
     "ename": "NameError",
     "evalue": "name 'x' is not defined",
     "output_type": "error",
     "traceback": [
      "\u001b[0;31m\u001b[0m",
      "\u001b[0;31mNameError\u001b[0mTraceback (most recent call last)",
      "\u001b[0;32m<ipython-input-671-9544e4702b51>\u001b[0m in \u001b[0;36m<module>\u001b[0;34m()\u001b[0m\n\u001b[1;32m      1\u001b[0m \u001b[0mstart\u001b[0m \u001b[0;34m=\u001b[0m \u001b[0mtime\u001b[0m\u001b[0;34m.\u001b[0m\u001b[0mtime\u001b[0m\u001b[0;34m(\u001b[0m\u001b[0;34m)\u001b[0m\u001b[0;34m\u001b[0m\u001b[0m\n\u001b[0;32m----> 2\u001b[0;31m \u001b[0mpredictions\u001b[0m\u001b[0;34m=\u001b[0m \u001b[0mmy_model\u001b[0m\u001b[0;34m.\u001b[0m\u001b[0m_predict\u001b[0m\u001b[0;34m(\u001b[0m\u001b[0mx\u001b[0m\u001b[0;34m[\u001b[0m\u001b[0;34m:\u001b[0m\u001b[0;36m1000\u001b[0m\u001b[0;34m]\u001b[0m\u001b[0;34m,\u001b[0m\u001b[0my\u001b[0m\u001b[0;34m[\u001b[0m\u001b[0;34m:\u001b[0m\u001b[0;36m1000\u001b[0m\u001b[0;34m]\u001b[0m\u001b[0;34m)\u001b[0m\u001b[0;34m\u001b[0m\u001b[0m\n\u001b[0m\u001b[1;32m      3\u001b[0m \u001b[0mduration\u001b[0m \u001b[0;34m=\u001b[0m \u001b[0mtime\u001b[0m\u001b[0;34m.\u001b[0m\u001b[0mtime\u001b[0m\u001b[0;34m(\u001b[0m\u001b[0;34m)\u001b[0m\u001b[0;34m-\u001b[0m\u001b[0mstart\u001b[0m\u001b[0;34m\u001b[0m\u001b[0m\n\u001b[1;32m      4\u001b[0m \u001b[0;32mprint\u001b[0m\u001b[0;34m(\u001b[0m\u001b[0mduration\u001b[0m\u001b[0;34m)\u001b[0m\u001b[0;34m\u001b[0m\u001b[0m\n\u001b[1;32m      5\u001b[0m \u001b[0;34m\u001b[0m\u001b[0m\n",
      "\u001b[0;31mNameError\u001b[0m: name 'x' is not defined"
     ]
    }
   ],
   "source": [
    "start = time.time()\n",
    "predictions= my_model._predict(x[:1000],y[:1000])\n",
    "duration = time.time()-start\n",
    "print(duration)\n",
    "\n",
    "''' \n",
    "12.427s for 100 predictions\n",
    "1.28s for 10 predicitons\n",
    "97.0560390949 for 1000 predictions \n",
    "'''"
   ]
  },
  {
   "cell_type": "code",
   "execution_count": 34,
   "metadata": {},
   "outputs": [
    {
     "name": "stderr",
     "output_type": "stream",
     "text": [
      "/project/6016730/mlhaa/lib/python3.6/site-packages/matplotlib/cbook/deprecation.py:107: MatplotlibDeprecationWarning: Passing one of 'on', 'true', 'off', 'false' as a boolean is deprecated; use an actual boolean (True/False) instead.\n",
      "  warnings.warn(message, mplDeprecation, stacklevel=1)\n"
     ]
    },
    {
     "data": {
      "text/plain": [
       "<matplotlib.legend.Legend at 0x2b0d135a9748>"
      ]
     },
     "execution_count": 34,
     "metadata": {},
     "output_type": "execute_result"
    },
    {
     "data": {
      "image/png": "[encoded data removed]",
      "text/plain": [
       "<Figure size 432x288 with 1 Axes>"
      ]
     },
     "metadata": {
      "needs_background": "light"
     },
     "output_type": "display_data"
    }
   ],
   "source": [
    "import matplotlib.pyplot as plt\n",
    "acc = my_model.model.history.history['acc'] \n",
    "val_acc = my_model.model.history.history['val_acc'] \n",
    "xc =range(8)\n",
    "plt.figure()\n",
    "plt.title('4 classes ')\n",
    "plt.xlabel('epochs')\n",
    "plt.ylabel('acc')\n",
    "plt.plot(xc, acc,'r-',label=\"acc\")\n",
    "plt.plot(xc, val_acc,'b-',label=\" valid acc\")\n",
    "plt.grid('on')\n",
    "plt.legend()"
   ]
  },
  {
   "cell_type": "code",
   "execution_count": 674,
   "metadata": {},
   "outputs": [
    {
     "data": {
      "text/plain": [
       "(420, 1, 100, 100)"
      ]
     },
     "execution_count": 674,
     "metadata": {},
     "output_type": "execute_result"
    }
   ],
   "source": [
    "x_test = np.load('pos_real_nonskysubtracted_x1.npy')\n",
    "y_test = np.load('pos_real_nonskysubtracted_y1.npy')\n",
    "x_test.shape"
   ]
  },
  {
   "cell_type": "code",
   "execution_count": 53,
   "metadata": {},
   "outputs": [
    {
     "name": "stdout",
     "output_type": "stream",
     "text": [
      "(1200, 1, 100, 100)\n",
      "[1.]\n"
     ]
    },
    {
     "data": {
      "image/png": "[encoded data removed]",
      "text/plain": [
       "<Figure size 432x288 with 1 Axes>"
      ]
     },
     "metadata": {
      "needs_background": "light"
     },
     "output_type": "display_data"
    }
   ],
   "source": [
    "i = 1183\n",
    "\n",
    "print( ims_real_test.shape)\n",
    "plt.imshow(ims_real_test[i][0])\n",
    "print(y_real_test[i])"
   ]
  },
  {
   "cell_type": "code",
   "execution_count": 13,
   "metadata": {},
   "outputs": [],
   "source": [
    "#load the real TEST images and their negatives\n",
    "import os\n",
    "from astropy.io import fits\n",
    "import numpy as np\n",
    "from sklearn.preprocessing import minmax_scale\n",
    "from random import shuffle\n",
    "\n",
    "NEG_PATH = \"/home/toyonaga/scratch/augmented_reals_3/dim_negs_norm_aug_noskysubtract/\"\n",
    "#POS_PATH = \"/home/roberttoyonaga/notebooks/roberttoyonaga/CMUDeepLensNRC/HSTLens/non-neg-set/merged/\"\n",
    "POS_PATH = \"/home/toyonaga/scratch/augmented_reals_3/augmented_reals_separate_test/\"\n",
    "set_size =15*40*2  #includes both pos and neg samples\n",
    "\n",
    "ims_real_test = np.ones((set_size, 1, 100, 100))\n",
    "y_real_test = np.ones((set_size,1))\n",
    "\n",
    "c_sig=10\n",
    "\n",
    "#load the negatives into even numbered indices (including 0)\n",
    "count =0\n",
    "neg_list = os.listdir(NEG_PATH)\n",
    "shuffle(neg_list)\n",
    "for filename in neg_list:\n",
    "    if filename.endswith(\".fits\") and count<set_size/2: \n",
    "        pic = fits.open(NEG_PATH+filename)[0].data\n",
    "    \n",
    "            \n",
    "        c = np.nan_to_num(pic)\n",
    "        sky_c =3.*np.median(pic)- 2.*np.mean(pic) #calc sky\n",
    "        sigma_c= np.std(c)          #calc sigma\n",
    "        c[np.isnan(c)]=sky_c          #get rid of NAn\n",
    "        c[c>(sky_c+c_sig*sigma_c)]=sky_c+c_sig*sigma_c    #clip values\n",
    "        c= c-sky_c                                         #subtract sky\n",
    "        tmp_lens2 = c.reshape(-1,)                        #scale \n",
    "\n",
    "        tmp_lens2 = minmax_scale(tmp_lens2, feature_range = (0,1))\n",
    "        pic = tmp_lens2.reshape(pic.shape[2],pic.shape[2])\n",
    "\n",
    "\n",
    "        summed=pic\n",
    "        np.random.seed()\n",
    "        h1 = (sky_c)*np.random.randn(10000)\n",
    "        np.random.shuffle(h1)\n",
    "        summed = np.add(summed,h1.reshape(100,100)) # you can add constants too\n",
    "        tmp_image = summed.reshape(-1,)\n",
    "        tmp_image = minmax_scale(tmp_image, feature_range = (0,1))\n",
    "        summed = tmp_image.reshape(summed.shape[0],summed.shape[1])\n",
    "        ims_real_test[count*2] = summed\n",
    "        y_real_test[count*2] = np.array([0])\n",
    "        count+=1\n",
    "    \n",
    "    \n",
    "#load the positives into odd numered indices\n",
    "count =0\n",
    "pos_list = os.listdir(POS_PATH)\n",
    "shuffle(pos_list)\n",
    "for filename in pos_list:\n",
    "    if filename.endswith(\".fits\") and count<set_size/2: \n",
    "        pic = fits.open(POS_PATH+filename)[0].data\n",
    "        \n",
    "          \n",
    "        c = np.nan_to_num(pic)\n",
    "        sky_c =3.*np.median(pic)- 2.*np.mean(pic) #calc sky\n",
    "        sigma_c= np.std(c)          #calc sigma\n",
    "        c[np.isnan(c)]=sky_c          #get rid of NAn\n",
    "        c[c>(sky_c+c_sig*sigma_c)]=sky_c+c_sig*sigma_c    #clip values\n",
    "        c= c-sky_c                                         #subtract sky\n",
    "        tmp_lens2 = c.reshape(-1,)                        #scale \n",
    "\n",
    "        tmp_lens2 = minmax_scale(tmp_lens2, feature_range = (0,1))\n",
    "        pic = tmp_lens2.reshape(pic.shape[2],pic.shape[2])\n",
    "\n",
    "\n",
    "        summed=pic\n",
    "        np.random.seed()\n",
    "        h1 = (sky_c)*np.random.randn(10000)\n",
    "        np.random.shuffle(h1)\n",
    "        summed = np.add(summed,h1.reshape(100,100)) # you can add constants too\n",
    "        tmp_image = summed.reshape(-1,)\n",
    "        tmp_image = minmax_scale(tmp_image, feature_range = (0,1))\n",
    "        summed = tmp_image.reshape(summed.shape[0],summed.shape[1])\n",
    "        ims_real_test[count*2+1] = summed\n",
    "        y_real_test[count*2+1] = np.array([1])\n",
    "        count+=1\n",
    "        \n",
    "\n",
    "          "
   ]
  },
  {
   "cell_type": "raw",
   "metadata": {},
   "source": []
  },
  {
   "cell_type": "code",
   "execution_count": 48,
   "metadata": {},
   "outputs": [],
   "source": [
    "#true_pred\n",
    "# predictions  = my_model._predict( x_combined_shuf[50000:], y= None, discrete = False)\n",
    "y=y_combined_shuf[50000:]\n",
    "p_p=0\n",
    "p_n=0\n",
    "m_c=0\n",
    "c_m=0\n",
    "m_n=0\n",
    "n_m=0\n",
    "fp=0\n",
    "fn=0\n",
    "tp=0\n",
    "c_n=0\n",
    "n_c=0\n",
    "c_c=0\n",
    "for i in range(len(predictions)):\n",
    "    if (np.argmax(predictions[i])==0) and (y[i].all()==np.array([1,0,0,0]).all()):\n",
    "        p_p+=1\n",
    "    if (np.argmax(predictions[i])==1) and (y[i].all()==np.array([0,0,1,0]).all()):\n",
    "        c_n+=1\n",
    "    if (np.argmax(predictions[i])==2) and (y[i].all()==np.array([0,1,0,0]).all()):\n",
    "        n_c+=1\n",
    "    if (np.argmax(predictions[i])==2) and (y[i].all()==np.array([0,0,1,0]).all()):\n",
    "        c_c+=1\n",
    "    if (np.argmax(predictions[i])==1) and (y[i].all()==np.array([1,0,0,0]).all()):\n",
    "        p_n+=1\n",
    "    if (np.argmax(predictions[i])==2) and (y[i].all()==np.array([0,0,0,1]).all()):\n",
    "        m_c+=1\n",
    "    if (np.argmax(predictions[i])==3) and (y[i].all()==np.array([0,0,1,0]).all()):\n",
    "        c_m+=1\n",
    "    if (np.argmax(predictions[i])==1) and (y[i].all()==np.array([0,0,0,1]).all()):\n",
    "        m_n+=1\n",
    "    if (np.argmax(predictions[i])==3) and (y[i].all()==np.array([0,1,0,0]).all()):\n",
    "        n_m+=1\n",
    "    if (np.argmax(predictions[i])==0) and (y[i].all()!=np.array([1,0,0,0]).all()): \n",
    "        fp+=1 #if predicted lens and not lens\n",
    "    if (np.argmax(predictions[i])!=0) and (y[i].all()==np.array([1,0,0,0]).all()): \n",
    "        fn+=1  #if predicted not a lens and is a lens\n",
    "    if (y[i].all()==np.array([1,0,0,0]).all()):\n",
    "        tp+=1                                    #if truly is a lens\n",
    "        "
   ]
  },
  {
   "cell_type": "code",
   "execution_count": 50,
   "metadata": {},
   "outputs": [
    {
     "name": "stdout",
     "output_type": "stream",
     "text": [
      "purity: 1.0 compl: 0.5715146948003015\n",
      "p_p 1898 p_n 1888 m_c 1871 c_n 1888 n_c 1871 c_m 1927 m_n 1888 n_m 1927 fp 0 fn 5686 tp 7584 c_c 1871\n"
     ]
    }
   ],
   "source": [
    "pur = tp / ( tp + fp )\n",
    "comp= tp / ( tp + fn )\n",
    "print('purity: '+str(pur)+' compl: '+str(comp))\n",
    "print('p_p '+str(p_p)+' p_n '+ str(p_n)+' m_c '+str(m_c)+\" c_n \"+str(c_n)+\" n_c \"+str(n_c)+' c_m '+\n",
    "      str(c_m)+' m_n '+str(m_n)+' n_m '+str(n_m)+' fp '+str(fp)+' fn '+str(fn)+ ' tp ' +str(tp)+\n",
    "     ' c_c '+str(c_c))\n",
    "    "
   ]
  },
  {
   "cell_type": "code",
   "execution_count": 31,
   "metadata": {},
   "outputs": [
    {
     "ename": "SyntaxError",
     "evalue": "unexpected EOF while parsing (<ipython-input-31-ea28d337934b>, line 6)",
     "output_type": "error",
     "traceback": [
      "\u001b[0;36m  File \u001b[0;32m\"<ipython-input-31-ea28d337934b>\"\u001b[0;36m, line \u001b[0;32m6\u001b[0m\n\u001b[0;31m    for i in range(len(predictions)):\u001b[0m\n\u001b[0m                                     ^\u001b[0m\n\u001b[0;31mSyntaxError\u001b[0m\u001b[0;31m:\u001b[0m unexpected EOF while parsing\n"
     ]
    }
   ],
   "source": [
    "pos_prbs =np.zeros((1,len(predictions)))\n",
    "neg_prbs =np.zeros((1,len(predictions)))\n",
    "crowded_prbs =np.zeros((1,len(predictions)))\n",
    "multisource_prbs =np.zeros((1,len(predictions)))\n",
    " \n",
    "for i in range(len(predictions)):\n"
   ]
  },
  {
   "cell_type": "code",
   "execution_count": null,
   "metadata": {},
   "outputs": [],
   "source": []
  }
 ],
 "metadata": {
  "kernelspec": {
   "display_name": "Python 3",
   "language": "python",
   "name": "python3"
  },
  "language_info": {
   "codemirror_mode": {
    "name": "ipython",
    "version": 3
   },
   "file_extension": ".py",
   "mimetype": "text/x-python",
   "name": "python",
   "nbconvert_exporter": "python",
   "pygments_lexer": "ipython3",
   "version": "3.6.3"
  }
 },
 "nbformat": 4,
 "nbformat_minor": 2
}
